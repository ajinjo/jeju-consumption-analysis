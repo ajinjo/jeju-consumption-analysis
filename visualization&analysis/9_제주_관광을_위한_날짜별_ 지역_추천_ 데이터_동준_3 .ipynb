{
 "cells": [
  {
   "cell_type": "code",
   "execution_count": 1,
   "metadata": {},
   "outputs": [],
   "source": [
    "import pandas as pd\n",
    "import matplotlib.pyplot as plt\n",
    "import matplotlib"
   ]
  },
  {
   "cell_type": "code",
   "execution_count": 2,
   "metadata": {},
   "outputs": [],
   "source": [
    "matplotlib.rcParams['font.family'] = 'Malgun Gothic'\n",
    "matplotlib.rcParams['axes.unicode_minus'] = False"
   ]
  },
  {
   "source": [
    "# 파일 불러오기"
   ],
   "cell_type": "markdown",
   "metadata": {}
  },
  {
   "cell_type": "code",
   "execution_count": 3,
   "metadata": {},
   "outputs": [],
   "source": [
    "# csv 파일을 읽고 Dateframe 으로 변환합니다. 한글 깨짐 방지를 위해 인코딩 파라미터를 추가합니다.\n",
    "data = pd.read_csv('9_제주 관광을 위한 날짜별 지역 추천 데이터.csv', encoding='cp949')"
   ]
  },
  {
   "source": [
    "# 컬럼 설명 \n",
    "\n",
    "- 일자: 평균 기온, 일강수량, 최대 풍속을 기록한 날입니다. 하루 단위로 되어 있습니다.\n",
    "    \n",
    "- 시도명: 제주시와 서귀포시가 있습니다.\n",
    "\n",
    "- 읍면동명: 제주시와 서귀포시 각각의 읍면동명이 있습니다.\n",
    "\n",
    "- 평균기온: 섭씨온도 (℃)\n",
    "\n",
    "- 일강수량: 일일강수량 (mm)\n",
    "\n",
    "- 최대 풍속: (m/s)\n",
    "\n",
    "- 업종명: 다양한 업종이 있습니다.\n",
    "\n",
    "- 이용금액: 한달치 금액입니다. 하루치 금액이 아님에 주의합니다.\n",
    "    \n",
    "- 데이터기준일자: 데이터를 등록한 날짜입니다."
   ],
   "cell_type": "markdown",
   "metadata": {}
  },
  {
   "source": [
    "# 데이터 전처리"
   ],
   "cell_type": "markdown",
   "metadata": {}
  },
  {
   "source": [
    "## 확인하기"
   ],
   "cell_type": "markdown",
   "metadata": {}
  },
  {
   "cell_type": "code",
   "execution_count": 4,
   "metadata": {},
   "outputs": [
    {
     "output_type": "execute_result",
     "data": {
      "text/plain": [
       "           일자  시도명  읍면동명  평균 기온  일강수량  최대 풍속          업종명       이용금액  \\\n",
       "0  2018-01-01  제주시   추자면    5.7   0.0    1.8  과실 및 채소 소매업   13569170   \n",
       "1  2018-01-01  제주시  이도1동    2.9   0.0    2.4      중식 음식점업   18299000   \n",
       "2  2018-01-01  제주시  이도1동    2.9   0.0    2.4  전시 및 행사 대행업     819550   \n",
       "3  2018-01-01  제주시  이도1동    2.9   0.0    2.4      일식 음식점업   32160000   \n",
       "4  2018-01-01  제주시  이도1동    2.9   0.0    2.4     일반유흥 주점업  199833010   \n",
       "\n",
       "      데이터기준일자  \n",
       "0  2020-12-15  \n",
       "1  2020-12-15  \n",
       "2  2020-12-15  \n",
       "3  2020-12-15  \n",
       "4  2020-12-15  "
      ],
      "text/html": "<div>\n<style scoped>\n    .dataframe tbody tr th:only-of-type {\n        vertical-align: middle;\n    }\n\n    .dataframe tbody tr th {\n        vertical-align: top;\n    }\n\n    .dataframe thead th {\n        text-align: right;\n    }\n</style>\n<table border=\"1\" class=\"dataframe\">\n  <thead>\n    <tr style=\"text-align: right;\">\n      <th></th>\n      <th>일자</th>\n      <th>시도명</th>\n      <th>읍면동명</th>\n      <th>평균 기온</th>\n      <th>일강수량</th>\n      <th>최대 풍속</th>\n      <th>업종명</th>\n      <th>이용금액</th>\n      <th>데이터기준일자</th>\n    </tr>\n  </thead>\n  <tbody>\n    <tr>\n      <th>0</th>\n      <td>2018-01-01</td>\n      <td>제주시</td>\n      <td>추자면</td>\n      <td>5.7</td>\n      <td>0.0</td>\n      <td>1.8</td>\n      <td>과실 및 채소 소매업</td>\n      <td>13569170</td>\n      <td>2020-12-15</td>\n    </tr>\n    <tr>\n      <th>1</th>\n      <td>2018-01-01</td>\n      <td>제주시</td>\n      <td>이도1동</td>\n      <td>2.9</td>\n      <td>0.0</td>\n      <td>2.4</td>\n      <td>중식 음식점업</td>\n      <td>18299000</td>\n      <td>2020-12-15</td>\n    </tr>\n    <tr>\n      <th>2</th>\n      <td>2018-01-01</td>\n      <td>제주시</td>\n      <td>이도1동</td>\n      <td>2.9</td>\n      <td>0.0</td>\n      <td>2.4</td>\n      <td>전시 및 행사 대행업</td>\n      <td>819550</td>\n      <td>2020-12-15</td>\n    </tr>\n    <tr>\n      <th>3</th>\n      <td>2018-01-01</td>\n      <td>제주시</td>\n      <td>이도1동</td>\n      <td>2.9</td>\n      <td>0.0</td>\n      <td>2.4</td>\n      <td>일식 음식점업</td>\n      <td>32160000</td>\n      <td>2020-12-15</td>\n    </tr>\n    <tr>\n      <th>4</th>\n      <td>2018-01-01</td>\n      <td>제주시</td>\n      <td>이도1동</td>\n      <td>2.9</td>\n      <td>0.0</td>\n      <td>2.4</td>\n      <td>일반유흥 주점업</td>\n      <td>199833010</td>\n      <td>2020-12-15</td>\n    </tr>\n  </tbody>\n</table>\n</div>"
     },
     "metadata": {},
     "execution_count": 4
    }
   ],
   "source": [
    "# 테이블을 확인합니다.\n",
    "data.head()"
   ]
  },
  {
   "cell_type": "code",
   "execution_count": 5,
   "metadata": {},
   "outputs": [
    {
     "output_type": "stream",
     "name": "stdout",
     "text": [
      "<class 'pandas.core.frame.DataFrame'>\nRangeIndex: 1603367 entries, 0 to 1603366\nData columns (total 9 columns):\n #   Column   Non-Null Count    Dtype  \n---  ------   --------------    -----  \n 0   일자       1603367 non-null  object \n 1   시도명      1603367 non-null  object \n 2   읍면동명     1603367 non-null  object \n 3   평균 기온    1591259 non-null  float64\n 4   일강수량     1601446 non-null  float64\n 5   최대 풍속    1577476 non-null  float64\n 6   업종명      1603367 non-null  object \n 7   이용금액     1603367 non-null  int64  \n 8   데이터기준일자  1603367 non-null  object \ndtypes: float64(3), int64(1), object(5)\nmemory usage: 110.1+ MB\n"
     ]
    }
   ],
   "source": [
    "# 결측치가 없는 것을 확인합니다.\n",
    "# 수치 데이터가 숫자형으로 되어있는지 확인합니다.\n",
    "data.info()"
   ]
  },
  {
   "cell_type": "code",
   "execution_count": 6,
   "metadata": {},
   "outputs": [
    {
     "output_type": "execute_result",
     "data": {
      "text/plain": [
       "체인화 편의점                    57975\n",
       "과실 및 채소 소매업                57975\n",
       "한식 음식점업                    57975\n",
       "슈퍼마켓                       57975\n",
       "중식 음식점업                    57945\n",
       "서양식 음식점업                   57491\n",
       "수산물 소매업                    57424\n",
       "비알콜 음료점업                   57248\n",
       "육류 소매업                     56727\n",
       "빵 및 과자류 소매업                56670\n",
       "차량용 주유소 운영업                56273\n",
       "여관업                        56221\n",
       "일식 음식점업                    55614\n",
       "스포츠 및 레크레이션 용품 임대업         55090\n",
       "기타음식료품위주종합소매업              53218\n",
       "기타 외국식 음식점업                52798\n",
       "피자, 햄버거, 샌드위치 및 유사 음식점업    52787\n",
       "그외 기타 종합 소매업               52143\n",
       "차량용 가스 충전업                 51023\n",
       "전시 및 행사 대행업                50728\n",
       "욕탕업                        50483\n",
       "관광 민예품 및 선물용품 소매업          50334\n",
       "화장품 및 방향제 소매업              50140\n",
       "기타 주점업                     47593\n",
       "건강보조식품 소매업                 44496\n",
       "일반유흥 주점업                   38185\n",
       "여행사업                       34354\n",
       "호텔업                        27587\n",
       "골프장 운영업                    23953\n",
       "그외 기타 스포츠시설 운영업            21209\n",
       "휴양콘도 운영업                   19650\n",
       "자동차 임대업                    18005\n",
       "마사지업                       14311\n",
       "기타 수상오락 서비스업               13617\n",
       "기타 대형 종합 소매업               11418\n",
       "내항 여객 운송업                   8482\n",
       "그외 기타 분류안된 오락관련 서비스업        8319\n",
       "면세점                         4771\n",
       "택시 운송업                      2371\n",
       "기타 갬블링 및 베팅업                1670\n",
       "정기 항공 운송업                    846\n",
       "버스 운송업                       273\n",
       "Name: 업종명, dtype: int64"
      ]
     },
     "metadata": {},
     "execution_count": 6
    }
   ],
   "source": [
    "# 업종 개수를 확인합니다.\n",
    "data['업종명'].value_counts()"
   ]
  },
  {
   "cell_type": "code",
   "execution_count": 7,
   "metadata": {},
   "outputs": [
    {
     "output_type": "execute_result",
     "data": {
      "text/plain": [
       "애월읍     116746\n",
       "남원읍      94440\n",
       "조천읍      80964\n",
       "구좌읍      72714\n",
       "대정읍      71561\n",
       "아라동      69962\n",
       "삼양동      68378\n",
       "화북동      68356\n",
       "효돈동      66696\n",
       "송산동      52942\n",
       "천지동      52458\n",
       "한림읍      49480\n",
       "한경면      45058\n",
       "예래동      40977\n",
       "성산읍      36254\n",
       "연동       29098\n",
       "노형동      28764\n",
       "안덕면      25986\n",
       "중문동      25982\n",
       "이도2동     25622\n",
       "대륜동      24890\n",
       "외도동      24498\n",
       "일도2동     24467\n",
       "용담1동     24435\n",
       "정방동      24313\n",
       "중앙동      24313\n",
       "삼도1동     24254\n",
       "삼도2동     24072\n",
       "표선면      23921\n",
       "이도1동     23527\n",
       "건입동      23464\n",
       "오라동      22916\n",
       "동홍동      22797\n",
       "일도1동     22246\n",
       "서홍동      21303\n",
       "이호동      21034\n",
       "용담2동     20575\n",
       "도두동      19028\n",
       "우도면      18967\n",
       "영천동      17202\n",
       "봉개동      16167\n",
       "추자면      11965\n",
       "대천동        575\n",
       "Name: 읍면동명, dtype: int64"
      ]
     },
     "metadata": {},
     "execution_count": 7
    }
   ],
   "source": [
    "# 읍면동명을 확인합니다.\n",
    "data['읍면동명'].value_counts()"
   ]
  },
  {
   "cell_type": "code",
   "execution_count": 8,
   "metadata": {},
   "outputs": [
    {
     "output_type": "execute_result",
     "data": {
      "text/plain": [
       "43"
      ]
     },
     "metadata": {},
     "execution_count": 8
    }
   ],
   "source": [
    "# 누락된 지역이 없는지 확인합니다.\n",
    "# 제주시 행정구역은 4읍 + 3면 + 19동입니다.\n",
    "# 서귀포 행정구역은 3읍 + 2면 + 12동입니다.\n",
    "# 모두 합하면 26 + 17 = 43 개가 있습니다.\n",
    "len(data['읍면동명'].unique())"
   ]
  },
  {
   "source": [
    "## 제거하기"
   ],
   "cell_type": "markdown",
   "metadata": {}
  },
  {
   "cell_type": "code",
   "execution_count": 9,
   "metadata": {},
   "outputs": [],
   "source": [
    "# 데이터기준일자 컬럼은 필요 없으므로 제거합니다\n",
    "data.drop(['데이터기준일자'], axis=1, inplace=True)"
   ]
  },
  {
   "source": [
    "## 추가하기"
   ],
   "cell_type": "markdown",
   "metadata": {}
  },
  {
   "cell_type": "code",
   "execution_count": 10,
   "metadata": {},
   "outputs": [],
   "source": [
    "# datetime 컬럼을 만듭니다. \n",
    "data['datetime'] = pd.to_datetime(data['일자'])"
   ]
  },
  {
   "cell_type": "code",
   "execution_count": 11,
   "metadata": {},
   "outputs": [
    {
     "output_type": "stream",
     "name": "stdout",
     "text": [
      "<class 'pandas.core.frame.DataFrame'>\nRangeIndex: 1603367 entries, 0 to 1603366\nData columns (total 9 columns):\n #   Column    Non-Null Count    Dtype         \n---  ------    --------------    -----         \n 0   일자        1603367 non-null  object        \n 1   시도명       1603367 non-null  object        \n 2   읍면동명      1603367 non-null  object        \n 3   평균 기온     1591259 non-null  float64       \n 4   일강수량      1601446 non-null  float64       \n 5   최대 풍속     1577476 non-null  float64       \n 6   업종명       1603367 non-null  object        \n 7   이용금액      1603367 non-null  int64         \n 8   datetime  1603367 non-null  datetime64[ns]\ndtypes: datetime64[ns](1), float64(3), int64(1), object(4)\nmemory usage: 110.1+ MB\n"
     ]
    }
   ],
   "source": [
    "# 만든 컬럼을 확인합니다.\n",
    "data.info()"
   ]
  },
  {
   "cell_type": "code",
   "execution_count": 12,
   "metadata": {},
   "outputs": [
    {
     "output_type": "execute_result",
     "data": {
      "text/plain": [
       "(Timestamp('2018-01-01 00:00:00'), Timestamp('2020-04-30 00:00:00'))"
      ]
     },
     "metadata": {},
     "execution_count": 12
    }
   ],
   "source": [
    "# 데이터의 첫 날과 마지막 날을 확인합니다.\n",
    "# 2018-01-01 부터 2020-04-30 까지 있습니다.\n",
    "data['datetime'].min(), data['datetime'].max()"
   ]
  },
  {
   "cell_type": "code",
   "execution_count": 13,
   "metadata": {},
   "outputs": [
    {
     "output_type": "execute_result",
     "data": {
      "text/plain": [
       "Timedelta('850 days 00:00:00')"
      ]
     },
     "metadata": {},
     "execution_count": 13
    }
   ],
   "source": [
    "# 데이터의 전체 기간을 확인합니다.\n",
    "# 총 850 일입니다.\n",
    "data['datetime'].max() - data['datetime'].min()"
   ]
  },
  {
   "cell_type": "code",
   "execution_count": 14,
   "metadata": {},
   "outputs": [],
   "source": [
    "# 분기(quarter)와 달(month) 컬럼을 추가합니다.\n",
    "data[\"quarter\"] = data[\"datetime\"].dt.quarter\n",
    "data[\"month\"] = data[\"datetime\"].dt.month"
   ]
  },
  {
   "cell_type": "code",
   "execution_count": 15,
   "metadata": {},
   "outputs": [
    {
     "output_type": "execute_result",
     "data": {
      "text/plain": [
       "                 일자   시도명 읍면동명  평균 기온  일강수량  최대 풍속            업종명        이용금액  \\\n",
       "1603362  2020-04-30   제주시  아라동   11.5   0.0    6.6        한식 음식점업  1305124430   \n",
       "1603363  2020-04-30   제주시  아라동   11.5   0.0    6.6  화장품 및 방향제 소매업    11806070   \n",
       "1603364  2020-04-30  서귀포시  표선면   18.1   0.0    4.7       휴양콘도 운영업    37804200   \n",
       "1603365  2020-04-30   제주시  아라동   11.5   0.0    6.6           여행사업     8600000   \n",
       "1603366  2020-04-30   제주시  애월읍   20.6   0.0    5.4       휴양콘도 운영업     6629916   \n",
       "\n",
       "          datetime  quarter  month  \n",
       "1603362 2020-04-30        2      4  \n",
       "1603363 2020-04-30        2      4  \n",
       "1603364 2020-04-30        2      4  \n",
       "1603365 2020-04-30        2      4  \n",
       "1603366 2020-04-30        2      4  "
      ],
      "text/html": "<div>\n<style scoped>\n    .dataframe tbody tr th:only-of-type {\n        vertical-align: middle;\n    }\n\n    .dataframe tbody tr th {\n        vertical-align: top;\n    }\n\n    .dataframe thead th {\n        text-align: right;\n    }\n</style>\n<table border=\"1\" class=\"dataframe\">\n  <thead>\n    <tr style=\"text-align: right;\">\n      <th></th>\n      <th>일자</th>\n      <th>시도명</th>\n      <th>읍면동명</th>\n      <th>평균 기온</th>\n      <th>일강수량</th>\n      <th>최대 풍속</th>\n      <th>업종명</th>\n      <th>이용금액</th>\n      <th>datetime</th>\n      <th>quarter</th>\n      <th>month</th>\n    </tr>\n  </thead>\n  <tbody>\n    <tr>\n      <th>1603362</th>\n      <td>2020-04-30</td>\n      <td>제주시</td>\n      <td>아라동</td>\n      <td>11.5</td>\n      <td>0.0</td>\n      <td>6.6</td>\n      <td>한식 음식점업</td>\n      <td>1305124430</td>\n      <td>2020-04-30</td>\n      <td>2</td>\n      <td>4</td>\n    </tr>\n    <tr>\n      <th>1603363</th>\n      <td>2020-04-30</td>\n      <td>제주시</td>\n      <td>아라동</td>\n      <td>11.5</td>\n      <td>0.0</td>\n      <td>6.6</td>\n      <td>화장품 및 방향제 소매업</td>\n      <td>11806070</td>\n      <td>2020-04-30</td>\n      <td>2</td>\n      <td>4</td>\n    </tr>\n    <tr>\n      <th>1603364</th>\n      <td>2020-04-30</td>\n      <td>서귀포시</td>\n      <td>표선면</td>\n      <td>18.1</td>\n      <td>0.0</td>\n      <td>4.7</td>\n      <td>휴양콘도 운영업</td>\n      <td>37804200</td>\n      <td>2020-04-30</td>\n      <td>2</td>\n      <td>4</td>\n    </tr>\n    <tr>\n      <th>1603365</th>\n      <td>2020-04-30</td>\n      <td>제주시</td>\n      <td>아라동</td>\n      <td>11.5</td>\n      <td>0.0</td>\n      <td>6.6</td>\n      <td>여행사업</td>\n      <td>8600000</td>\n      <td>2020-04-30</td>\n      <td>2</td>\n      <td>4</td>\n    </tr>\n    <tr>\n      <th>1603366</th>\n      <td>2020-04-30</td>\n      <td>제주시</td>\n      <td>애월읍</td>\n      <td>20.6</td>\n      <td>0.0</td>\n      <td>5.4</td>\n      <td>휴양콘도 운영업</td>\n      <td>6629916</td>\n      <td>2020-04-30</td>\n      <td>2</td>\n      <td>4</td>\n    </tr>\n  </tbody>\n</table>\n</div>"
     },
     "metadata": {},
     "execution_count": 15
    }
   ],
   "source": [
    "# 추가된 컬럼을 확인합니다.\n",
    "data.tail()"
   ]
  },
  {
   "source": [
    "# 데이터 분석"
   ],
   "cell_type": "markdown",
   "metadata": {}
  },
  {
   "source": [
    "------------------------------------------------------\n",
    "\n",
    "첫 번째\n",
    "\n",
    "        데이터 전체 기간 동안 (2018년 1월 1일부터 2020년 4월 30일까지) 가장 높은 이용금액을 가진 업종을 찾는다\n",
    "        \n",
    "\n",
    "------------------------------------------------------\n"
   ],
   "cell_type": "markdown",
   "metadata": {}
  },
  {
   "cell_type": "code",
   "execution_count": 43,
   "metadata": {},
   "outputs": [
    {
     "output_type": "execute_result",
     "data": {
      "text/plain": [
       "datetime    읍면동명  업종명              \n",
       "2018-01-01  건입동   건강보조식품 소매업            1286200\n",
       "                  과실 및 채소 소매업          14763300\n",
       "                  관광 민예품 및 선물용품 소매업     3803050\n",
       "                  기타 외국식 음식점업           9036400\n",
       "                  기타 주점업               25510000\n",
       "Name: 이용금액, dtype: int64"
      ]
     },
     "metadata": {},
     "execution_count": 43
    }
   ],
   "source": [
    "dataHighSeries = data.groupby(['datetime', '읍면동명', '업종명'])['이용금액'].mean()\n",
    "dataHighSeries.head()\n",
    "dataHighDf = dataHighSeries"
   ]
  },
  {
   "cell_type": "code",
   "execution_count": 28,
   "metadata": {},
   "outputs": [
    {
     "output_type": "execute_result",
     "data": {
      "text/plain": [
       "                일자  시도명  읍면동명  평균 기온  일강수량  최대 풍속  업종명         이용금액  \\\n",
       "947368  2019-05-22  제주시  용담2동   22.4   0.0    4.9  면세점  10764369591   \n",
       "948872  2019-05-23  제주시  용담2동   25.1   0.0    5.2  면세점  10764369591   \n",
       "912894  2019-05-04  제주시  용담2동   18.0   0.0    2.5  면세점  10764369591   \n",
       "942991  2019-05-20  제주시  용담2동   14.7   1.5    3.4  면세점  10764369591   \n",
       "941199  2019-05-19  제주시  용담2동   21.2   1.5    4.8  면세점  10764369591   \n",
       "\n",
       "         datetime  quarter  month  \n",
       "947368 2019-05-22        2      5  \n",
       "948872 2019-05-23        2      5  \n",
       "912894 2019-05-04        2      5  \n",
       "942991 2019-05-20        2      5  \n",
       "941199 2019-05-19        2      5  "
      ],
      "text/html": "<div>\n<style scoped>\n    .dataframe tbody tr th:only-of-type {\n        vertical-align: middle;\n    }\n\n    .dataframe tbody tr th {\n        vertical-align: top;\n    }\n\n    .dataframe thead th {\n        text-align: right;\n    }\n</style>\n<table border=\"1\" class=\"dataframe\">\n  <thead>\n    <tr style=\"text-align: right;\">\n      <th></th>\n      <th>일자</th>\n      <th>시도명</th>\n      <th>읍면동명</th>\n      <th>평균 기온</th>\n      <th>일강수량</th>\n      <th>최대 풍속</th>\n      <th>업종명</th>\n      <th>이용금액</th>\n      <th>datetime</th>\n      <th>quarter</th>\n      <th>month</th>\n    </tr>\n  </thead>\n  <tbody>\n    <tr>\n      <th>947368</th>\n      <td>2019-05-22</td>\n      <td>제주시</td>\n      <td>용담2동</td>\n      <td>22.4</td>\n      <td>0.0</td>\n      <td>4.9</td>\n      <td>면세점</td>\n      <td>10764369591</td>\n      <td>2019-05-22</td>\n      <td>2</td>\n      <td>5</td>\n    </tr>\n    <tr>\n      <th>948872</th>\n      <td>2019-05-23</td>\n      <td>제주시</td>\n      <td>용담2동</td>\n      <td>25.1</td>\n      <td>0.0</td>\n      <td>5.2</td>\n      <td>면세점</td>\n      <td>10764369591</td>\n      <td>2019-05-23</td>\n      <td>2</td>\n      <td>5</td>\n    </tr>\n    <tr>\n      <th>912894</th>\n      <td>2019-05-04</td>\n      <td>제주시</td>\n      <td>용담2동</td>\n      <td>18.0</td>\n      <td>0.0</td>\n      <td>2.5</td>\n      <td>면세점</td>\n      <td>10764369591</td>\n      <td>2019-05-04</td>\n      <td>2</td>\n      <td>5</td>\n    </tr>\n    <tr>\n      <th>942991</th>\n      <td>2019-05-20</td>\n      <td>제주시</td>\n      <td>용담2동</td>\n      <td>14.7</td>\n      <td>1.5</td>\n      <td>3.4</td>\n      <td>면세점</td>\n      <td>10764369591</td>\n      <td>2019-05-20</td>\n      <td>2</td>\n      <td>5</td>\n    </tr>\n    <tr>\n      <th>941199</th>\n      <td>2019-05-19</td>\n      <td>제주시</td>\n      <td>용담2동</td>\n      <td>21.2</td>\n      <td>1.5</td>\n      <td>4.8</td>\n      <td>면세점</td>\n      <td>10764369591</td>\n      <td>2019-05-19</td>\n      <td>2</td>\n      <td>5</td>\n    </tr>\n  </tbody>\n</table>\n</div>"
     },
     "metadata": {},
     "execution_count": 28
    }
   ],
   "source": [
    "# 이용금액을 내림차순으로 정렬합니다.\n",
    "data.sort_values(by='이용금액' , ascending=False).head()\n"
   ]
  },
  {
   "source": [
    "- 분석: 코로나 이전(2019년도)에는 용담2동에 있는 면세점이 가장 높은 이용금액을 가지고 있다.\n",
    "\n",
    "- 문제 제기: 코로나 이후에는 면세점이 다른 업종에 밀렸을까?"
   ],
   "cell_type": "markdown",
   "metadata": {}
  },
  {
   "source": [
    "------------------------------------------------------\n",
    "\n",
    "두 번째\n",
    "\n",
    "        2020-01-01 부터 2020-04-30 사이에 가장 높은 이용금액을 가진 업종을 찾는다\n",
    "        \n",
    "\n",
    "------------------------------------------------------"
   ],
   "cell_type": "markdown",
   "metadata": {}
  },
  {
   "cell_type": "code",
   "execution_count": 17,
   "metadata": {},
   "outputs": [],
   "source": [
    "# 2019년 이후의 행만 선택합니다.\n",
    "dataSubset = data[\n",
    "    data[\"datetime\"].dt.year > 2019\n",
    "]"
   ]
  },
  {
   "cell_type": "code",
   "execution_count": 39,
   "metadata": {},
   "outputs": [
    {
     "output_type": "execute_result",
     "data": {
      "text/plain": [
       "                 일자  시도명  읍면동명  평균 기온  일강수량  최대 풍속        업종명        이용금액  \\\n",
       "1406339  2020-01-17  제주시  용담2동    3.5   0.0    2.1        면세점  8854495220   \n",
       "1432979  2020-01-31  제주시  용담2동    4.0   0.0    2.6        면세점  8854495220   \n",
       "1393651  2020-01-10  제주시  용담2동    4.7   0.0    1.9        면세점  8854495220   \n",
       "1415175  2020-01-21  제주시  용담2동    4.3   0.0    2.1        면세점  8854495220   \n",
       "1389041  2020-01-08  제주시  용담2동    5.3   7.5    5.7        면세점  8854495220   \n",
       "1418151  2020-01-23  제주시  용담2동    8.8   2.5    1.3        면세점  8854495220   \n",
       "1421325  2020-01-25  제주시  용담2동    9.7   3.5    3.1        면세점  8854495220   \n",
       "1403351  2020-01-15  제주시  용담2동    2.6   0.0    1.8        면세점  8854495220   \n",
       "1376456  2020-01-01  제주시  용담2동    2.4   0.0    1.4        면세점  8854495220   \n",
       "1394916  2020-01-11  제주시  용담2동    5.2   0.0    1.6        면세점  8854495220   \n",
       "1385235  2020-01-06  제주시  용담2동   12.5   0.0    2.5        면세점  8854495220   \n",
       "1381403  2020-01-04  제주시  용담2동    3.8   0.0    2.7        면세점  8854495220   \n",
       "1378276  2020-01-02  제주시  용담2동    4.8   0.0    1.8        면세점  8854495220   \n",
       "1391170  2020-01-09  제주시  용담2동    4.3   0.0    1.7        면세점  8854495220   \n",
       "1399206  2020-01-13  제주시  용담2동    4.1   0.0    2.5        면세점  8854495220   \n",
       "1397108  2020-01-12  제주시  용담2동    4.7   0.0    3.8        면세점  8854495220   \n",
       "1430367  2020-01-29  제주시  용담2동    6.3   1.0    2.9        면세점  8854495220   \n",
       "1413450  2020-01-20  제주시  용담2동    5.2   0.0    3.0        면세점  8854495220   \n",
       "1387036  2020-01-07  제주시  용담2동   17.0  19.0    7.8        면세점  8854495220   \n",
       "1410838  2020-01-19  제주시  용담2동    5.6   0.0    2.6        면세점  8854495220   \n",
       "1419485  2020-01-24  제주시  용담2동    8.5   0.0    1.8        면세점  8854495220   \n",
       "1383949  2020-01-05  제주시  용담2동    5.2   0.0    2.2        면세점  8854495220   \n",
       "1379513  2020-01-03  제주시  용담2동    5.2   0.0    2.3        면세점  8854495220   \n",
       "1401447  2020-01-14  제주시  용담2동    1.1   8.0    1.7        면세점  8854495220   \n",
       "1405046  2020-01-16  제주시  용담2동    3.0   0.0    1.7        면세점  8854495220   \n",
       "1426508  2020-01-27  제주시  용담2동    7.1  89.5    3.7        면세점  8854495220   \n",
       "1427272  2020-01-28  제주시  용담2동    6.7   0.5    1.4        면세점  8854495220   \n",
       "1424141  2020-01-26  제주시  용담2동    9.0  17.5    3.8        면세점  8854495220   \n",
       "1416777  2020-01-22  제주시  용담2동    9.3  26.0    1.5        면세점  8854495220   \n",
       "1432280  2020-01-30  제주시  용담2동    5.4   1.0    3.3        면세점  8854495220   \n",
       "1408761  2020-01-18  제주시  용담2동    3.8   0.0    2.7        면세점  8854495220   \n",
       "1400739  2020-01-14  제주시    연동   -3.6   0.0    1.2  정기 항공 운송업  4783097821   \n",
       "1377623  2020-01-02  제주시    연동   -0.7   0.0    0.8  정기 항공 운송업  4783097821   \n",
       "1423948  2020-01-26  제주시    연동    3.7  27.5    3.5  정기 항공 운송업  4783097821   \n",
       "1383066  2020-01-05  제주시    연동    1.5   0.0    0.7  정기 항공 운송업  4783097821   \n",
       "1377159  2020-01-01  제주시    연동   -4.0   0.0    1.0  정기 항공 운송업  4783097821   \n",
       "1403476  2020-01-15  제주시    연동   -3.7   0.0    1.1  정기 항공 운송업  4783097821   \n",
       "1395197  2020-01-11  제주시    연동   -0.5   0.0    1.1  정기 항공 운송업  4783097821   \n",
       "1434182  2020-01-31  제주시    연동   -3.0   0.0    0.8  정기 항공 운송업  4783097821   \n",
       "1397359  2020-01-12  제주시    연동   -2.0   0.0    1.4  정기 항공 운송업  4783097821   \n",
       "1429804  2020-01-29  제주시    연동   -0.1   1.5    1.0  정기 항공 운송업  4783097821   \n",
       "1420867  2020-01-24  제주시    연동    4.6   0.0    1.5  정기 항공 운송업  4783097821   \n",
       "1391906  2020-01-09  제주시    연동   -1.4   0.0    1.0  정기 항공 운송업  4783097821   \n",
       "1399914  2020-01-13  제주시    연동   -2.1   0.0    0.9  정기 항공 운송업  4783097821   \n",
       "1411385  2020-01-19  제주시    연동   -1.1   0.0    1.1  정기 항공 운송업  4783097821   \n",
       "1392583  2020-01-10  제주시    연동    0.0   0.0    0.6  정기 항공 운송업  4783097821   \n",
       "1412947  2020-01-20  제주시    연동   -1.4   0.0    1.1  정기 항공 운송업  4783097821   \n",
       "1422304  2020-01-25  제주시    연동    4.2   7.5    2.4  정기 항공 운송업  4783097821   \n",
       "1387789  2020-01-07  제주시    연동   10.7  59.5    9.9  정기 항공 운송업  4783097821   \n",
       "1408560  2020-01-18  제주시    연동   -2.8   0.0    1.7  정기 항공 운송업  4783097821   \n",
       "\n",
       "          datetime  quarter  month  \n",
       "1406339 2020-01-17        1      1  \n",
       "1432979 2020-01-31        1      1  \n",
       "1393651 2020-01-10        1      1  \n",
       "1415175 2020-01-21        1      1  \n",
       "1389041 2020-01-08        1      1  \n",
       "1418151 2020-01-23        1      1  \n",
       "1421325 2020-01-25        1      1  \n",
       "1403351 2020-01-15        1      1  \n",
       "1376456 2020-01-01        1      1  \n",
       "1394916 2020-01-11        1      1  \n",
       "1385235 2020-01-06        1      1  \n",
       "1381403 2020-01-04        1      1  \n",
       "1378276 2020-01-02        1      1  \n",
       "1391170 2020-01-09        1      1  \n",
       "1399206 2020-01-13        1      1  \n",
       "1397108 2020-01-12        1      1  \n",
       "1430367 2020-01-29        1      1  \n",
       "1413450 2020-01-20        1      1  \n",
       "1387036 2020-01-07        1      1  \n",
       "1410838 2020-01-19        1      1  \n",
       "1419485 2020-01-24        1      1  \n",
       "1383949 2020-01-05        1      1  \n",
       "1379513 2020-01-03        1      1  \n",
       "1401447 2020-01-14        1      1  \n",
       "1405046 2020-01-16        1      1  \n",
       "1426508 2020-01-27        1      1  \n",
       "1427272 2020-01-28        1      1  \n",
       "1424141 2020-01-26        1      1  \n",
       "1416777 2020-01-22        1      1  \n",
       "1432280 2020-01-30        1      1  \n",
       "1408761 2020-01-18        1      1  \n",
       "1400739 2020-01-14        1      1  \n",
       "1377623 2020-01-02        1      1  \n",
       "1423948 2020-01-26        1      1  \n",
       "1383066 2020-01-05        1      1  \n",
       "1377159 2020-01-01        1      1  \n",
       "1403476 2020-01-15        1      1  \n",
       "1395197 2020-01-11        1      1  \n",
       "1434182 2020-01-31        1      1  \n",
       "1397359 2020-01-12        1      1  \n",
       "1429804 2020-01-29        1      1  \n",
       "1420867 2020-01-24        1      1  \n",
       "1391906 2020-01-09        1      1  \n",
       "1399914 2020-01-13        1      1  \n",
       "1411385 2020-01-19        1      1  \n",
       "1392583 2020-01-10        1      1  \n",
       "1412947 2020-01-20        1      1  \n",
       "1422304 2020-01-25        1      1  \n",
       "1387789 2020-01-07        1      1  \n",
       "1408560 2020-01-18        1      1  "
      ],
      "text/html": "<div>\n<style scoped>\n    .dataframe tbody tr th:only-of-type {\n        vertical-align: middle;\n    }\n\n    .dataframe tbody tr th {\n        vertical-align: top;\n    }\n\n    .dataframe thead th {\n        text-align: right;\n    }\n</style>\n<table border=\"1\" class=\"dataframe\">\n  <thead>\n    <tr style=\"text-align: right;\">\n      <th></th>\n      <th>일자</th>\n      <th>시도명</th>\n      <th>읍면동명</th>\n      <th>평균 기온</th>\n      <th>일강수량</th>\n      <th>최대 풍속</th>\n      <th>업종명</th>\n      <th>이용금액</th>\n      <th>datetime</th>\n      <th>quarter</th>\n      <th>month</th>\n    </tr>\n  </thead>\n  <tbody>\n    <tr>\n      <th>1406339</th>\n      <td>2020-01-17</td>\n      <td>제주시</td>\n      <td>용담2동</td>\n      <td>3.5</td>\n      <td>0.0</td>\n      <td>2.1</td>\n      <td>면세점</td>\n      <td>8854495220</td>\n      <td>2020-01-17</td>\n      <td>1</td>\n      <td>1</td>\n    </tr>\n    <tr>\n      <th>1432979</th>\n      <td>2020-01-31</td>\n      <td>제주시</td>\n      <td>용담2동</td>\n      <td>4.0</td>\n      <td>0.0</td>\n      <td>2.6</td>\n      <td>면세점</td>\n      <td>8854495220</td>\n      <td>2020-01-31</td>\n      <td>1</td>\n      <td>1</td>\n    </tr>\n    <tr>\n      <th>1393651</th>\n      <td>2020-01-10</td>\n      <td>제주시</td>\n      <td>용담2동</td>\n      <td>4.7</td>\n      <td>0.0</td>\n      <td>1.9</td>\n      <td>면세점</td>\n      <td>8854495220</td>\n      <td>2020-01-10</td>\n      <td>1</td>\n      <td>1</td>\n    </tr>\n    <tr>\n      <th>1415175</th>\n      <td>2020-01-21</td>\n      <td>제주시</td>\n      <td>용담2동</td>\n      <td>4.3</td>\n      <td>0.0</td>\n      <td>2.1</td>\n      <td>면세점</td>\n      <td>8854495220</td>\n      <td>2020-01-21</td>\n      <td>1</td>\n      <td>1</td>\n    </tr>\n    <tr>\n      <th>1389041</th>\n      <td>2020-01-08</td>\n      <td>제주시</td>\n      <td>용담2동</td>\n      <td>5.3</td>\n      <td>7.5</td>\n      <td>5.7</td>\n      <td>면세점</td>\n      <td>8854495220</td>\n      <td>2020-01-08</td>\n      <td>1</td>\n      <td>1</td>\n    </tr>\n    <tr>\n      <th>1418151</th>\n      <td>2020-01-23</td>\n      <td>제주시</td>\n      <td>용담2동</td>\n      <td>8.8</td>\n      <td>2.5</td>\n      <td>1.3</td>\n      <td>면세점</td>\n      <td>8854495220</td>\n      <td>2020-01-23</td>\n      <td>1</td>\n      <td>1</td>\n    </tr>\n    <tr>\n      <th>1421325</th>\n      <td>2020-01-25</td>\n      <td>제주시</td>\n      <td>용담2동</td>\n      <td>9.7</td>\n      <td>3.5</td>\n      <td>3.1</td>\n      <td>면세점</td>\n      <td>8854495220</td>\n      <td>2020-01-25</td>\n      <td>1</td>\n      <td>1</td>\n    </tr>\n    <tr>\n      <th>1403351</th>\n      <td>2020-01-15</td>\n      <td>제주시</td>\n      <td>용담2동</td>\n      <td>2.6</td>\n      <td>0.0</td>\n      <td>1.8</td>\n      <td>면세점</td>\n      <td>8854495220</td>\n      <td>2020-01-15</td>\n      <td>1</td>\n      <td>1</td>\n    </tr>\n    <tr>\n      <th>1376456</th>\n      <td>2020-01-01</td>\n      <td>제주시</td>\n      <td>용담2동</td>\n      <td>2.4</td>\n      <td>0.0</td>\n      <td>1.4</td>\n      <td>면세점</td>\n      <td>8854495220</td>\n      <td>2020-01-01</td>\n      <td>1</td>\n      <td>1</td>\n    </tr>\n    <tr>\n      <th>1394916</th>\n      <td>2020-01-11</td>\n      <td>제주시</td>\n      <td>용담2동</td>\n      <td>5.2</td>\n      <td>0.0</td>\n      <td>1.6</td>\n      <td>면세점</td>\n      <td>8854495220</td>\n      <td>2020-01-11</td>\n      <td>1</td>\n      <td>1</td>\n    </tr>\n    <tr>\n      <th>1385235</th>\n      <td>2020-01-06</td>\n      <td>제주시</td>\n      <td>용담2동</td>\n      <td>12.5</td>\n      <td>0.0</td>\n      <td>2.5</td>\n      <td>면세점</td>\n      <td>8854495220</td>\n      <td>2020-01-06</td>\n      <td>1</td>\n      <td>1</td>\n    </tr>\n    <tr>\n      <th>1381403</th>\n      <td>2020-01-04</td>\n      <td>제주시</td>\n      <td>용담2동</td>\n      <td>3.8</td>\n      <td>0.0</td>\n      <td>2.7</td>\n      <td>면세점</td>\n      <td>8854495220</td>\n      <td>2020-01-04</td>\n      <td>1</td>\n      <td>1</td>\n    </tr>\n    <tr>\n      <th>1378276</th>\n      <td>2020-01-02</td>\n      <td>제주시</td>\n      <td>용담2동</td>\n      <td>4.8</td>\n      <td>0.0</td>\n      <td>1.8</td>\n      <td>면세점</td>\n      <td>8854495220</td>\n      <td>2020-01-02</td>\n      <td>1</td>\n      <td>1</td>\n    </tr>\n    <tr>\n      <th>1391170</th>\n      <td>2020-01-09</td>\n      <td>제주시</td>\n      <td>용담2동</td>\n      <td>4.3</td>\n      <td>0.0</td>\n      <td>1.7</td>\n      <td>면세점</td>\n      <td>8854495220</td>\n      <td>2020-01-09</td>\n      <td>1</td>\n      <td>1</td>\n    </tr>\n    <tr>\n      <th>1399206</th>\n      <td>2020-01-13</td>\n      <td>제주시</td>\n      <td>용담2동</td>\n      <td>4.1</td>\n      <td>0.0</td>\n      <td>2.5</td>\n      <td>면세점</td>\n      <td>8854495220</td>\n      <td>2020-01-13</td>\n      <td>1</td>\n      <td>1</td>\n    </tr>\n    <tr>\n      <th>1397108</th>\n      <td>2020-01-12</td>\n      <td>제주시</td>\n      <td>용담2동</td>\n      <td>4.7</td>\n      <td>0.0</td>\n      <td>3.8</td>\n      <td>면세점</td>\n      <td>8854495220</td>\n      <td>2020-01-12</td>\n      <td>1</td>\n      <td>1</td>\n    </tr>\n    <tr>\n      <th>1430367</th>\n      <td>2020-01-29</td>\n      <td>제주시</td>\n      <td>용담2동</td>\n      <td>6.3</td>\n      <td>1.0</td>\n      <td>2.9</td>\n      <td>면세점</td>\n      <td>8854495220</td>\n      <td>2020-01-29</td>\n      <td>1</td>\n      <td>1</td>\n    </tr>\n    <tr>\n      <th>1413450</th>\n      <td>2020-01-20</td>\n      <td>제주시</td>\n      <td>용담2동</td>\n      <td>5.2</td>\n      <td>0.0</td>\n      <td>3.0</td>\n      <td>면세점</td>\n      <td>8854495220</td>\n      <td>2020-01-20</td>\n      <td>1</td>\n      <td>1</td>\n    </tr>\n    <tr>\n      <th>1387036</th>\n      <td>2020-01-07</td>\n      <td>제주시</td>\n      <td>용담2동</td>\n      <td>17.0</td>\n      <td>19.0</td>\n      <td>7.8</td>\n      <td>면세점</td>\n      <td>8854495220</td>\n      <td>2020-01-07</td>\n      <td>1</td>\n      <td>1</td>\n    </tr>\n    <tr>\n      <th>1410838</th>\n      <td>2020-01-19</td>\n      <td>제주시</td>\n      <td>용담2동</td>\n      <td>5.6</td>\n      <td>0.0</td>\n      <td>2.6</td>\n      <td>면세점</td>\n      <td>8854495220</td>\n      <td>2020-01-19</td>\n      <td>1</td>\n      <td>1</td>\n    </tr>\n    <tr>\n      <th>1419485</th>\n      <td>2020-01-24</td>\n      <td>제주시</td>\n      <td>용담2동</td>\n      <td>8.5</td>\n      <td>0.0</td>\n      <td>1.8</td>\n      <td>면세점</td>\n      <td>8854495220</td>\n      <td>2020-01-24</td>\n      <td>1</td>\n      <td>1</td>\n    </tr>\n    <tr>\n      <th>1383949</th>\n      <td>2020-01-05</td>\n      <td>제주시</td>\n      <td>용담2동</td>\n      <td>5.2</td>\n      <td>0.0</td>\n      <td>2.2</td>\n      <td>면세점</td>\n      <td>8854495220</td>\n      <td>2020-01-05</td>\n      <td>1</td>\n      <td>1</td>\n    </tr>\n    <tr>\n      <th>1379513</th>\n      <td>2020-01-03</td>\n      <td>제주시</td>\n      <td>용담2동</td>\n      <td>5.2</td>\n      <td>0.0</td>\n      <td>2.3</td>\n      <td>면세점</td>\n      <td>8854495220</td>\n      <td>2020-01-03</td>\n      <td>1</td>\n      <td>1</td>\n    </tr>\n    <tr>\n      <th>1401447</th>\n      <td>2020-01-14</td>\n      <td>제주시</td>\n      <td>용담2동</td>\n      <td>1.1</td>\n      <td>8.0</td>\n      <td>1.7</td>\n      <td>면세점</td>\n      <td>8854495220</td>\n      <td>2020-01-14</td>\n      <td>1</td>\n      <td>1</td>\n    </tr>\n    <tr>\n      <th>1405046</th>\n      <td>2020-01-16</td>\n      <td>제주시</td>\n      <td>용담2동</td>\n      <td>3.0</td>\n      <td>0.0</td>\n      <td>1.7</td>\n      <td>면세점</td>\n      <td>8854495220</td>\n      <td>2020-01-16</td>\n      <td>1</td>\n      <td>1</td>\n    </tr>\n    <tr>\n      <th>1426508</th>\n      <td>2020-01-27</td>\n      <td>제주시</td>\n      <td>용담2동</td>\n      <td>7.1</td>\n      <td>89.5</td>\n      <td>3.7</td>\n      <td>면세점</td>\n      <td>8854495220</td>\n      <td>2020-01-27</td>\n      <td>1</td>\n      <td>1</td>\n    </tr>\n    <tr>\n      <th>1427272</th>\n      <td>2020-01-28</td>\n      <td>제주시</td>\n      <td>용담2동</td>\n      <td>6.7</td>\n      <td>0.5</td>\n      <td>1.4</td>\n      <td>면세점</td>\n      <td>8854495220</td>\n      <td>2020-01-28</td>\n      <td>1</td>\n      <td>1</td>\n    </tr>\n    <tr>\n      <th>1424141</th>\n      <td>2020-01-26</td>\n      <td>제주시</td>\n      <td>용담2동</td>\n      <td>9.0</td>\n      <td>17.5</td>\n      <td>3.8</td>\n      <td>면세점</td>\n      <td>8854495220</td>\n      <td>2020-01-26</td>\n      <td>1</td>\n      <td>1</td>\n    </tr>\n    <tr>\n      <th>1416777</th>\n      <td>2020-01-22</td>\n      <td>제주시</td>\n      <td>용담2동</td>\n      <td>9.3</td>\n      <td>26.0</td>\n      <td>1.5</td>\n      <td>면세점</td>\n      <td>8854495220</td>\n      <td>2020-01-22</td>\n      <td>1</td>\n      <td>1</td>\n    </tr>\n    <tr>\n      <th>1432280</th>\n      <td>2020-01-30</td>\n      <td>제주시</td>\n      <td>용담2동</td>\n      <td>5.4</td>\n      <td>1.0</td>\n      <td>3.3</td>\n      <td>면세점</td>\n      <td>8854495220</td>\n      <td>2020-01-30</td>\n      <td>1</td>\n      <td>1</td>\n    </tr>\n    <tr>\n      <th>1408761</th>\n      <td>2020-01-18</td>\n      <td>제주시</td>\n      <td>용담2동</td>\n      <td>3.8</td>\n      <td>0.0</td>\n      <td>2.7</td>\n      <td>면세점</td>\n      <td>8854495220</td>\n      <td>2020-01-18</td>\n      <td>1</td>\n      <td>1</td>\n    </tr>\n    <tr>\n      <th>1400739</th>\n      <td>2020-01-14</td>\n      <td>제주시</td>\n      <td>연동</td>\n      <td>-3.6</td>\n      <td>0.0</td>\n      <td>1.2</td>\n      <td>정기 항공 운송업</td>\n      <td>4783097821</td>\n      <td>2020-01-14</td>\n      <td>1</td>\n      <td>1</td>\n    </tr>\n    <tr>\n      <th>1377623</th>\n      <td>2020-01-02</td>\n      <td>제주시</td>\n      <td>연동</td>\n      <td>-0.7</td>\n      <td>0.0</td>\n      <td>0.8</td>\n      <td>정기 항공 운송업</td>\n      <td>4783097821</td>\n      <td>2020-01-02</td>\n      <td>1</td>\n      <td>1</td>\n    </tr>\n    <tr>\n      <th>1423948</th>\n      <td>2020-01-26</td>\n      <td>제주시</td>\n      <td>연동</td>\n      <td>3.7</td>\n      <td>27.5</td>\n      <td>3.5</td>\n      <td>정기 항공 운송업</td>\n      <td>4783097821</td>\n      <td>2020-01-26</td>\n      <td>1</td>\n      <td>1</td>\n    </tr>\n    <tr>\n      <th>1383066</th>\n      <td>2020-01-05</td>\n      <td>제주시</td>\n      <td>연동</td>\n      <td>1.5</td>\n      <td>0.0</td>\n      <td>0.7</td>\n      <td>정기 항공 운송업</td>\n      <td>4783097821</td>\n      <td>2020-01-05</td>\n      <td>1</td>\n      <td>1</td>\n    </tr>\n    <tr>\n      <th>1377159</th>\n      <td>2020-01-01</td>\n      <td>제주시</td>\n      <td>연동</td>\n      <td>-4.0</td>\n      <td>0.0</td>\n      <td>1.0</td>\n      <td>정기 항공 운송업</td>\n      <td>4783097821</td>\n      <td>2020-01-01</td>\n      <td>1</td>\n      <td>1</td>\n    </tr>\n    <tr>\n      <th>1403476</th>\n      <td>2020-01-15</td>\n      <td>제주시</td>\n      <td>연동</td>\n      <td>-3.7</td>\n      <td>0.0</td>\n      <td>1.1</td>\n      <td>정기 항공 운송업</td>\n      <td>4783097821</td>\n      <td>2020-01-15</td>\n      <td>1</td>\n      <td>1</td>\n    </tr>\n    <tr>\n      <th>1395197</th>\n      <td>2020-01-11</td>\n      <td>제주시</td>\n      <td>연동</td>\n      <td>-0.5</td>\n      <td>0.0</td>\n      <td>1.1</td>\n      <td>정기 항공 운송업</td>\n      <td>4783097821</td>\n      <td>2020-01-11</td>\n      <td>1</td>\n      <td>1</td>\n    </tr>\n    <tr>\n      <th>1434182</th>\n      <td>2020-01-31</td>\n      <td>제주시</td>\n      <td>연동</td>\n      <td>-3.0</td>\n      <td>0.0</td>\n      <td>0.8</td>\n      <td>정기 항공 운송업</td>\n      <td>4783097821</td>\n      <td>2020-01-31</td>\n      <td>1</td>\n      <td>1</td>\n    </tr>\n    <tr>\n      <th>1397359</th>\n      <td>2020-01-12</td>\n      <td>제주시</td>\n      <td>연동</td>\n      <td>-2.0</td>\n      <td>0.0</td>\n      <td>1.4</td>\n      <td>정기 항공 운송업</td>\n      <td>4783097821</td>\n      <td>2020-01-12</td>\n      <td>1</td>\n      <td>1</td>\n    </tr>\n    <tr>\n      <th>1429804</th>\n      <td>2020-01-29</td>\n      <td>제주시</td>\n      <td>연동</td>\n      <td>-0.1</td>\n      <td>1.5</td>\n      <td>1.0</td>\n      <td>정기 항공 운송업</td>\n      <td>4783097821</td>\n      <td>2020-01-29</td>\n      <td>1</td>\n      <td>1</td>\n    </tr>\n    <tr>\n      <th>1420867</th>\n      <td>2020-01-24</td>\n      <td>제주시</td>\n      <td>연동</td>\n      <td>4.6</td>\n      <td>0.0</td>\n      <td>1.5</td>\n      <td>정기 항공 운송업</td>\n      <td>4783097821</td>\n      <td>2020-01-24</td>\n      <td>1</td>\n      <td>1</td>\n    </tr>\n    <tr>\n      <th>1391906</th>\n      <td>2020-01-09</td>\n      <td>제주시</td>\n      <td>연동</td>\n      <td>-1.4</td>\n      <td>0.0</td>\n      <td>1.0</td>\n      <td>정기 항공 운송업</td>\n      <td>4783097821</td>\n      <td>2020-01-09</td>\n      <td>1</td>\n      <td>1</td>\n    </tr>\n    <tr>\n      <th>1399914</th>\n      <td>2020-01-13</td>\n      <td>제주시</td>\n      <td>연동</td>\n      <td>-2.1</td>\n      <td>0.0</td>\n      <td>0.9</td>\n      <td>정기 항공 운송업</td>\n      <td>4783097821</td>\n      <td>2020-01-13</td>\n      <td>1</td>\n      <td>1</td>\n    </tr>\n    <tr>\n      <th>1411385</th>\n      <td>2020-01-19</td>\n      <td>제주시</td>\n      <td>연동</td>\n      <td>-1.1</td>\n      <td>0.0</td>\n      <td>1.1</td>\n      <td>정기 항공 운송업</td>\n      <td>4783097821</td>\n      <td>2020-01-19</td>\n      <td>1</td>\n      <td>1</td>\n    </tr>\n    <tr>\n      <th>1392583</th>\n      <td>2020-01-10</td>\n      <td>제주시</td>\n      <td>연동</td>\n      <td>0.0</td>\n      <td>0.0</td>\n      <td>0.6</td>\n      <td>정기 항공 운송업</td>\n      <td>4783097821</td>\n      <td>2020-01-10</td>\n      <td>1</td>\n      <td>1</td>\n    </tr>\n    <tr>\n      <th>1412947</th>\n      <td>2020-01-20</td>\n      <td>제주시</td>\n      <td>연동</td>\n      <td>-1.4</td>\n      <td>0.0</td>\n      <td>1.1</td>\n      <td>정기 항공 운송업</td>\n      <td>4783097821</td>\n      <td>2020-01-20</td>\n      <td>1</td>\n      <td>1</td>\n    </tr>\n    <tr>\n      <th>1422304</th>\n      <td>2020-01-25</td>\n      <td>제주시</td>\n      <td>연동</td>\n      <td>4.2</td>\n      <td>7.5</td>\n      <td>2.4</td>\n      <td>정기 항공 운송업</td>\n      <td>4783097821</td>\n      <td>2020-01-25</td>\n      <td>1</td>\n      <td>1</td>\n    </tr>\n    <tr>\n      <th>1387789</th>\n      <td>2020-01-07</td>\n      <td>제주시</td>\n      <td>연동</td>\n      <td>10.7</td>\n      <td>59.5</td>\n      <td>9.9</td>\n      <td>정기 항공 운송업</td>\n      <td>4783097821</td>\n      <td>2020-01-07</td>\n      <td>1</td>\n      <td>1</td>\n    </tr>\n    <tr>\n      <th>1408560</th>\n      <td>2020-01-18</td>\n      <td>제주시</td>\n      <td>연동</td>\n      <td>-2.8</td>\n      <td>0.0</td>\n      <td>1.7</td>\n      <td>정기 항공 운송업</td>\n      <td>4783097821</td>\n      <td>2020-01-18</td>\n      <td>1</td>\n      <td>1</td>\n    </tr>\n  </tbody>\n</table>\n</div>"
     },
     "metadata": {},
     "execution_count": 39
    }
   ],
   "source": [
    "# 이용금액을 내림차순으로 정렬합니다.\n",
    "dataSubset.sort_values(by='이용금액' , ascending=False).head(50)"
   ]
  },
  {
   "source": [
    "- 분석: 코로나 초기(2020년 4월까지)에도 면세점이 가장 높은 이용금액을 가지고 있다.\n",
    "\n",
    "- 한계점: 2020년 4월까지의 기록밖에 없어서, 최근 약 1년 동안의 면세점 이용금액은 확인 할 수 없다. \n",
    "\n",
    "- 결론: (보고서 때 작성할 것) 면세점 유동인구를 대상으로 음식점 개업을 추천한다.  \n",
    "\n",
    "        - 면세점에 중국인들이 많을 것으로 예상되므로 관련 자료를 찾는다.  \n",
    "\n",
    "        - 중국인들이 선호하는 음식을 찾는다. 고향의 음식이 그리운 사람들은 중식을,\n",
    "          현지 음식을 원하는 사람들을 위해 중국인들이 좋아하는 한식을 찾는다.\n",
    "          "
   ],
   "cell_type": "markdown",
   "metadata": {}
  },
  {
   "source": [
    "나중에 정리\n",
    "\n",
    "https://www.seoul.co.kr/news/newsView.php?id=20210618030003&wlog_tag3=naver\n",
    "\n",
    "http://www.datasom.co.kr/news/articleView.html?idxno=100897#:~:text=%EC%A1%B0%EC%82%AC%EA%B2%B0%EA%B3%BC%20%EC%A4%91%EA%B5%AD%EC%9D%B8%EC%97%90%EA%B2%8C%20%EC%84%A0%ED%98%B8%EB%8F%84,%EC%B0%8C%EA%B0%9C(3.7%EC%A0%90)%EC%98%80%EB%8B%A4.\n",
    "\n",
    "https://www.newspim.com/news/view/20160620000157"
   ],
   "cell_type": "markdown",
   "metadata": {}
  },
  {
   "source": [
    "------------------------------------------------------\n",
    "\n",
    "세 번째\n",
    "\n",
    "        2020-01-01 부터 2020-04-30 사이에 면세점을 제외하고 높은 이용금액을 가진 업종을 찾는다\n",
    "        \n",
    "\n",
    "------------------------------------------------------"
   ],
   "cell_type": "markdown",
   "metadata": {}
  },
  {
   "cell_type": "code",
   "execution_count": 19,
   "metadata": {},
   "outputs": [],
   "source": [
    "# 면세점을 제거합니다.\n",
    "data2 = data[ data['업종명'] != '면세점' ]"
   ]
  },
  {
   "cell_type": "code",
   "execution_count": 20,
   "metadata": {},
   "outputs": [
    {
     "output_type": "execute_result",
     "data": {
      "text/plain": [
       "month  읍면동명  업종명                    \n",
       "1      건입동   건강보조식품 소매업                 7.854000e+05\n",
       "             과실 및 채소 소매업                2.748931e+07\n",
       "             관광 민예품 및 선물용품 소매업          3.178500e+06\n",
       "             그외 기타 종합 소매업               1.000000e+05\n",
       "             기타 외국식 음식점업                7.356787e+06\n",
       "                                            ...     \n",
       "12     효돈동   차량용 가스 충전업                 2.256921e+07\n",
       "             차량용 주유소 운영업                2.294036e+08\n",
       "             체인화 편의점                    4.581468e+07\n",
       "             피자, 햄버거, 샌드위치 및 유사 음식점업    2.099224e+06\n",
       "             한식 음식점업                    1.441372e+08\n",
       "Name: 이용금액, Length: 14257, dtype: float64"
      ]
     },
     "metadata": {},
     "execution_count": 20
    }
   ],
   "source": [
    "# 필요한 컬럼만 추출하여 groupby 로 묶습니다. \n",
    "# 값에는 이용금액의 평균이 들어갑니다.\n",
    "dataPopularSectorSeries = data2.groupby(['month','읍면동명', '업종명'])['이용금액'].mean()\n",
    "dataPopularSectorSeries"
   ]
  },
  {
   "cell_type": "code",
   "execution_count": 21,
   "metadata": {},
   "outputs": [
    {
     "output_type": "execute_result",
     "data": {
      "text/plain": [
       "                                      이용금액\n",
       "month 읍면동명 업종명                            \n",
       "1     건입동  건강보조식품 소매업         7.854000e+05\n",
       "           과실 및 채소 소매업        2.748931e+07\n",
       "           관광 민예품 및 선물용품 소매업  3.178500e+06\n",
       "           그외 기타 종합 소매업       1.000000e+05\n",
       "           기타 외국식 음식점업        7.356787e+06"
      ],
      "text/html": "<div>\n<style scoped>\n    .dataframe tbody tr th:only-of-type {\n        vertical-align: middle;\n    }\n\n    .dataframe tbody tr th {\n        vertical-align: top;\n    }\n\n    .dataframe thead th {\n        text-align: right;\n    }\n</style>\n<table border=\"1\" class=\"dataframe\">\n  <thead>\n    <tr style=\"text-align: right;\">\n      <th></th>\n      <th></th>\n      <th></th>\n      <th>이용금액</th>\n    </tr>\n    <tr>\n      <th>month</th>\n      <th>읍면동명</th>\n      <th>업종명</th>\n      <th></th>\n    </tr>\n  </thead>\n  <tbody>\n    <tr>\n      <th rowspan=\"5\" valign=\"top\">1</th>\n      <th rowspan=\"5\" valign=\"top\">건입동</th>\n      <th>건강보조식품 소매업</th>\n      <td>7.854000e+05</td>\n    </tr>\n    <tr>\n      <th>과실 및 채소 소매업</th>\n      <td>2.748931e+07</td>\n    </tr>\n    <tr>\n      <th>관광 민예품 및 선물용품 소매업</th>\n      <td>3.178500e+06</td>\n    </tr>\n    <tr>\n      <th>그외 기타 종합 소매업</th>\n      <td>1.000000e+05</td>\n    </tr>\n    <tr>\n      <th>기타 외국식 음식점업</th>\n      <td>7.356787e+06</td>\n    </tr>\n  </tbody>\n</table>\n</div>"
     },
     "metadata": {},
     "execution_count": 21
    }
   ],
   "source": [
    "# 시리즈를 데이터 프레임으로 변환합니다.\n",
    "dataPopularSectorDataFrame = pd.DataFrame(data=dataPopularSectorSeries)\n",
    "dataPopularSectorDataFrame.head()"
   ]
  },
  {
   "cell_type": "code",
   "execution_count": 27,
   "metadata": {},
   "outputs": [
    {
     "output_type": "execute_result",
     "data": {
      "text/plain": [
       "                              이용금액\n",
       "month 읍면동명 업종명                    \n",
       "7     연동   정기 항공 운송업  6.213297e+09\n",
       "1     연동   정기 항공 운송업  5.605136e+09\n",
       "5     연동   정기 항공 운송업  5.223140e+09\n",
       "12    연동   정기 항공 운송업  5.160813e+09\n",
       "6     연동   정기 항공 운송업  4.975993e+09\n",
       "10    연동   정기 항공 운송업  4.929810e+09\n",
       "12    연동   한식 음식점업    4.697101e+09\n",
       "8     연동   정기 항공 운송업  4.536733e+09\n",
       "5     연동   한식 음식점업    4.535280e+09\n",
       "11    연동   한식 음식점업    4.516187e+09\n",
       "           정기 항공 운송업  4.489358e+09\n",
       "10    연동   한식 음식점업    4.449780e+09\n",
       "6     연동   한식 음식점업    4.377312e+09\n",
       "8     연동   한식 음식점업    4.363808e+09\n",
       "12    노형동  한식 음식점업    4.345998e+09\n",
       "9     연동   정기 항공 운송업  4.276739e+09\n",
       "7     연동   한식 음식점업    4.235954e+09\n",
       "8     노형동  한식 음식점업    4.125835e+09\n",
       "1     연동   한식 음식점업    4.125536e+09\n",
       "11    노형동  한식 음식점업    4.070630e+09\n",
       "4     연동   정기 항공 운송업  4.054111e+09\n",
       "10    노형동  한식 음식점업    4.033157e+09\n",
       "5     노형동  한식 음식점업    3.986365e+09\n",
       "9     연동   한식 음식점업    3.969887e+09\n",
       "12    이도2동 한식 음식점업    3.907586e+09\n",
       "8     이도2동 슈퍼마켓       3.903279e+09\n",
       "7     노형동  한식 음식점업    3.896654e+09\n",
       "4     연동   한식 음식점업    3.891933e+09\n",
       "8     예래동  호텔업        3.864473e+09\n",
       "9     이도2동 슈퍼마켓       3.834715e+09"
      ],
      "text/html": "<div>\n<style scoped>\n    .dataframe tbody tr th:only-of-type {\n        vertical-align: middle;\n    }\n\n    .dataframe tbody tr th {\n        vertical-align: top;\n    }\n\n    .dataframe thead th {\n        text-align: right;\n    }\n</style>\n<table border=\"1\" class=\"dataframe\">\n  <thead>\n    <tr style=\"text-align: right;\">\n      <th></th>\n      <th></th>\n      <th></th>\n      <th>이용금액</th>\n    </tr>\n    <tr>\n      <th>month</th>\n      <th>읍면동명</th>\n      <th>업종명</th>\n      <th></th>\n    </tr>\n  </thead>\n  <tbody>\n    <tr>\n      <th>7</th>\n      <th>연동</th>\n      <th>정기 항공 운송업</th>\n      <td>6.213297e+09</td>\n    </tr>\n    <tr>\n      <th>1</th>\n      <th>연동</th>\n      <th>정기 항공 운송업</th>\n      <td>5.605136e+09</td>\n    </tr>\n    <tr>\n      <th>5</th>\n      <th>연동</th>\n      <th>정기 항공 운송업</th>\n      <td>5.223140e+09</td>\n    </tr>\n    <tr>\n      <th>12</th>\n      <th>연동</th>\n      <th>정기 항공 운송업</th>\n      <td>5.160813e+09</td>\n    </tr>\n    <tr>\n      <th>6</th>\n      <th>연동</th>\n      <th>정기 항공 운송업</th>\n      <td>4.975993e+09</td>\n    </tr>\n    <tr>\n      <th>10</th>\n      <th>연동</th>\n      <th>정기 항공 운송업</th>\n      <td>4.929810e+09</td>\n    </tr>\n    <tr>\n      <th>12</th>\n      <th>연동</th>\n      <th>한식 음식점업</th>\n      <td>4.697101e+09</td>\n    </tr>\n    <tr>\n      <th>8</th>\n      <th>연동</th>\n      <th>정기 항공 운송업</th>\n      <td>4.536733e+09</td>\n    </tr>\n    <tr>\n      <th>5</th>\n      <th>연동</th>\n      <th>한식 음식점업</th>\n      <td>4.535280e+09</td>\n    </tr>\n    <tr>\n      <th rowspan=\"2\" valign=\"top\">11</th>\n      <th rowspan=\"2\" valign=\"top\">연동</th>\n      <th>한식 음식점업</th>\n      <td>4.516187e+09</td>\n    </tr>\n    <tr>\n      <th>정기 항공 운송업</th>\n      <td>4.489358e+09</td>\n    </tr>\n    <tr>\n      <th>10</th>\n      <th>연동</th>\n      <th>한식 음식점업</th>\n      <td>4.449780e+09</td>\n    </tr>\n    <tr>\n      <th>6</th>\n      <th>연동</th>\n      <th>한식 음식점업</th>\n      <td>4.377312e+09</td>\n    </tr>\n    <tr>\n      <th>8</th>\n      <th>연동</th>\n      <th>한식 음식점업</th>\n      <td>4.363808e+09</td>\n    </tr>\n    <tr>\n      <th>12</th>\n      <th>노형동</th>\n      <th>한식 음식점업</th>\n      <td>4.345998e+09</td>\n    </tr>\n    <tr>\n      <th>9</th>\n      <th>연동</th>\n      <th>정기 항공 운송업</th>\n      <td>4.276739e+09</td>\n    </tr>\n    <tr>\n      <th>7</th>\n      <th>연동</th>\n      <th>한식 음식점업</th>\n      <td>4.235954e+09</td>\n    </tr>\n    <tr>\n      <th>8</th>\n      <th>노형동</th>\n      <th>한식 음식점업</th>\n      <td>4.125835e+09</td>\n    </tr>\n    <tr>\n      <th>1</th>\n      <th>연동</th>\n      <th>한식 음식점업</th>\n      <td>4.125536e+09</td>\n    </tr>\n    <tr>\n      <th>11</th>\n      <th>노형동</th>\n      <th>한식 음식점업</th>\n      <td>4.070630e+09</td>\n    </tr>\n    <tr>\n      <th>4</th>\n      <th>연동</th>\n      <th>정기 항공 운송업</th>\n      <td>4.054111e+09</td>\n    </tr>\n    <tr>\n      <th>10</th>\n      <th>노형동</th>\n      <th>한식 음식점업</th>\n      <td>4.033157e+09</td>\n    </tr>\n    <tr>\n      <th>5</th>\n      <th>노형동</th>\n      <th>한식 음식점업</th>\n      <td>3.986365e+09</td>\n    </tr>\n    <tr>\n      <th>9</th>\n      <th>연동</th>\n      <th>한식 음식점업</th>\n      <td>3.969887e+09</td>\n    </tr>\n    <tr>\n      <th>12</th>\n      <th>이도2동</th>\n      <th>한식 음식점업</th>\n      <td>3.907586e+09</td>\n    </tr>\n    <tr>\n      <th>8</th>\n      <th>이도2동</th>\n      <th>슈퍼마켓</th>\n      <td>3.903279e+09</td>\n    </tr>\n    <tr>\n      <th>7</th>\n      <th>노형동</th>\n      <th>한식 음식점업</th>\n      <td>3.896654e+09</td>\n    </tr>\n    <tr>\n      <th>4</th>\n      <th>연동</th>\n      <th>한식 음식점업</th>\n      <td>3.891933e+09</td>\n    </tr>\n    <tr>\n      <th>8</th>\n      <th>예래동</th>\n      <th>호텔업</th>\n      <td>3.864473e+09</td>\n    </tr>\n    <tr>\n      <th>9</th>\n      <th>이도2동</th>\n      <th>슈퍼마켓</th>\n      <td>3.834715e+09</td>\n    </tr>\n  </tbody>\n</table>\n</div>"
     },
     "metadata": {},
     "execution_count": 27
    }
   ],
   "source": [
    "# 이용금액이 높은 순으로 정렬합니다.\n",
    "dfPS = dataPopularSectorDataFrame.sort_values(by='이용금액', ascending=False)\n",
    "dfPS.head(30)"
   ]
  },
  {
   "source": [
    "- 결론: 면세점을 제외 할 경우 지역별 이용금액 순위는 다음과 같다.\n",
    "\n",
    "    1. 정기 항공 운송업 (연동)  \n",
    "\n",
    "    2. 한식 음식점업 (연동)  \n",
    "\n",
    "    3. 한식 음식점업 (노형동)  \n",
    "\n",
    "    4. 한식 음식점업 (이도2동)  \n",
    "\n",
    "    5. 슈퍼마켓 (이도2동)  \n",
    "\n",
    "    6. 호텔업 (예래동)"
   ],
   "cell_type": "markdown",
   "metadata": {}
  },
  {
   "source": [
    "- 시각화 해보기"
   ],
   "cell_type": "markdown",
   "metadata": {}
  },
  {
   "cell_type": "code",
   "execution_count": 30,
   "metadata": {},
   "outputs": [
    {
     "output_type": "execute_result",
     "data": {
      "text/plain": [
       "            일자  시도명  읍면동명  평균 기온  일강수량  최대 풍속      업종명       이용금액   datetime  \\\n",
       "10  2018-01-01  제주시  이도1동    2.9   0.0    2.4     슈퍼마켓  174857516 2018-01-01   \n",
       "23  2018-01-01  제주시  이도1동    2.9   0.0    2.4  한식 음식점업  415041401 2018-01-01   \n",
       "27  2018-01-01  제주시  일도2동    2.9   0.0    2.4     슈퍼마켓  525383376 2018-01-01   \n",
       "43  2018-01-01  제주시  이도1동    2.9   0.0    2.4      호텔업  316614190 2018-01-01   \n",
       "54  2018-01-01  제주시  용담1동    2.9   0.0    2.4      호텔업   14673000 2018-01-01   \n",
       "\n",
       "    quarter  month  \n",
       "10        1      1  \n",
       "23        1      1  \n",
       "27        1      1  \n",
       "43        1      1  \n",
       "54        1      1  "
      ],
      "text/html": "<div>\n<style scoped>\n    .dataframe tbody tr th:only-of-type {\n        vertical-align: middle;\n    }\n\n    .dataframe tbody tr th {\n        vertical-align: top;\n    }\n\n    .dataframe thead th {\n        text-align: right;\n    }\n</style>\n<table border=\"1\" class=\"dataframe\">\n  <thead>\n    <tr style=\"text-align: right;\">\n      <th></th>\n      <th>일자</th>\n      <th>시도명</th>\n      <th>읍면동명</th>\n      <th>평균 기온</th>\n      <th>일강수량</th>\n      <th>최대 풍속</th>\n      <th>업종명</th>\n      <th>이용금액</th>\n      <th>datetime</th>\n      <th>quarter</th>\n      <th>month</th>\n    </tr>\n  </thead>\n  <tbody>\n    <tr>\n      <th>10</th>\n      <td>2018-01-01</td>\n      <td>제주시</td>\n      <td>이도1동</td>\n      <td>2.9</td>\n      <td>0.0</td>\n      <td>2.4</td>\n      <td>슈퍼마켓</td>\n      <td>174857516</td>\n      <td>2018-01-01</td>\n      <td>1</td>\n      <td>1</td>\n    </tr>\n    <tr>\n      <th>23</th>\n      <td>2018-01-01</td>\n      <td>제주시</td>\n      <td>이도1동</td>\n      <td>2.9</td>\n      <td>0.0</td>\n      <td>2.4</td>\n      <td>한식 음식점업</td>\n      <td>415041401</td>\n      <td>2018-01-01</td>\n      <td>1</td>\n      <td>1</td>\n    </tr>\n    <tr>\n      <th>27</th>\n      <td>2018-01-01</td>\n      <td>제주시</td>\n      <td>일도2동</td>\n      <td>2.9</td>\n      <td>0.0</td>\n      <td>2.4</td>\n      <td>슈퍼마켓</td>\n      <td>525383376</td>\n      <td>2018-01-01</td>\n      <td>1</td>\n      <td>1</td>\n    </tr>\n    <tr>\n      <th>43</th>\n      <td>2018-01-01</td>\n      <td>제주시</td>\n      <td>이도1동</td>\n      <td>2.9</td>\n      <td>0.0</td>\n      <td>2.4</td>\n      <td>호텔업</td>\n      <td>316614190</td>\n      <td>2018-01-01</td>\n      <td>1</td>\n      <td>1</td>\n    </tr>\n    <tr>\n      <th>54</th>\n      <td>2018-01-01</td>\n      <td>제주시</td>\n      <td>용담1동</td>\n      <td>2.9</td>\n      <td>0.0</td>\n      <td>2.4</td>\n      <td>호텔업</td>\n      <td>14673000</td>\n      <td>2018-01-01</td>\n      <td>1</td>\n      <td>1</td>\n    </tr>\n  </tbody>\n</table>\n</div>"
     },
     "metadata": {},
     "execution_count": 30
    }
   ],
   "source": [
    "# 상위 5 개 업종만 추출합니다.\n",
    "dataTop5 = data[\n",
    "    (data['업종명'] == '면세점') |\n",
    "    (data['업종명'] == '정기 항공 운송업') |     \n",
    "    (data['업종명'] == '한식 음식점업') |\n",
    "    (data['업종명'] == '슈퍼마켓') |\n",
    "    (data['업종명'] == '호텔업') \n",
    "]\n",
    "dataTop5.head()"
   ]
  },
  {
   "cell_type": "code",
   "execution_count": 31,
   "metadata": {},
   "outputs": [
    {
     "output_type": "execute_result",
     "data": {
      "text/plain": [
       "     datetime      업종명       이용금액\n",
       "10 2018-01-01     슈퍼마켓  174857516\n",
       "23 2018-01-01  한식 음식점업  415041401\n",
       "27 2018-01-01     슈퍼마켓  525383376\n",
       "43 2018-01-01      호텔업  316614190\n",
       "54 2018-01-01      호텔업   14673000"
      ],
      "text/html": "<div>\n<style scoped>\n    .dataframe tbody tr th:only-of-type {\n        vertical-align: middle;\n    }\n\n    .dataframe tbody tr th {\n        vertical-align: top;\n    }\n\n    .dataframe thead th {\n        text-align: right;\n    }\n</style>\n<table border=\"1\" class=\"dataframe\">\n  <thead>\n    <tr style=\"text-align: right;\">\n      <th></th>\n      <th>datetime</th>\n      <th>업종명</th>\n      <th>이용금액</th>\n    </tr>\n  </thead>\n  <tbody>\n    <tr>\n      <th>10</th>\n      <td>2018-01-01</td>\n      <td>슈퍼마켓</td>\n      <td>174857516</td>\n    </tr>\n    <tr>\n      <th>23</th>\n      <td>2018-01-01</td>\n      <td>한식 음식점업</td>\n      <td>415041401</td>\n    </tr>\n    <tr>\n      <th>27</th>\n      <td>2018-01-01</td>\n      <td>슈퍼마켓</td>\n      <td>525383376</td>\n    </tr>\n    <tr>\n      <th>43</th>\n      <td>2018-01-01</td>\n      <td>호텔업</td>\n      <td>316614190</td>\n    </tr>\n    <tr>\n      <th>54</th>\n      <td>2018-01-01</td>\n      <td>호텔업</td>\n      <td>14673000</td>\n    </tr>\n  </tbody>\n</table>\n</div>"
     },
     "metadata": {},
     "execution_count": 31
    }
   ],
   "source": [
    "# 필요한 컬럼만 추출합니다.\n",
    "dataTop5Columns = dataTop5[['datetime', '업종명', '이용금액']]\n",
    "dataTop5Columns.head()"
   ]
  },
  {
   "cell_type": "code",
   "execution_count": 32,
   "metadata": {},
   "outputs": [
    {
     "output_type": "execute_result",
     "data": {
      "text/plain": [
       "업종명                  면세점          슈퍼마켓     정기 항공 운송업       한식 음식점업  \\\n",
       "datetime                                                             \n",
       "2018-01-01  1.598234e+09  3.445595e+08  5.849643e+09  9.542843e+08   \n",
       "2018-01-02  1.598234e+09  3.445595e+08  5.849643e+09  9.542843e+08   \n",
       "2018-01-03  1.598234e+09  3.445595e+08  5.849643e+09  9.542843e+08   \n",
       "2018-01-04  1.598234e+09  3.445595e+08  5.849643e+09  9.542843e+08   \n",
       "2018-01-05  1.598234e+09  3.445595e+08  5.849643e+09  9.542843e+08   \n",
       "\n",
       "업종명                  호텔업  \n",
       "datetime                  \n",
       "2018-01-01  1.874981e+08  \n",
       "2018-01-02  1.874981e+08  \n",
       "2018-01-03  1.874981e+08  \n",
       "2018-01-04  1.874981e+08  \n",
       "2018-01-05  1.874981e+08  "
      ],
      "text/html": "<div>\n<style scoped>\n    .dataframe tbody tr th:only-of-type {\n        vertical-align: middle;\n    }\n\n    .dataframe tbody tr th {\n        vertical-align: top;\n    }\n\n    .dataframe thead th {\n        text-align: right;\n    }\n</style>\n<table border=\"1\" class=\"dataframe\">\n  <thead>\n    <tr style=\"text-align: right;\">\n      <th>업종명</th>\n      <th>면세점</th>\n      <th>슈퍼마켓</th>\n      <th>정기 항공 운송업</th>\n      <th>한식 음식점업</th>\n      <th>호텔업</th>\n    </tr>\n    <tr>\n      <th>datetime</th>\n      <th></th>\n      <th></th>\n      <th></th>\n      <th></th>\n      <th></th>\n    </tr>\n  </thead>\n  <tbody>\n    <tr>\n      <th>2018-01-01</th>\n      <td>1.598234e+09</td>\n      <td>3.445595e+08</td>\n      <td>5.849643e+09</td>\n      <td>9.542843e+08</td>\n      <td>1.874981e+08</td>\n    </tr>\n    <tr>\n      <th>2018-01-02</th>\n      <td>1.598234e+09</td>\n      <td>3.445595e+08</td>\n      <td>5.849643e+09</td>\n      <td>9.542843e+08</td>\n      <td>1.874981e+08</td>\n    </tr>\n    <tr>\n      <th>2018-01-03</th>\n      <td>1.598234e+09</td>\n      <td>3.445595e+08</td>\n      <td>5.849643e+09</td>\n      <td>9.542843e+08</td>\n      <td>1.874981e+08</td>\n    </tr>\n    <tr>\n      <th>2018-01-04</th>\n      <td>1.598234e+09</td>\n      <td>3.445595e+08</td>\n      <td>5.849643e+09</td>\n      <td>9.542843e+08</td>\n      <td>1.874981e+08</td>\n    </tr>\n    <tr>\n      <th>2018-01-05</th>\n      <td>1.598234e+09</td>\n      <td>3.445595e+08</td>\n      <td>5.849643e+09</td>\n      <td>9.542843e+08</td>\n      <td>1.874981e+08</td>\n    </tr>\n  </tbody>\n</table>\n</div>"
     },
     "metadata": {},
     "execution_count": 32
    }
   ],
   "source": [
    "# 업종명을 long to wide table format 으로 변경\n",
    "# 참고: pivot 을 쓰면 인덱스 오류가 나지만 pivot_table 을 쓰면 오류가 나지 않는다.\n",
    "dataTop5LongToWide = dataTop5Columns.pivot_table(index='datetime', columns='업종명', values='이용금액')\n",
    "dataTop5LongToWide.head()"
   ]
  },
  {
   "cell_type": "code",
   "execution_count": 33,
   "metadata": {},
   "outputs": [
    {
     "output_type": "execute_result",
     "data": {
      "text/plain": [
       "<AxesSubplot:xlabel='datetime'>"
      ]
     },
     "metadata": {},
     "execution_count": 33
    },
    {
     "output_type": "display_data",
     "data": {
      "text/plain": "<Figure size 432x288 with 1 Axes>",
      "image/svg+xml": "<?xml version=\"1.0\" encoding=\"utf-8\" standalone=\"no\"?>\r\n<!DOCTYPE svg PUBLIC \"-//W3C//DTD SVG 1.1//EN\"\r\n  \"http://www.w3.org/Graphics/SVG/1.1/DTD/svg11.dtd\">\r\n<!-- Created with matplotlib (https://matplotlib.org/) -->\r\n<svg height=\"284.819375pt\" version=\"1.1\" viewBox=\"0 0 361.707813 284.819375\" width=\"361.707813pt\" xmlns=\"http://www.w3.org/2000/svg\" xmlns:xlink=\"http://www.w3.org/1999/xlink\">\r\n <metadata>\r\n  <rdf:RDF xmlns:cc=\"http://creativecommons.org/ns#\" xmlns:dc=\"http://purl.org/dc/elements/1.1/\" xmlns:rdf=\"http://www.w3.org/1999/02/22-rdf-syntax-ns#\">\r\n   <cc:Work>\r\n    <dc:type rdf:resource=\"http://purl.org/dc/dcmitype/StillImage\"/>\r\n    <dc:date>2021-07-15T12:50:05.422850</dc:date>\r\n    <dc:format>image/svg+xml</dc:format>\r\n    <dc:creator>\r\n     <cc:Agent>\r\n      <dc:title>Matplotlib v3.3.4, https://matplotlib.org/</dc:title>\r\n     </cc:Agent>\r\n    </dc:creator>\r\n   </cc:Work>\r\n  </rdf:RDF>\r\n </metadata>\r\n <defs>\r\n  <style type=\"text/css\">*{stroke-linecap:butt;stroke-linejoin:round;}</style>\r\n </defs>\r\n <g id=\"figure_1\">\r\n  <g id=\"patch_1\">\r\n   <path d=\"M 0 284.819375 \r\nL 361.707813 284.819375 \r\nL 361.707813 0 \r\nL 0 0 \r\nz\r\n\" style=\"fill:none;\"/>\r\n  </g>\r\n  <g id=\"axes_1\">\r\n   <g id=\"patch_2\">\r\n    <path d=\"M 19.707813 235.232188 \r\nL 354.507812 235.232188 \r\nL 354.507812 17.792188 \r\nL 19.707813 17.792188 \r\nz\r\n\" style=\"fill:#ffffff;\"/>\r\n   </g>\r\n   <g id=\"matplotlib.axis_1\">\r\n    <g id=\"xtick_1\">\r\n     <g id=\"line2d_1\">\r\n      <defs>\r\n       <path d=\"M 0 0 \r\nL 0 3.5 \r\n\" id=\"m6a2fd67880\" style=\"stroke:#000000;stroke-width:0.8;\"/>\r\n      </defs>\r\n      <g>\r\n       <use style=\"stroke:#000000;stroke-width:0.8;\" x=\"19.707812\" xlink:href=\"#m6a2fd67880\" y=\"235.232188\"/>\r\n      </g>\r\n     </g>\r\n     <g id=\"text_1\">\r\n      <!-- Jan -->\r\n      <g transform=\"translate(12.486719 249.824375)scale(0.1 -0.1)\">\r\n       <defs>\r\n        <path d=\"M 27.09375 25.53125 \r\nQ 27.09375 12.84375 21.84375 5.8125 \r\nQ 16.609375 -1.21875 7.671875 -1.21875 \r\nQ 3.8125 -1.21875 0.984375 -0.046875 \r\nL 0.984375 7.8125 \r\nQ 3.65625 5.953125 7.859375 5.953125 \r\nQ 19.1875 5.953125 19.1875 25.4375 \r\nL 19.1875 71.875 \r\nL 27.09375 71.875 \r\nz\r\n\" id=\"MalgunGothic-74\"/>\r\n        <path d=\"M 9.625 47.65625 \r\nQ 17.140625 52.484375 26.90625 52.484375 \r\nQ 44.78125 52.484375 44.78125 33.546875 \r\nL 44.78125 0 \r\nL 37.015625 0 \r\nL 37.015625 8.0625 \r\nL 36.71875 8.0625 \r\nQ 31.390625 -1.21875 20.953125 -1.21875 \r\nQ 13.421875 -1.21875 9 2.8125 \r\nQ 4.59375 6.84375 4.59375 13.578125 \r\nQ 4.59375 27.875 21.484375 30.21875 \r\nL 36.96875 32.46875 \r\nQ 36.96875 45.84375 26.3125 45.84375 \r\nQ 16.9375 45.84375 9.625 39.453125 \r\nz\r\nM 24.421875 24.359375 \r\nQ 18.40625 23.578125 15.515625 21.421875 \r\nQ 12.640625 19.28125 12.640625 14.109375 \r\nQ 12.640625 10.203125 15.40625 7.8125 \r\nQ 18.171875 5.421875 22.65625 5.421875 \r\nQ 28.859375 5.421875 32.90625 9.8125 \r\nQ 36.96875 14.203125 36.96875 20.84375 \r\nL 36.96875 26.03125 \r\nz\r\n\" id=\"MalgunGothic-97\"/>\r\n        <path d=\"M 50.59375 0 \r\nL 42.828125 0 \r\nL 42.828125 29.296875 \r\nQ 42.828125 45.953125 30.671875 45.953125 \r\nQ 24.421875 45.953125 20.28125 41.234375 \r\nQ 16.15625 36.53125 16.15625 29.25 \r\nL 16.15625 0 \r\nL 8.40625 0 \r\nL 8.40625 51.3125 \r\nL 16.15625 51.3125 \r\nL 16.15625 42.71875 \r\nL 16.359375 42.71875 \r\nQ 22.125 52.484375 33.203125 52.484375 \r\nQ 41.65625 52.484375 46.125 47.0625 \r\nQ 50.59375 41.65625 50.59375 31.34375 \r\nz\r\n\" id=\"MalgunGothic-110\"/>\r\n       </defs>\r\n       <use xlink:href=\"#MalgunGothic-74\"/>\r\n       <use x=\"34.611328\" xlink:href=\"#MalgunGothic-97\"/>\r\n       <use x=\"86.613281\" xlink:href=\"#MalgunGothic-110\"/>\r\n      </g>\r\n      <!-- 2018 -->\r\n      <g transform=\"translate(8.692187 261.299063)scale(0.1 -0.1)\">\r\n       <defs>\r\n        <path d=\"M 39.359375 52.6875 \r\nQ 39.359375 59.125 35.546875 62.78125 \r\nQ 31.734375 66.453125 25.4375 66.453125 \r\nQ 20.953125 66.453125 16.453125 64.125 \r\nQ 11.96875 61.8125 8.34375 57.765625 \r\nL 8.34375 66.15625 \r\nQ 15.328125 73.046875 26.421875 73.046875 \r\nQ 35.640625 73.046875 41.28125 67.71875 \r\nQ 46.921875 62.40625 46.921875 53.375 \r\nQ 46.921875 45.609375 43.3125 39.765625 \r\nQ 39.703125 33.9375 31 27.734375 \r\nQ 22.796875 21.96875 19.59375 18.984375 \r\nQ 16.40625 16.015625 15.109375 13.34375 \r\nQ 13.8125 10.6875 13.8125 7.03125 \r\nL 48.6875 7.03125 \r\nL 48.6875 0 \r\nL 5.5625 0 \r\nL 5.5625 3.515625 \r\nQ 5.5625 9.421875 7.203125 13.59375 \r\nQ 8.84375 17.78125 12.671875 21.75 \r\nQ 16.5 25.734375 24.953125 31.59375 \r\nQ 32.671875 36.921875 36.015625 41.71875 \r\nQ 39.359375 46.53125 39.359375 52.6875 \r\nz\r\n\" id=\"MalgunGothic-50\"/>\r\n        <path d=\"M 4.34375 34.46875 \r\nQ 4.34375 53.515625 10.546875 63.28125 \r\nQ 16.75 73.046875 28.421875 73.046875 \r\nQ 50.828125 73.046875 50.828125 36.234375 \r\nQ 50.828125 18.0625 44.59375 8.421875 \r\nQ 38.375 -1.21875 26.8125 -1.21875 \r\nQ 15.875 -1.21875 10.109375 8.125 \r\nQ 4.34375 17.484375 4.34375 34.46875 \r\nz\r\nM 12.25 34.859375 \r\nQ 12.25 5.375 27.640625 5.375 \r\nQ 42.921875 5.375 42.921875 35.296875 \r\nQ 42.921875 66.40625 28.03125 66.40625 \r\nQ 12.25 66.40625 12.25 34.859375 \r\nz\r\n\" id=\"MalgunGothic-48\"/>\r\n        <path d=\"M 34.859375 0 \r\nL 27.09375 0 \r\nL 27.09375 62.0625 \r\nQ 24.859375 59.8125 19.78125 57.203125 \r\nQ 14.703125 54.59375 10.5 53.5625 \r\nL 10.5 61.859375 \r\nQ 15.875 63.375 22.015625 66.796875 \r\nQ 28.171875 70.21875 31.734375 73.4375 \r\nL 34.859375 73.4375 \r\nz\r\n\" id=\"MalgunGothic-49\"/>\r\n        <path d=\"M 4.734375 20.015625 \r\nQ 4.734375 26.078125 8.421875 31.421875 \r\nQ 12.109375 36.765625 18.015625 38.96875 \r\nQ 13.375 41.359375 10.546875 45.546875 \r\nQ 7.71875 49.75 7.71875 54.6875 \r\nQ 7.71875 59.8125 10.296875 64.03125 \r\nQ 12.890625 68.265625 17.53125 70.65625 \r\nQ 22.171875 73.046875 27.78125 73.046875 \r\nQ 36.46875 73.046875 42.1875 67.84375 \r\nQ 47.90625 62.640625 47.90625 54.6875 \r\nQ 47.90625 49.703125 45.015625 45.53125 \r\nQ 42.140625 41.359375 37.703125 38.96875 \r\nQ 43.5625 36.71875 47.21875 31.390625 \r\nQ 50.875 26.078125 50.875 20.015625 \r\nQ 50.875 10.5 44.421875 4.640625 \r\nQ 37.984375 -1.21875 27.78125 -1.21875 \r\nQ 17.671875 -1.21875 11.203125 4.703125 \r\nQ 4.734375 10.640625 4.734375 20.015625 \r\nz\r\nM 12.640625 20.75 \r\nQ 12.640625 13.71875 16.890625 9.546875 \r\nQ 21.140625 5.375 27.828125 5.375 \r\nQ 34.46875 5.375 38.78125 9.671875 \r\nQ 43.109375 13.96875 43.109375 20.75 \r\nQ 43.109375 27.046875 38.78125 31.421875 \r\nQ 34.46875 35.796875 27.828125 35.796875 \r\nQ 21.4375 35.796875 17.03125 31.5625 \r\nQ 12.640625 27.34375 12.640625 20.75 \r\nz\r\nM 15.671875 54.046875 \r\nQ 15.671875 48.828125 19.28125 45.3125 \r\nQ 22.90625 41.796875 27.828125 41.796875 \r\nQ 32.765625 41.796875 36.40625 45.3125 \r\nQ 40.046875 48.828125 40.046875 54.046875 \r\nQ 40.046875 59.421875 36.578125 62.90625 \r\nQ 33.109375 66.40625 27.828125 66.40625 \r\nQ 22.65625 66.40625 19.15625 62.953125 \r\nQ 15.671875 59.515625 15.671875 54.046875 \r\nz\r\n\" id=\"MalgunGothic-56\"/>\r\n       </defs>\r\n       <use xlink:href=\"#MalgunGothic-50\"/>\r\n       <use x=\"55.078125\" xlink:href=\"#MalgunGothic-48\"/>\r\n       <use x=\"110.15625\" xlink:href=\"#MalgunGothic-49\"/>\r\n       <use x=\"165.234375\" xlink:href=\"#MalgunGothic-56\"/>\r\n      </g>\r\n     </g>\r\n    </g>\r\n    <g id=\"xtick_2\">\r\n     <g id=\"line2d_2\">\r\n      <g>\r\n       <use style=\"stroke:#000000;stroke-width:0.8;\" x=\"55.157224\" xlink:href=\"#m6a2fd67880\" y=\"235.232188\"/>\r\n      </g>\r\n     </g>\r\n     <g id=\"text_2\">\r\n      <!-- Apr -->\r\n      <g transform=\"translate(47.094724 249.824375)scale(0.1 -0.1)\">\r\n       <defs>\r\n        <path d=\"M 64.59375 0 \r\nL 55.859375 0 \r\nL 48.046875 20.40625 \r\nL 17.234375 20.40625 \r\nL 9.96875 0 \r\nL 1.171875 0 \r\nL 28.8125 71.875 \r\nL 36.8125 71.875 \r\nz\r\nM 45.359375 27.640625 \r\nL 33.890625 58.6875 \r\nQ 33.25 60.40625 32.8125 63.421875 \r\nL 32.5625 63.421875 \r\nQ 32.03125 60.0625 31.390625 58.6875 \r\nL 20.015625 27.640625 \r\nz\r\n\" id=\"MalgunGothic-65\"/>\r\n        <path d=\"M 16.15625 7.515625 \r\nL 16.15625 -23.640625 \r\nL 8.40625 -23.640625 \r\nL 8.40625 51.3125 \r\nL 16.15625 51.3125 \r\nL 16.15625 42.234375 \r\nL 16.359375 42.234375 \r\nQ 22.46875 52.484375 34.125 52.484375 \r\nQ 43.890625 52.484375 49.546875 45.625 \r\nQ 55.21875 38.765625 55.21875 27.15625 \r\nQ 55.21875 14.15625 48.84375 6.46875 \r\nQ 42.484375 -1.21875 31.78125 -1.21875 \r\nQ 21.78125 -1.21875 16.359375 7.515625 \r\nz\r\nM 16.15625 20.796875 \r\nQ 16.15625 14.40625 20.421875 9.890625 \r\nQ 24.703125 5.375 31.109375 5.375 \r\nQ 38.671875 5.375 42.984375 11.1875 \r\nQ 47.3125 17 47.3125 27.390625 \r\nQ 47.3125 35.9375 43.234375 40.9375 \r\nQ 39.15625 45.953125 32.375 45.953125 \r\nQ 25.296875 45.953125 20.71875 40.921875 \r\nQ 16.15625 35.890625 16.15625 28.21875 \r\nz\r\n\" id=\"MalgunGothic-112\"/>\r\n        <path d=\"M 34.765625 43.359375 \r\nQ 32.5625 45.015625 28.5625 45.015625 \r\nQ 23.296875 45.015625 19.71875 39.890625 \r\nQ 16.15625 34.765625 16.15625 26.265625 \r\nL 16.15625 0 \r\nL 8.40625 0 \r\nL 8.40625 51.3125 \r\nL 16.15625 51.3125 \r\nL 16.15625 40.671875 \r\nL 16.359375 40.671875 \r\nQ 18.109375 46.09375 21.703125 49.140625 \r\nQ 25.296875 52.203125 29.734375 52.203125 \r\nQ 32.953125 52.203125 34.765625 51.515625 \r\nz\r\n\" id=\"MalgunGothic-114\"/>\r\n       </defs>\r\n       <use xlink:href=\"#MalgunGothic-65\"/>\r\n       <use x=\"65.820312\" xlink:href=\"#MalgunGothic-112\"/>\r\n       <use x=\"125.878906\" xlink:href=\"#MalgunGothic-114\"/>\r\n      </g>\r\n     </g>\r\n    </g>\r\n    <g id=\"xtick_3\">\r\n     <g id=\"line2d_3\">\r\n      <g>\r\n       <use style=\"stroke:#000000;stroke-width:0.8;\" x=\"91.000518\" xlink:href=\"#m6a2fd67880\" y=\"235.232188\"/>\r\n      </g>\r\n     </g>\r\n     <g id=\"text_3\">\r\n      <!-- Jul -->\r\n      <g transform=\"translate(85.080206 249.824375)scale(0.1 -0.1)\">\r\n       <defs>\r\n        <path d=\"M 49.46875 0 \r\nL 41.703125 0 \r\nL 41.703125 8.109375 \r\nL 41.5 8.109375 \r\nQ 36.421875 -1.21875 25.6875 -1.21875 \r\nQ 7.328125 -1.21875 7.328125 20.65625 \r\nL 7.328125 51.3125 \r\nL 14.984375 51.3125 \r\nL 14.984375 21.921875 \r\nQ 14.984375 5.375 27.59375 5.375 \r\nQ 33.734375 5.375 37.71875 9.9375 \r\nQ 41.703125 14.5 41.703125 21.78125 \r\nL 41.703125 51.3125 \r\nL 49.46875 51.3125 \r\nz\r\n\" id=\"MalgunGothic-117\"/>\r\n        <path d=\"M 8.453125 0 \r\nL 8.453125 75.921875 \r\nL 16.15625 75.921875 \r\nL 16.15625 0 \r\nz\r\n\" id=\"MalgunGothic-108\"/>\r\n       </defs>\r\n       <use xlink:href=\"#MalgunGothic-74\"/>\r\n       <use x=\"35.986328\" xlink:href=\"#MalgunGothic-117\"/>\r\n       <use x=\"93.798828\" xlink:href=\"#MalgunGothic-108\"/>\r\n      </g>\r\n     </g>\r\n    </g>\r\n    <g id=\"xtick_4\">\r\n     <g id=\"line2d_4\">\r\n      <g>\r\n       <use style=\"stroke:#000000;stroke-width:0.8;\" x=\"127.237695\" xlink:href=\"#m6a2fd67880\" y=\"235.232188\"/>\r\n      </g>\r\n     </g>\r\n     <g id=\"text_4\">\r\n      <!-- Oct -->\r\n      <g transform=\"translate(119.283789 249.824375)scale(0.1 -0.1)\">\r\n       <defs>\r\n        <path d=\"M 4.78125 35.0625 \r\nQ 4.78125 52.34375 14.109375 62.6875 \r\nQ 23.4375 73.046875 39.546875 73.046875 \r\nQ 54.390625 73.046875 63.46875 62.953125 \r\nQ 72.5625 52.875 72.5625 36.859375 \r\nQ 72.5625 19.625 63.375 9.203125 \r\nQ 54.203125 -1.21875 38.375 -1.21875 \r\nQ 23.25 -1.21875 14.015625 8.90625 \r\nQ 4.78125 19.046875 4.78125 35.0625 \r\nz\r\nM 13.09375 35.796875 \r\nQ 13.09375 22.75 19.96875 14.34375 \r\nQ 26.859375 5.953125 38.328125 5.953125 \r\nQ 50.59375 5.953125 57.453125 13.890625 \r\nQ 64.3125 21.828125 64.3125 35.6875 \r\nQ 64.3125 49.8125 57.6875 57.8125 \r\nQ 51.078125 65.828125 38.96875 65.828125 \r\nQ 27.203125 65.828125 20.140625 57.34375 \r\nQ 13.09375 48.875 13.09375 35.796875 \r\nz\r\n\" id=\"MalgunGothic-79\"/>\r\n        <path d=\"M 43.171875 2.390625 \r\nQ 37.109375 -1.21875 29.25 -1.21875 \r\nQ 18.5 -1.21875 11.71875 5.8125 \r\nQ 4.9375 12.84375 4.9375 24.46875 \r\nQ 4.9375 37.203125 12.140625 44.84375 \r\nQ 19.34375 52.484375 31.390625 52.484375 \r\nQ 38.03125 52.484375 43.21875 50 \r\nL 43.21875 41.890625 \r\nQ 37.453125 45.953125 30.953125 45.953125 \r\nQ 23.09375 45.953125 17.9375 40.265625 \r\nQ 12.796875 34.578125 12.796875 25.140625 \r\nQ 12.796875 16.15625 17.5 10.765625 \r\nQ 22.21875 5.375 30.421875 5.375 \r\nQ 37.203125 5.375 43.171875 9.859375 \r\nz\r\n\" id=\"MalgunGothic-99\"/>\r\n        <path d=\"M 31.734375 0.484375 \r\nQ 28.8125 -1.125 24.265625 -1.125 \r\nQ 11.03125 -1.125 11.03125 13.765625 \r\nL 11.03125 44.625 \r\nL 2.15625 44.625 \r\nL 2.15625 51.3125 \r\nL 11.03125 51.3125 \r\nL 11.03125 63.921875 \r\nL 18.75 66.40625 \r\nL 18.75 51.3125 \r\nL 31.734375 51.3125 \r\nL 31.734375 44.625 \r\nL 18.75 44.625 \r\nL 18.75 15.1875 \r\nQ 18.75 9.765625 20.546875 7.609375 \r\nQ 22.359375 5.46875 26.421875 5.46875 \r\nQ 29.5 5.46875 31.734375 7.171875 \r\nz\r\n\" id=\"MalgunGothic-116\"/>\r\n       </defs>\r\n       <use xlink:href=\"#MalgunGothic-79\"/>\r\n       <use x=\"77.34375\" xlink:href=\"#MalgunGothic-99\"/>\r\n       <use x=\"124.609375\" xlink:href=\"#MalgunGothic-116\"/>\r\n      </g>\r\n     </g>\r\n    </g>\r\n    <g id=\"xtick_5\">\r\n     <g id=\"line2d_5\">\r\n      <g>\r\n       <use style=\"stroke:#000000;stroke-width:0.8;\" x=\"163.474871\" xlink:href=\"#m6a2fd67880\" y=\"235.232188\"/>\r\n      </g>\r\n     </g>\r\n     <g id=\"text_5\">\r\n      <!-- Jan -->\r\n      <g transform=\"translate(156.253778 249.824375)scale(0.1 -0.1)\">\r\n       <use xlink:href=\"#MalgunGothic-74\"/>\r\n       <use x=\"34.611328\" xlink:href=\"#MalgunGothic-97\"/>\r\n       <use x=\"86.613281\" xlink:href=\"#MalgunGothic-110\"/>\r\n      </g>\r\n      <!-- 2019 -->\r\n      <g transform=\"translate(152.459246 261.299063)scale(0.1 -0.1)\">\r\n       <defs>\r\n        <path d=\"M 8.6875 8.796875 \r\nQ 14.703125 5.375 21.34375 5.375 \r\nQ 31.15625 5.375 36.671875 13.359375 \r\nQ 42.1875 21.34375 42.1875 36.140625 \r\nQ 42.09375 36.03125 42 36.140625 \r\nQ 37.3125 26.765625 25.828125 26.765625 \r\nQ 16.546875 26.765625 10.65625 33.125 \r\nQ 4.78125 39.5 4.78125 49.125 \r\nQ 4.78125 59.46875 11.109375 66.25 \r\nQ 17.4375 73.046875 27.6875 73.046875 \r\nQ 38.53125 73.046875 44.265625 64.546875 \r\nQ 50 56.0625 50 40.28125 \r\nQ 50 20.609375 42.453125 9.6875 \r\nQ 34.90625 -1.21875 21 -1.21875 \r\nQ 13.765625 -1.21875 8.6875 1.21875 \r\nz\r\nM 12.703125 50.296875 \r\nQ 12.703125 42.828125 16.609375 38.28125 \r\nQ 20.515625 33.734375 27.484375 33.734375 \r\nQ 33.546875 33.734375 37.59375 37.765625 \r\nQ 41.65625 41.796875 41.65625 47.609375 \r\nQ 41.65625 55.5625 37.671875 60.984375 \r\nQ 33.6875 66.40625 26.953125 66.40625 \r\nQ 20.65625 66.40625 16.671875 61.6875 \r\nQ 12.703125 56.984375 12.703125 50.296875 \r\nz\r\n\" id=\"MalgunGothic-57\"/>\r\n       </defs>\r\n       <use xlink:href=\"#MalgunGothic-50\"/>\r\n       <use x=\"55.078125\" xlink:href=\"#MalgunGothic-48\"/>\r\n       <use x=\"110.15625\" xlink:href=\"#MalgunGothic-49\"/>\r\n       <use x=\"165.234375\" xlink:href=\"#MalgunGothic-57\"/>\r\n      </g>\r\n     </g>\r\n    </g>\r\n    <g id=\"xtick_6\">\r\n     <g id=\"line2d_6\">\r\n      <g>\r\n       <use style=\"stroke:#000000;stroke-width:0.8;\" x=\"198.924283\" xlink:href=\"#m6a2fd67880\" y=\"235.232188\"/>\r\n      </g>\r\n     </g>\r\n     <g id=\"text_6\">\r\n      <!-- Apr -->\r\n      <g transform=\"translate(190.861783 249.824375)scale(0.1 -0.1)\">\r\n       <use xlink:href=\"#MalgunGothic-65\"/>\r\n       <use x=\"65.820312\" xlink:href=\"#MalgunGothic-112\"/>\r\n       <use x=\"125.878906\" xlink:href=\"#MalgunGothic-114\"/>\r\n      </g>\r\n     </g>\r\n    </g>\r\n    <g id=\"xtick_7\">\r\n     <g id=\"line2d_7\">\r\n      <g>\r\n       <use style=\"stroke:#000000;stroke-width:0.8;\" x=\"234.767577\" xlink:href=\"#m6a2fd67880\" y=\"235.232188\"/>\r\n      </g>\r\n     </g>\r\n     <g id=\"text_7\">\r\n      <!-- Jul -->\r\n      <g transform=\"translate(228.847265 249.824375)scale(0.1 -0.1)\">\r\n       <use xlink:href=\"#MalgunGothic-74\"/>\r\n       <use x=\"35.986328\" xlink:href=\"#MalgunGothic-117\"/>\r\n       <use x=\"93.798828\" xlink:href=\"#MalgunGothic-108\"/>\r\n      </g>\r\n     </g>\r\n    </g>\r\n    <g id=\"xtick_8\">\r\n     <g id=\"line2d_8\">\r\n      <g>\r\n       <use style=\"stroke:#000000;stroke-width:0.8;\" x=\"271.004754\" xlink:href=\"#m6a2fd67880\" y=\"235.232188\"/>\r\n      </g>\r\n     </g>\r\n     <g id=\"text_8\">\r\n      <!-- Oct -->\r\n      <g transform=\"translate(263.050847 249.824375)scale(0.1 -0.1)\">\r\n       <use xlink:href=\"#MalgunGothic-79\"/>\r\n       <use x=\"77.34375\" xlink:href=\"#MalgunGothic-99\"/>\r\n       <use x=\"124.609375\" xlink:href=\"#MalgunGothic-116\"/>\r\n      </g>\r\n     </g>\r\n    </g>\r\n    <g id=\"xtick_9\">\r\n     <g id=\"line2d_9\">\r\n      <g>\r\n       <use style=\"stroke:#000000;stroke-width:0.8;\" x=\"307.24193\" xlink:href=\"#m6a2fd67880\" y=\"235.232188\"/>\r\n      </g>\r\n     </g>\r\n     <g id=\"text_9\">\r\n      <!-- Jan -->\r\n      <g transform=\"translate(300.020836 249.824375)scale(0.1 -0.1)\">\r\n       <use xlink:href=\"#MalgunGothic-74\"/>\r\n       <use x=\"34.611328\" xlink:href=\"#MalgunGothic-97\"/>\r\n       <use x=\"86.613281\" xlink:href=\"#MalgunGothic-110\"/>\r\n      </g>\r\n      <!-- 2020 -->\r\n      <g transform=\"translate(296.226305 261.299063)scale(0.1 -0.1)\">\r\n       <use xlink:href=\"#MalgunGothic-50\"/>\r\n       <use x=\"55.078125\" xlink:href=\"#MalgunGothic-48\"/>\r\n       <use x=\"110.15625\" xlink:href=\"#MalgunGothic-50\"/>\r\n       <use x=\"165.234375\" xlink:href=\"#MalgunGothic-48\"/>\r\n      </g>\r\n     </g>\r\n    </g>\r\n    <g id=\"xtick_10\">\r\n     <g id=\"line2d_10\">\r\n      <g>\r\n       <use style=\"stroke:#000000;stroke-width:0.8;\" x=\"343.085224\" xlink:href=\"#m6a2fd67880\" y=\"235.232188\"/>\r\n      </g>\r\n     </g>\r\n     <g id=\"text_10\">\r\n      <!-- Apr -->\r\n      <g transform=\"translate(335.022724 249.824375)scale(0.1 -0.1)\">\r\n       <use xlink:href=\"#MalgunGothic-65\"/>\r\n       <use x=\"65.820312\" xlink:href=\"#MalgunGothic-112\"/>\r\n       <use x=\"125.878906\" xlink:href=\"#MalgunGothic-114\"/>\r\n      </g>\r\n     </g>\r\n    </g>\r\n    <g id=\"xtick_11\">\r\n     <g id=\"line2d_11\">\r\n      <g>\r\n       <use style=\"stroke:#000000;stroke-width:0.8;\" x=\"354.507812\" xlink:href=\"#m6a2fd67880\" y=\"235.232188\"/>\r\n      </g>\r\n     </g>\r\n    </g>\r\n    <g id=\"xtick_12\">\r\n     <g id=\"line2d_12\">\r\n      <defs>\r\n       <path d=\"M 0 0 \r\nL 0 2 \r\n\" id=\"m4a8501a2f2\" style=\"stroke:#000000;stroke-width:0.6;\"/>\r\n      </defs>\r\n      <g>\r\n       <use style=\"stroke:#000000;stroke-width:0.6;\" x=\"31.918165\" xlink:href=\"#m4a8501a2f2\" y=\"235.232188\"/>\r\n      </g>\r\n     </g>\r\n    </g>\r\n    <g id=\"xtick_13\">\r\n     <g id=\"line2d_13\">\r\n      <g>\r\n       <use style=\"stroke:#000000;stroke-width:0.6;\" x=\"42.946871\" xlink:href=\"#m4a8501a2f2\" y=\"235.232188\"/>\r\n      </g>\r\n     </g>\r\n    </g>\r\n    <g id=\"xtick_14\">\r\n     <g id=\"line2d_14\">\r\n      <g>\r\n       <use style=\"stroke:#000000;stroke-width:0.6;\" x=\"66.973695\" xlink:href=\"#m4a8501a2f2\" y=\"235.232188\"/>\r\n      </g>\r\n     </g>\r\n    </g>\r\n    <g id=\"xtick_15\">\r\n     <g id=\"line2d_15\">\r\n      <g>\r\n       <use style=\"stroke:#000000;stroke-width:0.6;\" x=\"79.184048\" xlink:href=\"#m4a8501a2f2\" y=\"235.232188\"/>\r\n      </g>\r\n     </g>\r\n    </g>\r\n    <g id=\"xtick_16\">\r\n     <g id=\"line2d_16\">\r\n      <g>\r\n       <use style=\"stroke:#000000;stroke-width:0.6;\" x=\"103.210871\" xlink:href=\"#m4a8501a2f2\" y=\"235.232188\"/>\r\n      </g>\r\n     </g>\r\n    </g>\r\n    <g id=\"xtick_17\">\r\n     <g id=\"line2d_17\">\r\n      <g>\r\n       <use style=\"stroke:#000000;stroke-width:0.6;\" x=\"115.421224\" xlink:href=\"#m4a8501a2f2\" y=\"235.232188\"/>\r\n      </g>\r\n     </g>\r\n    </g>\r\n    <g id=\"xtick_18\">\r\n     <g id=\"line2d_18\">\r\n      <g>\r\n       <use style=\"stroke:#000000;stroke-width:0.6;\" x=\"139.448048\" xlink:href=\"#m4a8501a2f2\" y=\"235.232188\"/>\r\n      </g>\r\n     </g>\r\n    </g>\r\n    <g id=\"xtick_19\">\r\n     <g id=\"line2d_19\">\r\n      <g>\r\n       <use style=\"stroke:#000000;stroke-width:0.6;\" x=\"151.264518\" xlink:href=\"#m4a8501a2f2\" y=\"235.232188\"/>\r\n      </g>\r\n     </g>\r\n    </g>\r\n    <g id=\"xtick_20\">\r\n     <g id=\"line2d_20\">\r\n      <g>\r\n       <use style=\"stroke:#000000;stroke-width:0.6;\" x=\"175.685224\" xlink:href=\"#m4a8501a2f2\" y=\"235.232188\"/>\r\n      </g>\r\n     </g>\r\n    </g>\r\n    <g id=\"xtick_21\">\r\n     <g id=\"line2d_21\">\r\n      <g>\r\n       <use style=\"stroke:#000000;stroke-width:0.6;\" x=\"186.71393\" xlink:href=\"#m4a8501a2f2\" y=\"235.232188\"/>\r\n      </g>\r\n     </g>\r\n    </g>\r\n    <g id=\"xtick_22\">\r\n     <g id=\"line2d_22\">\r\n      <g>\r\n       <use style=\"stroke:#000000;stroke-width:0.6;\" x=\"210.740754\" xlink:href=\"#m4a8501a2f2\" y=\"235.232188\"/>\r\n      </g>\r\n     </g>\r\n    </g>\r\n    <g id=\"xtick_23\">\r\n     <g id=\"line2d_23\">\r\n      <g>\r\n       <use style=\"stroke:#000000;stroke-width:0.6;\" x=\"222.951107\" xlink:href=\"#m4a8501a2f2\" y=\"235.232188\"/>\r\n      </g>\r\n     </g>\r\n    </g>\r\n    <g id=\"xtick_24\">\r\n     <g id=\"line2d_24\">\r\n      <g>\r\n       <use style=\"stroke:#000000;stroke-width:0.6;\" x=\"246.97793\" xlink:href=\"#m4a8501a2f2\" y=\"235.232188\"/>\r\n      </g>\r\n     </g>\r\n    </g>\r\n    <g id=\"xtick_25\">\r\n     <g id=\"line2d_25\">\r\n      <g>\r\n       <use style=\"stroke:#000000;stroke-width:0.6;\" x=\"259.188283\" xlink:href=\"#m4a8501a2f2\" y=\"235.232188\"/>\r\n      </g>\r\n     </g>\r\n    </g>\r\n    <g id=\"xtick_26\">\r\n     <g id=\"line2d_26\">\r\n      <g>\r\n       <use style=\"stroke:#000000;stroke-width:0.6;\" x=\"283.215107\" xlink:href=\"#m4a8501a2f2\" y=\"235.232188\"/>\r\n      </g>\r\n     </g>\r\n    </g>\r\n    <g id=\"xtick_27\">\r\n     <g id=\"line2d_27\">\r\n      <g>\r\n       <use style=\"stroke:#000000;stroke-width:0.6;\" x=\"295.031577\" xlink:href=\"#m4a8501a2f2\" y=\"235.232188\"/>\r\n      </g>\r\n     </g>\r\n    </g>\r\n    <g id=\"xtick_28\">\r\n     <g id=\"line2d_28\">\r\n      <g>\r\n       <use style=\"stroke:#000000;stroke-width:0.6;\" x=\"319.452283\" xlink:href=\"#m4a8501a2f2\" y=\"235.232188\"/>\r\n      </g>\r\n     </g>\r\n    </g>\r\n    <g id=\"xtick_29\">\r\n     <g id=\"line2d_29\">\r\n      <g>\r\n       <use style=\"stroke:#000000;stroke-width:0.6;\" x=\"330.874871\" xlink:href=\"#m4a8501a2f2\" y=\"235.232188\"/>\r\n      </g>\r\n     </g>\r\n    </g>\r\n    <g id=\"text_11\">\r\n     <!-- datetime -->\r\n     <g transform=\"translate(167.113281 275.255313)scale(0.1 -0.1)\">\r\n      <defs>\r\n       <path d=\"M 51.765625 0 \r\nL 44.09375 0 \r\nL 44.09375 8.84375 \r\nL 43.890625 8.84375 \r\nQ 38.1875 -1.21875 26.171875 -1.21875 \r\nQ 16.5 -1.21875 10.71875 5.6875 \r\nQ 4.9375 12.59375 4.9375 24.46875 \r\nQ 4.9375 37.109375 11.375 44.796875 \r\nQ 17.828125 52.484375 28.375 52.484375 \r\nQ 38.96875 52.484375 43.890625 44.09375 \r\nL 44.09375 44.09375 \r\nL 44.09375 75.921875 \r\nL 51.765625 75.921875 \r\nz\r\nM 44.09375 30.90625 \r\nQ 44.09375 37.15625 39.84375 41.546875 \r\nQ 35.59375 45.953125 29.25 45.953125 \r\nQ 21.625 45.953125 17.203125 40.265625 \r\nQ 12.796875 34.578125 12.796875 24.859375 \r\nQ 12.796875 16.015625 16.96875 10.6875 \r\nQ 21.140625 5.375 28.328125 5.375 \r\nQ 35.15625 5.375 39.625 10.40625 \r\nQ 44.09375 15.4375 44.09375 23.09375 \r\nz\r\n\" id=\"MalgunGothic-100\"/>\r\n       <path d=\"M 49.3125 23.734375 \r\nL 12.9375 23.734375 \r\nQ 13.1875 14.84375 17.703125 10.125 \r\nQ 22.21875 5.421875 29.828125 5.421875 \r\nQ 38.625 5.421875 45.84375 11.234375 \r\nL 45.84375 3.8125 \r\nQ 38.96875 -1.21875 28.03125 -1.21875 \r\nQ 17.1875 -1.21875 11.0625 5.875 \r\nQ 4.9375 12.984375 4.9375 25.53125 \r\nQ 4.9375 37.203125 11.671875 44.84375 \r\nQ 18.40625 52.484375 28.375 52.484375 \r\nQ 38.328125 52.484375 43.8125 45.96875 \r\nQ 49.3125 39.453125 49.3125 27.9375 \r\nz\r\nM 41.3125 30.5625 \r\nQ 41.3125 37.75 37.859375 41.796875 \r\nQ 34.421875 45.84375 28.265625 45.84375 \r\nQ 22.46875 45.84375 18.265625 41.671875 \r\nQ 14.0625 37.5 13.03125 30.5625 \r\nz\r\n\" id=\"MalgunGothic-101\"/>\r\n       <path d=\"M 7.375 69.78125 \r\nQ 7.375 71.96875 8.828125 73.453125 \r\nQ 10.296875 74.953125 12.40625 74.953125 \r\nQ 14.59375 74.953125 16.078125 73.4375 \r\nQ 17.578125 71.921875 17.578125 69.78125 \r\nQ 17.578125 67.578125 16.078125 66.109375 \r\nQ 14.59375 64.65625 12.40625 64.65625 \r\nQ 10.296875 64.65625 8.828125 66.09375 \r\nQ 7.375 67.53125 7.375 69.78125 \r\nz\r\nM 8.453125 0 \r\nL 8.453125 51.3125 \r\nL 16.15625 51.3125 \r\nL 16.15625 0 \r\nz\r\n\" id=\"MalgunGothic-105\"/>\r\n       <path d=\"M 80.71875 0 \r\nL 72.953125 0 \r\nL 72.953125 29.4375 \r\nQ 72.953125 38.484375 70.234375 42.21875 \r\nQ 67.53125 45.953125 61.28125 45.953125 \r\nQ 56 45.953125 52.21875 40.984375 \r\nQ 48.4375 36.03125 48.4375 29.296875 \r\nL 48.4375 0 \r\nL 40.71875 0 \r\nL 40.71875 30.515625 \r\nQ 40.71875 45.953125 28.8125 45.953125 \r\nQ 23.390625 45.953125 19.765625 41.28125 \r\nQ 16.15625 36.625 16.15625 29.296875 \r\nL 16.15625 0 \r\nL 8.40625 0 \r\nL 8.40625 51.3125 \r\nL 16.15625 51.3125 \r\nL 16.15625 43.171875 \r\nL 16.359375 43.171875 \r\nQ 21.734375 52.484375 32.234375 52.484375 \r\nQ 37.203125 52.484375 41.1875 49.625 \r\nQ 45.171875 46.78125 46.734375 41.796875 \r\nQ 52.4375 52.484375 63.765625 52.484375 \r\nQ 80.71875 52.484375 80.71875 31.59375 \r\nz\r\n\" id=\"MalgunGothic-109\"/>\r\n      </defs>\r\n      <use xlink:href=\"#MalgunGothic-100\"/>\r\n      <use x=\"60.205078\" xlink:href=\"#MalgunGothic-97\"/>\r\n      <use x=\"112.207031\" xlink:href=\"#MalgunGothic-116\"/>\r\n      <use x=\"145.804688\" xlink:href=\"#MalgunGothic-101\"/>\r\n      <use x=\"199.320312\" xlink:href=\"#MalgunGothic-116\"/>\r\n      <use x=\"233.792969\" xlink:href=\"#MalgunGothic-105\"/>\r\n      <use x=\"258.402344\" xlink:href=\"#MalgunGothic-109\"/>\r\n      <use x=\"346.390625\" xlink:href=\"#MalgunGothic-101\"/>\r\n     </g>\r\n    </g>\r\n   </g>\r\n   <g id=\"matplotlib.axis_2\">\r\n    <g id=\"ytick_1\">\r\n     <g id=\"line2d_30\">\r\n      <defs>\r\n       <path d=\"M 0 0 \r\nL -3.5 0 \r\n\" id=\"m14a4bab097\" style=\"stroke:#000000;stroke-width:0.8;\"/>\r\n      </defs>\r\n      <g>\r\n       <use style=\"stroke:#000000;stroke-width:0.8;\" x=\"19.707813\" xlink:href=\"#m14a4bab097\" y=\"227.451972\"/>\r\n      </g>\r\n     </g>\r\n     <g id=\"text_12\">\r\n      <!-- 0 -->\r\n      <g transform=\"translate(7.2 231.248065)scale(0.1 -0.1)\">\r\n       <use xlink:href=\"#MalgunGothic-48\"/>\r\n      </g>\r\n     </g>\r\n    </g>\r\n    <g id=\"ytick_2\">\r\n     <g id=\"line2d_31\">\r\n      <g>\r\n       <use style=\"stroke:#000000;stroke-width:0.8;\" x=\"19.707813\" xlink:href=\"#m14a4bab097\" y=\"195.367514\"/>\r\n      </g>\r\n     </g>\r\n     <g id=\"text_13\">\r\n      <!-- 1 -->\r\n      <g transform=\"translate(7.2 199.163607)scale(0.1 -0.1)\">\r\n       <use xlink:href=\"#MalgunGothic-49\"/>\r\n      </g>\r\n     </g>\r\n    </g>\r\n    <g id=\"ytick_3\">\r\n     <g id=\"line2d_32\">\r\n      <g>\r\n       <use style=\"stroke:#000000;stroke-width:0.8;\" x=\"19.707813\" xlink:href=\"#m14a4bab097\" y=\"163.283056\"/>\r\n      </g>\r\n     </g>\r\n     <g id=\"text_14\">\r\n      <!-- 2 -->\r\n      <g transform=\"translate(7.2 167.07915)scale(0.1 -0.1)\">\r\n       <use xlink:href=\"#MalgunGothic-50\"/>\r\n      </g>\r\n     </g>\r\n    </g>\r\n    <g id=\"ytick_4\">\r\n     <g id=\"line2d_33\">\r\n      <g>\r\n       <use style=\"stroke:#000000;stroke-width:0.8;\" x=\"19.707813\" xlink:href=\"#m14a4bab097\" y=\"131.198598\"/>\r\n      </g>\r\n     </g>\r\n     <g id=\"text_15\">\r\n      <!-- 3 -->\r\n      <g transform=\"translate(7.2 134.994692)scale(0.1 -0.1)\">\r\n       <defs>\r\n        <path d=\"M 6.5 11.234375 \r\nQ 13.921875 5.375 23.09375 5.375 \r\nQ 30.609375 5.375 35.21875 9.171875 \r\nQ 39.84375 12.984375 39.84375 19.484375 \r\nQ 39.84375 33.890625 19.578125 33.890625 \r\nL 13.625 33.890625 \r\nL 13.625 40.484375 \r\nL 19.28125 40.484375 \r\nQ 37.3125 40.484375 37.3125 53.953125 \r\nQ 37.3125 66.40625 23.578125 66.40625 \r\nQ 15.96875 66.40625 9.28125 61.1875 \r\nL 9.28125 68.953125 \r\nQ 16.109375 73.046875 25.53125 73.046875 \r\nQ 34.125 73.046875 39.671875 68.3125 \r\nQ 45.21875 63.578125 45.21875 55.953125 \r\nQ 45.21875 41.84375 30.8125 37.640625 \r\nL 30.8125 37.5 \r\nQ 38.578125 36.8125 43.1875 32.078125 \r\nQ 47.796875 27.34375 47.796875 20.3125 \r\nQ 47.796875 10.5 40.6875 4.640625 \r\nQ 33.59375 -1.21875 22.65625 -1.21875 \r\nQ 12.59375 -1.21875 6.5 2.640625 \r\nz\r\n\" id=\"MalgunGothic-51\"/>\r\n       </defs>\r\n       <use xlink:href=\"#MalgunGothic-51\"/>\r\n      </g>\r\n     </g>\r\n    </g>\r\n    <g id=\"ytick_5\">\r\n     <g id=\"line2d_34\">\r\n      <g>\r\n       <use style=\"stroke:#000000;stroke-width:0.8;\" x=\"19.707813\" xlink:href=\"#m14a4bab097\" y=\"99.11414\"/>\r\n      </g>\r\n     </g>\r\n     <g id=\"text_16\">\r\n      <!-- 4 -->\r\n      <g transform=\"translate(7.2 102.910234)scale(0.1 -0.1)\">\r\n       <defs>\r\n        <path d=\"M 42.234375 71.875 \r\nL 42.234375 24.421875 \r\nL 51.703125 24.421875 \r\nL 51.703125 17.390625 \r\nL 42.234375 17.390625 \r\nL 42.234375 0 \r\nL 34.578125 0 \r\nL 34.578125 17.390625 \r\nL 0.78125 17.390625 \r\nL 0.78125 23.96875 \r\nQ 11.375 35.890625 20.234375 48.578125 \r\nQ 29.109375 61.28125 33.9375 71.875 \r\nz\r\nM 9.765625 24.421875 \r\nL 34.578125 24.421875 \r\nL 34.578125 59.859375 \r\nQ 25.203125 43.5625 14.984375 30.953125 \r\nz\r\n\" id=\"MalgunGothic-52\"/>\r\n       </defs>\r\n       <use xlink:href=\"#MalgunGothic-52\"/>\r\n      </g>\r\n     </g>\r\n    </g>\r\n    <g id=\"ytick_6\">\r\n     <g id=\"line2d_35\">\r\n      <g>\r\n       <use style=\"stroke:#000000;stroke-width:0.8;\" x=\"19.707813\" xlink:href=\"#m14a4bab097\" y=\"67.029682\"/>\r\n      </g>\r\n     </g>\r\n     <g id=\"text_17\">\r\n      <!-- 5 -->\r\n      <g transform=\"translate(7.2 70.825776)scale(0.1 -0.1)\">\r\n       <defs>\r\n        <path d=\"M 48 21.921875 \r\nQ 48 11.28125 41.1875 5.03125 \r\nQ 34.375 -1.21875 22.953125 -1.21875 \r\nQ 12.9375 -1.21875 8.0625 1.765625 \r\nL 8.0625 10.15625 \r\nQ 15.53125 5.375 23.046875 5.375 \r\nQ 30.765625 5.375 35.46875 9.84375 \r\nQ 40.1875 14.3125 40.1875 21.4375 \r\nQ 40.1875 28.71875 35.390625 32.6875 \r\nQ 30.609375 36.671875 21.578125 36.671875 \r\nQ 15.53125 36.671875 9.421875 35.9375 \r\nL 11.859375 71.875 \r\nL 44.828125 71.875 \r\nL 44.828125 64.796875 \r\nL 18.84375 64.796875 \r\nL 17.28125 43.171875 \r\nQ 21.046875 43.5 24.171875 43.5 \r\nQ 35.359375 43.5 41.671875 37.71875 \r\nQ 48 31.9375 48 21.921875 \r\nz\r\n\" id=\"MalgunGothic-53\"/>\r\n       </defs>\r\n       <use xlink:href=\"#MalgunGothic-53\"/>\r\n      </g>\r\n     </g>\r\n    </g>\r\n    <g id=\"ytick_7\">\r\n     <g id=\"line2d_36\">\r\n      <g>\r\n       <use style=\"stroke:#000000;stroke-width:0.8;\" x=\"19.707813\" xlink:href=\"#m14a4bab097\" y=\"34.945224\"/>\r\n      </g>\r\n     </g>\r\n     <g id=\"text_18\">\r\n      <!-- 6 -->\r\n      <g transform=\"translate(7.2 38.741318)scale(0.1 -0.1)\">\r\n       <defs>\r\n        <path d=\"M 46.578125 63.578125 \r\nQ 40.921875 66.40625 34.8125 66.40625 \r\nQ 24.859375 66.40625 19.1875 57.640625 \r\nQ 13.53125 48.875 13.578125 34.578125 \r\nL 13.8125 34.578125 \r\nQ 18.796875 44.875 30.28125 44.875 \r\nQ 39.796875 44.875 45.359375 38.71875 \r\nQ 50.921875 32.5625 50.921875 22.65625 \r\nQ 50.921875 12.453125 44.640625 5.609375 \r\nQ 38.375 -1.21875 28.515625 -1.21875 \r\nQ 17.4375 -1.21875 11.5 7.46875 \r\nQ 5.5625 16.15625 5.5625 31.546875 \r\nQ 5.5625 49.703125 13.234375 61.375 \r\nQ 20.90625 73.046875 34.71875 73.046875 \r\nQ 42.1875 73.046875 46.578125 71 \r\nz\r\nM 14.15625 23.53125 \r\nQ 14.15625 15.96875 18.203125 10.671875 \r\nQ 22.265625 5.375 28.8125 5.375 \r\nQ 35.109375 5.375 39.03125 10.078125 \r\nQ 42.96875 14.796875 42.96875 21.6875 \r\nQ 42.96875 29.5 39.203125 33.859375 \r\nQ 35.453125 38.234375 28.71875 38.234375 \r\nQ 22.5625 38.234375 18.359375 33.953125 \r\nQ 14.15625 29.6875 14.15625 23.53125 \r\nz\r\n\" id=\"MalgunGothic-54\"/>\r\n       </defs>\r\n       <use xlink:href=\"#MalgunGothic-54\"/>\r\n      </g>\r\n     </g>\r\n    </g>\r\n    <g id=\"text_19\">\r\n     <!-- 1e9 -->\r\n     <g transform=\"translate(19.707813 14.792188)scale(0.1 -0.1)\">\r\n      <use xlink:href=\"#MalgunGothic-49\"/>\r\n      <use x=\"55.078125\" xlink:href=\"#MalgunGothic-101\"/>\r\n      <use x=\"108.59375\" xlink:href=\"#MalgunGothic-57\"/>\r\n     </g>\r\n    </g>\r\n   </g>\r\n   <g id=\"line2d_37\">\r\n    <path clip-path=\"url(#pe2e37f0444)\" d=\"M 19.707812 176.173509 \r\nL 23.252754 176.173509 \r\nL 23.646636 169.654894 \r\nL 24.434401 169.654894 \r\nL 24.828283 176.173509 \r\nL 31.524283 176.173509 \r\nL 31.918165 183.217404 \r\nL 33.887577 183.217404 \r\nL 34.28146 174.915649 \r\nL 35.069224 174.915649 \r\nL 35.463107 183.217404 \r\nL 42.552989 183.217404 \r\nL 42.946871 175.57503 \r\nL 54.763342 175.57503 \r\nL 55.157224 170.568547 \r\nL 66.579812 170.568547 \r\nL 66.973695 164.016553 \r\nL 78.790165 164.016553 \r\nL 79.184048 170.726858 \r\nL 90.606636 170.726858 \r\nL 91.000518 172.806075 \r\nL 92.182165 172.806075 \r\nL 92.576048 179.108641 \r\nL 102.816989 179.108641 \r\nL 103.210871 166.663958 \r\nL 111.482401 166.663958 \r\nL 111.876283 155.788499 \r\nL 112.270165 166.663958 \r\nL 115.027342 166.663958 \r\nL 115.421224 171.586583 \r\nL 115.815107 161.30044 \r\nL 118.572283 161.30044 \r\nL 118.966165 171.586583 \r\nL 126.843812 171.586583 \r\nL 127.237695 173.999263 \r\nL 139.054165 173.999263 \r\nL 139.448048 173.4241 \r\nL 150.870636 173.4241 \r\nL 151.264518 181.794436 \r\nL 163.080989 181.794436 \r\nL 163.474871 176.511727 \r\nL 175.291342 176.511727 \r\nL 175.685224 181.086169 \r\nL 186.320048 181.086169 \r\nL 186.71393 176.91469 \r\nL 198.530401 176.91469 \r\nL 198.924283 174.518361 \r\nL 210.346871 174.518361 \r\nL 210.740754 165.350991 \r\nL 222.557224 165.350991 \r\nL 222.951107 172.784396 \r\nL 234.373695 172.784396 \r\nL 234.767577 176.803543 \r\nL 243.432989 176.803543 \r\nL 243.826871 166.754921 \r\nL 246.584048 166.754921 \r\nL 246.97793 161.118791 \r\nL 258.794401 161.118791 \r\nL 259.188283 174.505785 \r\nL 270.610871 174.505785 \r\nL 271.004754 117.292784 \r\nL 271.398636 147.006404 \r\nL 271.792518 147.006404 \r\nL 272.186401 159.664951 \r\nL 282.821224 159.664951 \r\nL 283.215107 162.899635 \r\nL 294.637695 162.899635 \r\nL 295.031577 171.78853 \r\nL 306.848048 171.78853 \r\nL 307.24193 146.36967 \r\nL 319.058401 146.36967 \r\nL 319.452283 196.179588 \r\nL 330.480989 196.179588 \r\nL 330.874871 202.590593 \r\nL 342.691342 202.590593 \r\nL 343.085224 190.115592 \r\nL 354.507812 190.115592 \r\nL 354.507812 190.115592 \r\n\" style=\"fill:none;stroke:#1f77b4;stroke-linecap:square;stroke-width:1.5;\"/>\r\n   </g>\r\n   <g id=\"line2d_38\">\r\n    <path clip-path=\"url(#pe2e37f0444)\" d=\"M 19.707812 216.396966 \r\nL 24.040518 216.337266 \r\nL 24.434401 216.053432 \r\nL 24.828283 216.396966 \r\nL 31.524283 216.30482 \r\nL 32.312048 216.226212 \r\nL 33.493695 216.226212 \r\nL 33.887577 215.941668 \r\nL 34.28146 216.780818 \r\nL 35.069224 216.780818 \r\nL 35.463107 215.941668 \r\nL 37.038636 215.941668 \r\nL 37.432518 216.226212 \r\nL 42.552989 216.226212 \r\nL 42.946871 215.952989 \r\nL 54.763342 215.952989 \r\nL 55.157224 216.085828 \r\nL 66.579812 216.085828 \r\nL 66.973695 215.145638 \r\nL 78.790165 215.145638 \r\nL 79.184048 214.9928 \r\nL 87.84946 214.9928 \r\nL 88.243342 214.862182 \r\nL 88.637224 214.862182 \r\nL 89.424989 215.126485 \r\nL 89.818871 215.126485 \r\nL 91.000518 214.234127 \r\nL 91.394401 214.31671 \r\nL 92.182165 214.761764 \r\nL 93.363812 214.973854 \r\nL 93.757695 214.830457 \r\nL 94.151577 214.830457 \r\nL 94.54546 214.949381 \r\nL 102.816989 214.896984 \r\nL 103.210871 213.897835 \r\nL 105.968048 213.897835 \r\nL 106.36193 213.768513 \r\nL 110.300754 213.768513 \r\nL 110.694636 213.897835 \r\nL 111.482401 213.897835 \r\nL 111.876283 214.855288 \r\nL 112.270165 213.897835 \r\nL 115.421224 213.824728 \r\nL 115.815107 213.20486 \r\nL 116.208989 213.765794 \r\nL 116.602871 213.563327 \r\nL 116.996754 213.925143 \r\nL 117.390636 213.925143 \r\nL 117.784518 213.563327 \r\nL 120.541695 213.476315 \r\nL 120.935577 213.824728 \r\nL 121.32946 213.824728 \r\nL 121.723342 213.995774 \r\nL 122.117224 213.824728 \r\nL 122.904989 213.824728 \r\nL 123.298871 213.476315 \r\nL 123.692754 213.824728 \r\nL 126.843812 213.824728 \r\nL 127.237695 214.950104 \r\nL 139.054165 214.950104 \r\nL 139.448048 215.738799 \r\nL 150.870636 215.738799 \r\nL 151.264518 215.060387 \r\nL 155.991107 215.060387 \r\nL 156.384989 214.925043 \r\nL 158.748283 214.925043 \r\nL 159.142165 215.060387 \r\nL 163.080989 215.060387 \r\nL 163.474871 215.373007 \r\nL 175.291342 215.373007 \r\nL 175.685224 216.117073 \r\nL 186.320048 216.117073 \r\nL 186.71393 215.734791 \r\nL 206.014165 215.682279 \r\nL 206.408048 215.603522 \r\nL 207.195812 215.682279 \r\nL 210.346871 215.682279 \r\nL 210.740754 214.732542 \r\nL 215.467342 214.732542 \r\nL 215.861224 214.414962 \r\nL 216.255107 214.732542 \r\nL 222.557224 214.732542 \r\nL 222.951107 215.261065 \r\nL 234.373695 215.245815 \r\nL 234.767577 214.923635 \r\nL 237.918636 214.923635 \r\nL 238.312518 215.069877 \r\nL 238.706401 214.923635 \r\nL 243.432989 214.923635 \r\nL 243.826871 214.7439 \r\nL 246.584048 214.7439 \r\nL 246.97793 213.701299 \r\nL 257.218871 213.787719 \r\nL 257.612754 213.254543 \r\nL 258.400518 213.787719 \r\nL 258.794401 213.787719 \r\nL 259.188283 214.765434 \r\nL 270.610871 214.687735 \r\nL 271.004754 215.413381 \r\nL 271.398636 214.499144 \r\nL 271.792518 214.34019 \r\nL 272.186401 214.492818 \r\nL 282.821224 214.492818 \r\nL 283.215107 215.276519 \r\nL 294.637695 215.276519 \r\nL 295.031577 215.078051 \r\nL 296.607107 215.078051 \r\nL 297.000989 214.773619 \r\nL 298.970401 214.773619 \r\nL 299.364283 215.078051 \r\nL 306.848048 215.078051 \r\nL 307.24193 214.608025 \r\nL 319.058401 214.608025 \r\nL 319.452283 215.600443 \r\nL 323.784989 215.600443 \r\nL 324.178871 215.292512 \r\nL 330.480989 215.292512 \r\nL 330.874871 214.993548 \r\nL 331.268754 215.300398 \r\nL 342.691342 215.300398 \r\nL 343.085224 214.946062 \r\nL 349.387342 214.946062 \r\nL 349.781224 214.625061 \r\nL 350.175107 214.946062 \r\nL 354.507812 214.946062 \r\nL 354.507812 214.946062 \r\n\" style=\"fill:none;stroke:#ff7f0e;stroke-linecap:square;stroke-width:1.5;\"/>\r\n   </g>\r\n   <g id=\"line2d_39\">\r\n    <path clip-path=\"url(#pe2e37f0444)\" d=\"M 19.707812 39.769359 \r\nL 31.524283 39.769359 \r\nL 31.918165 85.865142 \r\nL 33.887577 85.865142 \r\nM 35.463107 85.865142 \r\nL 42.552989 85.865142 \r\nL 42.946871 48.854764 \r\nL 54.763342 48.854764 \r\nL 55.157224 44.914739 \r\nL 66.579812 44.914739 \r\nL 66.973695 54.009977 \r\nL 78.790165 54.009977 \r\nL 79.184048 70.401782 \r\nL 90.606636 70.401782 \r\nL 91.000518 28.52758 \r\nL 102.816989 28.52758 \r\nL 103.210871 81.09331 \r\nL 111.482401 81.09331 \r\nM 112.270165 81.09331 \r\nL 115.027342 81.09331 \r\nL 115.421224 86.997768 \r\nL 126.843812 86.997768 \r\nL 127.237695 31.428466 \r\nL 139.054165 31.428466 \r\nL 139.448048 63.69509 \r\nL 150.870636 63.69509 \r\nL 151.264518 63.533246 \r\nL 163.080989 63.533246 \r\nL 163.474871 29.084434 \r\nL 175.291342 29.084434 \r\nL 175.685224 70.589847 \r\nL 186.320048 70.589847 \r\nL 186.71393 70.88073 \r\nL 198.530401 70.88073 \r\nL 198.924283 53.193087 \r\nL 210.346871 53.193087 \r\nL 210.740754 65.730731 \r\nL 222.557224 65.730731 \r\nL 222.951107 65.198095 \r\nL 234.373695 65.198095 \r\nL 234.767577 27.675824 \r\nL 246.584048 27.675824 \r\nL 246.97793 82.667582 \r\nL 258.794401 82.667582 \r\nL 259.188283 93.472495 \r\nL 270.610871 93.472495 \r\nM 271.398636 108.396714 \r\nL 282.821224 108.396714 \r\nL 283.215107 103.131642 \r\nL 294.637695 103.131642 \r\nL 295.031577 60.206899 \r\nL 306.848048 60.206899 \r\nL 307.24193 73.988871 \r\nL 319.058401 73.988871 \r\nL 319.452283 177.641968 \r\nL 330.480989 177.641968 \r\nL 330.874871 202.974893 \r\nL 342.691342 202.974893 \r\nL 343.085224 194.026212 \r\nL 354.507812 194.026212 \r\nL 354.507812 194.026212 \r\n\" style=\"fill:none;stroke:#2ca02c;stroke-linecap:square;stroke-width:1.5;\"/>\r\n   </g>\r\n   <g id=\"line2d_40\">\r\n    <path clip-path=\"url(#pe2e37f0444)\" d=\"M 19.707812 196.834277 \r\nL 24.040518 196.785424 \r\nL 24.434401 196.149734 \r\nL 24.828283 196.834277 \r\nL 28.373224 196.834277 \r\nL 28.767107 196.610008 \r\nL 31.524283 196.610008 \r\nL 31.918165 201.845593 \r\nL 33.493695 201.845593 \r\nL 33.887577 201.300748 \r\nL 34.28146 203.71732 \r\nL 35.069224 203.71732 \r\nL 35.463107 201.300748 \r\nL 37.038636 201.300748 \r\nL 37.432518 201.845593 \r\nL 42.552989 201.845593 \r\nL 42.946871 196.411059 \r\nL 54.763342 196.411059 \r\nL 55.157224 193.380886 \r\nL 66.579812 193.380886 \r\nL 66.973695 192.876264 \r\nL 78.790165 192.876264 \r\nL 79.184048 193.476741 \r\nL 80.365695 193.476741 \r\nL 80.759577 193.267977 \r\nL 81.15346 193.476741 \r\nL 89.031107 193.476741 \r\nL 89.424989 193.750049 \r\nL 89.818871 193.750049 \r\nL 90.606636 192.226245 \r\nL 91.000518 191.773798 \r\nL 91.394401 191.497914 \r\nL 91.788283 192.60184 \r\nL 92.182165 193.115834 \r\nL 92.576048 193.152122 \r\nL 92.96993 193.411777 \r\nL 93.363812 193.411777 \r\nL 93.757695 193.152122 \r\nL 94.939342 193.108008 \r\nL 95.333224 192.880311 \r\nL 102.816989 192.880311 \r\nL 103.210871 190.725749 \r\nL 111.482401 190.725749 \r\nL 111.876283 193.73557 \r\nL 112.270165 190.725749 \r\nL 115.027342 190.725749 \r\nL 115.421224 195.550882 \r\nL 115.815107 193.722474 \r\nL 116.208989 194.958122 \r\nL 116.602871 194.498832 \r\nL 116.996754 195.23519 \r\nL 117.390636 195.23519 \r\nL 117.784518 194.498832 \r\nL 118.572283 194.498832 \r\nL 118.966165 195.133082 \r\nL 119.360048 194.857561 \r\nL 120.541695 194.857561 \r\nL 120.935577 195.550882 \r\nL 122.904989 195.550882 \r\nL 123.298871 194.857561 \r\nL 123.692754 195.550882 \r\nL 126.843812 195.550882 \r\nL 127.237695 194.188722 \r\nL 139.054165 194.188722 \r\nL 139.448048 195.213001 \r\nL 150.870636 195.213001 \r\nL 151.264518 193.722511 \r\nL 155.991107 193.722511 \r\nL 156.384989 193.564222 \r\nL 158.748283 193.564222 \r\nL 159.142165 193.722511 \r\nL 163.080989 193.722511 \r\nL 163.474871 194.342017 \r\nL 175.291342 194.342017 \r\nL 175.685224 198.813956 \r\nL 186.320048 198.813956 \r\nL 186.71393 194.952956 \r\nL 198.530401 194.952956 \r\nL 198.924283 194.196115 \r\nL 206.014165 194.196115 \r\nL 206.408048 194.466841 \r\nL 206.80193 194.196115 \r\nL 210.346871 194.196115 \r\nL 210.740754 192.150268 \r\nL 215.467342 192.150268 \r\nL 215.861224 191.391976 \r\nL 216.255107 192.150268 \r\nL 222.557224 192.150268 \r\nL 222.951107 192.825326 \r\nL 230.040989 192.825326 \r\nL 230.434871 192.632778 \r\nL 237.918636 192.590235 \r\nL 238.312518 192.823822 \r\nL 238.706401 192.590235 \r\nL 246.584048 192.553343 \r\nL 246.97793 188.650881 \r\nL 249.735107 188.650881 \r\nL 250.128989 188.17568 \r\nL 257.218871 188.17568 \r\nL 257.612754 188.300464 \r\nL 258.006636 187.69273 \r\nL 258.400518 188.17568 \r\nL 258.794401 188.17568 \r\nL 259.188283 196.593353 \r\nL 270.216989 196.593353 \r\nL 270.610871 196.876891 \r\nL 271.398636 191.998872 \r\nL 272.186401 191.453282 \r\nL 282.821224 191.453282 \r\nL 283.215107 192.479853 \r\nL 294.637695 192.479853 \r\nL 295.031577 192.096075 \r\nL 296.607107 192.096075 \r\nL 297.000989 191.364245 \r\nL 298.970401 191.364245 \r\nL 299.364283 192.096075 \r\nL 306.848048 192.096075 \r\nL 307.24193 196.055917 \r\nL 319.058401 196.055917 \r\nL 319.452283 203.414023 \r\nL 323.784989 203.414023 \r\nL 324.178871 202.928967 \r\nL 330.480989 202.928967 \r\nL 330.874871 203.899742 \r\nL 331.268754 204.354142 \r\nL 342.691342 204.354142 \r\nL 343.085224 202.896852 \r\nL 349.387342 202.896852 \r\nL 349.781224 202.400426 \r\nL 350.175107 202.896852 \r\nL 354.507812 202.896852 \r\nL 354.507812 202.896852 \r\n\" style=\"fill:none;stroke:#d62728;stroke-linecap:square;stroke-width:1.5;\"/>\r\n   </g>\r\n   <g id=\"line2d_41\">\r\n    <path clip-path=\"url(#pe2e37f0444)\" d=\"M 19.707812 221.436198 \r\nL 23.252754 221.436198 \r\nL 23.646636 221.277185 \r\nL 24.434401 221.277185 \r\nL 24.828283 221.436198 \r\nL 28.373224 221.436198 \r\nL 28.767107 221.281732 \r\nL 33.887577 221.246539 \r\nL 34.28146 222.196919 \r\nL 35.069224 222.196919 \r\nL 35.463107 221.246539 \r\nL 42.552989 221.246539 \r\nL 42.946871 221.808105 \r\nL 54.763342 221.808105 \r\nL 55.157224 221.140303 \r\nL 66.579812 221.140303 \r\nL 66.973695 219.144577 \r\nL 80.365695 219.08455 \r\nL 80.759577 218.848289 \r\nL 81.15346 219.08455 \r\nL 87.84946 219.08455 \r\nL 88.243342 218.832405 \r\nL 88.637224 218.832405 \r\nL 89.031107 219.08455 \r\nL 90.606636 219.08455 \r\nL 91.000518 215.125133 \r\nL 91.394401 215.528557 \r\nL 91.788283 215.125133 \r\nL 92.182165 215.125133 \r\nL 92.576048 215.475868 \r\nL 94.939342 215.475868 \r\nL 95.333224 215.854964 \r\nL 102.816989 215.854964 \r\nL 103.210871 215.48768 \r\nL 105.968048 215.48768 \r\nL 106.36193 215.093782 \r\nL 110.300754 215.093782 \r\nL 110.694636 215.48768 \r\nL 111.482401 215.48768 \r\nL 111.876283 216.780209 \r\nL 112.270165 215.48768 \r\nL 115.027342 215.48768 \r\nL 115.421224 218.218183 \r\nL 115.815107 217.911476 \r\nL 118.572283 217.911476 \r\nL 118.966165 218.218183 \r\nL 126.843812 218.218183 \r\nL 127.237695 217.746269 \r\nL 139.054165 217.746269 \r\nL 139.448048 219.330018 \r\nL 150.870636 219.330018 \r\nL 151.264518 218.762246 \r\nL 155.991107 218.762246 \r\nL 156.384989 218.48329 \r\nL 158.748283 218.48329 \r\nL 159.142165 218.762246 \r\nL 163.080989 218.762246 \r\nL 163.474871 219.38541 \r\nL 175.291342 219.38541 \r\nL 175.685224 220.291499 \r\nL 186.320048 220.291499 \r\nL 186.71393 221.19386 \r\nL 198.530401 221.19386 \r\nL 198.924283 219.626763 \r\nL 206.014165 219.626763 \r\nL 206.408048 219.40133 \r\nL 206.80193 219.626763 \r\nL 210.346871 219.626763 \r\nL 210.740754 217.950159 \r\nL 222.557224 217.950159 \r\nL 222.951107 218.47834 \r\nL 230.040989 218.47834 \r\nL 230.434871 218.743812 \r\nL 234.373695 218.743812 \r\nL 234.767577 218.435679 \r\nL 243.432989 218.435679 \r\nL 243.826871 221.188249 \r\nL 246.584048 221.188249 \r\nL 246.97793 220.383766 \r\nL 249.735107 220.383766 \r\nL 250.128989 220.595513 \r\nL 257.218871 220.595513 \r\nL 257.612754 220.158358 \r\nL 258.400518 220.595513 \r\nL 258.794401 220.595513 \r\nL 259.188283 222.371629 \r\nL 270.216989 222.371629 \r\nL 270.610871 222.216284 \r\nL 271.004754 221.908834 \r\nL 271.398636 220.393844 \r\nL 271.792518 220.393844 \r\nL 272.186401 220.772384 \r\nL 282.821224 220.772384 \r\nL 283.215107 221.30744 \r\nL 294.637695 221.30744 \r\nL 295.031577 220.861161 \r\nL 306.848048 220.861161 \r\nL 307.24193 222.624848 \r\nL 319.058401 222.624848 \r\nL 319.452283 224.360706 \r\nL 330.480989 224.360706 \r\nL 330.874871 225.348551 \r\nL 342.691342 225.348551 \r\nL 343.085224 225.074707 \r\nL 354.507812 225.074707 \r\nL 354.507812 225.074707 \r\n\" style=\"fill:none;stroke:#9467bd;stroke-linecap:square;stroke-width:1.5;\"/>\r\n   </g>\r\n   <g id=\"patch_3\">\r\n    <path d=\"M 19.707813 235.232188 \r\nL 19.707813 17.792187 \r\n\" style=\"fill:none;stroke:#000000;stroke-linecap:square;stroke-linejoin:miter;stroke-width:0.8;\"/>\r\n   </g>\r\n   <g id=\"patch_4\">\r\n    <path d=\"M 354.507812 235.232188 \r\nL 354.507812 17.792187 \r\n\" style=\"fill:none;stroke:#000000;stroke-linecap:square;stroke-linejoin:miter;stroke-width:0.8;\"/>\r\n   </g>\r\n   <g id=\"patch_5\">\r\n    <path d=\"M 19.707812 235.232188 \r\nL 354.507812 235.232188 \r\n\" style=\"fill:none;stroke:#000000;stroke-linecap:square;stroke-linejoin:miter;stroke-width:0.8;\"/>\r\n   </g>\r\n   <g id=\"patch_6\">\r\n    <path d=\"M 19.707812 17.792188 \r\nL 354.507812 17.792188 \r\n\" style=\"fill:none;stroke:#000000;stroke-linecap:square;stroke-linejoin:miter;stroke-width:0.8;\"/>\r\n   </g>\r\n   <g id=\"legend_1\">\r\n    <g id=\"patch_7\">\r\n     <path d=\"M 132.592188 172.880938 \r\nL 241.623438 172.880938 \r\nQ 243.623438 172.880938 243.623438 170.880938 \r\nL 243.623438 82.143438 \r\nQ 243.623438 80.143438 241.623438 80.143438 \r\nL 132.592188 80.143438 \r\nQ 130.592188 80.143438 130.592188 82.143438 \r\nL 130.592188 170.880938 \r\nQ 130.592188 172.880938 132.592188 172.880938 \r\nz\r\n\" style=\"fill:#ffffff;opacity:0.8;stroke:#cccccc;stroke-linejoin:miter;\"/>\r\n    </g>\r\n    <g id=\"text_20\">\r\n     <!-- 업종명 -->\r\n     <g transform=\"translate(172.107813 91.735625)scale(0.1 -0.1)\">\r\n      <defs>\r\n       <path d=\"M 61.375 58.5 \r\nQ 60.109375 49.703125 53.46875 44.40625 \r\nQ 46.828125 39.109375 37.5 39.109375 \r\nQ 27.09375 39.109375 20.40625 45.59375 \r\nQ 13.71875 52.09375 13.71875 61.71875 \r\nQ 13.71875 71.234375 20.359375 77.75 \r\nQ 27 84.28125 37.5 84.28125 \r\nQ 46.78125 84.28125 53.421875 78.984375 \r\nQ 60.0625 73.6875 61.28125 64.984375 \r\nL 77.484375 64.984375 \r\nL 77.484375 85.296875 \r\nL 84.8125 85.296875 \r\nL 84.8125 37.984375 \r\nL 77.484375 37.984375 \r\nL 77.484375 58.5 \r\nz\r\nM 37.5 77.984375 \r\nQ 30.125 77.984375 25.515625 73.390625 \r\nQ 20.90625 68.796875 20.90625 61.71875 \r\nQ 20.90625 54.5 25.46875 49.90625 \r\nQ 30.03125 45.3125 37.5 45.3125 \r\nQ 45.0625 45.3125 49.625 49.90625 \r\nQ 54.203125 54.5 54.203125 61.71875 \r\nQ 54.203125 68.796875 49.578125 73.390625 \r\nQ 44.96875 77.984375 37.5 77.984375 \r\nz\r\nM 26.703125 -6.59375 \r\nL 26.703125 32.8125 \r\nL 33.890625 32.8125 \r\nL 33.890625 18.5 \r\nL 77.59375 18.5 \r\nL 77.59375 32.8125 \r\nL 84.8125 32.8125 \r\nL 84.8125 -6.59375 \r\nz\r\nM 77.59375 12.109375 \r\nL 33.890625 12.109375 \r\nL 33.890625 -0.09375 \r\nL 77.59375 -0.09375 \r\nz\r\n\" id=\"MalgunGothic-50629\"/>\r\n       <path d=\"M 85.296875 51.125 \r\nQ 73.6875 52.984375 63.75 58.15625 \r\nQ 53.8125 63.328125 50.09375 68.890625 \r\nQ 46.578125 63.921875 36.765625 58.59375 \r\nQ 26.953125 53.265625 15.1875 51.21875 \r\nL 10.890625 57.078125 \r\nQ 23.09375 58.015625 33.421875 63.796875 \r\nQ 43.75 69.578125 46.09375 76.21875 \r\nL 16.015625 76.21875 \r\nL 16.015625 82.8125 \r\nL 83.984375 82.8125 \r\nL 83.984375 76.21875 \r\nL 54 76.21875 \r\nQ 56.203125 69.625 66.421875 63.90625 \r\nQ 76.65625 58.203125 89.109375 57.078125 \r\nz\r\nM 6.296875 34.421875 \r\nL 6.296875 41.015625 \r\nL 46.296875 41.015625 \r\nL 46.296875 54.78125 \r\nL 53.71875 54.78125 \r\nL 53.71875 41.015625 \r\nL 93.703125 41.015625 \r\nL 93.703125 34.421875 \r\nz\r\nM 50 -7.8125 \r\nQ 35.359375 -7.8125 27.59375 -3.125 \r\nQ 19.828125 1.5625 19.828125 9.8125 \r\nQ 19.828125 17.875 27.609375 22.53125 \r\nQ 35.40625 27.203125 50 27.203125 \r\nQ 64.59375 27.203125 72.375 22.53125 \r\nQ 80.171875 17.875 80.171875 9.8125 \r\nQ 80.171875 1.5625 72.40625 -3.125 \r\nQ 64.65625 -7.8125 50 -7.8125 \r\nz\r\nM 50 21 \r\nQ 38.765625 21 33.078125 18.046875 \r\nQ 27.390625 15.09375 27.390625 9.8125 \r\nQ 27.390625 4.4375 33.171875 1.40625 \r\nQ 38.96875 -1.609375 50 -1.609375 \r\nQ 60.984375 -1.609375 66.796875 1.40625 \r\nQ 72.609375 4.4375 72.609375 9.8125 \r\nQ 72.609375 15.09375 66.890625 18.046875 \r\nQ 61.1875 21 50 21 \r\nz\r\n\" id=\"MalgunGothic-51333\"/>\r\n       <path d=\"M 15.375 36.28125 \r\nL 15.375 81.109375 \r\nL 58.6875 81.109375 \r\nL 58.6875 71.6875 \r\nL 77.390625 71.6875 \r\nL 77.390625 85.40625 \r\nL 84.71875 85.40625 \r\nL 84.71875 27.875 \r\nL 77.390625 27.875 \r\nL 77.390625 45.515625 \r\nL 58.6875 45.515625 \r\nL 58.6875 36.28125 \r\nz\r\nM 51.515625 74.609375 \r\nL 22.703125 74.609375 \r\nL 22.703125 42.828125 \r\nL 51.515625 42.828125 \r\nz\r\nM 58.6875 51.8125 \r\nL 77.390625 51.8125 \r\nL 77.390625 65.375 \r\nL 58.6875 65.375 \r\nz\r\nM 54.6875 -7.90625 \r\nQ 39.9375 -7.90625 31.90625 -2.796875 \r\nQ 23.875 2.296875 23.875 10.40625 \r\nQ 23.875 18.5 31.90625 23.609375 \r\nQ 39.9375 28.71875 54.6875 28.71875 \r\nQ 69.4375 28.71875 77.46875 23.609375 \r\nQ 85.5 18.5 85.5 10.40625 \r\nQ 85.5 2.296875 77.46875 -2.796875 \r\nQ 69.4375 -7.90625 54.6875 -7.90625 \r\nz\r\nM 54.6875 22.515625 \r\nQ 43.453125 22.515625 37.5625 19.09375 \r\nQ 31.6875 15.671875 31.6875 10.40625 \r\nQ 31.6875 5.125 37.625 1.75 \r\nQ 43.5625 -1.609375 54.6875 -1.609375 \r\nQ 65.765625 -1.609375 71.71875 1.734375 \r\nQ 77.6875 5.078125 77.6875 10.40625 \r\nQ 77.6875 15.71875 71.796875 19.109375 \r\nQ 65.921875 22.515625 54.6875 22.515625 \r\nz\r\n\" id=\"MalgunGothic-47749\"/>\r\n      </defs>\r\n      <use xlink:href=\"#MalgunGothic-50629\"/>\r\n      <use x=\"100\" xlink:href=\"#MalgunGothic-51333\"/>\r\n      <use x=\"200\" xlink:href=\"#MalgunGothic-47749\"/>\r\n     </g>\r\n    </g>\r\n    <g id=\"line2d_42\">\r\n     <path d=\"M 134.592188 103.191875 \r\nL 154.592188 103.191875 \r\n\" style=\"fill:none;stroke:#1f77b4;stroke-linecap:square;stroke-width:1.5;\"/>\r\n    </g>\r\n    <g id=\"line2d_43\"/>\r\n    <g id=\"text_21\">\r\n     <!-- 면세점 -->\r\n     <g transform=\"translate(162.592188 106.691875)scale(0.1 -0.1)\">\r\n      <defs>\r\n       <path d=\"M 77.390625 16.609375 \r\nL 77.390625 43.015625 \r\nL 58.59375 43.015625 \r\nL 58.59375 33.796875 \r\nL 15.375 33.796875 \r\nL 15.375 80.078125 \r\nL 58.59375 80.078125 \r\nL 58.59375 70.796875 \r\nL 77.390625 70.796875 \r\nL 77.390625 85.40625 \r\nL 84.71875 85.40625 \r\nL 84.71875 16.609375 \r\nz\r\nM 51.3125 73.578125 \r\nL 22.703125 73.578125 \r\nL 22.703125 40.28125 \r\nL 51.3125 40.28125 \r\nz\r\nM 77.390625 64.5 \r\nL 58.59375 64.5 \r\nL 58.59375 49.3125 \r\nL 77.390625 49.3125 \r\nz\r\nM 27.09375 -6.109375 \r\nL 27.09375 23.578125 \r\nL 34.421875 23.578125 \r\nL 34.421875 0.390625 \r\nL 87.59375 0.390625 \r\nL 87.59375 -6.109375 \r\nz\r\n\" id=\"MalgunGothic-47732\"/>\r\n       <path d=\"M 78.71875 -8.796875 \r\nL 78.71875 85.40625 \r\nL 85.984375 85.40625 \r\nL 85.984375 -8.796875 \r\nz\r\nM 61.625 -5.90625 \r\nL 61.625 46.484375 \r\nL 45.21875 46.484375 \r\nL 45.21875 52.984375 \r\nL 61.625 52.984375 \r\nL 61.625 83.5 \r\nL 68.796875 83.5 \r\nL 68.796875 -5.90625 \r\nz\r\nM 48.6875 13.28125 \r\nQ 36.03125 25.734375 31 42.71875 \r\nQ 29.390625 35.796875 23.890625 26.90625 \r\nQ 18.40625 18.015625 12.109375 12.015625 \r\nL 6.390625 16.609375 \r\nQ 14.703125 22.46875 21.09375 35.125 \r\nQ 27.484375 47.796875 27.484375 59.90625 \r\nL 27.484375 78.515625 \r\nL 34.71875 78.515625 \r\nL 34.71875 59.8125 \r\nQ 34.71875 48.046875 40.453125 36.375 \r\nQ 46.1875 24.703125 54.203125 18.015625 \r\nz\r\n\" id=\"MalgunGothic-49464\"/>\r\n       <path d=\"M 76.3125 33.015625 \r\nL 76.3125 57.421875 \r\nL 53.8125 57.421875 \r\nL 53.8125 64.015625 \r\nL 76.3125 64.015625 \r\nL 76.3125 85.40625 \r\nL 83.59375 85.40625 \r\nL 83.59375 33.015625 \r\nz\r\nM 57.078125 36.375 \r\nQ 50.6875 39.84375 44.234375 46.09375 \r\nQ 37.796875 52.34375 35.203125 57.8125 \r\nQ 32.421875 51.609375 25.921875 44.65625 \r\nQ 19.4375 37.703125 12.796875 33.984375 \r\nL 7.625 39.015625 \r\nQ 17.71875 43.84375 24.546875 53.015625 \r\nQ 31.390625 62.203125 31.390625 72.3125 \r\nL 31.390625 74.703125 \r\nL 10.6875 74.703125 \r\nL 10.6875 81.203125 \r\nL 59.1875 81.203125 \r\nL 59.1875 74.703125 \r\nL 38.484375 74.703125 \r\nL 38.484375 72.3125 \r\nQ 38.484375 62.890625 45.5625 54.25 \r\nQ 52.640625 45.609375 62.015625 41.703125 \r\nz\r\nM 25.390625 -6.203125 \r\nL 25.390625 27.59375 \r\nL 83.59375 27.59375 \r\nL 83.59375 -6.203125 \r\nz\r\nM 76.421875 21.1875 \r\nL 32.625 21.1875 \r\nL 32.625 0.203125 \r\nL 76.421875 0.203125 \r\nz\r\n\" id=\"MalgunGothic-51216\"/>\r\n      </defs>\r\n      <use xlink:href=\"#MalgunGothic-47732\"/>\r\n      <use x=\"100\" xlink:href=\"#MalgunGothic-49464\"/>\r\n      <use x=\"200\" xlink:href=\"#MalgunGothic-51216\"/>\r\n     </g>\r\n    </g>\r\n    <g id=\"line2d_44\">\r\n     <path d=\"M 134.592188 118.148125 \r\nL 154.592188 118.148125 \r\n\" style=\"fill:none;stroke:#ff7f0e;stroke-linecap:square;stroke-width:1.5;\"/>\r\n    </g>\r\n    <g id=\"line2d_45\"/>\r\n    <g id=\"text_22\">\r\n     <!-- 슈퍼마켓 -->\r\n     <g transform=\"translate(162.592188 121.648125)scale(0.1 -0.1)\">\r\n      <defs>\r\n       <path d=\"M 85.296875 48.1875 \r\nQ 74.21875 50 63.859375 56.09375 \r\nQ 53.515625 62.203125 50 68.609375 \r\nQ 46.390625 62.3125 36.234375 55.953125 \r\nQ 26.078125 49.609375 14.796875 47.703125 \r\nL 10.40625 53.8125 \r\nQ 24.90625 55.421875 35.59375 63.25 \r\nQ 46.296875 71.09375 46.296875 79.984375 \r\nL 46.296875 83.890625 \r\nL 53.609375 83.890625 \r\nL 53.609375 79.984375 \r\nQ 53.609375 71 64.03125 63.375 \r\nQ 74.46875 55.765625 89.59375 54.203125 \r\nz\r\nM 29.390625 -8.796875 \r\nL 29.390625 29.109375 \r\nL 6.296875 29.109375 \r\nL 6.296875 35.59375 \r\nL 93.703125 35.59375 \r\nL 93.703125 29.109375 \r\nL 70.609375 29.109375 \r\nL 70.609375 -8.796875 \r\nL 63.28125 -8.796875 \r\nL 63.28125 29.109375 \r\nL 36.71875 29.109375 \r\nL 36.71875 -8.796875 \r\nz\r\n\" id=\"MalgunGothic-49800\"/>\r\n       <path d=\"M 77.59375 -8.796875 \r\nL 77.59375 43.890625 \r\nL 59.078125 43.890625 \r\nL 59.078125 50.390625 \r\nL 77.59375 50.390625 \r\nL 77.59375 85.40625 \r\nL 85.015625 85.40625 \r\nL 85.015625 -8.796875 \r\nz\r\nM 9.28125 70.796875 \r\nL 9.28125 77.203125 \r\nL 62.890625 77.203125 \r\nL 62.890625 70.796875 \r\nz\r\nM 67.390625 17.828125 \r\nQ 60.40625 16.40625 52.203125 16.40625 \r\nL 5.90625 16.40625 \r\nL 5.90625 22.90625 \r\nL 20.125 22.90625 \r\nL 19.09375 63.921875 \r\nL 26.3125 63.921875 \r\nL 27.296875 22.90625 \r\nL 44 22.90625 \r\nL 44.921875 63.921875 \r\nL 52.09375 63.921875 \r\nL 51.125 22.90625 \r\nQ 62.3125 22.90625 66.703125 24.03125 \r\nz\r\n\" id=\"MalgunGothic-54140\"/>\r\n       <path d=\"M 79.59375 41.109375 \r\nL 79.59375 -8.796875 \r\nL 72.3125 -8.796875 \r\nL 72.3125 85.40625 \r\nL 79.59375 85.40625 \r\nL 79.59375 47.609375 \r\nL 95.90625 47.609375 \r\nL 95.90625 41.109375 \r\nz\r\nM 12.5 18.890625 \r\nL 12.5 77.09375 \r\nL 56.984375 77.09375 \r\nL 56.984375 18.890625 \r\nz\r\nM 49.8125 70.703125 \r\nL 19.828125 70.703125 \r\nL 19.828125 25.296875 \r\nL 49.8125 25.296875 \r\nz\r\n\" id=\"MalgunGothic-47560\"/>\r\n       <path d=\"M 79 24.3125 \r\nL 79 85.40625 \r\nL 86.28125 85.40625 \r\nL 86.28125 24.3125 \r\nz\r\nM 62.203125 30.328125 \r\nL 62.203125 51.3125 \r\nL 46.78125 51.3125 \r\nL 46.78125 57.8125 \r\nL 62.203125 57.8125 \r\nL 62.203125 83.5 \r\nL 69.390625 83.5 \r\nL 69.390625 30.328125 \r\nz\r\nM 11.28125 52.203125 \r\nL 8.796875 58.796875 \r\nL 39.890625 61.1875 \r\nQ 42.390625 66.703125 43.015625 72.40625 \r\nL 13.71875 72.40625 \r\nL 13.71875 78.8125 \r\nL 50.875 78.8125 \r\nQ 49.515625 43.65625 14.015625 26.515625 \r\nL 8.5 32.078125 \r\nQ 26.421875 39.203125 36.71875 55.078125 \r\nz\r\nM 87.796875 -6.6875 \r\nQ 78.03125 -4.5 68.609375 2.140625 \r\nQ 59.1875 8.796875 54.78125 16.40625 \r\nQ 51.375 9.234375 41.765625 2.390625 \r\nQ 32.171875 -4.4375 22.3125 -6.6875 \r\nL 17.671875 -0.390625 \r\nQ 30.515625 1.421875 40.796875 10.25 \r\nQ 51.078125 19.09375 51.21875 27.6875 \r\nL 51.21875 29.890625 \r\nL 58.5 29.890625 \r\nL 58.5 27.78125 \r\nQ 58.5 19.390625 68.671875 10.453125 \r\nQ 78.859375 1.515625 92 -0.390625 \r\nz\r\n\" id=\"MalgunGothic-53011\"/>\r\n      </defs>\r\n      <use xlink:href=\"#MalgunGothic-49800\"/>\r\n      <use x=\"100\" xlink:href=\"#MalgunGothic-54140\"/>\r\n      <use x=\"200\" xlink:href=\"#MalgunGothic-47560\"/>\r\n      <use x=\"300\" xlink:href=\"#MalgunGothic-53011\"/>\r\n     </g>\r\n    </g>\r\n    <g id=\"line2d_46\">\r\n     <path d=\"M 134.592188 133.104375 \r\nL 154.592188 133.104375 \r\n\" style=\"fill:none;stroke:#2ca02c;stroke-linecap:square;stroke-width:1.5;\"/>\r\n    </g>\r\n    <g id=\"line2d_47\"/>\r\n    <g id=\"text_23\">\r\n     <!-- 정기 항공 운송업 -->\r\n     <g transform=\"translate(162.592188 136.604375)scale(0.1 -0.1)\">\r\n      <defs>\r\n       <path d=\"M 77.296875 31 \r\nL 77.296875 57.71875 \r\nL 55.328125 57.71875 \r\nL 55.328125 64.203125 \r\nL 77.296875 64.203125 \r\nL 77.296875 85.40625 \r\nL 84.625 85.40625 \r\nL 84.625 31 \r\nz\r\nM 57.078125 36.375 \r\nQ 50.6875 39.84375 44.234375 46.09375 \r\nQ 37.796875 52.34375 35.203125 57.8125 \r\nQ 32.421875 51.609375 25.921875 44.65625 \r\nQ 19.4375 37.703125 12.796875 33.984375 \r\nL 7.625 39.015625 \r\nQ 17.71875 43.84375 24.546875 53.015625 \r\nQ 31.390625 62.203125 31.390625 72.3125 \r\nL 31.390625 74.703125 \r\nL 10.6875 74.703125 \r\nL 10.6875 81.203125 \r\nL 59.1875 81.203125 \r\nL 59.1875 74.703125 \r\nL 38.484375 74.703125 \r\nL 38.484375 72.3125 \r\nQ 38.484375 62.890625 45.5625 54.25 \r\nQ 52.640625 45.609375 62.015625 41.703125 \r\nz\r\nM 55.71875 -7.421875 \r\nQ 40.96875 -7.421875 32.9375 -2.3125 \r\nQ 24.90625 2.78125 24.90625 10.890625 \r\nQ 24.90625 19 32.90625 24.046875 \r\nQ 40.921875 29.109375 55.71875 29.109375 \r\nQ 70.515625 29.109375 78.515625 24.046875 \r\nQ 86.53125 19 86.53125 10.890625 \r\nQ 86.53125 2.78125 78.484375 -2.3125 \r\nQ 70.453125 -7.421875 55.71875 -7.421875 \r\nz\r\nM 55.71875 22.90625 \r\nQ 44.53125 22.90625 38.625 19.5 \r\nQ 32.71875 16.109375 32.71875 10.890625 \r\nQ 32.71875 5.609375 38.640625 2.234375 \r\nQ 44.578125 -1.125 55.71875 -1.125 \r\nQ 66.796875 -1.125 72.75 2.21875 \r\nQ 78.71875 5.5625 78.71875 10.890625 \r\nQ 78.71875 16.15625 72.796875 19.53125 \r\nQ 66.890625 22.90625 55.71875 22.90625 \r\nz\r\n\" id=\"MalgunGothic-51221\"/>\r\n       <path d=\"M 76.3125 -8.796875 \r\nL 76.3125 85.40625 \r\nL 83.59375 85.40625 \r\nL 83.59375 -8.796875 \r\nz\r\nM 57.421875 76.703125 \r\nQ 57.078125 57.125 46.1875 40.796875 \r\nQ 35.296875 24.46875 14.984375 13.1875 \r\nL 9.421875 19.09375 \r\nQ 24.359375 25.296875 35.828125 38.71875 \r\nQ 47.3125 52.15625 49.609375 70.21875 \r\nL 13.28125 70.21875 \r\nL 13.28125 76.703125 \r\nz\r\n\" id=\"MalgunGothic-44592\"/>\r\n       <path id=\"MalgunGothic-32\"/>\r\n       <path d=\"M 6.984375 67.28125 \r\nL 6.984375 73.6875 \r\nL 31.203125 73.6875 \r\nL 31.203125 85.890625 \r\nL 38.484375 85.890625 \r\nL 38.484375 73.6875 \r\nL 62.703125 73.6875 \r\nL 62.703125 67.28125 \r\nz\r\nM 80.078125 48.78125 \r\nL 80.078125 28.328125 \r\nL 72.796875 28.328125 \r\nL 72.796875 85.40625 \r\nL 80.078125 85.40625 \r\nL 80.078125 55.421875 \r\nL 93.3125 55.421875 \r\nL 93.3125 48.78125 \r\nz\r\nM 35.015625 30.71875 \r\nQ 24.125 30.71875 17.96875 35.1875 \r\nQ 11.8125 39.65625 11.8125 46.78125 \r\nQ 11.8125 53.953125 18.03125 58.46875 \r\nQ 24.265625 62.984375 35.109375 62.984375 \r\nQ 45.953125 62.984375 52.171875 58.46875 \r\nQ 58.40625 53.953125 58.40625 46.78125 \r\nQ 58.40625 39.75 52.171875 35.234375 \r\nQ 45.953125 30.71875 35.015625 30.71875 \r\nz\r\nM 35.109375 56.78125 \r\nQ 27.546875 56.78125 23.265625 54 \r\nQ 19 51.21875 19 46.78125 \r\nQ 19 42.390625 23.234375 39.65625 \r\nQ 27.484375 36.921875 35.109375 36.921875 \r\nQ 42.71875 36.921875 46.96875 39.65625 \r\nQ 51.21875 42.390625 51.21875 46.78125 \r\nQ 51.21875 51.21875 46.9375 54 \r\nQ 42.671875 56.78125 35.109375 56.78125 \r\nz\r\nM 50.984375 -8.109375 \r\nQ 36.078125 -8.109375 28.1875 -3.59375 \r\nQ 20.3125 0.921875 20.3125 8.796875 \r\nQ 20.3125 16.65625 28.171875 21.125 \r\nQ 36.03125 25.59375 50.984375 25.59375 \r\nQ 65.96875 25.59375 73.828125 21.140625 \r\nQ 81.6875 16.703125 81.6875 8.796875 \r\nQ 81.6875 0.875 73.78125 -3.609375 \r\nQ 65.875 -8.109375 50.984375 -8.109375 \r\nz\r\nM 50.984375 19.390625 \r\nQ 28.078125 19.390625 28.078125 8.796875 \r\nQ 28.078125 -1.90625 50.984375 -1.90625 \r\nQ 74.03125 -1.90625 74.03125 8.796875 \r\nQ 74.03125 19.390625 50.984375 19.390625 \r\nz\r\n\" id=\"MalgunGothic-54637\"/>\r\n       <path d=\"M 80.90625 82.515625 \r\nQ 80.90625 61.765625 79.6875 50.984375 \r\nL 72.703125 51.515625 \r\nQ 73.578125 61.8125 73.578125 75.984375 \r\nL 21.484375 75.984375 \r\nL 21.484375 82.515625 \r\nz\r\nM 6.296875 37.59375 \r\nL 6.296875 44.09375 \r\nL 43.40625 44.09375 \r\nL 43.40625 63.1875 \r\nL 50.59375 63.1875 \r\nL 50.59375 44.09375 \r\nL 93.703125 44.09375 \r\nL 93.703125 37.59375 \r\nz\r\nM 49.8125 -7.28125 \r\nQ 35.0625 -7.28125 27.125 -2.3125 \r\nQ 19.1875 2.640625 19.1875 10.796875 \r\nQ 19.1875 19 27.09375 24 \r\nQ 35.015625 29 49.8125 29 \r\nQ 64.5 29 72.40625 24 \r\nQ 80.328125 19 80.328125 10.796875 \r\nQ 80.328125 2.640625 72.390625 -2.3125 \r\nQ 64.453125 -7.28125 49.8125 -7.28125 \r\nz\r\nM 49.8125 22.796875 \r\nQ 38.875 22.796875 32.9375 19.5 \r\nQ 27 16.21875 27 10.796875 \r\nQ 27 5.375 32.90625 2.125 \r\nQ 38.8125 -1.125 49.8125 -1.125 \r\nQ 60.796875 -1.125 66.703125 2.125 \r\nQ 72.609375 5.375 72.609375 10.796875 \r\nQ 72.609375 16.21875 66.640625 19.5 \r\nQ 60.6875 22.796875 49.8125 22.796875 \r\nz\r\n\" id=\"MalgunGothic-44277\"/>\r\n       <path d=\"M 50 46.1875 \r\nQ 36.03125 46.1875 28.3125 51.4375 \r\nQ 20.609375 56.6875 20.609375 64.984375 \r\nQ 20.609375 73.390625 28.3125 78.640625 \r\nQ 36.03125 83.890625 50 83.890625 \r\nQ 64.015625 83.890625 71.75 78.609375 \r\nQ 79.5 73.34375 79.5 64.984375 \r\nQ 79.5 56.734375 71.75 51.453125 \r\nQ 64.015625 46.1875 50 46.1875 \r\nz\r\nM 50 77.59375 \r\nQ 39.59375 77.59375 33.90625 74.171875 \r\nQ 28.21875 70.75 28.21875 64.984375 \r\nQ 28.21875 59.28125 33.953125 55.828125 \r\nQ 39.703125 52.390625 50 52.390625 \r\nQ 60.296875 52.390625 66.03125 55.828125 \r\nQ 71.78125 59.28125 71.78125 64.984375 \r\nQ 71.78125 70.75 66.09375 74.171875 \r\nQ 60.40625 77.59375 50 77.59375 \r\nz\r\nM 47.015625 9.1875 \r\nL 47.015625 30.90625 \r\nL 6.296875 30.90625 \r\nL 6.296875 37.5 \r\nL 93.703125 37.5 \r\nL 93.703125 30.90625 \r\nL 54.296875 30.90625 \r\nL 54.296875 9.1875 \r\nz\r\nM 20.515625 -5.8125 \r\nL 20.515625 22.015625 \r\nL 27.78125 22.015625 \r\nL 27.78125 0.6875 \r\nL 81.296875 0.6875 \r\nL 81.296875 -5.8125 \r\nz\r\n\" id=\"MalgunGothic-50868\"/>\r\n       <path d=\"M 85.296875 51.609375 \r\nQ 73.96875 53.265625 64 58.921875 \r\nQ 54.046875 64.59375 50.09375 70.796875 \r\nQ 46.4375 65.046875 36.296875 59.15625 \r\nQ 26.171875 53.265625 15.1875 51.703125 \r\nL 10.890625 57.625 \r\nQ 25.78125 58.890625 36.078125 66.203125 \r\nQ 46.390625 73.53125 46.390625 80.515625 \r\nL 46.390625 83.296875 \r\nL 53.609375 83.296875 \r\nL 53.609375 80.515625 \r\nQ 53.609375 73.390625 63.90625 66.03125 \r\nQ 74.21875 58.6875 89.109375 57.515625 \r\nz\r\nM 6.296875 34.90625 \r\nL 6.296875 41.5 \r\nL 46.296875 41.5 \r\nL 46.296875 55.328125 \r\nL 53.71875 55.328125 \r\nL 53.71875 41.5 \r\nL 93.703125 41.5 \r\nL 93.703125 34.90625 \r\nz\r\nM 50 -7.8125 \r\nQ 35.359375 -7.8125 27.59375 -3.125 \r\nQ 19.828125 1.5625 19.828125 9.8125 \r\nQ 19.828125 17.875 27.609375 22.53125 \r\nQ 35.40625 27.203125 50 27.203125 \r\nQ 64.59375 27.203125 72.375 22.53125 \r\nQ 80.171875 17.875 80.171875 9.8125 \r\nQ 80.171875 1.5625 72.40625 -3.125 \r\nQ 64.65625 -7.8125 50 -7.8125 \r\nz\r\nM 50 21 \r\nQ 38.765625 21 33.078125 18.046875 \r\nQ 27.390625 15.09375 27.390625 9.8125 \r\nQ 27.390625 4.4375 33.171875 1.40625 \r\nQ 38.96875 -1.609375 50 -1.609375 \r\nQ 60.984375 -1.609375 66.796875 1.40625 \r\nQ 72.609375 4.4375 72.609375 9.8125 \r\nQ 72.609375 15.09375 66.890625 18.046875 \r\nQ 61.1875 21 50 21 \r\nz\r\n\" id=\"MalgunGothic-49569\"/>\r\n      </defs>\r\n      <use xlink:href=\"#MalgunGothic-51221\"/>\r\n      <use x=\"100\" xlink:href=\"#MalgunGothic-44592\"/>\r\n      <use x=\"200\" xlink:href=\"#MalgunGothic-32\"/>\r\n      <use x=\"235.15625\" xlink:href=\"#MalgunGothic-54637\"/>\r\n      <use x=\"335.15625\" xlink:href=\"#MalgunGothic-44277\"/>\r\n      <use x=\"435.15625\" xlink:href=\"#MalgunGothic-32\"/>\r\n      <use x=\"470.3125\" xlink:href=\"#MalgunGothic-50868\"/>\r\n      <use x=\"570.3125\" xlink:href=\"#MalgunGothic-49569\"/>\r\n      <use x=\"670.3125\" xlink:href=\"#MalgunGothic-50629\"/>\r\n     </g>\r\n    </g>\r\n    <g id=\"line2d_48\">\r\n     <path d=\"M 134.592188 148.060625 \r\nL 154.592188 148.060625 \r\n\" style=\"fill:none;stroke:#d62728;stroke-linecap:square;stroke-width:1.5;\"/>\r\n    </g>\r\n    <g id=\"line2d_49\"/>\r\n    <g id=\"text_24\">\r\n     <!-- 한식 음식점업 -->\r\n     <g transform=\"translate(162.592188 151.560625)scale(0.1 -0.1)\">\r\n      <defs>\r\n       <path d=\"M 80.078125 42.390625 \r\nL 80.078125 15.28125 \r\nL 72.796875 15.28125 \r\nL 72.796875 85.40625 \r\nL 80.078125 85.40625 \r\nL 80.078125 49.03125 \r\nL 94.28125 49.03125 \r\nL 94.28125 42.390625 \r\nz\r\nM 6.984375 66.3125 \r\nL 6.984375 72.796875 \r\nL 31.296875 72.796875 \r\nL 31.296875 85.015625 \r\nL 38.71875 85.015625 \r\nL 38.71875 72.796875 \r\nL 62.984375 72.796875 \r\nL 62.984375 66.3125 \r\nz\r\nM 35.015625 25.78125 \r\nQ 24.359375 25.78125 18.140625 30.921875 \r\nQ 11.921875 36.078125 11.921875 43.609375 \r\nQ 11.921875 51.03125 18.140625 56.15625 \r\nQ 24.359375 61.28125 35.109375 61.28125 \r\nQ 45.796875 61.28125 52.046875 56.171875 \r\nQ 58.296875 51.078125 58.296875 43.609375 \r\nQ 58.296875 36.1875 52.015625 30.984375 \r\nQ 45.75 25.78125 35.015625 25.78125 \r\nz\r\nM 35.109375 55.078125 \r\nQ 27.6875 55.078125 23.390625 51.859375 \r\nQ 19.09375 48.640625 19.09375 43.609375 \r\nQ 19.09375 38.53125 23.40625 35.25 \r\nQ 27.734375 31.984375 35.109375 31.984375 \r\nQ 42.484375 31.984375 46.796875 35.25 \r\nQ 51.125 38.53125 51.125 43.609375 \r\nQ 51.125 48.640625 46.828125 51.859375 \r\nQ 42.53125 55.078125 35.109375 55.078125 \r\nz\r\nM 22.796875 -7.078125 \r\nL 22.796875 19 \r\nL 29.984375 19 \r\nL 29.984375 -0.59375 \r\nL 83.015625 -0.59375 \r\nL 83.015625 -7.078125 \r\nz\r\n\" id=\"MalgunGothic-54620\"/>\r\n       <path d=\"M 76.3125 31.109375 \r\nL 76.3125 85.40625 \r\nL 83.59375 85.40625 \r\nL 83.59375 31.109375 \r\nz\r\nM 57.078125 36.375 \r\nQ 50.6875 39.84375 44.234375 46.09375 \r\nQ 37.796875 52.34375 35.203125 57.8125 \r\nQ 32.421875 51.609375 25.921875 44.65625 \r\nQ 19.4375 37.703125 12.796875 33.984375 \r\nL 7.625 39.015625 \r\nQ 17.71875 43.84375 24.546875 53.015625 \r\nQ 31.390625 62.203125 31.390625 72.3125 \r\nL 31.390625 82.328125 \r\nL 38.484375 82.328125 \r\nL 38.484375 72.3125 \r\nQ 38.484375 62.890625 45.5625 54.25 \r\nQ 52.640625 45.609375 62.015625 41.703125 \r\nz\r\nM 76.3125 -8.796875 \r\nL 76.3125 19.28125 \r\nL 22.3125 19.28125 \r\nL 22.3125 25.78125 \r\nL 83.59375 25.78125 \r\nL 83.59375 -8.796875 \r\nz\r\n\" id=\"MalgunGothic-49885\"/>\r\n       <path d=\"M 50 48.484375 \r\nQ 35.796875 48.484375 28.09375 53.53125 \r\nQ 20.40625 58.59375 20.40625 66.703125 \r\nQ 20.40625 74.8125 28.09375 79.859375 \r\nQ 35.796875 84.90625 50 84.90625 \r\nQ 64.203125 84.90625 71.890625 79.859375 \r\nQ 79.59375 74.8125 79.59375 66.703125 \r\nQ 79.59375 58.59375 71.890625 53.53125 \r\nQ 64.203125 48.484375 50 48.484375 \r\nz\r\nM 50 78.71875 \r\nQ 39.453125 78.71875 33.765625 75.484375 \r\nQ 28.078125 72.265625 28.078125 66.703125 \r\nQ 28.078125 61.140625 33.765625 57.90625 \r\nQ 39.453125 54.6875 50 54.6875 \r\nQ 60.546875 54.6875 66.234375 57.90625 \r\nQ 71.921875 61.140625 71.921875 66.703125 \r\nQ 71.921875 72.265625 66.234375 75.484375 \r\nQ 60.546875 78.71875 50 78.71875 \r\nz\r\nM 6.296875 33.984375 \r\nL 6.296875 40.484375 \r\nL 93.703125 40.484375 \r\nL 93.703125 33.984375 \r\nz\r\nM 20.703125 -6 \r\nL 20.703125 25.390625 \r\nL 79.296875 25.390625 \r\nL 79.296875 -6 \r\nz\r\nM 72.015625 18.890625 \r\nL 27.984375 18.890625 \r\nL 27.984375 0.484375 \r\nL 72.015625 0.484375 \r\nz\r\n\" id=\"MalgunGothic-51020\"/>\r\n      </defs>\r\n      <use xlink:href=\"#MalgunGothic-54620\"/>\r\n      <use x=\"100\" xlink:href=\"#MalgunGothic-49885\"/>\r\n      <use x=\"200\" xlink:href=\"#MalgunGothic-32\"/>\r\n      <use x=\"235.15625\" xlink:href=\"#MalgunGothic-51020\"/>\r\n      <use x=\"335.15625\" xlink:href=\"#MalgunGothic-49885\"/>\r\n      <use x=\"435.15625\" xlink:href=\"#MalgunGothic-51216\"/>\r\n      <use x=\"535.15625\" xlink:href=\"#MalgunGothic-50629\"/>\r\n     </g>\r\n    </g>\r\n    <g id=\"line2d_50\">\r\n     <path d=\"M 134.592188 163.016875 \r\nL 154.592188 163.016875 \r\n\" style=\"fill:none;stroke:#9467bd;stroke-linecap:square;stroke-width:1.5;\"/>\r\n    </g>\r\n    <g id=\"line2d_51\"/>\r\n    <g id=\"text_25\">\r\n     <!-- 호텔업 -->\r\n     <g transform=\"translate(162.592188 166.516875)scale(0.1 -0.1)\">\r\n      <defs>\r\n       <path d=\"M 14.015625 66.5 \r\nL 14.015625 72.90625 \r\nL 46.390625 72.90625 \r\nL 46.390625 84.421875 \r\nL 53.609375 84.421875 \r\nL 53.609375 72.90625 \r\nL 85.984375 72.90625 \r\nL 85.984375 66.5 \r\nz\r\nM 6.296875 5.609375 \r\nL 6.296875 12.015625 \r\nL 46.390625 12.015625 \r\nL 46.390625 25.875 \r\nQ 33.546875 26.46875 26.46875 31.390625 \r\nQ 19.390625 36.328125 19.390625 43.703125 \r\nQ 19.390625 51.46875 27.3125 56.5 \r\nQ 35.25 61.53125 50 61.53125 \r\nQ 64.59375 61.53125 72.546875 56.546875 \r\nQ 80.515625 51.5625 80.515625 43.703125 \r\nQ 80.515625 36.328125 73.4375 31.390625 \r\nQ 66.359375 26.46875 53.609375 25.875 \r\nL 53.609375 12.015625 \r\nL 93.703125 12.015625 \r\nL 93.703125 5.609375 \r\nz\r\nM 50 55.328125 \r\nQ 38.8125 55.328125 32.953125 52.140625 \r\nQ 27.09375 48.96875 27.09375 43.703125 \r\nQ 27.09375 38.375 32.953125 35.171875 \r\nQ 38.8125 31.984375 50 31.984375 \r\nQ 61.1875 31.984375 66.984375 35.171875 \r\nQ 72.796875 38.375 72.796875 43.703125 \r\nQ 72.796875 48.96875 66.96875 52.140625 \r\nQ 61.140625 55.328125 50 55.328125 \r\nz\r\n\" id=\"MalgunGothic-54840\"/>\r\n       <path d=\"M 79 35.984375 \r\nL 79 85.40625 \r\nL 86.28125 85.40625 \r\nL 86.28125 35.984375 \r\nz\r\nM 62.109375 35.984375 \r\nL 62.109375 58.296875 \r\nL 47.703125 58.296875 \r\nL 47.703125 64.59375 \r\nL 62.109375 64.59375 \r\nL 62.109375 83.5 \r\nL 69.28125 83.5 \r\nL 69.28125 35.984375 \r\nz\r\nM 21.390625 57.078125 \r\nL 21.390625 45.609375 \r\nQ 43.015625 45.609375 52.09375 46.484375 \r\nL 52.59375 40.09375 \r\nQ 39.109375 39.3125 14.203125 39.3125 \r\nL 14.203125 81.5 \r\nL 50.203125 81.5 \r\nL 50.203125 75.09375 \r\nL 21.390625 75.09375 \r\nL 21.390625 63.484375 \r\nL 41.40625 63.484375 \r\nL 41.40625 57.078125 \r\nz\r\nM 27.296875 -6.59375 \r\nL 27.296875 15.71875 \r\nL 79.109375 15.71875 \r\nL 79.109375 24.421875 \r\nL 27.296875 24.421875 \r\nL 27.296875 30.8125 \r\nL 86.28125 30.8125 \r\nL 86.28125 9.421875 \r\nL 34.515625 9.421875 \r\nL 34.515625 -0.09375 \r\nL 88.8125 -0.09375 \r\nL 88.8125 -6.59375 \r\nz\r\n\" id=\"MalgunGothic-53588\"/>\r\n      </defs>\r\n      <use xlink:href=\"#MalgunGothic-54840\"/>\r\n      <use x=\"100\" xlink:href=\"#MalgunGothic-53588\"/>\r\n      <use x=\"200\" xlink:href=\"#MalgunGothic-50629\"/>\r\n     </g>\r\n    </g>\r\n   </g>\r\n  </g>\r\n </g>\r\n <defs>\r\n  <clipPath id=\"pe2e37f0444\">\r\n   <rect height=\"217.44\" width=\"334.8\" x=\"19.707813\" y=\"17.792188\"/>\r\n  </clipPath>\r\n </defs>\r\n</svg>\r\n",
      "image/png": "[encoded data removed]"
     },
     "metadata": {
      "needs_background": "light"
     }
    }
   ],
   "source": [
    "dataTop5LongToWide.plot()"
   ]
  },
  {
   "cell_type": "code",
   "execution_count": null,
   "metadata": {},
   "outputs": [],
   "source": [
    "제주도에 많은 중국인이 있고 많은 돈을 쓰고 있다\n"
   ]
  },
  {
   "source": [
    "------------------------------------------------------\n",
    "\n",
    "네 번째\n",
    "        \n",
    "        \"비가 많이 오는 날에는 편의점의 이용금액이 감소한다\"는 가설을 검증한다.\n",
    "                \n",
    "------------------------------------------------------"
   ],
   "cell_type": "markdown",
   "metadata": {}
  },
  {
   "source": [
    "- 관련 기사: (https://www.hankyung.com/economy/article/202106106586i)"
   ],
   "cell_type": "markdown",
   "metadata": {}
  },
  {
   "source": [
    "- 문제점\n",
    "\n",
    "    이용금액은 하루치가 아닌 한달치로 기록이 되어 있어 최소 월 단위로 비교를 해야 한다.\n",
    "    그러나 비가 한달 내내 내리진 않으므로 비를 오는 날과 그렇지 않은 날을 구분하기 위해서는 이용금액이 일 단위로           기록되어야 한다.  \n",
    "\n",
    "- 결론\n",
    "\n",
    "    현재 데이터로는 비가 오는 날에 어떤 영향이 있는지 파악하기 힘들다."
   ],
   "cell_type": "markdown",
   "metadata": {}
  },
  {
   "source": [
    "------------------------------------------------------\n",
    "\n",
    "다섯번 째\n",
    "        \n",
    "        여름(6, 7, 8월) 날씨를 비교해 본다\n",
    "                \n",
    "------------------------------------------------------"
   ],
   "cell_type": "markdown",
   "metadata": {}
  },
  {
   "cell_type": "code",
   "execution_count": null,
   "metadata": {},
   "outputs": [],
   "source": []
  },
  {
   "cell_type": "code",
   "execution_count": null,
   "metadata": {},
   "outputs": [],
   "source": []
  },
  {
   "cell_type": "code",
   "execution_count": 40,
   "metadata": {},
   "outputs": [],
   "source": [
    "# 편의점 데이터만 추출합니다.\n",
    "convenienceStore = data[data['업종명'] == '체인화 편의점']"
   ]
  },
  {
   "cell_type": "code",
   "execution_count": null,
   "metadata": {},
   "outputs": [],
   "source": [
    "# 6, 7, 8월의 데이터만 추출합니다.\n"
   ]
  },
  {
   "cell_type": "code",
   "execution_count": 43,
   "metadata": {},
   "outputs": [
    {
     "output_type": "execute_result",
     "data": {
      "text/plain": [
       "                 일자   시도명 읍면동명  평균 기온   일강수량  최대 풍속      업종명       이용금액  \\\n",
       "436822   2018-08-23   제주시  애월읍   18.9  901.5   11.7  체인화 편의점  609281257   \n",
       "436956   2018-08-23   제주시  아라동   18.5  828.5   10.7  체인화 편의점  525610350   \n",
       "435849   2018-08-23   제주시  애월읍   17.5  798.0   12.7  체인화 편의점  609281257   \n",
       "1058455  2019-07-20   제주시  아라동   17.4  591.5    8.3  체인화 편의점  527663550   \n",
       "436749   2018-08-23  서귀포시  중문동   19.3  587.0    6.6  체인화 편의점  229615170   \n",
       "1182401  2019-09-22   제주시   연동   14.6  583.5    4.5  체인화 편의점  959175880   \n",
       "1182387  2019-09-22   제주시  노형동   14.6  583.5    4.5  체인화 편의점  757311675   \n",
       "1056841  2019-07-19   제주시  애월읍   17.5  555.0    7.8  체인화 편의점  611669580   \n",
       "1057583  2019-07-19   제주시  아라동   18.6  549.0    7.5  체인화 편의점  527663550   \n",
       "1182222  2019-09-22   제주시  애월읍   11.4  525.0    7.4  체인화 편의점  506401390   \n",
       "\n",
       "          datetime  quarter  month  \n",
       "436822  2018-08-23        3      8  \n",
       "436956  2018-08-23        3      8  \n",
       "435849  2018-08-23        3      8  \n",
       "1058455 2019-07-20        3      7  \n",
       "436749  2018-08-23        3      8  \n",
       "1182401 2019-09-22        3      9  \n",
       "1182387 2019-09-22        3      9  \n",
       "1056841 2019-07-19        3      7  \n",
       "1057583 2019-07-19        3      7  \n",
       "1182222 2019-09-22        3      9  "
      ],
      "text/html": "<div>\n<style scoped>\n    .dataframe tbody tr th:only-of-type {\n        vertical-align: middle;\n    }\n\n    .dataframe tbody tr th {\n        vertical-align: top;\n    }\n\n    .dataframe thead th {\n        text-align: right;\n    }\n</style>\n<table border=\"1\" class=\"dataframe\">\n  <thead>\n    <tr style=\"text-align: right;\">\n      <th></th>\n      <th>일자</th>\n      <th>시도명</th>\n      <th>읍면동명</th>\n      <th>평균 기온</th>\n      <th>일강수량</th>\n      <th>최대 풍속</th>\n      <th>업종명</th>\n      <th>이용금액</th>\n      <th>datetime</th>\n      <th>quarter</th>\n      <th>month</th>\n    </tr>\n  </thead>\n  <tbody>\n    <tr>\n      <th>436822</th>\n      <td>2018-08-23</td>\n      <td>제주시</td>\n      <td>애월읍</td>\n      <td>18.9</td>\n      <td>901.5</td>\n      <td>11.7</td>\n      <td>체인화 편의점</td>\n      <td>609281257</td>\n      <td>2018-08-23</td>\n      <td>3</td>\n      <td>8</td>\n    </tr>\n    <tr>\n      <th>436956</th>\n      <td>2018-08-23</td>\n      <td>제주시</td>\n      <td>아라동</td>\n      <td>18.5</td>\n      <td>828.5</td>\n      <td>10.7</td>\n      <td>체인화 편의점</td>\n      <td>525610350</td>\n      <td>2018-08-23</td>\n      <td>3</td>\n      <td>8</td>\n    </tr>\n    <tr>\n      <th>435849</th>\n      <td>2018-08-23</td>\n      <td>제주시</td>\n      <td>애월읍</td>\n      <td>17.5</td>\n      <td>798.0</td>\n      <td>12.7</td>\n      <td>체인화 편의점</td>\n      <td>609281257</td>\n      <td>2018-08-23</td>\n      <td>3</td>\n      <td>8</td>\n    </tr>\n    <tr>\n      <th>1058455</th>\n      <td>2019-07-20</td>\n      <td>제주시</td>\n      <td>아라동</td>\n      <td>17.4</td>\n      <td>591.5</td>\n      <td>8.3</td>\n      <td>체인화 편의점</td>\n      <td>527663550</td>\n      <td>2019-07-20</td>\n      <td>3</td>\n      <td>7</td>\n    </tr>\n    <tr>\n      <th>436749</th>\n      <td>2018-08-23</td>\n      <td>서귀포시</td>\n      <td>중문동</td>\n      <td>19.3</td>\n      <td>587.0</td>\n      <td>6.6</td>\n      <td>체인화 편의점</td>\n      <td>229615170</td>\n      <td>2018-08-23</td>\n      <td>3</td>\n      <td>8</td>\n    </tr>\n    <tr>\n      <th>1182401</th>\n      <td>2019-09-22</td>\n      <td>제주시</td>\n      <td>연동</td>\n      <td>14.6</td>\n      <td>583.5</td>\n      <td>4.5</td>\n      <td>체인화 편의점</td>\n      <td>959175880</td>\n      <td>2019-09-22</td>\n      <td>3</td>\n      <td>9</td>\n    </tr>\n    <tr>\n      <th>1182387</th>\n      <td>2019-09-22</td>\n      <td>제주시</td>\n      <td>노형동</td>\n      <td>14.6</td>\n      <td>583.5</td>\n      <td>4.5</td>\n      <td>체인화 편의점</td>\n      <td>757311675</td>\n      <td>2019-09-22</td>\n      <td>3</td>\n      <td>9</td>\n    </tr>\n    <tr>\n      <th>1056841</th>\n      <td>2019-07-19</td>\n      <td>제주시</td>\n      <td>애월읍</td>\n      <td>17.5</td>\n      <td>555.0</td>\n      <td>7.8</td>\n      <td>체인화 편의점</td>\n      <td>611669580</td>\n      <td>2019-07-19</td>\n      <td>3</td>\n      <td>7</td>\n    </tr>\n    <tr>\n      <th>1057583</th>\n      <td>2019-07-19</td>\n      <td>제주시</td>\n      <td>아라동</td>\n      <td>18.6</td>\n      <td>549.0</td>\n      <td>7.5</td>\n      <td>체인화 편의점</td>\n      <td>527663550</td>\n      <td>2019-07-19</td>\n      <td>3</td>\n      <td>7</td>\n    </tr>\n    <tr>\n      <th>1182222</th>\n      <td>2019-09-22</td>\n      <td>제주시</td>\n      <td>애월읍</td>\n      <td>11.4</td>\n      <td>525.0</td>\n      <td>7.4</td>\n      <td>체인화 편의점</td>\n      <td>506401390</td>\n      <td>2019-09-22</td>\n      <td>3</td>\n      <td>9</td>\n    </tr>\n  </tbody>\n</table>\n</div>"
     },
     "metadata": {},
     "execution_count": 43
    }
   ],
   "source": [
    "convenienceStore.sort_values(by='일강수량', ascending=False).head(10)"
   ]
  },
  {
   "cell_type": "code",
   "execution_count": 44,
   "metadata": {},
   "outputs": [
    {
     "output_type": "execute_result",
     "data": {
      "text/plain": [
       "                일자   시도명  읍면동명  평균 기온  일강수량  최대 풍속      업종명       이용금액  \\\n",
       "21      2018-01-01   제주시  이도1동    2.9   0.0    2.4  체인화 편의점   96546840   \n",
       "951677  2019-05-25   제주시   한림읍   22.9   0.0    3.5  체인화 편의점  291807120   \n",
       "951687  2019-05-25   제주시   노형동   20.7   0.0    2.5  체인화 편의점  743524205   \n",
       "951693  2019-05-25   제주시   화북동   20.4   0.0    3.1  체인화 편의점  174736685   \n",
       "951702  2019-05-25  서귀포시   정방동   22.3   0.0    1.7  체인화 편의점  388120240   \n",
       "951745  2019-05-25  서귀포시   중문동   16.8   0.0    2.1  체인화 편의점  205774660   \n",
       "951766  2019-05-25  서귀포시   송산동   22.3   0.0    1.7  체인화 편의점  642736750   \n",
       "951775  2019-05-25   제주시   건입동   19.6   0.0    1.8  체인화 편의점  132160420   \n",
       "951820  2019-05-25   제주시   도두동   23.2   0.0    2.0  체인화 편의점   87425850   \n",
       "951873  2019-05-25  서귀포시   천지동   22.3   0.0    1.7  체인화 편의점  507112300   \n",
       "\n",
       "         datetime  quarter  month  \n",
       "21     2018-01-01        1      1  \n",
       "951677 2019-05-25        2      5  \n",
       "951687 2019-05-25        2      5  \n",
       "951693 2019-05-25        2      5  \n",
       "951702 2019-05-25        2      5  \n",
       "951745 2019-05-25        2      5  \n",
       "951766 2019-05-25        2      5  \n",
       "951775 2019-05-25        2      5  \n",
       "951820 2019-05-25        2      5  \n",
       "951873 2019-05-25        2      5  "
      ],
      "text/html": "<div>\n<style scoped>\n    .dataframe tbody tr th:only-of-type {\n        vertical-align: middle;\n    }\n\n    .dataframe tbody tr th {\n        vertical-align: top;\n    }\n\n    .dataframe thead th {\n        text-align: right;\n    }\n</style>\n<table border=\"1\" class=\"dataframe\">\n  <thead>\n    <tr style=\"text-align: right;\">\n      <th></th>\n      <th>일자</th>\n      <th>시도명</th>\n      <th>읍면동명</th>\n      <th>평균 기온</th>\n      <th>일강수량</th>\n      <th>최대 풍속</th>\n      <th>업종명</th>\n      <th>이용금액</th>\n      <th>datetime</th>\n      <th>quarter</th>\n      <th>month</th>\n    </tr>\n  </thead>\n  <tbody>\n    <tr>\n      <th>21</th>\n      <td>2018-01-01</td>\n      <td>제주시</td>\n      <td>이도1동</td>\n      <td>2.9</td>\n      <td>0.0</td>\n      <td>2.4</td>\n      <td>체인화 편의점</td>\n      <td>96546840</td>\n      <td>2018-01-01</td>\n      <td>1</td>\n      <td>1</td>\n    </tr>\n    <tr>\n      <th>951677</th>\n      <td>2019-05-25</td>\n      <td>제주시</td>\n      <td>한림읍</td>\n      <td>22.9</td>\n      <td>0.0</td>\n      <td>3.5</td>\n      <td>체인화 편의점</td>\n      <td>291807120</td>\n      <td>2019-05-25</td>\n      <td>2</td>\n      <td>5</td>\n    </tr>\n    <tr>\n      <th>951687</th>\n      <td>2019-05-25</td>\n      <td>제주시</td>\n      <td>노형동</td>\n      <td>20.7</td>\n      <td>0.0</td>\n      <td>2.5</td>\n      <td>체인화 편의점</td>\n      <td>743524205</td>\n      <td>2019-05-25</td>\n      <td>2</td>\n      <td>5</td>\n    </tr>\n    <tr>\n      <th>951693</th>\n      <td>2019-05-25</td>\n      <td>제주시</td>\n      <td>화북동</td>\n      <td>20.4</td>\n      <td>0.0</td>\n      <td>3.1</td>\n      <td>체인화 편의점</td>\n      <td>174736685</td>\n      <td>2019-05-25</td>\n      <td>2</td>\n      <td>5</td>\n    </tr>\n    <tr>\n      <th>951702</th>\n      <td>2019-05-25</td>\n      <td>서귀포시</td>\n      <td>정방동</td>\n      <td>22.3</td>\n      <td>0.0</td>\n      <td>1.7</td>\n      <td>체인화 편의점</td>\n      <td>388120240</td>\n      <td>2019-05-25</td>\n      <td>2</td>\n      <td>5</td>\n    </tr>\n    <tr>\n      <th>951745</th>\n      <td>2019-05-25</td>\n      <td>서귀포시</td>\n      <td>중문동</td>\n      <td>16.8</td>\n      <td>0.0</td>\n      <td>2.1</td>\n      <td>체인화 편의점</td>\n      <td>205774660</td>\n      <td>2019-05-25</td>\n      <td>2</td>\n      <td>5</td>\n    </tr>\n    <tr>\n      <th>951766</th>\n      <td>2019-05-25</td>\n      <td>서귀포시</td>\n      <td>송산동</td>\n      <td>22.3</td>\n      <td>0.0</td>\n      <td>1.7</td>\n      <td>체인화 편의점</td>\n      <td>642736750</td>\n      <td>2019-05-25</td>\n      <td>2</td>\n      <td>5</td>\n    </tr>\n    <tr>\n      <th>951775</th>\n      <td>2019-05-25</td>\n      <td>제주시</td>\n      <td>건입동</td>\n      <td>19.6</td>\n      <td>0.0</td>\n      <td>1.8</td>\n      <td>체인화 편의점</td>\n      <td>132160420</td>\n      <td>2019-05-25</td>\n      <td>2</td>\n      <td>5</td>\n    </tr>\n    <tr>\n      <th>951820</th>\n      <td>2019-05-25</td>\n      <td>제주시</td>\n      <td>도두동</td>\n      <td>23.2</td>\n      <td>0.0</td>\n      <td>2.0</td>\n      <td>체인화 편의점</td>\n      <td>87425850</td>\n      <td>2019-05-25</td>\n      <td>2</td>\n      <td>5</td>\n    </tr>\n    <tr>\n      <th>951873</th>\n      <td>2019-05-25</td>\n      <td>서귀포시</td>\n      <td>천지동</td>\n      <td>22.3</td>\n      <td>0.0</td>\n      <td>1.7</td>\n      <td>체인화 편의점</td>\n      <td>507112300</td>\n      <td>2019-05-25</td>\n      <td>2</td>\n      <td>5</td>\n    </tr>\n  </tbody>\n</table>\n</div>"
     },
     "metadata": {},
     "execution_count": 44
    }
   ],
   "source": [
    "convenienceStore.sort_values(by='일강수량', ascending=True).head(10)\n",
    "# 비가 많이 오는 경우\n",
    "# 비가 많이 오지 않는 경우\n",
    "# 그래프로 차이 비교"
   ]
  },
  {
   "cell_type": "code",
   "execution_count": 69,
   "metadata": {},
   "outputs": [
    {
     "output_type": "execute_result",
     "data": {
      "text/plain": [
       "array(['추자면', '이도1동', '일도2동', '이도2동', '용담1동', '일도1동', '삼도2동', '삼도1동',\n",
       "       '용담2동', '오라동', '아라동', '애월읍', '외도동', '이호동', '도두동', '조천읍', '삼양동',\n",
       "       '화북동', '봉개동', '건입동', '한림읍', '한경면', '구좌읍', '연동', '노형동', '우도면'],\n",
       "      dtype=object)"
      ]
     },
     "metadata": {},
     "execution_count": 69
    }
   ],
   "source": [
    "# 제주시에 한림읍에 있는 편의점을 분석한다.\n",
    "# 한림읍은 \n",
    "data[data['시도명'] == '제주시']['읍면동명'].unique()"
   ]
  },
  {
   "source": [
    "------------------------------------------------------\n",
    "\n",
    "앞으로 할 일\n",
    "\n",
    "    - 날씨에 따른 무언가를 비교를 해야하는데..... -> 여름 6,7,8 월 끼리 비교 강수량, 기온\n",
    "    \n",
    "    - 여름과 겨율 해수욕장 근처의 상권 매출 비교 -> 여름 해수욕장 근처에 잘 되는 것? 아이스크림! 편의점 매출 보자\n",
    "    - 도민들이 많은 곳의 상권 매출 비교 -> 해수욕장 편의점과 비교\n",
    "    - correlation 그릴 수 있을까?\n",
    "\n",
    "    - 계절 별로 음식점 메뉴 추천하기\n",
    "    \n",
    "------------------------------------------------------"
   ],
   "cell_type": "markdown",
   "metadata": {}
  },
  {
   "source": [
    "'''\n",
    "\n",
    "제주도 친구로 부터의 정보\n",
    "\n",
    "도민들은 시내에서 주로 놀지만\n",
    "관광객들은 주로 해수욕장 같이 여행으로서 즐길 수 있는 곳에 많이 있다\n",
    "따라서 관광객과 도민들이 모이는 곳이 차이가 많이 난다는 것을 알고 있어야 한다\n",
    "또한 여름과 겨울에 관광하는 장소가 다르다\n",
    "\n",
    "관광객들이 많이 오는 곳 top3\n",
    "협재 해수욕장 -> 제주시 한림읍\n",
    "함덕 해수욕장\n",
    "중문 관광단지\n",
    " \n",
    "도민들이 많이 있는 곳\n",
    "제주 시청\n",
    "제원 누웨마루거리\n",
    "\n",
    "\n",
    "\n",
    "코로나 초기에는 제주도 상권이 좋지 않았지만 현재는 사람들이 아주 많이 온다\n",
    "작년대비 체감상 1.5에서 2배 정도 성장한 것 같다\n",
    "\n",
    "'''"
   ],
   "cell_type": "code",
   "metadata": {},
   "execution_count": null,
   "outputs": []
  },
  {
   "cell_type": "code",
   "execution_count": null,
   "metadata": {},
   "outputs": [],
   "source": [
    "\n"
   ]
  }
 ],
 "metadata": {
  "kernelspec": {
   "name": "python3",
   "display_name": "Python 3.8.8 64-bit ('base': conda)"
  },
  "language_info": {
   "codemirror_mode": {
    "name": "ipython",
    "version": 3
   },
   "file_extension": ".py",
   "mimetype": "text/x-python",
   "name": "python",
   "nbconvert_exporter": "python",
   "pygments_lexer": "ipython3",
   "version": "3.8.8"
  },
  "interpreter": {
   "hash": "1619dfd23358a9823e28008d39223c9ab6631fc7c2f2a28f1c272fd520fc174a"
  }
 },
 "nbformat": 4,
 "nbformat_minor": 5
}