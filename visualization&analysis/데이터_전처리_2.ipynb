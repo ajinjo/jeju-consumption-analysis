{
 "cells": [
  {
   "cell_type": "code",
   "execution_count": 18,
   "metadata": {},
   "outputs": [],
   "source": [
    "import pandas as pd\n",
    "import numpy as np\n",
    "\n",
    "import matplotlib as mpl\n",
    "import matplotlib.pyplot as plt\n",
    "import seaborn as sns\n",
    "\n",
    "import matplotlib.pyplot as plt\n",
    "# plt.rc('font',family= 'Malgun Gothic')  # 한글깨짐방지 두줄(Windows).\n",
    "plt.rc('font',family= 'AppleGothic')    # 한글깨짐방지 두줄(Mac).\n",
    "plt.rc('axes',unicode_minus=False)"
   ]
  },
  {
   "cell_type": "code",
   "execution_count": 19,
   "metadata": {
    "scrolled": false
   },
   "outputs": [
    {
     "data": {
      "text/html": [
       "<div>\n",
       "<style scoped>\n",
       "    .dataframe tbody tr th:only-of-type {\n",
       "        vertical-align: middle;\n",
       "    }\n",
       "\n",
       "    .dataframe tbody tr th {\n",
       "        vertical-align: top;\n",
       "    }\n",
       "\n",
       "    .dataframe thead th {\n",
       "        text-align: right;\n",
       "    }\n",
       "</style>\n",
       "<table border=\"1\" class=\"dataframe\">\n",
       "  <thead>\n",
       "    <tr style=\"text-align: right;\">\n",
       "      <th></th>\n",
       "      <th>기준_년_코드</th>\n",
       "      <th>기준_분기_코드</th>\n",
       "      <th>상권_구분_코드</th>\n",
       "      <th>상권_구분_코드_명</th>\n",
       "      <th>상권_코드</th>\n",
       "      <th>상권_코드_명</th>\n",
       "      <th>서비스_업종_코드</th>\n",
       "      <th>서비스_업종_코드_명</th>\n",
       "      <th>분기당_매출_금액</th>\n",
       "      <th>분기당_매출_건수</th>\n",
       "      <th>...</th>\n",
       "      <th>연령대_10_매출_건수</th>\n",
       "      <th>연령대_20_매출_건수</th>\n",
       "      <th>연령대_30_매출_건수</th>\n",
       "      <th>연령대_40_매출_건수</th>\n",
       "      <th>연령대_50_매출_건수</th>\n",
       "      <th>연령대_60_이상_매출_건수</th>\n",
       "      <th>점포수</th>\n",
       "      <th>구</th>\n",
       "      <th>위도</th>\n",
       "      <th>경도</th>\n",
       "    </tr>\n",
       "  </thead>\n",
       "  <tbody>\n",
       "    <tr>\n",
       "      <th>0</th>\n",
       "      <td>2020</td>\n",
       "      <td>4</td>\n",
       "      <td>U</td>\n",
       "      <td>관광특구</td>\n",
       "      <td>1001496</td>\n",
       "      <td>강남 마이스 관광특구</td>\n",
       "      <td>CS300043</td>\n",
       "      <td>전자상거래업</td>\n",
       "      <td>3808746</td>\n",
       "      <td>170</td>\n",
       "      <td>...</td>\n",
       "      <td>0</td>\n",
       "      <td>5</td>\n",
       "      <td>116</td>\n",
       "      <td>49</td>\n",
       "      <td>0</td>\n",
       "      <td>0</td>\n",
       "      <td>8</td>\n",
       "      <td>NaN</td>\n",
       "      <td>NaN</td>\n",
       "      <td>NaN</td>\n",
       "    </tr>\n",
       "    <tr>\n",
       "      <th>1</th>\n",
       "      <td>2020</td>\n",
       "      <td>4</td>\n",
       "      <td>U</td>\n",
       "      <td>관광특구</td>\n",
       "      <td>1001496</td>\n",
       "      <td>강남 마이스 관광특구</td>\n",
       "      <td>CS300032</td>\n",
       "      <td>가전제품</td>\n",
       "      <td>2123968546</td>\n",
       "      <td>8062</td>\n",
       "      <td>...</td>\n",
       "      <td>84</td>\n",
       "      <td>2400</td>\n",
       "      <td>2154</td>\n",
       "      <td>1469</td>\n",
       "      <td>850</td>\n",
       "      <td>418</td>\n",
       "      <td>8</td>\n",
       "      <td>NaN</td>\n",
       "      <td>NaN</td>\n",
       "      <td>NaN</td>\n",
       "    </tr>\n",
       "    <tr>\n",
       "      <th>2</th>\n",
       "      <td>2020</td>\n",
       "      <td>4</td>\n",
       "      <td>U</td>\n",
       "      <td>관광특구</td>\n",
       "      <td>1001496</td>\n",
       "      <td>강남 마이스 관광특구</td>\n",
       "      <td>CS300031</td>\n",
       "      <td>가구</td>\n",
       "      <td>11920008477</td>\n",
       "      <td>6667</td>\n",
       "      <td>...</td>\n",
       "      <td>0</td>\n",
       "      <td>306</td>\n",
       "      <td>634</td>\n",
       "      <td>1455</td>\n",
       "      <td>1520</td>\n",
       "      <td>2752</td>\n",
       "      <td>6</td>\n",
       "      <td>NaN</td>\n",
       "      <td>NaN</td>\n",
       "      <td>NaN</td>\n",
       "    </tr>\n",
       "    <tr>\n",
       "      <th>3</th>\n",
       "      <td>2020</td>\n",
       "      <td>4</td>\n",
       "      <td>U</td>\n",
       "      <td>관광특구</td>\n",
       "      <td>1001496</td>\n",
       "      <td>강남 마이스 관광특구</td>\n",
       "      <td>CS300028</td>\n",
       "      <td>화초</td>\n",
       "      <td>409610564</td>\n",
       "      <td>9795</td>\n",
       "      <td>...</td>\n",
       "      <td>30</td>\n",
       "      <td>2543</td>\n",
       "      <td>3556</td>\n",
       "      <td>1490</td>\n",
       "      <td>930</td>\n",
       "      <td>763</td>\n",
       "      <td>6</td>\n",
       "      <td>NaN</td>\n",
       "      <td>NaN</td>\n",
       "      <td>NaN</td>\n",
       "    </tr>\n",
       "    <tr>\n",
       "      <th>4</th>\n",
       "      <td>2020</td>\n",
       "      <td>4</td>\n",
       "      <td>U</td>\n",
       "      <td>관광특구</td>\n",
       "      <td>1001496</td>\n",
       "      <td>강남 마이스 관광특구</td>\n",
       "      <td>CS300027</td>\n",
       "      <td>섬유제품</td>\n",
       "      <td>971389704</td>\n",
       "      <td>31185</td>\n",
       "      <td>...</td>\n",
       "      <td>1111</td>\n",
       "      <td>15614</td>\n",
       "      <td>6853</td>\n",
       "      <td>3873</td>\n",
       "      <td>3166</td>\n",
       "      <td>568</td>\n",
       "      <td>6</td>\n",
       "      <td>NaN</td>\n",
       "      <td>NaN</td>\n",
       "      <td>NaN</td>\n",
       "    </tr>\n",
       "  </tbody>\n",
       "</table>\n",
       "<p>5 rows × 83 columns</p>\n",
       "</div>"
      ],
      "text/plain": [
       "   기준_년_코드  기준_분기_코드 상권_구분_코드 상권_구분_코드_명    상권_코드      상권_코드_명 서비스_업종_코드  \\\n",
       "0     2020         4        U       관광특구  1001496  강남 마이스 관광특구  CS300043   \n",
       "1     2020         4        U       관광특구  1001496  강남 마이스 관광특구  CS300032   \n",
       "2     2020         4        U       관광특구  1001496  강남 마이스 관광특구  CS300031   \n",
       "3     2020         4        U       관광특구  1001496  강남 마이스 관광특구  CS300028   \n",
       "4     2020         4        U       관광특구  1001496  강남 마이스 관광특구  CS300027   \n",
       "\n",
       "  서비스_업종_코드_명    분기당_매출_금액  분기당_매출_건수  ...  연령대_10_매출_건수  연령대_20_매출_건수  \\\n",
       "0      전자상거래업      3808746        170  ...             0             5   \n",
       "1        가전제품   2123968546       8062  ...            84          2400   \n",
       "2          가구  11920008477       6667  ...             0           306   \n",
       "3          화초    409610564       9795  ...            30          2543   \n",
       "4        섬유제품    971389704      31185  ...          1111         15614   \n",
       "\n",
       "   연령대_30_매출_건수  연령대_40_매출_건수  연령대_50_매출_건수  연령대_60_이상_매출_건수  점포수    구  위도  경도  \n",
       "0           116            49             0                0    8  NaN NaN NaN  \n",
       "1          2154          1469           850              418    8  NaN NaN NaN  \n",
       "2           634          1455          1520             2752    6  NaN NaN NaN  \n",
       "3          3556          1490           930              763    6  NaN NaN NaN  \n",
       "4          6853          3873          3166              568    6  NaN NaN NaN  \n",
       "\n",
       "[5 rows x 83 columns]"
      ]
     },
     "execution_count": 19,
     "metadata": {},
     "output_type": "execute_result"
    }
   ],
   "source": [
    "df = pd.read_csv('데이터_전처리.csv',encoding='cp949')\n",
    "df.head()"
   ]
  },
  {
   "cell_type": "markdown",
   "metadata": {},
   "source": [
    "# 결측치 시각화"
   ]
  },
  {
   "cell_type": "code",
   "execution_count": 20,
   "metadata": {},
   "outputs": [
    {
     "data": {
      "text/plain": [
       "기준_년_코드                0\n",
       "월요일_매출_건수              0\n",
       "주말_매출_건수               0\n",
       "주중_매출_건수               0\n",
       "연령대_60_이상_매출_금액        0\n",
       "                   ...  \n",
       "연령대_40_매출_비율           0\n",
       "기준_분기_코드               0\n",
       "위도                  1582\n",
       "경도                  1582\n",
       "구                  16841\n",
       "Length: 83, dtype: int64"
      ]
     },
     "execution_count": 20,
     "metadata": {},
     "output_type": "execute_result"
    }
   ],
   "source": [
    "null_count = df.isnull().sum().sort_values()\n",
    "null_count"
   ]
  },
  {
   "cell_type": "code",
   "execution_count": 21,
   "metadata": {
    "scrolled": true
   },
   "outputs": [
    {
     "data": {
      "text/plain": [
       "<matplotlib.axes._subplots.AxesSubplot at 0x7fab0d4a14c0>"
      ]
     },
     "execution_count": 21,
     "metadata": {},
     "output_type": "execute_result"
    },
    {
     "data": {
      "image/png": "[encoded data removed]",
      "text/plain": [
       "<Figure size 576x360 with 1 Axes>"
      ]
     },
     "metadata": {
      "needs_background": "light"
     },
     "output_type": "display_data"
    }
   ],
   "source": [
    "# 결측치 개수 시각화\n",
    "null_count.tail().plot.barh(figsize=(8,5))"
   ]
  },
  {
   "cell_type": "markdown",
   "metadata": {},
   "source": [
    "# 사용하지 않을 컬럼 제거"
   ]
  },
  {
   "cell_type": "code",
   "execution_count": 22,
   "metadata": {},
   "outputs": [
    {
     "data": {
      "text/html": [
       "<div>\n",
       "<style scoped>\n",
       "    .dataframe tbody tr th:only-of-type {\n",
       "        vertical-align: middle;\n",
       "    }\n",
       "\n",
       "    .dataframe tbody tr th {\n",
       "        vertical-align: top;\n",
       "    }\n",
       "\n",
       "    .dataframe thead th {\n",
       "        text-align: right;\n",
       "    }\n",
       "</style>\n",
       "<table border=\"1\" class=\"dataframe\">\n",
       "  <thead>\n",
       "    <tr style=\"text-align: right;\">\n",
       "      <th></th>\n",
       "      <th>상권_구분_코드_명</th>\n",
       "      <th>상권_코드</th>\n",
       "      <th>상권_코드_명</th>\n",
       "      <th>서비스_업종_코드_명</th>\n",
       "      <th>분기당_매출_금액</th>\n",
       "      <th>분기당_매출_건수</th>\n",
       "      <th>주중_매출_비율</th>\n",
       "      <th>주말_매출_비율</th>\n",
       "      <th>월요일_매출_비율</th>\n",
       "      <th>화요일_매출_비율</th>\n",
       "      <th>...</th>\n",
       "      <th>연령대_10_매출_건수</th>\n",
       "      <th>연령대_20_매출_건수</th>\n",
       "      <th>연령대_30_매출_건수</th>\n",
       "      <th>연령대_40_매출_건수</th>\n",
       "      <th>연령대_50_매출_건수</th>\n",
       "      <th>연령대_60_이상_매출_건수</th>\n",
       "      <th>점포수</th>\n",
       "      <th>구</th>\n",
       "      <th>위도</th>\n",
       "      <th>경도</th>\n",
       "    </tr>\n",
       "  </thead>\n",
       "  <tbody>\n",
       "    <tr>\n",
       "      <th>0</th>\n",
       "      <td>관광특구</td>\n",
       "      <td>1001496</td>\n",
       "      <td>강남 마이스 관광특구</td>\n",
       "      <td>전자상거래업</td>\n",
       "      <td>3808746</td>\n",
       "      <td>170</td>\n",
       "      <td>75</td>\n",
       "      <td>25</td>\n",
       "      <td>0</td>\n",
       "      <td>0</td>\n",
       "      <td>...</td>\n",
       "      <td>0</td>\n",
       "      <td>5</td>\n",
       "      <td>116</td>\n",
       "      <td>49</td>\n",
       "      <td>0</td>\n",
       "      <td>0</td>\n",
       "      <td>8</td>\n",
       "      <td>NaN</td>\n",
       "      <td>NaN</td>\n",
       "      <td>NaN</td>\n",
       "    </tr>\n",
       "  </tbody>\n",
       "</table>\n",
       "<p>1 rows × 79 columns</p>\n",
       "</div>"
      ],
      "text/plain": [
       "  상권_구분_코드_명    상권_코드      상권_코드_명 서비스_업종_코드_명  분기당_매출_금액  분기당_매출_건수  \\\n",
       "0       관광특구  1001496  강남 마이스 관광특구      전자상거래업    3808746        170   \n",
       "\n",
       "   주중_매출_비율  주말_매출_비율  월요일_매출_비율  화요일_매출_비율  ...  연령대_10_매출_건수  연령대_20_매출_건수  \\\n",
       "0        75        25          0          0  ...             0             5   \n",
       "\n",
       "   연령대_30_매출_건수  연령대_40_매출_건수  연령대_50_매출_건수  연령대_60_이상_매출_건수  점포수    구  위도  경도  \n",
       "0           116            49             0                0    8  NaN NaN NaN  \n",
       "\n",
       "[1 rows x 79 columns]"
      ]
     },
     "execution_count": 22,
     "metadata": {},
     "output_type": "execute_result"
    }
   ],
   "source": [
    "df = df.drop(['기준_분기_코드','상권_구분_코드','기준_년_코드','서비스_업종_코드','기준_년_코드'], axis=1)\n",
    "df.head(1)"
   ]
  },
  {
   "cell_type": "code",
   "execution_count": 23,
   "metadata": {},
   "outputs": [
    {
     "data": {
      "text/html": [
       "<div>\n",
       "<style scoped>\n",
       "    .dataframe tbody tr th:only-of-type {\n",
       "        vertical-align: middle;\n",
       "    }\n",
       "\n",
       "    .dataframe tbody tr th {\n",
       "        vertical-align: top;\n",
       "    }\n",
       "\n",
       "    .dataframe thead th {\n",
       "        text-align: right;\n",
       "    }\n",
       "</style>\n",
       "<table border=\"1\" class=\"dataframe\">\n",
       "  <thead>\n",
       "    <tr style=\"text-align: right;\">\n",
       "      <th></th>\n",
       "      <th>상권구분</th>\n",
       "      <th>상권코드</th>\n",
       "      <th>상권명</th>\n",
       "      <th>서비스업종</th>\n",
       "      <th>분기당_매출_금액</th>\n",
       "      <th>분기당_매출_건수</th>\n",
       "      <th>주중_매출_비율</th>\n",
       "      <th>주말_매출_비율</th>\n",
       "      <th>월요일_매출_비율</th>\n",
       "      <th>화요일_매출_비율</th>\n",
       "      <th>...</th>\n",
       "      <th>연령대_10_매출_건수</th>\n",
       "      <th>연령대_20_매출_건수</th>\n",
       "      <th>연령대_30_매출_건수</th>\n",
       "      <th>연령대_40_매출_건수</th>\n",
       "      <th>연령대_50_매출_건수</th>\n",
       "      <th>연령대_60_이상_매출_건수</th>\n",
       "      <th>점포수</th>\n",
       "      <th>구</th>\n",
       "      <th>위도</th>\n",
       "      <th>경도</th>\n",
       "    </tr>\n",
       "  </thead>\n",
       "  <tbody>\n",
       "    <tr>\n",
       "      <th>0</th>\n",
       "      <td>관광특구</td>\n",
       "      <td>1001496</td>\n",
       "      <td>강남 마이스 관광특구</td>\n",
       "      <td>전자상거래업</td>\n",
       "      <td>3808746</td>\n",
       "      <td>170</td>\n",
       "      <td>75</td>\n",
       "      <td>25</td>\n",
       "      <td>0</td>\n",
       "      <td>0</td>\n",
       "      <td>...</td>\n",
       "      <td>0</td>\n",
       "      <td>5</td>\n",
       "      <td>116</td>\n",
       "      <td>49</td>\n",
       "      <td>0</td>\n",
       "      <td>0</td>\n",
       "      <td>8</td>\n",
       "      <td>NaN</td>\n",
       "      <td>NaN</td>\n",
       "      <td>NaN</td>\n",
       "    </tr>\n",
       "  </tbody>\n",
       "</table>\n",
       "<p>1 rows × 79 columns</p>\n",
       "</div>"
      ],
      "text/plain": [
       "   상권구분     상권코드          상권명   서비스업종  분기당_매출_금액  분기당_매출_건수  주중_매출_비율  \\\n",
       "0  관광특구  1001496  강남 마이스 관광특구  전자상거래업    3808746        170        75   \n",
       "\n",
       "   주말_매출_비율  월요일_매출_비율  화요일_매출_비율  ...  연령대_10_매출_건수  연령대_20_매출_건수  \\\n",
       "0        25          0          0  ...             0             5   \n",
       "\n",
       "   연령대_30_매출_건수  연령대_40_매출_건수  연령대_50_매출_건수  연령대_60_이상_매출_건수  점포수    구  위도  경도  \n",
       "0           116            49             0                0    8  NaN NaN NaN  \n",
       "\n",
       "[1 rows x 79 columns]"
      ]
     },
     "execution_count": 23,
     "metadata": {},
     "output_type": "execute_result"
    }
   ],
   "source": [
    "df.rename(columns={'상권_구분_코드_명':'상권구분',\n",
    "                   '상권_코드':'상권코드',\n",
    "                   '상권_코드_명':'상권명',\n",
    "                   '서비스_업종_코드_명':'서비스업종'\n",
    "                  },\n",
    "          inplace=True)\n",
    "df.head(1)"
   ]
  },
  {
   "cell_type": "markdown",
   "metadata": {},
   "source": [
    "# 결측치 제거"
   ]
  },
  {
   "cell_type": "code",
   "execution_count": 59,
   "metadata": {},
   "outputs": [
    {
     "data": {
      "text/plain": [
       "(132321, 79)"
      ]
     },
     "execution_count": 59,
     "metadata": {},
     "output_type": "execute_result"
    }
   ],
   "source": [
    "df.shape"
   ]
  },
  {
   "cell_type": "code",
   "execution_count": 60,
   "metadata": {},
   "outputs": [],
   "source": [
    "df = df.dropna(axis=0, how='any')"
   ]
  },
  {
   "cell_type": "code",
   "execution_count": 61,
   "metadata": {},
   "outputs": [
    {
     "data": {
      "text/plain": [
       "(115480, 79)"
      ]
     },
     "execution_count": 61,
     "metadata": {},
     "output_type": "execute_result"
    }
   ],
   "source": [
    "df.shape"
   ]
  },
  {
   "cell_type": "code",
   "execution_count": 65,
   "metadata": {
    "scrolled": true
   },
   "outputs": [
    {
     "data": {
      "text/plain": [
       "상권_구분_코드_명         0\n",
       "상권_코드              0\n",
       "상권_코드_명            0\n",
       "서비스_업종코드명          0\n",
       "분기당_매출_금액          0\n",
       "                  ..\n",
       "연령대_60_이상_매출_건수    0\n",
       "점포수                0\n",
       "구                  0\n",
       "위도                 0\n",
       "경도                 0\n",
       "Length: 79, dtype: int64"
      ]
     },
     "execution_count": 65,
     "metadata": {},
     "output_type": "execute_result"
    }
   ],
   "source": [
    "df.isna().sum()"
   ]
  },
  {
   "cell_type": "markdown",
   "metadata": {},
   "source": [
    "## 컬럼 순서 변경"
   ]
  },
  {
   "cell_type": "code",
   "execution_count": 24,
   "metadata": {},
   "outputs": [
    {
     "data": {
      "text/plain": [
       "Index(['상권구분', '상권코드', '상권명', '서비스업종', '분기당_매출_금액', '분기당_매출_건수', '주중_매출_비율',\n",
       "       '주말_매출_비율', '월요일_매출_비율', '화요일_매출_비율', '수요일_매출_비율', '목요일_매출_비율',\n",
       "       '금요일_매출_비율', '토요일_매출_비율', '일요일_매출_비율', '시간대_00~06_매출_비율',\n",
       "       '시간대_06~11_매출_비율', '시간대_11~14_매출_비율', '시간대_14~17_매출_비율',\n",
       "       '시간대_17~21_매출_비율', '시간대_21~24_매출_비율', '남성_매출_비율', '여성_매출_비율',\n",
       "       '연령대_10_매출_비율', '연령대_20_매출_비율', '연령대_30_매출_비율', '연령대_40_매출_비율',\n",
       "       '연령대_50_매출_비율', '연령대_60_이상_매출_비율', '주중_매출_금액', '주말_매출_금액', '월요일_매출_금액',\n",
       "       '화요일_매출_금액', '수요일_매출_금액', '목요일_매출_금액', '금요일_매출_금액', '토요일_매출_금액',\n",
       "       '일요일_매출_금액', '시간대_00~06_매출_금액', '시간대_06~11_매출_금액', '시간대_11~14_매출_금액',\n",
       "       '시간대_14~17_매출_금액', '시간대_17~21_매출_금액', '시간대_21~24_매출_금액', '남성_매출_금액',\n",
       "       '여성_매출_금액', '연령대_10_매출_금액', '연령대_20_매출_금액', '연령대_30_매출_금액',\n",
       "       '연령대_40_매출_금액', '연령대_50_매출_금액', '연령대_60_이상_매출_금액', '주중_매출_건수',\n",
       "       '주말_매출_건수', '월요일_매출_건수', '화요일_매출_건수', '수요일_매출_건수', '목요일_매출_건수',\n",
       "       '금요일_매출_건수', '토요일_매출_건수', '일요일_매출_건수', '시간대_건수~06_매출_건수',\n",
       "       '시간대_건수~11_매출_건수', '시간대_건수~14_매출_건수', '시간대_건수~17_매출_건수',\n",
       "       '시간대_건수~21_매출_건수', '시간대_건수~24_매출_건수', '남성_매출_건수', '여성_매출_건수',\n",
       "       '연령대_10_매출_건수', '연령대_20_매출_건수', '연령대_30_매출_건수', '연령대_40_매출_건수',\n",
       "       '연령대_50_매출_건수', '연령대_60_이상_매출_건수', '점포수', '구', '위도', '경도'],\n",
       "      dtype='object')"
      ]
     },
     "execution_count": 24,
     "metadata": {},
     "output_type": "execute_result"
    }
   ],
   "source": [
    "df.columns"
   ]
  },
  {
   "cell_type": "code",
   "execution_count": null,
   "metadata": {},
   "outputs": [],
   "source": [
    "d"
   ]
  },
  {
   "cell_type": "code",
   "execution_count": 67,
   "metadata": {},
   "outputs": [],
   "source": [
    "df.to_csv('상권데이터_전처리_2.csv', encoding='cp949', index=False)"
   ]
  },
  {
   "cell_type": "code",
   "execution_count": null,
   "metadata": {},
   "outputs": [],
   "source": []
  }
 ],
 "metadata": {
  "kernelspec": {
   "display_name": "Python 3",
   "language": "python",
   "name": "python3"
  },
  "language_info": {
   "codemirror_mode": {
    "name": "ipython",
    "version": 3
   },
   "file_extension": ".py",
   "mimetype": "text/x-python",
   "name": "python",
   "nbconvert_exporter": "python",
   "pygments_lexer": "ipython3",
   "version": "3.8.3"
  }
 },
 "nbformat": 4,
 "nbformat_minor": 5
}
