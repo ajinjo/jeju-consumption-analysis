{
 "cells": [
  {
   "cell_type": "code",
   "execution_count": 1,
   "metadata": {},
   "outputs": [],
   "source": [
    "import pandas as pd"
   ]
  },
  {
   "cell_type": "code",
   "execution_count": 2,
   "metadata": {},
   "outputs": [],
   "source": [
    "# csv 파일을 읽고 Dateframe 으로 변환합니다. 한글 깨짐 방지를 위해 인코딩 파라미터를 추가합니다.\n",
    "data = pd.read_csv('9_제주 관광을 위한 날짜별 지역 추천 데이터.csv', encoding='cp949')"
   ]
  },
  {
   "source": [
    "# 변수 설명 \n",
    "\n",
    "- 일자: 평균 기온, 일강수량, 최대 풍속을 기록한 날입니다. 하루 단위로 되어 있습니다.\n",
    "    \n",
    "- 시도명: 제주시와 서귀포시가 있습니다.\n",
    "\n",
    "- 읍면동명: 제주시와 서귀포시 각각의 읍면동명이 있습니다.\n",
    "\n",
    "- 평균기온: 섭씨온도 (℃)\n",
    "\n",
    "- 일강수량: 일일강수량 (mm)\n",
    "\n",
    "- 최대 풍속: m/s\n",
    "\n",
    "- 업종명: 다양한 업종이 있습니다.\n",
    "\n",
    "- 이용금액: 한달치 금액입니다. 하루치 금액이 아님에 주의합니다.\n",
    "    \n",
    "- 데이터기준일자: 데이터를 등록한 날짜입니다."
   ],
   "cell_type": "markdown",
   "metadata": {}
  },
  {
   "source": [
    "# 데이터 전처리"
   ],
   "cell_type": "markdown",
   "metadata": {}
  },
  {
   "source": [
    "## 확인하기"
   ],
   "cell_type": "markdown",
   "metadata": {}
  },
  {
   "cell_type": "code",
   "execution_count": 3,
   "metadata": {},
   "outputs": [
    {
     "output_type": "execute_result",
     "data": {
      "text/plain": [
       "           일자  시도명  읍면동명  평균 기온  일강수량  최대 풍속          업종명       이용금액  \\\n",
       "0  2018-01-01  제주시   추자면    5.7   0.0    1.8  과실 및 채소 소매업   13569170   \n",
       "1  2018-01-01  제주시  이도1동    2.9   0.0    2.4      중식 음식점업   18299000   \n",
       "2  2018-01-01  제주시  이도1동    2.9   0.0    2.4  전시 및 행사 대행업     819550   \n",
       "3  2018-01-01  제주시  이도1동    2.9   0.0    2.4      일식 음식점업   32160000   \n",
       "4  2018-01-01  제주시  이도1동    2.9   0.0    2.4     일반유흥 주점업  199833010   \n",
       "\n",
       "      데이터기준일자  \n",
       "0  2020-12-15  \n",
       "1  2020-12-15  \n",
       "2  2020-12-15  \n",
       "3  2020-12-15  \n",
       "4  2020-12-15  "
      ],
      "text/html": "<div>\n<style scoped>\n    .dataframe tbody tr th:only-of-type {\n        vertical-align: middle;\n    }\n\n    .dataframe tbody tr th {\n        vertical-align: top;\n    }\n\n    .dataframe thead th {\n        text-align: right;\n    }\n</style>\n<table border=\"1\" class=\"dataframe\">\n  <thead>\n    <tr style=\"text-align: right;\">\n      <th></th>\n      <th>일자</th>\n      <th>시도명</th>\n      <th>읍면동명</th>\n      <th>평균 기온</th>\n      <th>일강수량</th>\n      <th>최대 풍속</th>\n      <th>업종명</th>\n      <th>이용금액</th>\n      <th>데이터기준일자</th>\n    </tr>\n  </thead>\n  <tbody>\n    <tr>\n      <th>0</th>\n      <td>2018-01-01</td>\n      <td>제주시</td>\n      <td>추자면</td>\n      <td>5.7</td>\n      <td>0.0</td>\n      <td>1.8</td>\n      <td>과실 및 채소 소매업</td>\n      <td>13569170</td>\n      <td>2020-12-15</td>\n    </tr>\n    <tr>\n      <th>1</th>\n      <td>2018-01-01</td>\n      <td>제주시</td>\n      <td>이도1동</td>\n      <td>2.9</td>\n      <td>0.0</td>\n      <td>2.4</td>\n      <td>중식 음식점업</td>\n      <td>18299000</td>\n      <td>2020-12-15</td>\n    </tr>\n    <tr>\n      <th>2</th>\n      <td>2018-01-01</td>\n      <td>제주시</td>\n      <td>이도1동</td>\n      <td>2.9</td>\n      <td>0.0</td>\n      <td>2.4</td>\n      <td>전시 및 행사 대행업</td>\n      <td>819550</td>\n      <td>2020-12-15</td>\n    </tr>\n    <tr>\n      <th>3</th>\n      <td>2018-01-01</td>\n      <td>제주시</td>\n      <td>이도1동</td>\n      <td>2.9</td>\n      <td>0.0</td>\n      <td>2.4</td>\n      <td>일식 음식점업</td>\n      <td>32160000</td>\n      <td>2020-12-15</td>\n    </tr>\n    <tr>\n      <th>4</th>\n      <td>2018-01-01</td>\n      <td>제주시</td>\n      <td>이도1동</td>\n      <td>2.9</td>\n      <td>0.0</td>\n      <td>2.4</td>\n      <td>일반유흥 주점업</td>\n      <td>199833010</td>\n      <td>2020-12-15</td>\n    </tr>\n  </tbody>\n</table>\n</div>"
     },
     "metadata": {},
     "execution_count": 3
    }
   ],
   "source": [
    "# 테이블을 확인합니다.\n",
    "data.head()"
   ]
  },
  {
   "cell_type": "code",
   "execution_count": 31,
   "metadata": {},
   "outputs": [
    {
     "output_type": "stream",
     "name": "stdout",
     "text": [
      "<class 'pandas.core.frame.DataFrame'>\nRangeIndex: 1603367 entries, 0 to 1603366\nData columns (total 11 columns):\n #   Column    Non-Null Count    Dtype         \n---  ------    --------------    -----         \n 0   일자        1603367 non-null  object        \n 1   시도명       1603367 non-null  object        \n 2   읍면동명      1603367 non-null  object        \n 3   평균 기온     1591259 non-null  float64       \n 4   일강수량      1601446 non-null  float64       \n 5   최대 풍속     1577476 non-null  float64       \n 6   업종명       1603367 non-null  object        \n 7   이용금액      1603367 non-null  int64         \n 8   datetime  1603367 non-null  datetime64[ns]\n 9   quarter   1603367 non-null  int64         \n 10  month     1603367 non-null  int64         \ndtypes: datetime64[ns](1), float64(3), int64(3), object(4)\nmemory usage: 134.6+ MB\n"
     ]
    }
   ],
   "source": [
    "# 결측치가 없는 것을 확인합니다.\n",
    "# 수치 데이터가 숫자형으로 되어있는지 확인합니다.\n",
    "data.info()"
   ]
  },
  {
   "cell_type": "code",
   "execution_count": 30,
   "metadata": {},
   "outputs": [
    {
     "output_type": "execute_result",
     "data": {
      "text/plain": [
       "한식 음식점업                    57975\n",
       "슈퍼마켓                       57975\n",
       "체인화 편의점                    57975\n",
       "과실 및 채소 소매업                57975\n",
       "중식 음식점업                    57945\n",
       "서양식 음식점업                   57491\n",
       "수산물 소매업                    57424\n",
       "비알콜 음료점업                   57248\n",
       "육류 소매업                     56727\n",
       "빵 및 과자류 소매업                56670\n",
       "차량용 주유소 운영업                56273\n",
       "여관업                        56221\n",
       "일식 음식점업                    55614\n",
       "스포츠 및 레크레이션 용품 임대업         55090\n",
       "기타음식료품위주종합소매업              53218\n",
       "기타 외국식 음식점업                52798\n",
       "피자, 햄버거, 샌드위치 및 유사 음식점업    52787\n",
       "그외 기타 종합 소매업               52143\n",
       "차량용 가스 충전업                 51023\n",
       "전시 및 행사 대행업                50728\n",
       "욕탕업                        50483\n",
       "관광 민예품 및 선물용품 소매업          50334\n",
       "화장품 및 방향제 소매업              50140\n",
       "기타 주점업                     47593\n",
       "건강보조식품 소매업                 44496\n",
       "일반유흥 주점업                   38185\n",
       "여행사업                       34354\n",
       "호텔업                        27587\n",
       "골프장 운영업                    23953\n",
       "그외 기타 스포츠시설 운영업            21209\n",
       "휴양콘도 운영업                   19650\n",
       "자동차 임대업                    18005\n",
       "마사지업                       14311\n",
       "기타 수상오락 서비스업               13617\n",
       "기타 대형 종합 소매업               11418\n",
       "내항 여객 운송업                   8482\n",
       "그외 기타 분류안된 오락관련 서비스업        8319\n",
       "면세점                         4771\n",
       "택시 운송업                      2371\n",
       "기타 갬블링 및 베팅업                1670\n",
       "정기 항공 운송업                    846\n",
       "버스 운송업                       273\n",
       "Name: 업종명, dtype: int64"
      ]
     },
     "metadata": {},
     "execution_count": 30
    }
   ],
   "source": [
    "# 업종별 개수를 확인합니다.\n",
    "data['업종명'].value_counts()"
   ]
  },
  {
   "cell_type": "code",
   "execution_count": 29,
   "metadata": {},
   "outputs": [
    {
     "output_type": "execute_result",
     "data": {
      "text/plain": [
       "대천동        575\n",
       "추자면      11965\n",
       "봉개동      16167\n",
       "영천동      17202\n",
       "우도면      18967\n",
       "도두동      19028\n",
       "용담2동     20575\n",
       "이호동      21034\n",
       "서홍동      21303\n",
       "일도1동     22246\n",
       "동홍동      22797\n",
       "오라동      22916\n",
       "건입동      23464\n",
       "이도1동     23527\n",
       "표선면      23921\n",
       "삼도2동     24072\n",
       "삼도1동     24254\n",
       "중앙동      24313\n",
       "정방동      24313\n",
       "용담1동     24435\n",
       "일도2동     24467\n",
       "외도동      24498\n",
       "대륜동      24890\n",
       "이도2동     25622\n",
       "중문동      25982\n",
       "안덕면      25986\n",
       "노형동      28764\n",
       "연동       29098\n",
       "성산읍      36254\n",
       "예래동      40977\n",
       "한경면      45058\n",
       "한림읍      49480\n",
       "천지동      52458\n",
       "송산동      52942\n",
       "효돈동      66696\n",
       "화북동      68356\n",
       "삼양동      68378\n",
       "아라동      69962\n",
       "대정읍      71561\n",
       "구좌읍      72714\n",
       "조천읍      80964\n",
       "남원읍      94440\n",
       "애월읍     116746\n",
       "Name: 읍면동명, dtype: int64"
      ]
     },
     "metadata": {},
     "execution_count": 29
    }
   ],
   "source": [
    "# 누락된 지역이 없는지 확인합니다.\n",
    "data['읍면동명'].value_counts(ascending=True)"
   ]
  },
  {
   "source": [
    "## 제거하기"
   ],
   "cell_type": "markdown",
   "metadata": {}
  },
  {
   "cell_type": "code",
   "execution_count": 5,
   "metadata": {},
   "outputs": [],
   "source": [
    "# 데이터기준일자 컬럼은 필요 없으므로 제거합니다\n",
    "data.drop(['데이터기준일자'], axis=1, inplace=True)"
   ]
  },
  {
   "source": [
    "## 추가하기"
   ],
   "cell_type": "markdown",
   "metadata": {}
  },
  {
   "cell_type": "code",
   "execution_count": 6,
   "metadata": {},
   "outputs": [],
   "source": [
    "# datetime 컬럼을 만듭니다. \n",
    "data['datetime'] = pd.to_datetime(data['일자'])"
   ]
  },
  {
   "cell_type": "code",
   "execution_count": 7,
   "metadata": {},
   "outputs": [
    {
     "output_type": "stream",
     "name": "stdout",
     "text": [
      "<class 'pandas.core.frame.DataFrame'>\nRangeIndex: 1603367 entries, 0 to 1603366\nData columns (total 9 columns):\n #   Column    Non-Null Count    Dtype         \n---  ------    --------------    -----         \n 0   일자        1603367 non-null  object        \n 1   시도명       1603367 non-null  object        \n 2   읍면동명      1603367 non-null  object        \n 3   평균 기온     1591259 non-null  float64       \n 4   일강수량      1601446 non-null  float64       \n 5   최대 풍속     1577476 non-null  float64       \n 6   업종명       1603367 non-null  object        \n 7   이용금액      1603367 non-null  int64         \n 8   datetime  1603367 non-null  datetime64[ns]\ndtypes: datetime64[ns](1), float64(3), int64(1), object(4)\nmemory usage: 110.1+ MB\n"
     ]
    }
   ],
   "source": [
    "# 만든 컬럼을 확인합니다.\n",
    "data.info()"
   ]
  },
  {
   "cell_type": "code",
   "execution_count": 8,
   "metadata": {},
   "outputs": [
    {
     "output_type": "execute_result",
     "data": {
      "text/plain": [
       "(Timestamp('2018-01-01 00:00:00'), Timestamp('2020-04-30 00:00:00'))"
      ]
     },
     "metadata": {},
     "execution_count": 8
    }
   ],
   "source": [
    "# 데이터의 첫 날과 마지막 날을 확인합니다.\n",
    "# 2018-01-01 부터 2020-04-30 까지 있습니다.\n",
    "data['datetime'].min(), data['datetime'].max()"
   ]
  },
  {
   "cell_type": "code",
   "execution_count": 9,
   "metadata": {},
   "outputs": [
    {
     "output_type": "execute_result",
     "data": {
      "text/plain": [
       "Timedelta('850 days 00:00:00')"
      ]
     },
     "metadata": {},
     "execution_count": 9
    }
   ],
   "source": [
    "# 데이터의 전체 기간을 확인합니다.\n",
    "# 총 850 일입니다.\n",
    "data['datetime'].max() - data['datetime'].min()"
   ]
  },
  {
   "cell_type": "code",
   "execution_count": 10,
   "metadata": {},
   "outputs": [],
   "source": [
    "# 분기(quarter)와 달(month) 컬럼을 추가합니다.\n",
    "data[\"quarter\"] = data[\"datetime\"].dt.quarter\n",
    "data[\"month\"] = data[\"datetime\"].dt.month"
   ]
  },
  {
   "cell_type": "code",
   "execution_count": 11,
   "metadata": {},
   "outputs": [
    {
     "output_type": "execute_result",
     "data": {
      "text/plain": [
       "                 일자   시도명 읍면동명  평균 기온  일강수량  최대 풍속            업종명        이용금액  \\\n",
       "1603362  2020-04-30   제주시  아라동   11.5   0.0    6.6        한식 음식점업  1305124430   \n",
       "1603363  2020-04-30   제주시  아라동   11.5   0.0    6.6  화장품 및 방향제 소매업    11806070   \n",
       "1603364  2020-04-30  서귀포시  표선면   18.1   0.0    4.7       휴양콘도 운영업    37804200   \n",
       "1603365  2020-04-30   제주시  아라동   11.5   0.0    6.6           여행사업     8600000   \n",
       "1603366  2020-04-30   제주시  애월읍   20.6   0.0    5.4       휴양콘도 운영업     6629916   \n",
       "\n",
       "          datetime  quarter  month  \n",
       "1603362 2020-04-30        2      4  \n",
       "1603363 2020-04-30        2      4  \n",
       "1603364 2020-04-30        2      4  \n",
       "1603365 2020-04-30        2      4  \n",
       "1603366 2020-04-30        2      4  "
      ],
      "text/html": "<div>\n<style scoped>\n    .dataframe tbody tr th:only-of-type {\n        vertical-align: middle;\n    }\n\n    .dataframe tbody tr th {\n        vertical-align: top;\n    }\n\n    .dataframe thead th {\n        text-align: right;\n    }\n</style>\n<table border=\"1\" class=\"dataframe\">\n  <thead>\n    <tr style=\"text-align: right;\">\n      <th></th>\n      <th>일자</th>\n      <th>시도명</th>\n      <th>읍면동명</th>\n      <th>평균 기온</th>\n      <th>일강수량</th>\n      <th>최대 풍속</th>\n      <th>업종명</th>\n      <th>이용금액</th>\n      <th>datetime</th>\n      <th>quarter</th>\n      <th>month</th>\n    </tr>\n  </thead>\n  <tbody>\n    <tr>\n      <th>1603362</th>\n      <td>2020-04-30</td>\n      <td>제주시</td>\n      <td>아라동</td>\n      <td>11.5</td>\n      <td>0.0</td>\n      <td>6.6</td>\n      <td>한식 음식점업</td>\n      <td>1305124430</td>\n      <td>2020-04-30</td>\n      <td>2</td>\n      <td>4</td>\n    </tr>\n    <tr>\n      <th>1603363</th>\n      <td>2020-04-30</td>\n      <td>제주시</td>\n      <td>아라동</td>\n      <td>11.5</td>\n      <td>0.0</td>\n      <td>6.6</td>\n      <td>화장품 및 방향제 소매업</td>\n      <td>11806070</td>\n      <td>2020-04-30</td>\n      <td>2</td>\n      <td>4</td>\n    </tr>\n    <tr>\n      <th>1603364</th>\n      <td>2020-04-30</td>\n      <td>서귀포시</td>\n      <td>표선면</td>\n      <td>18.1</td>\n      <td>0.0</td>\n      <td>4.7</td>\n      <td>휴양콘도 운영업</td>\n      <td>37804200</td>\n      <td>2020-04-30</td>\n      <td>2</td>\n      <td>4</td>\n    </tr>\n    <tr>\n      <th>1603365</th>\n      <td>2020-04-30</td>\n      <td>제주시</td>\n      <td>아라동</td>\n      <td>11.5</td>\n      <td>0.0</td>\n      <td>6.6</td>\n      <td>여행사업</td>\n      <td>8600000</td>\n      <td>2020-04-30</td>\n      <td>2</td>\n      <td>4</td>\n    </tr>\n    <tr>\n      <th>1603366</th>\n      <td>2020-04-30</td>\n      <td>제주시</td>\n      <td>애월읍</td>\n      <td>20.6</td>\n      <td>0.0</td>\n      <td>5.4</td>\n      <td>휴양콘도 운영업</td>\n      <td>6629916</td>\n      <td>2020-04-30</td>\n      <td>2</td>\n      <td>4</td>\n    </tr>\n  </tbody>\n</table>\n</div>"
     },
     "metadata": {},
     "execution_count": 11
    }
   ],
   "source": [
    "# 추가된 컬럼을 확인합니다.\n",
    "data.tail()"
   ]
  },
  {
   "source": [
    "# 데이터 분석"
   ],
   "cell_type": "markdown",
   "metadata": {}
  },
  {
   "source": [
    "------------------------------------------------------\n",
    "\n",
    "첫 번째\n",
    "\n",
    "    2018-01-01 부터 2020-04-30 사이에 가장 높은 이용금액을 가진 업종을 찾는다\n",
    "\n",
    "------------------------------------------------------\n"
   ],
   "cell_type": "markdown",
   "metadata": {}
  },
  {
   "cell_type": "code",
   "execution_count": 12,
   "metadata": {},
   "outputs": [
    {
     "output_type": "execute_result",
     "data": {
      "text/plain": [
       "                일자  시도명  읍면동명  평균 기온  일강수량  최대 풍속  업종명         이용금액  \\\n",
       "947368  2019-05-22  제주시  용담2동   22.4   0.0    4.9  면세점  10764369591   \n",
       "948872  2019-05-23  제주시  용담2동   25.1   0.0    5.2  면세점  10764369591   \n",
       "912894  2019-05-04  제주시  용담2동   18.0   0.0    2.5  면세점  10764369591   \n",
       "942991  2019-05-20  제주시  용담2동   14.7   1.5    3.4  면세점  10764369591   \n",
       "941199  2019-05-19  제주시  용담2동   21.2   1.5    4.8  면세점  10764369591   \n",
       "\n",
       "         datetime  quarter  month  \n",
       "947368 2019-05-22        2      5  \n",
       "948872 2019-05-23        2      5  \n",
       "912894 2019-05-04        2      5  \n",
       "942991 2019-05-20        2      5  \n",
       "941199 2019-05-19        2      5  "
      ],
      "text/html": "<div>\n<style scoped>\n    .dataframe tbody tr th:only-of-type {\n        vertical-align: middle;\n    }\n\n    .dataframe tbody tr th {\n        vertical-align: top;\n    }\n\n    .dataframe thead th {\n        text-align: right;\n    }\n</style>\n<table border=\"1\" class=\"dataframe\">\n  <thead>\n    <tr style=\"text-align: right;\">\n      <th></th>\n      <th>일자</th>\n      <th>시도명</th>\n      <th>읍면동명</th>\n      <th>평균 기온</th>\n      <th>일강수량</th>\n      <th>최대 풍속</th>\n      <th>업종명</th>\n      <th>이용금액</th>\n      <th>datetime</th>\n      <th>quarter</th>\n      <th>month</th>\n    </tr>\n  </thead>\n  <tbody>\n    <tr>\n      <th>947368</th>\n      <td>2019-05-22</td>\n      <td>제주시</td>\n      <td>용담2동</td>\n      <td>22.4</td>\n      <td>0.0</td>\n      <td>4.9</td>\n      <td>면세점</td>\n      <td>10764369591</td>\n      <td>2019-05-22</td>\n      <td>2</td>\n      <td>5</td>\n    </tr>\n    <tr>\n      <th>948872</th>\n      <td>2019-05-23</td>\n      <td>제주시</td>\n      <td>용담2동</td>\n      <td>25.1</td>\n      <td>0.0</td>\n      <td>5.2</td>\n      <td>면세점</td>\n      <td>10764369591</td>\n      <td>2019-05-23</td>\n      <td>2</td>\n      <td>5</td>\n    </tr>\n    <tr>\n      <th>912894</th>\n      <td>2019-05-04</td>\n      <td>제주시</td>\n      <td>용담2동</td>\n      <td>18.0</td>\n      <td>0.0</td>\n      <td>2.5</td>\n      <td>면세점</td>\n      <td>10764369591</td>\n      <td>2019-05-04</td>\n      <td>2</td>\n      <td>5</td>\n    </tr>\n    <tr>\n      <th>942991</th>\n      <td>2019-05-20</td>\n      <td>제주시</td>\n      <td>용담2동</td>\n      <td>14.7</td>\n      <td>1.5</td>\n      <td>3.4</td>\n      <td>면세점</td>\n      <td>10764369591</td>\n      <td>2019-05-20</td>\n      <td>2</td>\n      <td>5</td>\n    </tr>\n    <tr>\n      <th>941199</th>\n      <td>2019-05-19</td>\n      <td>제주시</td>\n      <td>용담2동</td>\n      <td>21.2</td>\n      <td>1.5</td>\n      <td>4.8</td>\n      <td>면세점</td>\n      <td>10764369591</td>\n      <td>2019-05-19</td>\n      <td>2</td>\n      <td>5</td>\n    </tr>\n  </tbody>\n</table>\n</div>"
     },
     "metadata": {},
     "execution_count": 12
    }
   ],
   "source": [
    "# 이용금액 내림차순 정렬\n",
    "data.sort_values(by='이용금액' , ascending=False).head()\n"
   ]
  },
  {
   "source": [
    "- 결론: 코로나 이전(2019년도)에 용담2동 공항에서 면세점이 가장 높은 이용금액을 가지고 있다.\n",
    "\n",
    "- 문제 제기: 코로나 이후에는 면세점이 다른 업종에 밀렸을까?"
   ],
   "cell_type": "markdown",
   "metadata": {}
  },
  {
   "source": [
    "------------------------------------------------------\n",
    "\n",
    "두 번째\n",
    "\n",
    "     2020-01-01 부터 2020-04-30 사이에 가장 높은 이용금액을 가진 업종을 찾는다\n",
    "\n",
    "------------------------------------------------------"
   ],
   "cell_type": "markdown",
   "metadata": {}
  },
  {
   "cell_type": "code",
   "execution_count": 22,
   "metadata": {},
   "outputs": [],
   "source": [
    "# 2019년 이후의 행만 선택\n",
    "dataSubset = data[ data[\"datetime\"].dt.year > 2019 ]"
   ]
  },
  {
   "cell_type": "code",
   "execution_count": 23,
   "metadata": {},
   "outputs": [
    {
     "output_type": "execute_result",
     "data": {
      "text/plain": [
       "                 일자  시도명  읍면동명  평균 기온  일강수량  최대 풍속  업종명        이용금액  \\\n",
       "1406339  2020-01-17  제주시  용담2동    3.5   0.0    2.1  면세점  8854495220   \n",
       "1432979  2020-01-31  제주시  용담2동    4.0   0.0    2.6  면세점  8854495220   \n",
       "1393651  2020-01-10  제주시  용담2동    4.7   0.0    1.9  면세점  8854495220   \n",
       "1415175  2020-01-21  제주시  용담2동    4.3   0.0    2.1  면세점  8854495220   \n",
       "1389041  2020-01-08  제주시  용담2동    5.3   7.5    5.7  면세점  8854495220   \n",
       "\n",
       "          datetime  quarter  month  \n",
       "1406339 2020-01-17        1      1  \n",
       "1432979 2020-01-31        1      1  \n",
       "1393651 2020-01-10        1      1  \n",
       "1415175 2020-01-21        1      1  \n",
       "1389041 2020-01-08        1      1  "
      ],
      "text/html": "<div>\n<style scoped>\n    .dataframe tbody tr th:only-of-type {\n        vertical-align: middle;\n    }\n\n    .dataframe tbody tr th {\n        vertical-align: top;\n    }\n\n    .dataframe thead th {\n        text-align: right;\n    }\n</style>\n<table border=\"1\" class=\"dataframe\">\n  <thead>\n    <tr style=\"text-align: right;\">\n      <th></th>\n      <th>일자</th>\n      <th>시도명</th>\n      <th>읍면동명</th>\n      <th>평균 기온</th>\n      <th>일강수량</th>\n      <th>최대 풍속</th>\n      <th>업종명</th>\n      <th>이용금액</th>\n      <th>datetime</th>\n      <th>quarter</th>\n      <th>month</th>\n    </tr>\n  </thead>\n  <tbody>\n    <tr>\n      <th>1406339</th>\n      <td>2020-01-17</td>\n      <td>제주시</td>\n      <td>용담2동</td>\n      <td>3.5</td>\n      <td>0.0</td>\n      <td>2.1</td>\n      <td>면세점</td>\n      <td>8854495220</td>\n      <td>2020-01-17</td>\n      <td>1</td>\n      <td>1</td>\n    </tr>\n    <tr>\n      <th>1432979</th>\n      <td>2020-01-31</td>\n      <td>제주시</td>\n      <td>용담2동</td>\n      <td>4.0</td>\n      <td>0.0</td>\n      <td>2.6</td>\n      <td>면세점</td>\n      <td>8854495220</td>\n      <td>2020-01-31</td>\n      <td>1</td>\n      <td>1</td>\n    </tr>\n    <tr>\n      <th>1393651</th>\n      <td>2020-01-10</td>\n      <td>제주시</td>\n      <td>용담2동</td>\n      <td>4.7</td>\n      <td>0.0</td>\n      <td>1.9</td>\n      <td>면세점</td>\n      <td>8854495220</td>\n      <td>2020-01-10</td>\n      <td>1</td>\n      <td>1</td>\n    </tr>\n    <tr>\n      <th>1415175</th>\n      <td>2020-01-21</td>\n      <td>제주시</td>\n      <td>용담2동</td>\n      <td>4.3</td>\n      <td>0.0</td>\n      <td>2.1</td>\n      <td>면세점</td>\n      <td>8854495220</td>\n      <td>2020-01-21</td>\n      <td>1</td>\n      <td>1</td>\n    </tr>\n    <tr>\n      <th>1389041</th>\n      <td>2020-01-08</td>\n      <td>제주시</td>\n      <td>용담2동</td>\n      <td>5.3</td>\n      <td>7.5</td>\n      <td>5.7</td>\n      <td>면세점</td>\n      <td>8854495220</td>\n      <td>2020-01-08</td>\n      <td>1</td>\n      <td>1</td>\n    </tr>\n  </tbody>\n</table>\n</div>"
     },
     "metadata": {},
     "execution_count": 23
    }
   ],
   "source": [
    "# 이용금액 내림차순 정렬\n",
    "dataSubset.sort_values(by='이용금액' , ascending=False).head()"
   ]
  },
  {
   "source": [
    "- 결론: 코로나 초기에도 면세점이 가장 높은 이용금액을 가지고 있다."
   ],
   "cell_type": "markdown",
   "metadata": {}
  },
  {
   "cell_type": "code",
   "execution_count": 16,
   "metadata": {},
   "outputs": [],
   "source": [
    "# dataPopularSector = data.groupby()"
   ]
  },
  {
   "source": [
    "------------------------------------------------------\n",
    "\n",
    "앞으로 할 일\n",
    "\n",
    "    - 면세점 외에도 높은 이용금액을 가진 업종 몇 가지 더 살펴보기\n",
    "    - 날씨와 이용금액의 상관관계 찾아보기\n",
    "    - 행을 분기별로 합쳐보기\n",
    "    - 그래프 그릴 내용 생각하기\n",
    "    \n",
    "------------------------------------------------------"
   ],
   "cell_type": "markdown",
   "metadata": {}
  },
  {
   "cell_type": "code",
   "execution_count": null,
   "metadata": {},
   "outputs": [],
   "source": []
  }
 ],
 "metadata": {
  "kernelspec": {
   "name": "python3",
   "display_name": "Python 3.8.8 64-bit ('base': conda)"
  },
  "language_info": {
   "codemirror_mode": {
    "name": "ipython",
    "version": 3
   },
   "file_extension": ".py",
   "mimetype": "text/x-python",
   "name": "python",
   "nbconvert_exporter": "python",
   "pygments_lexer": "ipython3",
   "version": "3.8.8"
  },
  "interpreter": {
   "hash": "1619dfd23358a9823e28008d39223c9ab6631fc7c2f2a28f1c272fd520fc174a"
  }
 },
 "nbformat": 4,
 "nbformat_minor": 5
}