{
 "cells": [
  {
   "cell_type": "markdown",
   "metadata": {},
   "source": [
    "# 제주 예비창업자를 위한 업종별 카드 매출과 매장수 데이터 분석"
   ]
  },
  {
   "cell_type": "code",
   "execution_count": 18,
   "metadata": {
    "scrolled": true
   },
   "outputs": [
    {
     "name": "stdout",
     "output_type": "stream",
     "text": [
      "1_제주 예비창업자를 위한 업종별 카드 매출과 매장수 데이터 활용.csv\r\n",
      "3_상권분석을 위한 유동인구에 따른 카드 매출액 변화 데이터 활용.csv\r\n",
      "5_제주 전기버스 우선도입노선 파악을 위한 데이터(2020.4).csv\r\n",
      "9_제주 관광을 위한 날짜별 지역 추천 데이터.csv\r\n",
      "jeju_sujin.csv\r\n",
      "제주특별자치도 서귀포시_경제활동별지역내총생산현황_20201231.csv\r\n",
      "제주특별자치도_개별관광(FIT)_증가에_따른_제주_관광객_소비패턴_변화_분석_BC카드_빅데이터_내국인관광객_20170216.csv\r\n",
      "제주특별자치도_제주도장소(POI)데이터_20151231.csv\r\n"
     ]
    }
   ],
   "source": [
    "%ls ../../datasets/"
   ]
  },
  {
   "cell_type": "code",
   "execution_count": 19,
   "metadata": {},
   "outputs": [],
   "source": [
    "filepath = '../../datasets/jeju_sujin.csv'"
   ]
  },
  {
   "cell_type": "markdown",
   "metadata": {},
   "source": [
    "## 필요 라이브러리 불러오기"
   ]
  },
  {
   "cell_type": "code",
   "execution_count": 328,
   "metadata": {},
   "outputs": [],
   "source": [
    "import pandas as pd\n",
    "import numpy as np\n",
    "import matplotlib.pyplot as plt\n",
    "import matplotlib.ticker as mticker\n",
    "import seaborn as sns"
   ]
  },
  {
   "cell_type": "code",
   "execution_count": 21,
   "metadata": {},
   "outputs": [],
   "source": [
    "pd.options.display.max_columns = 100\n",
    "pd.options.display.float_format = lambda x: '%.3f' % x"
   ]
  },
  {
   "cell_type": "code",
   "execution_count": 36,
   "metadata": {},
   "outputs": [],
   "source": [
    "plt.rc('font', family='AppleGothic')"
   ]
  },
  {
   "cell_type": "markdown",
   "metadata": {},
   "source": [
    "## 데이터 불러오기"
   ]
  },
  {
   "cell_type": "code",
   "execution_count": 23,
   "metadata": {
    "scrolled": false
   },
   "outputs": [
    {
     "data": {
      "text/html": [
       "<div>\n",
       "<style scoped>\n",
       "    .dataframe tbody tr th:only-of-type {\n",
       "        vertical-align: middle;\n",
       "    }\n",
       "\n",
       "    .dataframe tbody tr th {\n",
       "        vertical-align: top;\n",
       "    }\n",
       "\n",
       "    .dataframe thead th {\n",
       "        text-align: right;\n",
       "    }\n",
       "</style>\n",
       "<table border=\"1\" class=\"dataframe\">\n",
       "  <thead>\n",
       "    <tr style=\"text-align: right;\">\n",
       "      <th></th>\n",
       "      <th>연도</th>\n",
       "      <th>월</th>\n",
       "      <th>분기</th>\n",
       "      <th>시도명</th>\n",
       "      <th>지역구분</th>\n",
       "      <th>읍면동명</th>\n",
       "      <th>업종명 대분류</th>\n",
       "      <th>업종명</th>\n",
       "      <th>이용자 구분</th>\n",
       "      <th>관광구분</th>\n",
       "      <th>연령대</th>\n",
       "      <th>성별</th>\n",
       "      <th>이용금액</th>\n",
       "      <th>매장수</th>\n",
       "    </tr>\n",
       "  </thead>\n",
       "  <tbody>\n",
       "    <tr>\n",
       "      <th>0</th>\n",
       "      <td>2017</td>\n",
       "      <td>1</td>\n",
       "      <td>1</td>\n",
       "      <td>서귀포시</td>\n",
       "      <td>도심</td>\n",
       "      <td>강정동</td>\n",
       "      <td>소매업</td>\n",
       "      <td>슈퍼마켓</td>\n",
       "      <td>제주도민</td>\n",
       "      <td>도민</td>\n",
       "      <td>50.000</td>\n",
       "      <td>여성</td>\n",
       "      <td>365160</td>\n",
       "      <td>214</td>\n",
       "    </tr>\n",
       "    <tr>\n",
       "      <th>1</th>\n",
       "      <td>2017</td>\n",
       "      <td>1</td>\n",
       "      <td>1</td>\n",
       "      <td>제주시</td>\n",
       "      <td>도심</td>\n",
       "      <td>삼도일동</td>\n",
       "      <td>숙박업</td>\n",
       "      <td>여관업</td>\n",
       "      <td>제주도민</td>\n",
       "      <td>도민</td>\n",
       "      <td>60.000</td>\n",
       "      <td>여성</td>\n",
       "      <td>40000</td>\n",
       "      <td>1610</td>\n",
       "    </tr>\n",
       "    <tr>\n",
       "      <th>2</th>\n",
       "      <td>2017</td>\n",
       "      <td>1</td>\n",
       "      <td>1</td>\n",
       "      <td>제주시</td>\n",
       "      <td>도심</td>\n",
       "      <td>삼양이동</td>\n",
       "      <td>숙박업</td>\n",
       "      <td>여관업</td>\n",
       "      <td>제주도민</td>\n",
       "      <td>도민</td>\n",
       "      <td>20.000</td>\n",
       "      <td>여성</td>\n",
       "      <td>162000</td>\n",
       "      <td>1610</td>\n",
       "    </tr>\n",
       "    <tr>\n",
       "      <th>3</th>\n",
       "      <td>2017</td>\n",
       "      <td>1</td>\n",
       "      <td>1</td>\n",
       "      <td>제주시</td>\n",
       "      <td>도심</td>\n",
       "      <td>삼양이동</td>\n",
       "      <td>숙박업</td>\n",
       "      <td>여관업</td>\n",
       "      <td>제주도민</td>\n",
       "      <td>도민</td>\n",
       "      <td>50.000</td>\n",
       "      <td>남성</td>\n",
       "      <td>70000</td>\n",
       "      <td>1610</td>\n",
       "    </tr>\n",
       "    <tr>\n",
       "      <th>4</th>\n",
       "      <td>2017</td>\n",
       "      <td>1</td>\n",
       "      <td>1</td>\n",
       "      <td>제주시</td>\n",
       "      <td>도심</td>\n",
       "      <td>삼도이동</td>\n",
       "      <td>숙박업</td>\n",
       "      <td>여관업</td>\n",
       "      <td>내국인</td>\n",
       "      <td>개별</td>\n",
       "      <td>40.000</td>\n",
       "      <td>남성</td>\n",
       "      <td>3150460</td>\n",
       "      <td>1610</td>\n",
       "    </tr>\n",
       "  </tbody>\n",
       "</table>\n",
       "</div>"
      ],
      "text/plain": [
       "     연도  월  분기   시도명 지역구분  읍면동명 업종명 대분류   업종명 이용자 구분 관광구분    연령대  성별     이용금액  \\\n",
       "0  2017  1   1  서귀포시   도심   강정동     소매업  슈퍼마켓   제주도민   도민 50.000  여성   365160   \n",
       "1  2017  1   1   제주시   도심  삼도일동     숙박업   여관업   제주도민   도민 60.000  여성    40000   \n",
       "2  2017  1   1   제주시   도심  삼양이동     숙박업   여관업   제주도민   도민 20.000  여성   162000   \n",
       "3  2017  1   1   제주시   도심  삼양이동     숙박업   여관업   제주도민   도민 50.000  남성    70000   \n",
       "4  2017  1   1   제주시   도심  삼도이동     숙박업   여관업    내국인   개별 40.000  남성  3150460   \n",
       "\n",
       "    매장수  \n",
       "0   214  \n",
       "1  1610  \n",
       "2  1610  \n",
       "3  1610  \n",
       "4  1610  "
      ]
     },
     "execution_count": 23,
     "metadata": {},
     "output_type": "execute_result"
    }
   ],
   "source": [
    "df_card = pd.read_csv(filepath)\n",
    "df_card.head()"
   ]
  },
  {
   "cell_type": "code",
   "execution_count": 24,
   "metadata": {},
   "outputs": [
    {
     "data": {
      "text/plain": [
       "(1496856, 14)"
      ]
     },
     "execution_count": 24,
     "metadata": {},
     "output_type": "execute_result"
    }
   ],
   "source": [
    "df_card.shape"
   ]
  },
  {
   "cell_type": "markdown",
   "metadata": {},
   "source": [
    "# 분석 계획\n",
    "(데이터 행 == 결제 건)이 아니라서 변수 분석만 가지고는 인사이트 도출할 수 없음 ㅠ\n",
    "groupby사용해서 데이터프레임 서브셋 여러 개 만들어서 봐야 할 듯\n",
    "\n",
    "\n",
    "1. 인기 업종 분석\n",
    "  * 이용 금액이 높은 업종 \n",
    "      - 주로 음식점, 소매업!!\n",
    "      - 면세점 ** \n",
    "  * 매장 수 대비 이용 금액\n",
    "      - 가성비(?) 높은 업종 골라낼 수 있지 않을까\n",
    "      - ex) 돈많은 사람의 지갑 열기\n",
    "      - 마케팅 전략을 몇가지 찾아보고 타당한 지 파악하는 방식\n",
    "  \n",
    "2. 이용자 구분 분석\n",
    "  * 이용 금액이 높은 연령대, 성별, 국적 등  \n",
    "      - 생각보다 외국인 관광객 데이터 비율이 적음\n",
    "      - 아직 매출액으로는 분석을 안 해봐서 매출액으로 비교해 볼 예정\n",
    " \n",
    " \n",
    "3. 계절에 따른 이용 금액\n",
    "  "
   ]
  },
  {
   "cell_type": "markdown",
   "metadata": {},
   "source": []
  },
  {
   "cell_type": "markdown",
   "metadata": {},
   "source": []
  },
  {
   "cell_type": "markdown",
   "metadata": {},
   "source": [
    "## 유동인구가 높은 지역 TOP5"
   ]
  },
  {
   "cell_type": "markdown",
   "metadata": {},
   "source": [
    "연동, 애월읍, ----"
   ]
  },
  {
   "cell_type": "markdown",
   "metadata": {},
   "source": [
    "# 인기 업종 분석"
   ]
  },
  {
   "cell_type": "markdown",
   "metadata": {},
   "source": [
    "## 이용 금액이 높은 업종"
   ]
  },
  {
   "cell_type": "markdown",
   "metadata": {},
   "source": [
    "### 업종별 이용금액 및 매장수: df_industry"
   ]
  },
  {
   "cell_type": "code",
   "execution_count": 166,
   "metadata": {
    "scrolled": false
   },
   "outputs": [],
   "source": [
    "# 연도별, 업종별 이용금액\n",
    "df_store_expense_year = df_card.groupby(['연도',  \n",
    "                                    '시도명', \n",
    "                                    '업종명 대분류', \n",
    "                                    '업종명'\n",
    "                                   ])[['이용금액']].mean().reset_index()\n",
    "df_store_count_year = df_card.groupby(['연도', \n",
    "                                  '시도명', \n",
    "                                  '업종명 대분류', \n",
    "                                  '업종명'\n",
    "                                 ])[['매장수']].mean().reset_index()"
   ]
  },
  {
   "cell_type": "code",
   "execution_count": 167,
   "metadata": {
    "scrolled": true
   },
   "outputs": [],
   "source": [
    "# 업종별 매장수\n",
    "df_store_count = df_card.groupby(['연도', \n",
    "                                  '월', \n",
    "                                  '시도명', \n",
    "                                  '업종명 대분류', \n",
    "                                  '업종명'\n",
    "                                 ])[['매장수']].mean().reset_index()"
   ]
  },
  {
   "cell_type": "code",
   "execution_count": 168,
   "metadata": {
    "scrolled": true
   },
   "outputs": [
    {
     "data": {
      "text/html": [
       "<div>\n",
       "<style scoped>\n",
       "    .dataframe tbody tr th:only-of-type {\n",
       "        vertical-align: middle;\n",
       "    }\n",
       "\n",
       "    .dataframe tbody tr th {\n",
       "        vertical-align: top;\n",
       "    }\n",
       "\n",
       "    .dataframe thead th {\n",
       "        text-align: right;\n",
       "    }\n",
       "</style>\n",
       "<table border=\"1\" class=\"dataframe\">\n",
       "  <thead>\n",
       "    <tr style=\"text-align: right;\">\n",
       "      <th></th>\n",
       "      <th>연도</th>\n",
       "      <th>시도명</th>\n",
       "      <th>업종명 대분류</th>\n",
       "      <th>업종명</th>\n",
       "      <th>이용금액</th>\n",
       "      <th>매장수</th>\n",
       "    </tr>\n",
       "  </thead>\n",
       "  <tbody>\n",
       "    <tr>\n",
       "      <th>0</th>\n",
       "      <td>2017</td>\n",
       "      <td>서귀포시</td>\n",
       "      <td>서비스업</td>\n",
       "      <td>골프장 운영업</td>\n",
       "      <td>10063551.138</td>\n",
       "      <td>17.000</td>\n",
       "    </tr>\n",
       "    <tr>\n",
       "      <th>1</th>\n",
       "      <td>2017</td>\n",
       "      <td>서귀포시</td>\n",
       "      <td>서비스업</td>\n",
       "      <td>그외 기타 분류안된 오락관련 서비스업</td>\n",
       "      <td>155818.107</td>\n",
       "      <td>6.770</td>\n",
       "    </tr>\n",
       "    <tr>\n",
       "      <th>2</th>\n",
       "      <td>2017</td>\n",
       "      <td>서귀포시</td>\n",
       "      <td>서비스업</td>\n",
       "      <td>그외 기타 스포츠시설 운영업</td>\n",
       "      <td>389374.055</td>\n",
       "      <td>18.215</td>\n",
       "    </tr>\n",
       "    <tr>\n",
       "      <th>3</th>\n",
       "      <td>2017</td>\n",
       "      <td>서귀포시</td>\n",
       "      <td>서비스업</td>\n",
       "      <td>기타 갬블링 및 베팅업</td>\n",
       "      <td>24452666.667</td>\n",
       "      <td>3.000</td>\n",
       "    </tr>\n",
       "    <tr>\n",
       "      <th>4</th>\n",
       "      <td>2017</td>\n",
       "      <td>서귀포시</td>\n",
       "      <td>서비스업</td>\n",
       "      <td>기타 수상오락 서비스업</td>\n",
       "      <td>432655.172</td>\n",
       "      <td>13.552</td>\n",
       "    </tr>\n",
       "  </tbody>\n",
       "</table>\n",
       "</div>"
      ],
      "text/plain": [
       "     연도   시도명 업종명 대분류                   업종명         이용금액    매장수\n",
       "0  2017  서귀포시    서비스업               골프장 운영업 10063551.138 17.000\n",
       "1  2017  서귀포시    서비스업  그외 기타 분류안된 오락관련 서비스업   155818.107  6.770\n",
       "2  2017  서귀포시    서비스업       그외 기타 스포츠시설 운영업   389374.055 18.215\n",
       "3  2017  서귀포시    서비스업          기타 갬블링 및 베팅업 24452666.667  3.000\n",
       "4  2017  서귀포시    서비스업          기타 수상오락 서비스업   432655.172 13.552"
      ]
     },
     "execution_count": 168,
     "metadata": {},
     "output_type": "execute_result"
    }
   ],
   "source": [
    "# 업종별 이용금액 및 매장수\n",
    "df_industry = pd.concat([df_store_expense_year, df_store_count_year['매장수']], axis=1)\n",
    "df_industry.head()"
   ]
  },
  {
   "cell_type": "code",
   "execution_count": 163,
   "metadata": {},
   "outputs": [
    {
     "data": {
      "text/html": [
       "<div>\n",
       "<style scoped>\n",
       "    .dataframe tbody tr th:only-of-type {\n",
       "        vertical-align: middle;\n",
       "    }\n",
       "\n",
       "    .dataframe tbody tr th {\n",
       "        vertical-align: top;\n",
       "    }\n",
       "\n",
       "    .dataframe thead th {\n",
       "        text-align: right;\n",
       "    }\n",
       "</style>\n",
       "<table border=\"1\" class=\"dataframe\">\n",
       "  <thead>\n",
       "    <tr style=\"text-align: right;\">\n",
       "      <th></th>\n",
       "      <th>이용금액</th>\n",
       "    </tr>\n",
       "    <tr>\n",
       "      <th>업종명 대분류</th>\n",
       "      <th></th>\n",
       "    </tr>\n",
       "  </thead>\n",
       "  <tbody>\n",
       "    <tr>\n",
       "      <th>운송업</th>\n",
       "      <td>22317247.295</td>\n",
       "    </tr>\n",
       "    <tr>\n",
       "      <th>서비스업</th>\n",
       "      <td>8768492.350</td>\n",
       "    </tr>\n",
       "    <tr>\n",
       "      <th>소매업</th>\n",
       "      <td>5888822.319</td>\n",
       "    </tr>\n",
       "    <tr>\n",
       "      <th>숙박업</th>\n",
       "      <td>4184165.769</td>\n",
       "    </tr>\n",
       "    <tr>\n",
       "      <th>음식점업</th>\n",
       "      <td>2567807.363</td>\n",
       "    </tr>\n",
       "    <tr>\n",
       "      <th>임대업</th>\n",
       "      <td>2179495.601</td>\n",
       "    </tr>\n",
       "  </tbody>\n",
       "</table>\n",
       "</div>"
      ],
      "text/plain": [
       "                이용금액\n",
       "업종명 대분류             \n",
       "운송업     22317247.295\n",
       "서비스업     8768492.350\n",
       "소매업      5888822.319\n",
       "숙박업      4184165.769\n",
       "음식점업     2567807.363\n",
       "임대업      2179495.601"
      ]
     },
     "execution_count": 163,
     "metadata": {},
     "output_type": "execute_result"
    }
   ],
   "source": [
    "df_industry.groupby('업종명 대분류')[['이용금액']].mean().sort_values(by='이용금액', ascending=False)"
   ]
  },
  {
   "cell_type": "markdown",
   "metadata": {},
   "source": [
    "### 업종별 매장수 변화 추이"
   ]
  },
  {
   "cell_type": "code",
   "execution_count": 305,
   "metadata": {},
   "outputs": [
    {
     "data": {
      "text/plain": [
       "<matplotlib.axes._subplots.AxesSubplot at 0x7f9089414e20>"
      ]
     },
     "execution_count": 305,
     "metadata": {},
     "output_type": "execute_result"
    },
    {
     "data": {
      "image/png": "[encoded data removed]",
      "text/plain": [
       "<Figure size 864x360 with 1 Axes>"
      ]
     },
     "metadata": {
      "needs_background": "light"
     },
     "output_type": "display_data"
    }
   ],
   "source": [
    "plt.figure(figsize=(12,5))\n",
    "sns.lineplot(x='연도', y='매장수', data=df_industry, hue='업종명 대분류')"
   ]
  },
  {
   "cell_type": "markdown",
   "metadata": {},
   "source": [
    "### 업종명 대분류별 이용금액 변화 추이"
   ]
  },
  {
   "cell_type": "markdown",
   "metadata": {},
   "source": [
    "**운송업**: 코로나 이전에도 점점 줄어드는 추세를 보이고 있었으며, 2019년 말 ~ 2020년 초 코로나가 터지면서 급 하강\n",
    "\n",
    "**소매업, 숙박업, 음식점업, 임대업**: 미미하게 감소하는 추세\n",
    "\n",
    "**서비스업**: 유일하게 점점 증가하는 추세를 보임.\n",
    "\n",
    "*결론: 서비스업 종류를 살펴보고 전망 좋은 업종 추천*"
   ]
  },
  {
   "cell_type": "code",
   "execution_count": 371,
   "metadata": {},
   "outputs": [
    {
     "data": {
      "text/plain": [
       "Text(0.5, 1.0, '업종 대분류별 이용금액')"
      ]
     },
     "execution_count": 371,
     "metadata": {},
     "output_type": "execute_result"
    },
    {
     "data": {
      "image/png": "[encoded data removed]",
      "text/plain": [
       "<Figure size 720x360 with 1 Axes>"
      ]
     },
     "metadata": {
      "needs_background": "light"
     },
     "output_type": "display_data"
    }
   ],
   "source": [
    "plt.figure(figsize=(10,5))\n",
    "plt.ticklabel_format(style='plain', useOffset=False, )\n",
    "plt.xticks(np.arange(2017, 2021, step=1))\n",
    "plt.gca().yaxis.set_major_formatter(mticker.FormatStrFormatter('%.0f원'))\n",
    "ax = sns.lineplot(x='연도', y='이용금액', data=df_industry, hue='업종명 대분류', ci=None, palette='Greens_r')\n",
    "ax.set_title('업종 대분류별 이용금액')"
   ]
  },
  {
   "cell_type": "code",
   "execution_count": 370,
   "metadata": {},
   "outputs": [
    {
     "data": {
      "text/plain": [
       "<matplotlib.legend.Legend at 0x7f908fe40520>"
      ]
     },
     "execution_count": 370,
     "metadata": {},
     "output_type": "execute_result"
    },
    {
     "data": {
      "image/png": "[encoded data removed]",
      "text/plain": [
       "<Figure size 720x360 with 1 Axes>"
      ]
     },
     "metadata": {
      "needs_background": "light"
     },
     "output_type": "display_data"
    }
   ],
   "source": [
    "# 운송업 이용금액이 너무 커서 제외하고 보기\n",
    "transit_idx = df_industry['업종명 대분류']=='운송업'\n",
    "df_industry_new = df_industry[~transit_idx]\n",
    "\n",
    "plt.figure(figsize=(10,5))\n",
    "plt.ticklabel_format(style='plain', useOffset=False, )\n",
    "plt.xticks(np.arange(2017, 2021, step=1))\n",
    "plt.gca().yaxis.set_major_formatter(mticker.FormatStrFormatter('%.0f원'))\n",
    "ax = sns.lineplot(x='연도', y='이용금액', data=df_industry_new, hue='업종명 대분류', ci=None, palette='Greens_r')\n",
    "ax.set_title('업종별 이용금액 (운송업 제외)')\n",
    "plt.legend(bbox_to_anchor=(1.01, 1), loc=2, borderaxespad=0.)\n"
   ]
  },
  {
   "cell_type": "markdown",
   "metadata": {},
   "source": [
    "### 서비스업 이용금액 변화 추이"
   ]
  },
  {
   "cell_type": "markdown",
   "metadata": {},
   "source": [
    "서비스업이 유일하게 이용금액이 계속 증가하여 소분류를 살펴봄.\n",
    "\n",
    "그 결과 **기타 갬블링 및 베팅업**에서 뚜렷한 증가세를 보임\n",
    "\n",
    "[제주 카지노 산업 현황](https://ijto.or.kr/korean/Bd/download.php?btable=pds&bno=308&fidx=1)\n",
    "\n",
    "[제주도 카지노산업 활성화·건전성 강화, 두 마리 토끼 잡는다](http://www.jejudonews.com/article.php?aid=656448703)\n",
    "\n",
    "> 한국에 갇힌(?) 중국인들이 도박많이함 ; ; "
   ]
  },
  {
   "cell_type": "code",
   "execution_count": 92,
   "metadata": {},
   "outputs": [],
   "source": [
    "df_service = df_industry[df_industry['업종명 대분류'] == '서비스업']"
   ]
  },
  {
   "cell_type": "code",
   "execution_count": 403,
   "metadata": {},
   "outputs": [
    {
     "data": {
      "image/png": "[encoded data removed]",
      "text/plain": [
       "<Figure size 720x360 with 1 Axes>"
      ]
     },
     "metadata": {
      "needs_background": "light"
     },
     "output_type": "display_data"
    }
   ],
   "source": [
    "plt.figure(figsize=(10,5))\n",
    "plt.ticklabel_format(style='plain', useOffset=False, )\n",
    "plt.xticks(np.arange(2017, 2021, step=1))\n",
    "plt.gca().yaxis.set_major_formatter(mticker.FormatStrFormatter('%.0f원'))\n",
    "ax = sns.lineplot(x='연도', y='이용금액', data=df_service, hue='업종명', ci=None)\n",
    "ax.set_title('서비스업 이용금액')\n",
    "plt.legend(bbox_to_anchor=(1.01, 1), loc=2, borderaxespad=0.)\n",
    "# plt.setp(ax.get_legend().get_texts(), fontsize='10')\n",
    "plt.show()"
   ]
  },
  {
   "cell_type": "code",
   "execution_count": 378,
   "metadata": {},
   "outputs": [
    {
     "data": {
      "text/plain": [
       "<matplotlib.axes._subplots.AxesSubplot at 0x7f90912d17f0>"
      ]
     },
     "execution_count": 378,
     "metadata": {},
     "output_type": "execute_result"
    },
    {
     "data": {
      "image/png": "[encoded data removed]",
      "text/plain": [
       "<Figure size 864x360 with 1 Axes>"
      ]
     },
     "metadata": {
      "needs_background": "light"
     },
     "output_type": "display_data"
    }
   ],
   "source": [
    "# 이번에도 갬블링 및 베팅업이 이용금액이 너무 커서 제외하고 보기 \n",
    "gambling_idx = df_service['업종명']=='기타 갬블링 및 베팅업'\n",
    "df_not_gambling = df_service[~gambling_idx]\n",
    "\n",
    "plt.figure(figsize=(12,5))\n",
    "sns.lineplot(x='연도', y='이용금액', data=df_not_gambling, hue='업종명', ci=None)"
   ]
  },
  {
   "cell_type": "markdown",
   "metadata": {},
   "source": [
    "기타 겜블링 및 베팅업을 제외한 업종은 모두 이용금액에 있어 **감소세**를 보임"
   ]
  },
  {
   "cell_type": "code",
   "execution_count": 349,
   "metadata": {},
   "outputs": [
    {
     "data": {
      "text/plain": [
       "[(0.9994925028835063, 0.9584775086505191, 0.7154325259515572),\n",
       " (0.996078431372549, 0.8549173394848135, 0.493517877739331),\n",
       " (0.996078431372549, 0.6978700499807766, 0.24727412533640908),\n",
       " (0.9551095732410612, 0.5066820453671664, 0.11298731257208766),\n",
       " (0.8364167627835448, 0.3390080738177624, 0.028327566320645904),\n",
       " (0.6258823529411764, 0.21610149942329873, 0.01467128027681661)]"
      ]
     },
     "execution_count": 349,
     "metadata": {},
     "output_type": "execute_result"
    }
   ],
   "source": [
    "sns.color_palette(\"YlOrBr\")"
   ]
  },
  {
   "cell_type": "code",
   "execution_count": 356,
   "metadata": {},
   "outputs": [
    {
     "data": {
      "text/plain": [
       "<matplotlib.legend.Legend at 0x7f90881acfa0>"
      ]
     },
     "execution_count": 356,
     "metadata": {},
     "output_type": "execute_result"
    },
    {
     "data": {
      "image/png": "[encoded data removed]",
      "text/plain": [
       "<Figure size 864x360 with 1 Axes>"
      ]
     },
     "metadata": {
      "needs_background": "light"
     },
     "output_type": "display_data"
    }
   ],
   "source": [
    "# 골프장 운영업 이용금액이 너무 커서 제외하고 보기 \n",
    "golf_idx = df_not_gambling['업종명']=='골프장 운영업'\n",
    "df_not_gambling_nor_golf = df_not_gambling[~golf_idx]\n",
    "\n",
    "plt.figure(figsize=(12,5))\n",
    "sns.color_palette(\"YlOrBr\")\n",
    "sns.lineplot(x='연도', y='이용금액', data=df_not_gambling_nor_golf, hue='업종명', ci=None)\n",
    "plt.legend(bbox_to_anchor=(1.01, 1), loc=2, borderaxespad=0.)\n"
   ]
  },
  {
   "cell_type": "markdown",
   "metadata": {},
   "source": [
    "## 코로나 이후 업종별 매장수 변화 추이\n",
    "2020년 1월 이후 데이터를 살펴본다."
   ]
  },
  {
   "cell_type": "code",
   "execution_count": 113,
   "metadata": {},
   "outputs": [],
   "source": [
    "df_corona = df_card[df_card['연도']==2020].copy()"
   ]
  },
  {
   "cell_type": "code",
   "execution_count": 164,
   "metadata": {},
   "outputs": [],
   "source": [
    "# 연도별, 업종별 이용금액\n",
    "df_store_expense_corona = df_corona.groupby(\n",
    "    [\n",
    "        '월',  \n",
    "        '시도명', \n",
    "        '업종명 대분류', \n",
    "        '업종명'\n",
    "    ])[['이용금액']].mean().reset_index()\n",
    "df_store_count_corona = df_corona.groupby(\n",
    "    [\n",
    "        '월', \n",
    "        '시도명', \n",
    "        '업종명 대분류', \n",
    "        '업종명'\n",
    "    ])[['매장수']].mean().reset_index()"
   ]
  },
  {
   "cell_type": "code",
   "execution_count": 165,
   "metadata": {
    "scrolled": true
   },
   "outputs": [],
   "source": [
    "df_industry_corona = pd.concat([\n",
    "                        df_store_expense_corona, \n",
    "                        df_store_count_year_corona['매장수']\n",
    "                        ], axis=1)"
   ]
  },
  {
   "cell_type": "markdown",
   "metadata": {},
   "source": [
    "### 업종명 대분류별 이용금액 변화 추이\n",
    "서비스업과 운송업에 대한 이용금액이 급 하강함.\n",
    "이 두 분류를 제외한 분류를 살펴보자."
   ]
  },
  {
   "cell_type": "code",
   "execution_count": 128,
   "metadata": {},
   "outputs": [
    {
     "data": {
      "text/plain": [
       "<matplotlib.axes._subplots.AxesSubplot at 0x7f9073c10bb0>"
      ]
     },
     "execution_count": 128,
     "metadata": {},
     "output_type": "execute_result"
    },
    {
     "data": {
      "image/png": "[encoded data removed]",
      "text/plain": [
       "<Figure size 864x360 with 1 Axes>"
      ]
     },
     "metadata": {
      "needs_background": "light"
     },
     "output_type": "display_data"
    }
   ],
   "source": [
    "plt.figure(figsize=(12,5))\n",
    "plt.ticklabel_format(style='plain', useOffset=False)\n",
    "sns.lineplot(x='월', \n",
    "             y='이용금액', \n",
    "             data=df_industry_corona, \n",
    "             hue='업종명 대분류', \n",
    "             ci=None)"
   ]
  },
  {
   "cell_type": "markdown",
   "metadata": {},
   "source": [
    "모두 감소세를 보이다가 2월 이후로 약간의 상승세를 보임. 좀 더 자세히 살펴보자"
   ]
  },
  {
   "cell_type": "code",
   "execution_count": 119,
   "metadata": {},
   "outputs": [],
   "source": [
    "corona_service_idx = df_industry_corona['업종명 대분류']=='서비스업'\n",
    "corona_transit_idx = df_industry_corona['업종명 대분류']=='운송업'\n",
    "corona_service_and_transit_idx = corona_service_idx | corona_transit_idx"
   ]
  },
  {
   "cell_type": "code",
   "execution_count": 129,
   "metadata": {},
   "outputs": [],
   "source": [
    "df_corona_not_service_nor_transit = df_industry_corona[~corona_service_and_transit_idx]\n",
    "# df_corona_not_service_nor_transit.head()"
   ]
  },
  {
   "cell_type": "code",
   "execution_count": 133,
   "metadata": {},
   "outputs": [
    {
     "data": {
      "text/plain": [
       "<matplotlib.axes._subplots.AxesSubplot at 0x7f9073ca96a0>"
      ]
     },
     "execution_count": 133,
     "metadata": {},
     "output_type": "execute_result"
    },
    {
     "data": {
      "image/png": "[encoded data removed]",
      "text/plain": [
       "<Figure size 864x360 with 1 Axes>"
      ]
     },
     "metadata": {
      "needs_background": "light"
     },
     "output_type": "display_data"
    }
   ],
   "source": [
    "plt.figure(figsize=(12,5))\n",
    "plt.ticklabel_format(style='plain', useOffset=False)\n",
    "sns.lineplot(x='월', \n",
    "             y='이용금액', \n",
    "             data=df_corona_not_service_nor_transit, \n",
    "             hue='업종명 대분류', \n",
    "             ci=None)"
   ]
  },
  {
   "cell_type": "markdown",
   "metadata": {},
   "source": [
    "음식점업에 대한 월별 이용금액 추이\n",
    "\n",
    "감소 후 약간의 상승세를 보이나 뚜렷하게 나타나지는 않음... 결론을 내기에는 데이터가 더 필요함"
   ]
  },
  {
   "cell_type": "code",
   "execution_count": 136,
   "metadata": {},
   "outputs": [],
   "source": [
    "df_corona_restaurant = df_corona[df_corona['업종명 대분류']=='음식점업']"
   ]
  },
  {
   "cell_type": "code",
   "execution_count": 234,
   "metadata": {},
   "outputs": [
    {
     "data": {
      "text/plain": [
       "<matplotlib.axes._subplots.AxesSubplot at 0x7f908497cd30>"
      ]
     },
     "execution_count": 234,
     "metadata": {},
     "output_type": "execute_result"
    },
    {
     "data": {
      "image/png": "[encoded data removed]",
      "text/plain": [
       "<Figure size 864x360 with 1 Axes>"
      ]
     },
     "metadata": {
      "needs_background": "light"
     },
     "output_type": "display_data"
    }
   ],
   "source": [
    "plt.figure(figsize=(12,5))\n",
    "sns.lineplot(x='월', \n",
    "             y='이용금액', \n",
    "             data=df_corona_restaurant, \n",
    "             hue='업종명', \n",
    "             ci=None)"
   ]
  },
  {
   "cell_type": "code",
   "execution_count": null,
   "metadata": {},
   "outputs": [],
   "source": []
  },
  {
   "cell_type": "code",
   "execution_count": null,
   "metadata": {},
   "outputs": [],
   "source": []
  },
  {
   "cell_type": "code",
   "execution_count": null,
   "metadata": {},
   "outputs": [],
   "source": []
  },
  {
   "cell_type": "markdown",
   "metadata": {},
   "source": [
    "## 매장수 대비 이용금액 살펴보기 \n",
    "일명 가성비 높은 업종 찾기"
   ]
  },
  {
   "cell_type": "code",
   "execution_count": 253,
   "metadata": {
    "scrolled": true
   },
   "outputs": [],
   "source": [
    "df_industry_mean = df_industry.groupby([\n",
    "    '연도', '업종명 대분류', '업종명'\n",
    "])[\n",
    "    ['이용금액', '매장수']\n",
    "].mean().reset_index()\n",
    "\n",
    "df_industry_mean = df_industry_mean.rename(\n",
    "    columns={\n",
    "        '이용금액':'평균이용금액', \n",
    "        '매장수':'평균매장수'\n",
    "    })"
   ]
  },
  {
   "cell_type": "code",
   "execution_count": 254,
   "metadata": {
    "scrolled": true
   },
   "outputs": [
    {
     "data": {
      "text/html": [
       "<div>\n",
       "<style scoped>\n",
       "    .dataframe tbody tr th:only-of-type {\n",
       "        vertical-align: middle;\n",
       "    }\n",
       "\n",
       "    .dataframe tbody tr th {\n",
       "        vertical-align: top;\n",
       "    }\n",
       "\n",
       "    .dataframe thead th {\n",
       "        text-align: right;\n",
       "    }\n",
       "</style>\n",
       "<table border=\"1\" class=\"dataframe\">\n",
       "  <thead>\n",
       "    <tr style=\"text-align: right;\">\n",
       "      <th></th>\n",
       "      <th>연도</th>\n",
       "      <th>업종명 대분류</th>\n",
       "      <th>업종명</th>\n",
       "      <th>평균이용금액</th>\n",
       "      <th>평균매장수</th>\n",
       "      <th>매장수대비이용금액</th>\n",
       "    </tr>\n",
       "  </thead>\n",
       "  <tbody>\n",
       "    <tr>\n",
       "      <th>127</th>\n",
       "      <td>2020</td>\n",
       "      <td>서비스업</td>\n",
       "      <td>기타 갬블링 및 베팅업</td>\n",
       "      <td>95750000.000</td>\n",
       "      <td>3.000</td>\n",
       "      <td>31916666.667</td>\n",
       "    </tr>\n",
       "    <tr>\n",
       "      <th>86</th>\n",
       "      <td>2019</td>\n",
       "      <td>서비스업</td>\n",
       "      <td>기타 갬블링 및 베팅업</td>\n",
       "      <td>73632233.333</td>\n",
       "      <td>3.000</td>\n",
       "      <td>24544077.778</td>\n",
       "    </tr>\n",
       "    <tr>\n",
       "      <th>30</th>\n",
       "      <td>2017</td>\n",
       "      <td>운송업</td>\n",
       "      <td>정기 항공 운송업</td>\n",
       "      <td>118520220.607</td>\n",
       "      <td>5.000</td>\n",
       "      <td>23704044.121</td>\n",
       "    </tr>\n",
       "    <tr>\n",
       "      <th>71</th>\n",
       "      <td>2018</td>\n",
       "      <td>운송업</td>\n",
       "      <td>정기 항공 운송업</td>\n",
       "      <td>111820894.532</td>\n",
       "      <td>5.000</td>\n",
       "      <td>22364178.906</td>\n",
       "    </tr>\n",
       "    <tr>\n",
       "      <th>112</th>\n",
       "      <td>2019</td>\n",
       "      <td>운송업</td>\n",
       "      <td>정기 항공 운송업</td>\n",
       "      <td>105308267.442</td>\n",
       "      <td>5.000</td>\n",
       "      <td>21061653.488</td>\n",
       "    </tr>\n",
       "  </tbody>\n",
       "</table>\n",
       "</div>"
      ],
      "text/plain": [
       "       연도 업종명 대분류           업종명        평균이용금액  평균매장수    매장수대비이용금액\n",
       "127  2020    서비스업  기타 갬블링 및 베팅업  95750000.000  3.000 31916666.667\n",
       "86   2019    서비스업  기타 갬블링 및 베팅업  73632233.333  3.000 24544077.778\n",
       "30   2017     운송업     정기 항공 운송업 118520220.607  5.000 23704044.121\n",
       "71   2018     운송업     정기 항공 운송업 111820894.532  5.000 22364178.906\n",
       "112  2019     운송업     정기 항공 운송업 105308267.442  5.000 21061653.488"
      ]
     },
     "execution_count": 254,
     "metadata": {},
     "output_type": "execute_result"
    }
   ],
   "source": [
    "df_industry_mean['매장수대비이용금액'] = df_industry_mean['평균이용금액'] / df_industry_mean['평균매장수']\n",
    "\n",
    "df_industry_mean = df_industry_mean.sort_values(\n",
    "    by='매장수대비이용금액', \n",
    "    ascending=False\n",
    ")\n",
    "\n",
    "df_industry_mean.head()"
   ]
  },
  {
   "cell_type": "markdown",
   "metadata": {},
   "source": [
    "제주도 기타 갬블링 및 베팅업의 이용금액이 꾸준히 증가함. \n",
    "\n",
    "매장수대비 이용금액이 2018년에 감소한 것으로 보아 대규모 카지노가 들어선 것이 이유인 듯함."
   ]
  },
  {
   "cell_type": "code",
   "execution_count": 175,
   "metadata": {
    "scrolled": true
   },
   "outputs": [
    {
     "data": {
      "text/html": [
       "<div>\n",
       "<style scoped>\n",
       "    .dataframe tbody tr th:only-of-type {\n",
       "        vertical-align: middle;\n",
       "    }\n",
       "\n",
       "    .dataframe tbody tr th {\n",
       "        vertical-align: top;\n",
       "    }\n",
       "\n",
       "    .dataframe thead th {\n",
       "        text-align: right;\n",
       "    }\n",
       "</style>\n",
       "<table border=\"1\" class=\"dataframe\">\n",
       "  <thead>\n",
       "    <tr style=\"text-align: right;\">\n",
       "      <th></th>\n",
       "      <th>연도</th>\n",
       "      <th>시도명</th>\n",
       "      <th>업종명 대분류</th>\n",
       "      <th>업종명</th>\n",
       "      <th>이용금액</th>\n",
       "      <th>매장수</th>\n",
       "      <th>매장수대비이용금액</th>\n",
       "    </tr>\n",
       "  </thead>\n",
       "  <tbody>\n",
       "    <tr>\n",
       "      <th>42</th>\n",
       "      <td>2017</td>\n",
       "      <td>제주시</td>\n",
       "      <td>서비스업</td>\n",
       "      <td>기타 갬블링 및 베팅업</td>\n",
       "      <td>96976291.294</td>\n",
       "      <td>3.706</td>\n",
       "      <td>26168205.587</td>\n",
       "    </tr>\n",
       "    <tr>\n",
       "      <th>122</th>\n",
       "      <td>2018</td>\n",
       "      <td>제주시</td>\n",
       "      <td>서비스업</td>\n",
       "      <td>기타 갬블링 및 베팅업</td>\n",
       "      <td>72460952.381</td>\n",
       "      <td>4.000</td>\n",
       "      <td>18115238.095</td>\n",
       "    </tr>\n",
       "    <tr>\n",
       "      <th>204</th>\n",
       "      <td>2019</td>\n",
       "      <td>제주시</td>\n",
       "      <td>서비스업</td>\n",
       "      <td>기타 갬블링 및 베팅업</td>\n",
       "      <td>119464466.667</td>\n",
       "      <td>4.000</td>\n",
       "      <td>29866116.667</td>\n",
       "    </tr>\n",
       "    <tr>\n",
       "      <th>283</th>\n",
       "      <td>2020</td>\n",
       "      <td>제주시</td>\n",
       "      <td>서비스업</td>\n",
       "      <td>기타 갬블링 및 베팅업</td>\n",
       "      <td>181500000.000</td>\n",
       "      <td>4.000</td>\n",
       "      <td>45375000.000</td>\n",
       "    </tr>\n",
       "  </tbody>\n",
       "</table>\n",
       "</div>"
      ],
      "text/plain": [
       "       연도  시도명 업종명 대분류           업종명          이용금액   매장수    매장수대비이용금액\n",
       "42   2017  제주시    서비스업  기타 갬블링 및 베팅업  96976291.294 3.706 26168205.587\n",
       "122  2018  제주시    서비스업  기타 갬블링 및 베팅업  72460952.381 4.000 18115238.095\n",
       "204  2019  제주시    서비스업  기타 갬블링 및 베팅업 119464466.667 4.000 29866116.667\n",
       "283  2020  제주시    서비스업  기타 갬블링 및 베팅업 181500000.000 4.000 45375000.000"
      ]
     },
     "execution_count": 175,
     "metadata": {},
     "output_type": "execute_result"
    }
   ],
   "source": [
    "df_industry_mean_jeju = df_industry[df_industry['시도명']=='제주시'].copy()\n",
    "# df_industry_jeju['매장수대비이용금액'] = df_industry_jeju['이용금액'] / df_industry_jeju['매장수']\n",
    "df_industry_jeju[df_industry_jeju['업종명']=='기타 갬블링 및 베팅업']"
   ]
  },
  {
   "cell_type": "code",
   "execution_count": 344,
   "metadata": {},
   "outputs": [
    {
     "data": {
      "text/plain": [
       "Text(0.5, 1.0, '제주시 연도별 갬블링 및 베팅업 매장수대비이용금액')"
      ]
     },
     "execution_count": 344,
     "metadata": {},
     "output_type": "execute_result"
    },
    {
     "data": {
      "image/png": "[encoded data removed]",
      "text/plain": [
       "<Figure size 720x360 with 1 Axes>"
      ]
     },
     "metadata": {
      "needs_background": "light"
     },
     "output_type": "display_data"
    }
   ],
   "source": [
    "df_jeju_casino = df_industry_jeju[\n",
    "    df_industry_jeju['업종명']=='기타 갬블링 및 베팅업'\n",
    "]\n",
    "\n",
    "plt.figure(figsize=(10,5))\n",
    "plt.ticklabel_format(style='plain', useOffset=False, )\n",
    "plt.xticks(np.arange(2017, 2021, step=1))\n",
    "plt.gca().yaxis.set_major_formatter(mticker.FormatStrFormatter('%.0f원'))\n",
    "\n",
    "ax = sns.barplot(x='연도', \n",
    "                 y='매장수대비이용금액', \n",
    "                 data=df_jeju_casino, \n",
    "                 palette='YlGn')\n",
    "ax.set_title('제주시 연도별 갬블링 및 베팅업 매장수대비이용금액')"
   ]
  },
  {
   "cell_type": "code",
   "execution_count": 404,
   "metadata": {},
   "outputs": [
    {
     "data": {
      "text/plain": [
       "Text(0.5, 1.0, '제주시 연도별 갬블링 및 베팅업 이용금액')"
      ]
     },
     "execution_count": 404,
     "metadata": {},
     "output_type": "execute_result"
    },
    {
     "data": {
      "image/png": "[encoded data removed]",
      "text/plain": [
       "<Figure size 360x360 with 1 Axes>"
      ]
     },
     "metadata": {
      "needs_background": "light"
     },
     "output_type": "display_data"
    }
   ],
   "source": [
    "df_jeju_casino = df_industry_jeju[\n",
    "    (df_industry_jeju['업종명']=='기타 갬블링 및 베팅업')\n",
    "    &\n",
    "    (df_industry_jeju['연도'] > 2017)\n",
    "]\n",
    "\n",
    "plt.figure(figsize=(5,5))\n",
    "plt.ticklabel_format(style='plain', useOffset=False, )\n",
    "plt.xticks(np.arange(2017, 2021, step=1))\n",
    "plt.gca().yaxis.set_major_formatter(mticker.FormatStrFormatter('%.0f원'))\n",
    "\n",
    "ax = sns.barplot(x='연도', \n",
    "                 y='이용금액', \n",
    "                 data=df_jeju_casino, \n",
    "                 palette='YlGn')\n",
    "ax.set_title('제주시 연도별 갬블링 및 베팅업 이용금액')"
   ]
  },
  {
   "cell_type": "markdown",
   "metadata": {},
   "source": [
    "정기 항공 운송업 ==> 코로나 이후 가장 큰 영향 "
   ]
  },
  {
   "cell_type": "markdown",
   "metadata": {},
   "source": [
    "모든 업종이...... 매출액이 감소해.........어떡해..........."
   ]
  },
  {
   "cell_type": "markdown",
   "metadata": {},
   "source": [
    "적게 감소하는거 . . . . . . . . . "
   ]
  },
  {
   "cell_type": "markdown",
   "metadata": {},
   "source": [
    "이용금액대비매장수"
   ]
  },
  {
   "cell_type": "markdown",
   "metadata": {},
   "source": [
    "관광객이 늘고있다~~!~!!~~ \n",
    "관광객이 선호하는 업종"
   ]
  },
  {
   "cell_type": "markdown",
   "metadata": {},
   "source": [
    "코로나 전/후로 두 가지 분석 결과 도출"
   ]
  },
  {
   "cell_type": "markdown",
   "metadata": {},
   "source": [
    "# 이용자 구분 분석\n",
    " * 이용 금액이 높은 연령대, 성별, 국적 등  \n",
    "      - 생각보다 외국인 관광객 데이터 비율이 적음\n",
    "      - 아직 매출액으로는 분석을 안 해봐서 매출액으로 비교해 볼 예정"
   ]
  },
  {
   "cell_type": "markdown",
   "metadata": {},
   "source": [
    "중국인에 대한 데이터가 너무 부족.. \n",
    "* 하지만 괜찮아 \n",
    "* 그래도 6만개 줄이 있음. 그리고 비율은 살필 수 있을 거야"
   ]
  },
  {
   "cell_type": "code",
   "execution_count": 33,
   "metadata": {},
   "outputs": [
    {
     "data": {
      "text/html": [
       "<div>\n",
       "<style scoped>\n",
       "    .dataframe tbody tr th:only-of-type {\n",
       "        vertical-align: middle;\n",
       "    }\n",
       "\n",
       "    .dataframe tbody tr th {\n",
       "        vertical-align: top;\n",
       "    }\n",
       "\n",
       "    .dataframe thead th {\n",
       "        text-align: right;\n",
       "    }\n",
       "</style>\n",
       "<table border=\"1\" class=\"dataframe\">\n",
       "  <thead>\n",
       "    <tr style=\"text-align: right;\">\n",
       "      <th></th>\n",
       "      <th>연도</th>\n",
       "      <th>월</th>\n",
       "      <th>분기</th>\n",
       "      <th>시도명</th>\n",
       "      <th>지역구분</th>\n",
       "      <th>읍면동명</th>\n",
       "      <th>업종명 대분류</th>\n",
       "      <th>업종명</th>\n",
       "      <th>이용자 구분</th>\n",
       "      <th>관광구분</th>\n",
       "      <th>연령대</th>\n",
       "      <th>성별</th>\n",
       "      <th>이용금액</th>\n",
       "      <th>매장수</th>\n",
       "    </tr>\n",
       "  </thead>\n",
       "  <tbody>\n",
       "    <tr>\n",
       "      <th>0</th>\n",
       "      <td>2017</td>\n",
       "      <td>1</td>\n",
       "      <td>1</td>\n",
       "      <td>서귀포시</td>\n",
       "      <td>도심</td>\n",
       "      <td>강정동</td>\n",
       "      <td>소매업</td>\n",
       "      <td>슈퍼마켓</td>\n",
       "      <td>제주도민</td>\n",
       "      <td>도민</td>\n",
       "      <td>50.000</td>\n",
       "      <td>여성</td>\n",
       "      <td>365160</td>\n",
       "      <td>214</td>\n",
       "    </tr>\n",
       "    <tr>\n",
       "      <th>1</th>\n",
       "      <td>2017</td>\n",
       "      <td>1</td>\n",
       "      <td>1</td>\n",
       "      <td>제주시</td>\n",
       "      <td>도심</td>\n",
       "      <td>삼도일동</td>\n",
       "      <td>숙박업</td>\n",
       "      <td>여관업</td>\n",
       "      <td>제주도민</td>\n",
       "      <td>도민</td>\n",
       "      <td>60.000</td>\n",
       "      <td>여성</td>\n",
       "      <td>40000</td>\n",
       "      <td>1610</td>\n",
       "    </tr>\n",
       "    <tr>\n",
       "      <th>2</th>\n",
       "      <td>2017</td>\n",
       "      <td>1</td>\n",
       "      <td>1</td>\n",
       "      <td>제주시</td>\n",
       "      <td>도심</td>\n",
       "      <td>삼양이동</td>\n",
       "      <td>숙박업</td>\n",
       "      <td>여관업</td>\n",
       "      <td>제주도민</td>\n",
       "      <td>도민</td>\n",
       "      <td>20.000</td>\n",
       "      <td>여성</td>\n",
       "      <td>162000</td>\n",
       "      <td>1610</td>\n",
       "    </tr>\n",
       "    <tr>\n",
       "      <th>3</th>\n",
       "      <td>2017</td>\n",
       "      <td>1</td>\n",
       "      <td>1</td>\n",
       "      <td>제주시</td>\n",
       "      <td>도심</td>\n",
       "      <td>삼양이동</td>\n",
       "      <td>숙박업</td>\n",
       "      <td>여관업</td>\n",
       "      <td>제주도민</td>\n",
       "      <td>도민</td>\n",
       "      <td>50.000</td>\n",
       "      <td>남성</td>\n",
       "      <td>70000</td>\n",
       "      <td>1610</td>\n",
       "    </tr>\n",
       "    <tr>\n",
       "      <th>4</th>\n",
       "      <td>2017</td>\n",
       "      <td>1</td>\n",
       "      <td>1</td>\n",
       "      <td>제주시</td>\n",
       "      <td>도심</td>\n",
       "      <td>삼도이동</td>\n",
       "      <td>숙박업</td>\n",
       "      <td>여관업</td>\n",
       "      <td>내국인</td>\n",
       "      <td>개별</td>\n",
       "      <td>40.000</td>\n",
       "      <td>남성</td>\n",
       "      <td>3150460</td>\n",
       "      <td>1610</td>\n",
       "    </tr>\n",
       "  </tbody>\n",
       "</table>\n",
       "</div>"
      ],
      "text/plain": [
       "     연도  월  분기   시도명 지역구분  읍면동명 업종명 대분류   업종명 이용자 구분 관광구분    연령대  성별     이용금액  \\\n",
       "0  2017  1   1  서귀포시   도심   강정동     소매업  슈퍼마켓   제주도민   도민 50.000  여성   365160   \n",
       "1  2017  1   1   제주시   도심  삼도일동     숙박업   여관업   제주도민   도민 60.000  여성    40000   \n",
       "2  2017  1   1   제주시   도심  삼양이동     숙박업   여관업   제주도민   도민 20.000  여성   162000   \n",
       "3  2017  1   1   제주시   도심  삼양이동     숙박업   여관업   제주도민   도민 50.000  남성    70000   \n",
       "4  2017  1   1   제주시   도심  삼도이동     숙박업   여관업    내국인   개별 40.000  남성  3150460   \n",
       "\n",
       "    매장수  \n",
       "0   214  \n",
       "1  1610  \n",
       "2  1610  \n",
       "3  1610  \n",
       "4  1610  "
      ]
     },
     "execution_count": 33,
     "metadata": {},
     "output_type": "execute_result"
    }
   ],
   "source": [
    "df_card.head()"
   ]
  },
  {
   "cell_type": "code",
   "execution_count": 236,
   "metadata": {
    "scrolled": false
   },
   "outputs": [
    {
     "data": {
      "text/html": [
       "<div>\n",
       "<style scoped>\n",
       "    .dataframe tbody tr th:only-of-type {\n",
       "        vertical-align: middle;\n",
       "    }\n",
       "\n",
       "    .dataframe tbody tr th {\n",
       "        vertical-align: top;\n",
       "    }\n",
       "\n",
       "    .dataframe thead th {\n",
       "        text-align: right;\n",
       "    }\n",
       "</style>\n",
       "<table border=\"1\" class=\"dataframe\">\n",
       "  <thead>\n",
       "    <tr style=\"text-align: right;\">\n",
       "      <th></th>\n",
       "      <th>연도</th>\n",
       "      <th>월</th>\n",
       "      <th>분기</th>\n",
       "      <th>시도명</th>\n",
       "      <th>지역구분</th>\n",
       "      <th>읍면동명</th>\n",
       "      <th>업종명 대분류</th>\n",
       "      <th>업종명</th>\n",
       "      <th>이용자 구분</th>\n",
       "      <th>관광구분</th>\n",
       "      <th>연령대</th>\n",
       "      <th>성별</th>\n",
       "      <th>이용금액</th>\n",
       "      <th>매장수</th>\n",
       "    </tr>\n",
       "  </thead>\n",
       "  <tbody>\n",
       "    <tr>\n",
       "      <th>0</th>\n",
       "      <td>2017</td>\n",
       "      <td>1</td>\n",
       "      <td>1</td>\n",
       "      <td>제주시</td>\n",
       "      <td>도심</td>\n",
       "      <td>연동</td>\n",
       "      <td>숙박업</td>\n",
       "      <td>여관업</td>\n",
       "      <td>중국</td>\n",
       "      <td>단체</td>\n",
       "      <td>nan</td>\n",
       "      <td>NaN</td>\n",
       "      <td>74000</td>\n",
       "      <td>1610</td>\n",
       "    </tr>\n",
       "    <tr>\n",
       "      <th>1</th>\n",
       "      <td>2017</td>\n",
       "      <td>1</td>\n",
       "      <td>1</td>\n",
       "      <td>제주시</td>\n",
       "      <td>도심</td>\n",
       "      <td>노형동</td>\n",
       "      <td>음식점업</td>\n",
       "      <td>한식 음식점업</td>\n",
       "      <td>중국</td>\n",
       "      <td>단체</td>\n",
       "      <td>nan</td>\n",
       "      <td>NaN</td>\n",
       "      <td>2737000</td>\n",
       "      <td>6259</td>\n",
       "    </tr>\n",
       "    <tr>\n",
       "      <th>2</th>\n",
       "      <td>2017</td>\n",
       "      <td>1</td>\n",
       "      <td>1</td>\n",
       "      <td>제주시</td>\n",
       "      <td>도심</td>\n",
       "      <td>건입동</td>\n",
       "      <td>음식점업</td>\n",
       "      <td>한식 음식점업</td>\n",
       "      <td>중국</td>\n",
       "      <td>단체</td>\n",
       "      <td>nan</td>\n",
       "      <td>NaN</td>\n",
       "      <td>218550</td>\n",
       "      <td>6259</td>\n",
       "    </tr>\n",
       "    <tr>\n",
       "      <th>3</th>\n",
       "      <td>2017</td>\n",
       "      <td>1</td>\n",
       "      <td>1</td>\n",
       "      <td>제주시</td>\n",
       "      <td>도심</td>\n",
       "      <td>연동</td>\n",
       "      <td>숙박업</td>\n",
       "      <td>여관업</td>\n",
       "      <td>중국</td>\n",
       "      <td>개별</td>\n",
       "      <td>nan</td>\n",
       "      <td>NaN</td>\n",
       "      <td>1667620</td>\n",
       "      <td>1610</td>\n",
       "    </tr>\n",
       "    <tr>\n",
       "      <th>4</th>\n",
       "      <td>2017</td>\n",
       "      <td>1</td>\n",
       "      <td>1</td>\n",
       "      <td>제주시</td>\n",
       "      <td>도심</td>\n",
       "      <td>연동</td>\n",
       "      <td>숙박업</td>\n",
       "      <td>여관업</td>\n",
       "      <td>동남아</td>\n",
       "      <td>개별</td>\n",
       "      <td>nan</td>\n",
       "      <td>NaN</td>\n",
       "      <td>324000</td>\n",
       "      <td>1610</td>\n",
       "    </tr>\n",
       "  </tbody>\n",
       "</table>\n",
       "</div>"
      ],
      "text/plain": [
       "     연도  월  분기  시도명 지역구분 읍면동명 업종명 대분류      업종명 이용자 구분 관광구분  연령대   성별     이용금액  \\\n",
       "0  2017  1   1  제주시   도심   연동     숙박업      여관업     중국   단체  nan  NaN    74000   \n",
       "1  2017  1   1  제주시   도심  노형동    음식점업  한식 음식점업     중국   단체  nan  NaN  2737000   \n",
       "2  2017  1   1  제주시   도심  건입동    음식점업  한식 음식점업     중국   단체  nan  NaN   218550   \n",
       "3  2017  1   1  제주시   도심   연동     숙박업      여관업     중국   개별  nan  NaN  1667620   \n",
       "4  2017  1   1  제주시   도심   연동     숙박업      여관업    동남아   개별  nan  NaN   324000   \n",
       "\n",
       "    매장수  \n",
       "0  1610  \n",
       "1  6259  \n",
       "2  6259  \n",
       "3  1610  \n",
       "4  1610  "
      ]
     },
     "execution_count": 236,
     "metadata": {},
     "output_type": "execute_result"
    }
   ],
   "source": [
    "yukjiin_idx = df_card['이용자 구분'] == '내국인'\n",
    "jejuin_idx = df_card['이용자 구분'] == '제주도민'\n",
    "korean_idx = yukjiin_idx | jejuin_idx\n",
    "df_korean = df_card[idx].sample(6557, random_state=234)\n",
    "# df_korean\n",
    "df_foreign = df_card[~idx]\n",
    "df_people = pd.concat([df_foreign, df_korean], axis=0).reset_index(drop=True)\n",
    "df_people.head()"
   ]
  },
  {
   "cell_type": "markdown",
   "metadata": {},
   "source": [
    "내국인 수와 외국인 데이터 개수가 너무 차이가 나니까, 인원수가 같다고 했을 때 이용금액이 어떻게 차이가 나는 지 확인한다."
   ]
  },
  {
   "cell_type": "code",
   "execution_count": 237,
   "metadata": {},
   "outputs": [
    {
     "data": {
      "text/plain": [
       "<matplotlib.axes._subplots.AxesSubplot at 0x7f9084a50fa0>"
      ]
     },
     "execution_count": 237,
     "metadata": {},
     "output_type": "execute_result"
    },
    {
     "data": {
      "image/png": "[encoded data removed]",
      "text/plain": [
       "<Figure size 432x288 with 1 Axes>"
      ]
     },
     "metadata": {
      "needs_background": "light"
     },
     "output_type": "display_data"
    }
   ],
   "source": [
    "sns.barplot(x='연도', y='이용금액', data=df_people, hue='이용자 구분', ci=None)"
   ]
  },
  {
   "cell_type": "code",
   "execution_count": null,
   "metadata": {},
   "outputs": [],
   "source": []
  },
  {
   "cell_type": "code",
   "execution_count": null,
   "metadata": {},
   "outputs": [],
   "source": []
  },
  {
   "cell_type": "code",
   "execution_count": null,
   "metadata": {},
   "outputs": [],
   "source": []
  },
  {
   "cell_type": "code",
   "execution_count": null,
   "metadata": {},
   "outputs": [],
   "source": []
  },
  {
   "cell_type": "markdown",
   "metadata": {},
   "source": [
    "# 분기에 따른 이용 금액 분석\n",
    "  - 분기별 건수는 비슷비슷 ... 다른 분들도 그런가요 어케 분석하징\n",
    "    - 3분기(성수기)\n",
    "    - 분기마다 잘 되는 업종/안 되는 업종 \n",
    "    - 전년도 분기랑 비교!!!\n",
    "    \n",
    "  * 마케팅 인사이트 도출"
   ]
  },
  {
   "cell_type": "markdown",
   "metadata": {},
   "source": [
    "데이터가 잘못 됐나..... 분기별 매출이 차이가 안 남 ㅠ_ㅠ \n",
    "\n",
    "'3분기(성수기)가 매출이 높을 것이다'라는 가설 검증에는 아진님 데이터 사용해야 할 듯"
   ]
  },
  {
   "cell_type": "code",
   "execution_count": 243,
   "metadata": {},
   "outputs": [],
   "source": [
    "df_quarter = df_card.groupby(['연도', '분기'])[['이용금액']].sum().reset_index()"
   ]
  },
  {
   "cell_type": "code",
   "execution_count": 245,
   "metadata": {},
   "outputs": [
    {
     "data": {
      "text/plain": [
       "<matplotlib.axes._subplots.AxesSubplot at 0x7f90865c3eb0>"
      ]
     },
     "execution_count": 245,
     "metadata": {},
     "output_type": "execute_result"
    },
    {
     "data": {
      "image/png": "[encoded data removed]",
      "text/plain": [
       "<Figure size 432x288 with 1 Axes>"
      ]
     },
     "metadata": {
      "needs_background": "light"
     },
     "output_type": "display_data"
    }
   ],
   "source": [
    "sns.barplot(x='분기', y='이용금액', data=df_quarter, hue='연도', ci=None)"
   ]
  },
  {
   "cell_type": "code",
   "execution_count": null,
   "metadata": {},
   "outputs": [],
   "source": []
  },
  {
   "cell_type": "markdown",
   "metadata": {},
   "source": [
    "# 갬블링 및 베팅업"
   ]
  },
  {
   "cell_type": "markdown",
   "metadata": {},
   "source": [
    "샘플만 봐도 외국인 비율이 많을 것이라는 느낌이 확확 온다ㅏㅏㅏ "
   ]
  },
  {
   "cell_type": "code",
   "execution_count": 198,
   "metadata": {
    "scrolled": false
   },
   "outputs": [
    {
     "data": {
      "text/html": [
       "<div>\n",
       "<style scoped>\n",
       "    .dataframe tbody tr th:only-of-type {\n",
       "        vertical-align: middle;\n",
       "    }\n",
       "\n",
       "    .dataframe tbody tr th {\n",
       "        vertical-align: top;\n",
       "    }\n",
       "\n",
       "    .dataframe thead th {\n",
       "        text-align: right;\n",
       "    }\n",
       "</style>\n",
       "<table border=\"1\" class=\"dataframe\">\n",
       "  <thead>\n",
       "    <tr style=\"text-align: right;\">\n",
       "      <th></th>\n",
       "      <th>연도</th>\n",
       "      <th>월</th>\n",
       "      <th>분기</th>\n",
       "      <th>시도명</th>\n",
       "      <th>지역구분</th>\n",
       "      <th>읍면동명</th>\n",
       "      <th>업종명 대분류</th>\n",
       "      <th>업종명</th>\n",
       "      <th>이용자 구분</th>\n",
       "      <th>관광구분</th>\n",
       "      <th>연령대</th>\n",
       "      <th>성별</th>\n",
       "      <th>이용금액</th>\n",
       "      <th>매장수</th>\n",
       "    </tr>\n",
       "  </thead>\n",
       "  <tbody>\n",
       "    <tr>\n",
       "      <th>700345</th>\n",
       "      <td>2018</td>\n",
       "      <td>8</td>\n",
       "      <td>3</td>\n",
       "      <td>제주시</td>\n",
       "      <td>도심</td>\n",
       "      <td>연동</td>\n",
       "      <td>서비스업</td>\n",
       "      <td>기타 갬블링 및 베팅업</td>\n",
       "      <td>일본</td>\n",
       "      <td>개별</td>\n",
       "      <td>nan</td>\n",
       "      <td>NaN</td>\n",
       "      <td>43500000</td>\n",
       "      <td>4</td>\n",
       "    </tr>\n",
       "    <tr>\n",
       "      <th>138905</th>\n",
       "      <td>2017</td>\n",
       "      <td>4</td>\n",
       "      <td>2</td>\n",
       "      <td>서귀포시</td>\n",
       "      <td>도심</td>\n",
       "      <td>색달동</td>\n",
       "      <td>서비스업</td>\n",
       "      <td>기타 갬블링 및 베팅업</td>\n",
       "      <td>기타외국</td>\n",
       "      <td>단체</td>\n",
       "      <td>nan</td>\n",
       "      <td>NaN</td>\n",
       "      <td>54000000</td>\n",
       "      <td>3</td>\n",
       "    </tr>\n",
       "    <tr>\n",
       "      <th>1052893</th>\n",
       "      <td>2019</td>\n",
       "      <td>5</td>\n",
       "      <td>2</td>\n",
       "      <td>제주시</td>\n",
       "      <td>도심</td>\n",
       "      <td>연동</td>\n",
       "      <td>서비스업</td>\n",
       "      <td>기타 갬블링 및 베팅업</td>\n",
       "      <td>일본</td>\n",
       "      <td>개별</td>\n",
       "      <td>nan</td>\n",
       "      <td>NaN</td>\n",
       "      <td>89000000</td>\n",
       "      <td>4</td>\n",
       "    </tr>\n",
       "    <tr>\n",
       "      <th>665881</th>\n",
       "      <td>2018</td>\n",
       "      <td>7</td>\n",
       "      <td>3</td>\n",
       "      <td>서귀포시</td>\n",
       "      <td>도심</td>\n",
       "      <td>색달동</td>\n",
       "      <td>서비스업</td>\n",
       "      <td>기타 갬블링 및 베팅업</td>\n",
       "      <td>일본</td>\n",
       "      <td>개별</td>\n",
       "      <td>nan</td>\n",
       "      <td>NaN</td>\n",
       "      <td>10000000</td>\n",
       "      <td>3</td>\n",
       "    </tr>\n",
       "    <tr>\n",
       "      <th>581842</th>\n",
       "      <td>2018</td>\n",
       "      <td>4</td>\n",
       "      <td>2</td>\n",
       "      <td>제주시</td>\n",
       "      <td>도심</td>\n",
       "      <td>연동</td>\n",
       "      <td>서비스업</td>\n",
       "      <td>기타 갬블링 및 베팅업</td>\n",
       "      <td>일본</td>\n",
       "      <td>개별</td>\n",
       "      <td>nan</td>\n",
       "      <td>NaN</td>\n",
       "      <td>73800000</td>\n",
       "      <td>4</td>\n",
       "    </tr>\n",
       "  </tbody>\n",
       "</table>\n",
       "</div>"
      ],
      "text/plain": [
       "           연도  월  분기   시도명 지역구분 읍면동명 업종명 대분류           업종명 이용자 구분 관광구분  연령대  \\\n",
       "700345   2018  8   3   제주시   도심   연동    서비스업  기타 갬블링 및 베팅업     일본   개별  nan   \n",
       "138905   2017  4   2  서귀포시   도심  색달동    서비스업  기타 갬블링 및 베팅업   기타외국   단체  nan   \n",
       "1052893  2019  5   2   제주시   도심   연동    서비스업  기타 갬블링 및 베팅업     일본   개별  nan   \n",
       "665881   2018  7   3  서귀포시   도심  색달동    서비스업  기타 갬블링 및 베팅업     일본   개별  nan   \n",
       "581842   2018  4   2   제주시   도심   연동    서비스업  기타 갬블링 및 베팅업     일본   개별  nan   \n",
       "\n",
       "          성별      이용금액  매장수  \n",
       "700345   NaN  43500000    4  \n",
       "138905   NaN  54000000    3  \n",
       "1052893  NaN  89000000    4  \n",
       "665881   NaN  10000000    3  \n",
       "581842   NaN  73800000    4  "
      ]
     },
     "execution_count": 198,
     "metadata": {},
     "output_type": "execute_result"
    }
   ],
   "source": [
    "df_casino = df_card[df_card['업종명']=='기타 갬블링 및 베팅업']\n",
    "df_casino.sample(5)"
   ]
  },
  {
   "cell_type": "markdown",
   "metadata": {},
   "source": [
    "## 내/외국인 카지노 이용률"
   ]
  },
  {
   "cell_type": "markdown",
   "metadata": {},
   "source": [
    "...? 일본이 제일 많음 ...."
   ]
  },
  {
   "cell_type": "code",
   "execution_count": 217,
   "metadata": {
    "scrolled": false
   },
   "outputs": [
    {
     "data": {
      "text/plain": [
       "Text(0.5, 1.0, '이용자 구분에 따른 결제 건수')"
      ]
     },
     "execution_count": 217,
     "metadata": {},
     "output_type": "execute_result"
    },
    {
     "data": {
      "image/png": "[encoded data removed]",
      "text/plain": [
       "<Figure size 864x576 with 1 Axes>"
      ]
     },
     "metadata": {},
     "output_type": "display_data"
    }
   ],
   "source": [
    "plt.figure(figsize=(12,8))\n",
    "ax = df_casino.groupby('이용자 구분')['이용금액'].count().plot.pie()\n",
    "ax.set_title(\"이용자 구분에 따른 결제 건수\")"
   ]
  },
  {
   "cell_type": "code",
   "execution_count": 405,
   "metadata": {},
   "outputs": [
    {
     "data": {
      "text/plain": [
       "이용자 구분\n",
       "기타외국    12\n",
       "내국인      1\n",
       "동남아      1\n",
       "일본      69\n",
       "중국       1\n",
       "Name: 이용금액, dtype: int64"
      ]
     },
     "execution_count": 405,
     "metadata": {},
     "output_type": "execute_result"
    }
   ],
   "source": [
    "df_casino.groupby('이용자 구분')['이용금액'].count()"
   ]
  },
  {
   "cell_type": "code",
   "execution_count": 417,
   "metadata": {},
   "outputs": [
    {
     "data": {
      "image/png": "[encoded data removed]",
      "text/plain": [
       "<Figure size 576x576 with 1 Axes>"
      ]
     },
     "metadata": {},
     "output_type": "display_data"
    }
   ],
   "source": [
    "labels = ['내국인', '외국인'] ## 라벨\n",
    "frequency = [15,69] ## 빈도\n",
    " \n",
    "colors = sns.color_palette('YlGn',len(labels)) ## 라벨의 개수 만큼 색상 리스트 생성 \n",
    " \n",
    "fig = plt.figure(figsize=(8,8)) ## 캔버스 생성\n",
    "fig.set_facecolor('white') ## 캔버스 배경색을 하얀색으로 설정\n",
    "ax = fig.add_subplot() ## 프레임 생성\n",
    "ax.set_title('이용자 구분에 따른 카지노 결제 건수')\n",
    "\n",
    "pie = ax.pie(frequency, ## 파이차트 출력\n",
    "       startangle=90, ## 시작점을 90도(degree)로 지정\n",
    "       counterclock=False, ## 시계 방향으로 그린다.\n",
    "       autopct=lambda p : '{:.2f}%'.format(p), ## 퍼센티지 출력\n",
    "       colors = colors ## 색상 지정\n",
    "       )\n",
    " \n",
    "plt.legend(pie[0],labels) ## 범례 표시\n",
    "plt.show()"
   ]
  },
  {
   "cell_type": "code",
   "execution_count": 416,
   "metadata": {},
   "outputs": [
    {
     "data": {
      "text/plain": [
       "일본      69\n",
       "기타외국    12\n",
       "동남아      1\n",
       "중국       1\n",
       "내국인      1\n",
       "Name: 이용자 구분, dtype: int64"
      ]
     },
     "execution_count": 416,
     "metadata": {},
     "output_type": "execute_result"
    }
   ],
   "source": [
    "df_casino['이용자 구분'].value_counts()"
   ]
  },
  {
   "cell_type": "code",
   "execution_count": 297,
   "metadata": {},
   "outputs": [
    {
     "data": {
      "text/plain": [
       "내국인     931950\n",
       "제주도민    551514\n",
       "중국        6557\n",
       "기타외국      3908\n",
       "일본        1625\n",
       "동남아       1302\n",
       "Name: 이용자 구분, dtype: int64"
      ]
     },
     "execution_count": 297,
     "metadata": {},
     "output_type": "execute_result"
    }
   ],
   "source": [
    "df_card['이용자 구분'].value_counts()"
   ]
  },
  {
   "cell_type": "code",
   "execution_count": 218,
   "metadata": {
    "scrolled": false
   },
   "outputs": [
    {
     "data": {
      "text/plain": [
       "Text(0.5, 1.0, '이용자 구분에 따른 이용금액 합계')"
      ]
     },
     "execution_count": 218,
     "metadata": {},
     "output_type": "execute_result"
    },
    {
     "data": {
      "image/png": "[encoded data removed]",
      "text/plain": [
       "<Figure size 864x576 with 1 Axes>"
      ]
     },
     "metadata": {},
     "output_type": "display_data"
    }
   ],
   "source": [
    "plt.figure(figsize=(12,8))\n",
    "ax = df_casino.groupby('이용자 구분')['이용금액'].sum().plot.pie(figsize=(12,8))\n",
    "ax.set_title('이용자 구분에 따른 이용금액 합계')"
   ]
  },
  {
   "cell_type": "markdown",
   "metadata": {},
   "source": [
    "## 성별 카지노 이용률 \n",
    "\n",
    ".....?......... zzzzzzzzzz\n",
    "가설에 맞지 않는 데이터는 무시하자...\n",
    "남성 100% 말안돼 ㅠ"
   ]
  },
  {
   "cell_type": "code",
   "execution_count": 267,
   "metadata": {},
   "outputs": [
    {
     "data": {
      "text/plain": [
       "<matplotlib.axes._subplots.AxesSubplot at 0x7f9086eae130>"
      ]
     },
     "execution_count": 267,
     "metadata": {},
     "output_type": "execute_result"
    },
    {
     "data": {
      "image/png": "[encoded data removed]",
      "text/plain": [
       "<Figure size 144x144 with 1 Axes>"
      ]
     },
     "metadata": {},
     "output_type": "display_data"
    }
   ],
   "source": [
    "plt.figure(figsize=(2,2))\n",
    "df_casino.groupby('성별')['이용금액'].sum().plot.pie()"
   ]
  },
  {
   "cell_type": "markdown",
   "metadata": {},
   "source": [
    "## 분기별 카지노 이용률\n",
    "* 1분기: 1,2,3월 \n",
    "* 2분기: 4,5,6월\n",
    "* 3분기: 7,8,9월\n",
    "* 4분기: 10,11,12월"
   ]
  },
  {
   "cell_type": "code",
   "execution_count": 279,
   "metadata": {},
   "outputs": [],
   "source": [
    "# 분기별 결제건수\n",
    "df_casino_quarter = df_casino.groupby('분기')[['이용금액']].count().reset_index()\n",
    "df_casino_quarter = df_quarter.rename(columns={'이용금액':'결제건수'})"
   ]
  },
  {
   "cell_type": "code",
   "execution_count": 280,
   "metadata": {},
   "outputs": [
    {
     "data": {
      "text/plain": [
       "Text(0.5, 1.0, '분기별 결제건수 합계')"
      ]
     },
     "execution_count": 280,
     "metadata": {},
     "output_type": "execute_result"
    },
    {
     "data": {
      "image/png": "[encoded data removed]",
      "text/plain": [
       "<Figure size 432x288 with 1 Axes>"
      ]
     },
     "metadata": {
      "needs_background": "light"
     },
     "output_type": "display_data"
    }
   ],
   "source": [
    "ax = sns.barplot(x='분기', \n",
    "                 y='결제건수', \n",
    "                 data=df_casino_quarter, \n",
    "                 palette='Spectral',\n",
    "                 ci=None)\n",
    "ax.set_title('분기별 결제건수 합계')"
   ]
  },
  {
   "cell_type": "code",
   "execution_count": 281,
   "metadata": {},
   "outputs": [],
   "source": [
    "# 분기별 이용금액\n",
    "df_casino_quarter = df_casino.groupby('분기')[['이용금액']].sum().reset_index()"
   ]
  },
  {
   "cell_type": "code",
   "execution_count": 282,
   "metadata": {},
   "outputs": [
    {
     "data": {
      "text/plain": [
       "Text(0.5, 1.0, '분기별 이용금액 합계')"
      ]
     },
     "execution_count": 282,
     "metadata": {},
     "output_type": "execute_result"
    },
    {
     "data": {
      "image/png": "[encoded data removed]",
      "text/plain": [
       "<Figure size 432x288 with 1 Axes>"
      ]
     },
     "metadata": {
      "needs_background": "light"
     },
     "output_type": "display_data"
    }
   ],
   "source": [
    "ax = sns.barplot(x='분기', \n",
    "                 y='이용금액', \n",
    "                 data=df_casino_quarter,\n",
    "                 palette='Spectral',\n",
    "                 ci=None)\n",
    "ax.set_title('분기별 이용금액 합계')"
   ]
  },
  {
   "cell_type": "markdown",
   "metadata": {},
   "source": [
    "## 연령대별 카지노 이용률\n",
    "은 현재 데이터에서 알기 어려움!... 외국인에 대한 정보(연령대, 성별 등)가 없어서"
   ]
  },
  {
   "cell_type": "markdown",
   "metadata": {},
   "source": [
    "## 카지노 위치?? "
   ]
  },
  {
   "cell_type": "markdown",
   "metadata": {},
   "source": [
    "삼도이동, 색달동, 연동에 있음!!~ \n",
    "\n",
    "이 위치는 피하면서 유동인구가 많은 위치에 ㄲㄲㄲㄲ"
   ]
  },
  {
   "cell_type": "code",
   "execution_count": 347,
   "metadata": {
    "scrolled": true
   },
   "outputs": [
    {
     "data": {
      "text/html": [
       "<div>\n",
       "<style scoped>\n",
       "    .dataframe tbody tr th:only-of-type {\n",
       "        vertical-align: middle;\n",
       "    }\n",
       "\n",
       "    .dataframe tbody tr th {\n",
       "        vertical-align: top;\n",
       "    }\n",
       "\n",
       "    .dataframe thead th {\n",
       "        text-align: right;\n",
       "    }\n",
       "</style>\n",
       "<table border=\"1\" class=\"dataframe\">\n",
       "  <thead>\n",
       "    <tr style=\"text-align: right;\">\n",
       "      <th></th>\n",
       "      <th></th>\n",
       "      <th>연도</th>\n",
       "      <th>월</th>\n",
       "      <th>분기</th>\n",
       "      <th>연령대</th>\n",
       "      <th>이용금액</th>\n",
       "      <th>매장수</th>\n",
       "    </tr>\n",
       "    <tr>\n",
       "      <th>시도명</th>\n",
       "      <th>읍면동명</th>\n",
       "      <th></th>\n",
       "      <th></th>\n",
       "      <th></th>\n",
       "      <th></th>\n",
       "      <th></th>\n",
       "      <th></th>\n",
       "    </tr>\n",
       "  </thead>\n",
       "  <tbody>\n",
       "    <tr>\n",
       "      <th>서귀포시</th>\n",
       "      <th>색달동</th>\n",
       "      <td>2017.714</td>\n",
       "      <td>5.714</td>\n",
       "      <td>2.250</td>\n",
       "      <td>nan</td>\n",
       "      <td>20813928.571</td>\n",
       "      <td>2.786</td>\n",
       "    </tr>\n",
       "    <tr>\n",
       "      <th rowspan=\"2\" valign=\"top\">제주시</th>\n",
       "      <th>삼도이동</th>\n",
       "      <td>2018.000</td>\n",
       "      <td>4.308</td>\n",
       "      <td>1.846</td>\n",
       "      <td>30.000</td>\n",
       "      <td>14235688.615</td>\n",
       "      <td>4.000</td>\n",
       "    </tr>\n",
       "    <tr>\n",
       "      <th>연동</th>\n",
       "      <td>2018.093</td>\n",
       "      <td>6.186</td>\n",
       "      <td>2.419</td>\n",
       "      <td>nan</td>\n",
       "      <td>123760000.000</td>\n",
       "      <td>3.884</td>\n",
       "    </tr>\n",
       "  </tbody>\n",
       "</table>\n",
       "</div>"
      ],
      "text/plain": [
       "                연도     월    분기    연령대          이용금액   매장수\n",
       "시도명  읍면동명                                                \n",
       "서귀포시 색달동  2017.714 5.714 2.250    nan  20813928.571 2.786\n",
       "제주시  삼도이동 2018.000 4.308 1.846 30.000  14235688.615 4.000\n",
       "     연동   2018.093 6.186 2.419    nan 123760000.000 3.884"
      ]
     },
     "execution_count": 347,
     "metadata": {},
     "output_type": "execute_result"
    }
   ],
   "source": [
    "df_casino.groupby(['시도명','읍면동명']).mean()"
   ]
  },
  {
   "cell_type": "code",
   "execution_count": null,
   "metadata": {},
   "outputs": [],
   "source": []
  },
  {
   "cell_type": "markdown",
   "metadata": {},
   "source": [
    "하연님께: 겜블링 및 베팅업 분포 시각화 가능??? ?"
   ]
  },
  {
   "cell_type": "code",
   "execution_count": null,
   "metadata": {},
   "outputs": [],
   "source": []
  },
  {
   "cell_type": "code",
   "execution_count": null,
   "metadata": {},
   "outputs": [],
   "source": []
  },
  {
   "cell_type": "code",
   "execution_count": null,
   "metadata": {},
   "outputs": [],
   "source": []
  },
  {
   "cell_type": "code",
   "execution_count": 287,
   "metadata": {},
   "outputs": [
    {
     "data": {
      "text/html": [
       "<div>\n",
       "<style scoped>\n",
       "    .dataframe tbody tr th:only-of-type {\n",
       "        vertical-align: middle;\n",
       "    }\n",
       "\n",
       "    .dataframe tbody tr th {\n",
       "        vertical-align: top;\n",
       "    }\n",
       "\n",
       "    .dataframe thead th {\n",
       "        text-align: right;\n",
       "    }\n",
       "</style>\n",
       "<table border=\"1\" class=\"dataframe\">\n",
       "  <thead>\n",
       "    <tr style=\"text-align: right;\">\n",
       "      <th></th>\n",
       "      <th>연도</th>\n",
       "      <th>월</th>\n",
       "      <th>분기</th>\n",
       "      <th>시도명</th>\n",
       "      <th>지역구분</th>\n",
       "      <th>읍면동명</th>\n",
       "      <th>업종명 대분류</th>\n",
       "      <th>업종명</th>\n",
       "      <th>이용자 구분</th>\n",
       "      <th>관광구분</th>\n",
       "      <th>연령대</th>\n",
       "      <th>성별</th>\n",
       "      <th>이용금액</th>\n",
       "      <th>매장수</th>\n",
       "    </tr>\n",
       "  </thead>\n",
       "  <tbody>\n",
       "    <tr>\n",
       "      <th>0</th>\n",
       "      <td>2017</td>\n",
       "      <td>1</td>\n",
       "      <td>1</td>\n",
       "      <td>서귀포시</td>\n",
       "      <td>도심</td>\n",
       "      <td>강정동</td>\n",
       "      <td>소매업</td>\n",
       "      <td>슈퍼마켓</td>\n",
       "      <td>제주도민</td>\n",
       "      <td>도민</td>\n",
       "      <td>50.000</td>\n",
       "      <td>여성</td>\n",
       "      <td>365160</td>\n",
       "      <td>214</td>\n",
       "    </tr>\n",
       "    <tr>\n",
       "      <th>1</th>\n",
       "      <td>2017</td>\n",
       "      <td>1</td>\n",
       "      <td>1</td>\n",
       "      <td>제주시</td>\n",
       "      <td>도심</td>\n",
       "      <td>삼도일동</td>\n",
       "      <td>숙박업</td>\n",
       "      <td>여관업</td>\n",
       "      <td>제주도민</td>\n",
       "      <td>도민</td>\n",
       "      <td>60.000</td>\n",
       "      <td>여성</td>\n",
       "      <td>40000</td>\n",
       "      <td>1610</td>\n",
       "    </tr>\n",
       "    <tr>\n",
       "      <th>2</th>\n",
       "      <td>2017</td>\n",
       "      <td>1</td>\n",
       "      <td>1</td>\n",
       "      <td>제주시</td>\n",
       "      <td>도심</td>\n",
       "      <td>삼양이동</td>\n",
       "      <td>숙박업</td>\n",
       "      <td>여관업</td>\n",
       "      <td>제주도민</td>\n",
       "      <td>도민</td>\n",
       "      <td>20.000</td>\n",
       "      <td>여성</td>\n",
       "      <td>162000</td>\n",
       "      <td>1610</td>\n",
       "    </tr>\n",
       "    <tr>\n",
       "      <th>3</th>\n",
       "      <td>2017</td>\n",
       "      <td>1</td>\n",
       "      <td>1</td>\n",
       "      <td>제주시</td>\n",
       "      <td>도심</td>\n",
       "      <td>삼양이동</td>\n",
       "      <td>숙박업</td>\n",
       "      <td>여관업</td>\n",
       "      <td>제주도민</td>\n",
       "      <td>도민</td>\n",
       "      <td>50.000</td>\n",
       "      <td>남성</td>\n",
       "      <td>70000</td>\n",
       "      <td>1610</td>\n",
       "    </tr>\n",
       "    <tr>\n",
       "      <th>4</th>\n",
       "      <td>2017</td>\n",
       "      <td>1</td>\n",
       "      <td>1</td>\n",
       "      <td>제주시</td>\n",
       "      <td>도심</td>\n",
       "      <td>삼도이동</td>\n",
       "      <td>숙박업</td>\n",
       "      <td>여관업</td>\n",
       "      <td>내국인</td>\n",
       "      <td>개별</td>\n",
       "      <td>40.000</td>\n",
       "      <td>남성</td>\n",
       "      <td>3150460</td>\n",
       "      <td>1610</td>\n",
       "    </tr>\n",
       "  </tbody>\n",
       "</table>\n",
       "</div>"
      ],
      "text/plain": [
       "     연도  월  분기   시도명 지역구분  읍면동명 업종명 대분류   업종명 이용자 구분 관광구분    연령대  성별     이용금액  \\\n",
       "0  2017  1   1  서귀포시   도심   강정동     소매업  슈퍼마켓   제주도민   도민 50.000  여성   365160   \n",
       "1  2017  1   1   제주시   도심  삼도일동     숙박업   여관업   제주도민   도민 60.000  여성    40000   \n",
       "2  2017  1   1   제주시   도심  삼양이동     숙박업   여관업   제주도민   도민 20.000  여성   162000   \n",
       "3  2017  1   1   제주시   도심  삼양이동     숙박업   여관업   제주도민   도민 50.000  남성    70000   \n",
       "4  2017  1   1   제주시   도심  삼도이동     숙박업   여관업    내국인   개별 40.000  남성  3150460   \n",
       "\n",
       "    매장수  \n",
       "0   214  \n",
       "1  1610  \n",
       "2  1610  \n",
       "3  1610  \n",
       "4  1610  "
      ]
     },
     "execution_count": 287,
     "metadata": {},
     "output_type": "execute_result"
    }
   ],
   "source": [
    "df_card.head()"
   ]
  },
  {
   "cell_type": "code",
   "execution_count": 289,
   "metadata": {},
   "outputs": [
    {
     "data": {
      "text/html": [
       "<div>\n",
       "<style scoped>\n",
       "    .dataframe tbody tr th:only-of-type {\n",
       "        vertical-align: middle;\n",
       "    }\n",
       "\n",
       "    .dataframe tbody tr th {\n",
       "        vertical-align: top;\n",
       "    }\n",
       "\n",
       "    .dataframe thead th {\n",
       "        text-align: right;\n",
       "    }\n",
       "</style>\n",
       "<table border=\"1\" class=\"dataframe\">\n",
       "  <thead>\n",
       "    <tr style=\"text-align: right;\">\n",
       "      <th></th>\n",
       "      <th>연도</th>\n",
       "      <th>월</th>\n",
       "      <th>분기</th>\n",
       "      <th>시도명</th>\n",
       "      <th>지역구분</th>\n",
       "      <th>읍면동명</th>\n",
       "      <th>업종명 대분류</th>\n",
       "      <th>업종명</th>\n",
       "      <th>이용자 구분</th>\n",
       "      <th>관광구분</th>\n",
       "      <th>연령대</th>\n",
       "      <th>성별</th>\n",
       "      <th>이용금액</th>\n",
       "      <th>매장수</th>\n",
       "    </tr>\n",
       "  </thead>\n",
       "  <tbody>\n",
       "    <tr>\n",
       "      <th>266</th>\n",
       "      <td>2017</td>\n",
       "      <td>1</td>\n",
       "      <td>1</td>\n",
       "      <td>제주시</td>\n",
       "      <td>읍면</td>\n",
       "      <td>애월읍</td>\n",
       "      <td>숙박업</td>\n",
       "      <td>여관업</td>\n",
       "      <td>내국인</td>\n",
       "      <td>단체</td>\n",
       "      <td>60.000</td>\n",
       "      <td>여성</td>\n",
       "      <td>236980</td>\n",
       "      <td>1610</td>\n",
       "    </tr>\n",
       "    <tr>\n",
       "      <th>267</th>\n",
       "      <td>2017</td>\n",
       "      <td>1</td>\n",
       "      <td>1</td>\n",
       "      <td>제주시</td>\n",
       "      <td>읍면</td>\n",
       "      <td>애월읍</td>\n",
       "      <td>숙박업</td>\n",
       "      <td>여관업</td>\n",
       "      <td>제주도민</td>\n",
       "      <td>도민</td>\n",
       "      <td>20.000</td>\n",
       "      <td>여성</td>\n",
       "      <td>1418200</td>\n",
       "      <td>1610</td>\n",
       "    </tr>\n",
       "    <tr>\n",
       "      <th>268</th>\n",
       "      <td>2017</td>\n",
       "      <td>1</td>\n",
       "      <td>1</td>\n",
       "      <td>제주시</td>\n",
       "      <td>읍면</td>\n",
       "      <td>애월읍</td>\n",
       "      <td>숙박업</td>\n",
       "      <td>여관업</td>\n",
       "      <td>제주도민</td>\n",
       "      <td>도민</td>\n",
       "      <td>50.000</td>\n",
       "      <td>남성</td>\n",
       "      <td>3450440</td>\n",
       "      <td>1610</td>\n",
       "    </tr>\n",
       "    <tr>\n",
       "      <th>269</th>\n",
       "      <td>2017</td>\n",
       "      <td>1</td>\n",
       "      <td>1</td>\n",
       "      <td>제주시</td>\n",
       "      <td>읍면</td>\n",
       "      <td>애월읍</td>\n",
       "      <td>숙박업</td>\n",
       "      <td>여관업</td>\n",
       "      <td>제주도민</td>\n",
       "      <td>도민</td>\n",
       "      <td>70.000</td>\n",
       "      <td>여성</td>\n",
       "      <td>42000</td>\n",
       "      <td>1610</td>\n",
       "    </tr>\n",
       "    <tr>\n",
       "      <th>271</th>\n",
       "      <td>2017</td>\n",
       "      <td>1</td>\n",
       "      <td>1</td>\n",
       "      <td>제주시</td>\n",
       "      <td>읍면</td>\n",
       "      <td>애월읍</td>\n",
       "      <td>숙박업</td>\n",
       "      <td>여관업</td>\n",
       "      <td>내국인</td>\n",
       "      <td>개별</td>\n",
       "      <td>40.000</td>\n",
       "      <td>남성</td>\n",
       "      <td>28633450</td>\n",
       "      <td>1610</td>\n",
       "    </tr>\n",
       "    <tr>\n",
       "      <th>...</th>\n",
       "      <td>...</td>\n",
       "      <td>...</td>\n",
       "      <td>...</td>\n",
       "      <td>...</td>\n",
       "      <td>...</td>\n",
       "      <td>...</td>\n",
       "      <td>...</td>\n",
       "      <td>...</td>\n",
       "      <td>...</td>\n",
       "      <td>...</td>\n",
       "      <td>...</td>\n",
       "      <td>...</td>\n",
       "      <td>...</td>\n",
       "      <td>...</td>\n",
       "    </tr>\n",
       "    <tr>\n",
       "      <th>1496580</th>\n",
       "      <td>2020</td>\n",
       "      <td>4</td>\n",
       "      <td>2</td>\n",
       "      <td>제주시</td>\n",
       "      <td>읍면</td>\n",
       "      <td>애월읍</td>\n",
       "      <td>숙박업</td>\n",
       "      <td>여관업</td>\n",
       "      <td>내국인</td>\n",
       "      <td>개별</td>\n",
       "      <td>30.000</td>\n",
       "      <td>남성</td>\n",
       "      <td>15731727</td>\n",
       "      <td>2055</td>\n",
       "    </tr>\n",
       "    <tr>\n",
       "      <th>1496581</th>\n",
       "      <td>2020</td>\n",
       "      <td>4</td>\n",
       "      <td>2</td>\n",
       "      <td>제주시</td>\n",
       "      <td>읍면</td>\n",
       "      <td>애월읍</td>\n",
       "      <td>숙박업</td>\n",
       "      <td>여관업</td>\n",
       "      <td>내국인</td>\n",
       "      <td>개별</td>\n",
       "      <td>30.000</td>\n",
       "      <td>여성</td>\n",
       "      <td>12634105</td>\n",
       "      <td>2055</td>\n",
       "    </tr>\n",
       "    <tr>\n",
       "      <th>1496582</th>\n",
       "      <td>2020</td>\n",
       "      <td>4</td>\n",
       "      <td>2</td>\n",
       "      <td>제주시</td>\n",
       "      <td>읍면</td>\n",
       "      <td>애월읍</td>\n",
       "      <td>숙박업</td>\n",
       "      <td>여관업</td>\n",
       "      <td>내국인</td>\n",
       "      <td>개별</td>\n",
       "      <td>20.000</td>\n",
       "      <td>남성</td>\n",
       "      <td>6990515</td>\n",
       "      <td>2055</td>\n",
       "    </tr>\n",
       "    <tr>\n",
       "      <th>1496583</th>\n",
       "      <td>2020</td>\n",
       "      <td>4</td>\n",
       "      <td>2</td>\n",
       "      <td>제주시</td>\n",
       "      <td>읍면</td>\n",
       "      <td>애월읍</td>\n",
       "      <td>숙박업</td>\n",
       "      <td>여관업</td>\n",
       "      <td>내국인</td>\n",
       "      <td>개별</td>\n",
       "      <td>20.000</td>\n",
       "      <td>여성</td>\n",
       "      <td>8958342</td>\n",
       "      <td>2055</td>\n",
       "    </tr>\n",
       "    <tr>\n",
       "      <th>1496584</th>\n",
       "      <td>2020</td>\n",
       "      <td>4</td>\n",
       "      <td>2</td>\n",
       "      <td>제주시</td>\n",
       "      <td>읍면</td>\n",
       "      <td>애월읍</td>\n",
       "      <td>숙박업</td>\n",
       "      <td>여관업</td>\n",
       "      <td>기타외국</td>\n",
       "      <td>개별</td>\n",
       "      <td>nan</td>\n",
       "      <td>NaN</td>\n",
       "      <td>154880</td>\n",
       "      <td>2055</td>\n",
       "    </tr>\n",
       "  </tbody>\n",
       "</table>\n",
       "<p>35577 rows × 14 columns</p>\n",
       "</div>"
      ],
      "text/plain": [
       "           연도  월  분기  시도명 지역구분 읍면동명 업종명 대분류  업종명 이용자 구분 관광구분    연령대   성별  \\\n",
       "266      2017  1   1  제주시   읍면  애월읍     숙박업  여관업    내국인   단체 60.000   여성   \n",
       "267      2017  1   1  제주시   읍면  애월읍     숙박업  여관업   제주도민   도민 20.000   여성   \n",
       "268      2017  1   1  제주시   읍면  애월읍     숙박업  여관업   제주도민   도민 50.000   남성   \n",
       "269      2017  1   1  제주시   읍면  애월읍     숙박업  여관업   제주도민   도민 70.000   여성   \n",
       "271      2017  1   1  제주시   읍면  애월읍     숙박업  여관업    내국인   개별 40.000   남성   \n",
       "...       ... ..  ..  ...  ...  ...     ...  ...    ...  ...    ...  ...   \n",
       "1496580  2020  4   2  제주시   읍면  애월읍     숙박업  여관업    내국인   개별 30.000   남성   \n",
       "1496581  2020  4   2  제주시   읍면  애월읍     숙박업  여관업    내국인   개별 30.000   여성   \n",
       "1496582  2020  4   2  제주시   읍면  애월읍     숙박업  여관업    내국인   개별 20.000   남성   \n",
       "1496583  2020  4   2  제주시   읍면  애월읍     숙박업  여관업    내국인   개별 20.000   여성   \n",
       "1496584  2020  4   2  제주시   읍면  애월읍     숙박업  여관업   기타외국   개별    nan  NaN   \n",
       "\n",
       "             이용금액   매장수  \n",
       "266        236980  1610  \n",
       "267       1418200  1610  \n",
       "268       3450440  1610  \n",
       "269         42000  1610  \n",
       "271      28633450  1610  \n",
       "...           ...   ...  \n",
       "1496580  15731727  2055  \n",
       "1496581  12634105  2055  \n",
       "1496582   6990515  2055  \n",
       "1496583   8958342  2055  \n",
       "1496584    154880  2055  \n",
       "\n",
       "[35577 rows x 14 columns]"
      ]
     },
     "execution_count": 289,
     "metadata": {},
     "output_type": "execute_result"
    }
   ],
   "source": [
    "df_card[df_card['읍면동명']=='애월읍']"
   ]
  },
  {
   "cell_type": "code",
   "execution_count": null,
   "metadata": {},
   "outputs": [],
   "source": []
  }
 ],
 "metadata": {
  "kernelspec": {
   "display_name": "Python 3",
   "language": "python",
   "name": "python3"
  },
  "language_info": {
   "codemirror_mode": {
    "name": "ipython",
    "version": 3
   },
   "file_extension": ".py",
   "mimetype": "text/x-python",
   "name": "python",
   "nbconvert_exporter": "python",
   "pygments_lexer": "ipython3",
   "version": "3.8.3"
  },
  "toc": {
   "base_numbering": 1,
   "nav_menu": {},
   "number_sections": true,
   "sideBar": true,
   "skip_h1_title": false,
   "title_cell": "Table of Contents",
   "title_sidebar": "Contents",
   "toc_cell": false,
   "toc_position": {
    "height": "calc(100% - 180px)",
    "left": "10px",
    "top": "150px",
    "width": "323.188px"
   },
   "toc_section_display": true,
   "toc_window_display": true
  }
 },
 "nbformat": 4,
 "nbformat_minor": 4
}
