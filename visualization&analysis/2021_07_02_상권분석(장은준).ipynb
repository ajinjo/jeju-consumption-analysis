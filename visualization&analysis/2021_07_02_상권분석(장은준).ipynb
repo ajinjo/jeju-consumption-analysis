{
 "cells": [
  {
   "cell_type": "code",
   "execution_count": 3,
   "id": "e84968f3",
   "metadata": {},
   "outputs": [],
   "source": [
    "import pandas as pd\n",
    "import matplotlib.pyplot as plt\n",
    "import seaborn as sns\n",
    "\n",
    "df = pd.read_csv('C:\\study\\workspace_python\\pdsample\\상권데이터_전처리_2.csv', encoding = 'cp949')"
   ]
  },
  {
   "cell_type": "markdown",
   "id": "36ca4c77",
   "metadata": {},
   "source": [
    "# 그래프 한글 깨짐"
   ]
  },
  {
   "cell_type": "code",
   "execution_count": null,
   "id": "ede4f243",
   "metadata": {},
   "outputs": [],
   "source": [
    "import matplotlib as mp\n",
    "\n",
    "fm = mp.font_manager.FontManager()\n",
    "plt.rcParams['font.family'] = 'Malgun Gothic'"
   ]
  },
  {
   "cell_type": "markdown",
   "id": "791ad327",
   "metadata": {},
   "source": [
    "# 데이터 간략 정보 확인"
   ]
  },
  {
   "cell_type": "code",
   "execution_count": 110,
   "id": "36d085e0",
   "metadata": {},
   "outputs": [
    {
     "data": {
      "text/html": [
       "<div>\n",
       "<style scoped>\n",
       "    .dataframe tbody tr th:only-of-type {\n",
       "        vertical-align: middle;\n",
       "    }\n",
       "\n",
       "    .dataframe tbody tr th {\n",
       "        vertical-align: top;\n",
       "    }\n",
       "\n",
       "    .dataframe thead th {\n",
       "        text-align: right;\n",
       "    }\n",
       "</style>\n",
       "<table border=\"1\" class=\"dataframe\">\n",
       "  <thead>\n",
       "    <tr style=\"text-align: right;\">\n",
       "      <th></th>\n",
       "      <th>Unnamed: 0</th>\n",
       "      <th>상권_구분코드</th>\n",
       "      <th>상권코드</th>\n",
       "      <th>상권코드명</th>\n",
       "      <th>서비스업종코드명</th>\n",
       "      <th>분기당매출_금액</th>\n",
       "      <th>분기당_매출_건수</th>\n",
       "      <th>주중_매출비율</th>\n",
       "      <th>주말_매출_비율</th>\n",
       "      <th>월요일_매출_비율</th>\n",
       "      <th>...</th>\n",
       "      <th>연령대_10_매출_건수</th>\n",
       "      <th>연령대_20_매출_건수</th>\n",
       "      <th>연령대_30_매출_건수</th>\n",
       "      <th>연령대_40_매출_건수</th>\n",
       "      <th>연령대_50_매출_건수</th>\n",
       "      <th>연령대_60_이상_매출_건수</th>\n",
       "      <th>점포수</th>\n",
       "      <th>구</th>\n",
       "      <th>위도</th>\n",
       "      <th>경도</th>\n",
       "    </tr>\n",
       "  </thead>\n",
       "  <tbody>\n",
       "    <tr>\n",
       "      <th>0</th>\n",
       "      <td>34</td>\n",
       "      <td>관광특구</td>\n",
       "      <td>1001495</td>\n",
       "      <td>잠실 관광특구</td>\n",
       "      <td>인테리어</td>\n",
       "      <td>2.280000e+08</td>\n",
       "      <td>853</td>\n",
       "      <td>45</td>\n",
       "      <td>55</td>\n",
       "      <td>0</td>\n",
       "      <td>...</td>\n",
       "      <td>7</td>\n",
       "      <td>148</td>\n",
       "      <td>123</td>\n",
       "      <td>382</td>\n",
       "      <td>86</td>\n",
       "      <td>59</td>\n",
       "      <td>12</td>\n",
       "      <td>송파구</td>\n",
       "      <td>37.504832</td>\n",
       "      <td>127.088065</td>\n",
       "    </tr>\n",
       "    <tr>\n",
       "      <th>1</th>\n",
       "      <td>35</td>\n",
       "      <td>관광특구</td>\n",
       "      <td>1001495</td>\n",
       "      <td>잠실 관광특구</td>\n",
       "      <td>가전제품</td>\n",
       "      <td>2.658334e+09</td>\n",
       "      <td>7144</td>\n",
       "      <td>92</td>\n",
       "      <td>8</td>\n",
       "      <td>8</td>\n",
       "      <td>...</td>\n",
       "      <td>0</td>\n",
       "      <td>376</td>\n",
       "      <td>1504</td>\n",
       "      <td>1128</td>\n",
       "      <td>752</td>\n",
       "      <td>1128</td>\n",
       "      <td>19</td>\n",
       "      <td>송파구</td>\n",
       "      <td>37.504832</td>\n",
       "      <td>127.088065</td>\n",
       "    </tr>\n",
       "  </tbody>\n",
       "</table>\n",
       "<p>2 rows × 80 columns</p>\n",
       "</div>"
      ],
      "text/plain": [
       "   Unnamed: 0 상권_구분코드     상권코드    상권코드명 서비스업종코드명      분기당매출_금액  분기당_매출_건수  \\\n",
       "0          34    관광특구  1001495  잠실 관광특구     인테리어  2.280000e+08        853   \n",
       "1          35    관광특구  1001495  잠실 관광특구     가전제품  2.658334e+09       7144   \n",
       "\n",
       "   주중_매출비율  주말_매출_비율  월요일_매출_비율  ...  연령대_10_매출_건수  연령대_20_매출_건수  \\\n",
       "0       45        55          0  ...             7           148   \n",
       "1       92         8          8  ...             0           376   \n",
       "\n",
       "   연령대_30_매출_건수  연령대_40_매출_건수  연령대_50_매출_건수  연령대_60_이상_매출_건수  점포수    구  \\\n",
       "0           123           382            86               59   12  송파구   \n",
       "1          1504          1128           752             1128   19  송파구   \n",
       "\n",
       "          위도          경도  \n",
       "0  37.504832  127.088065  \n",
       "1  37.504832  127.088065  \n",
       "\n",
       "[2 rows x 80 columns]"
      ]
     },
     "execution_count": 110,
     "metadata": {},
     "output_type": "execute_result"
    }
   ],
   "source": [
    "df.head(2)"
   ]
  },
  {
   "cell_type": "code",
   "execution_count": 111,
   "id": "d6d230f2",
   "metadata": {},
   "outputs": [
    {
     "data": {
      "text/html": [
       "<div>\n",
       "<style scoped>\n",
       "    .dataframe tbody tr th:only-of-type {\n",
       "        vertical-align: middle;\n",
       "    }\n",
       "\n",
       "    .dataframe tbody tr th {\n",
       "        vertical-align: top;\n",
       "    }\n",
       "\n",
       "    .dataframe thead th {\n",
       "        text-align: right;\n",
       "    }\n",
       "</style>\n",
       "<table border=\"1\" class=\"dataframe\">\n",
       "  <thead>\n",
       "    <tr style=\"text-align: right;\">\n",
       "      <th></th>\n",
       "      <th>Unnamed: 0</th>\n",
       "      <th>상권_구분코드</th>\n",
       "      <th>상권코드</th>\n",
       "      <th>상권코드명</th>\n",
       "      <th>서비스업종코드명</th>\n",
       "      <th>분기당매출_금액</th>\n",
       "      <th>분기당_매출_건수</th>\n",
       "      <th>주중_매출비율</th>\n",
       "      <th>주말_매출_비율</th>\n",
       "      <th>월요일_매출_비율</th>\n",
       "      <th>...</th>\n",
       "      <th>연령대_10_매출_건수</th>\n",
       "      <th>연령대_20_매출_건수</th>\n",
       "      <th>연령대_30_매출_건수</th>\n",
       "      <th>연령대_40_매출_건수</th>\n",
       "      <th>연령대_50_매출_건수</th>\n",
       "      <th>연령대_60_이상_매출_건수</th>\n",
       "      <th>점포수</th>\n",
       "      <th>구</th>\n",
       "      <th>위도</th>\n",
       "      <th>경도</th>\n",
       "    </tr>\n",
       "  </thead>\n",
       "  <tbody>\n",
       "    <tr>\n",
       "      <th>115478</th>\n",
       "      <td>132319</td>\n",
       "      <td>골목상권</td>\n",
       "      <td>1000001</td>\n",
       "      <td>계동길</td>\n",
       "      <td>중식음식점</td>\n",
       "      <td>25767161.0</td>\n",
       "      <td>1413</td>\n",
       "      <td>78</td>\n",
       "      <td>22</td>\n",
       "      <td>12</td>\n",
       "      <td>...</td>\n",
       "      <td>145</td>\n",
       "      <td>368</td>\n",
       "      <td>240</td>\n",
       "      <td>368</td>\n",
       "      <td>96</td>\n",
       "      <td>69</td>\n",
       "      <td>1</td>\n",
       "      <td>종로구</td>\n",
       "      <td>37.580942</td>\n",
       "      <td>126.986728</td>\n",
       "    </tr>\n",
       "    <tr>\n",
       "      <th>115479</th>\n",
       "      <td>132320</td>\n",
       "      <td>골목상권</td>\n",
       "      <td>1000001</td>\n",
       "      <td>계동길</td>\n",
       "      <td>한식음식점</td>\n",
       "      <td>431442455.0</td>\n",
       "      <td>18548</td>\n",
       "      <td>79</td>\n",
       "      <td>21</td>\n",
       "      <td>13</td>\n",
       "      <td>...</td>\n",
       "      <td>611</td>\n",
       "      <td>3828</td>\n",
       "      <td>4356</td>\n",
       "      <td>3428</td>\n",
       "      <td>2614</td>\n",
       "      <td>1690</td>\n",
       "      <td>19</td>\n",
       "      <td>종로구</td>\n",
       "      <td>37.580942</td>\n",
       "      <td>126.986728</td>\n",
       "    </tr>\n",
       "  </tbody>\n",
       "</table>\n",
       "<p>2 rows × 80 columns</p>\n",
       "</div>"
      ],
      "text/plain": [
       "        Unnamed: 0 상권_구분코드     상권코드 상권코드명 서비스업종코드명     분기당매출_금액  분기당_매출_건수  \\\n",
       "115478      132319    골목상권  1000001   계동길    중식음식점   25767161.0       1413   \n",
       "115479      132320    골목상권  1000001   계동길    한식음식점  431442455.0      18548   \n",
       "\n",
       "        주중_매출비율  주말_매출_비율  월요일_매출_비율  ...  연령대_10_매출_건수  연령대_20_매출_건수  \\\n",
       "115478       78        22         12  ...           145           368   \n",
       "115479       79        21         13  ...           611          3828   \n",
       "\n",
       "        연령대_30_매출_건수  연령대_40_매출_건수  연령대_50_매출_건수  연령대_60_이상_매출_건수  점포수    구  \\\n",
       "115478           240           368            96               69    1  종로구   \n",
       "115479          4356          3428          2614             1690   19  종로구   \n",
       "\n",
       "               위도          경도  \n",
       "115478  37.580942  126.986728  \n",
       "115479  37.580942  126.986728  \n",
       "\n",
       "[2 rows x 80 columns]"
      ]
     },
     "execution_count": 111,
     "metadata": {},
     "output_type": "execute_result"
    }
   ],
   "source": [
    "df.tail(2)"
   ]
  },
  {
   "cell_type": "code",
   "execution_count": 112,
   "id": "303b2fed",
   "metadata": {},
   "outputs": [
    {
     "data": {
      "text/html": [
       "<div>\n",
       "<style scoped>\n",
       "    .dataframe tbody tr th:only-of-type {\n",
       "        vertical-align: middle;\n",
       "    }\n",
       "\n",
       "    .dataframe tbody tr th {\n",
       "        vertical-align: top;\n",
       "    }\n",
       "\n",
       "    .dataframe thead th {\n",
       "        text-align: right;\n",
       "    }\n",
       "</style>\n",
       "<table border=\"1\" class=\"dataframe\">\n",
       "  <thead>\n",
       "    <tr style=\"text-align: right;\">\n",
       "      <th></th>\n",
       "      <th>Unnamed: 0</th>\n",
       "      <th>상권_구분코드</th>\n",
       "      <th>상권코드</th>\n",
       "      <th>상권코드명</th>\n",
       "      <th>서비스업종코드명</th>\n",
       "      <th>분기당매출_금액</th>\n",
       "      <th>분기당_매출_건수</th>\n",
       "      <th>주중_매출비율</th>\n",
       "      <th>주말_매출_비율</th>\n",
       "      <th>월요일_매출_비율</th>\n",
       "      <th>...</th>\n",
       "      <th>연령대_10_매출_건수</th>\n",
       "      <th>연령대_20_매출_건수</th>\n",
       "      <th>연령대_30_매출_건수</th>\n",
       "      <th>연령대_40_매출_건수</th>\n",
       "      <th>연령대_50_매출_건수</th>\n",
       "      <th>연령대_60_이상_매출_건수</th>\n",
       "      <th>점포수</th>\n",
       "      <th>구</th>\n",
       "      <th>위도</th>\n",
       "      <th>경도</th>\n",
       "    </tr>\n",
       "  </thead>\n",
       "  <tbody>\n",
       "    <tr>\n",
       "      <th>65830</th>\n",
       "      <td>78383</td>\n",
       "      <td>골목상권</td>\n",
       "      <td>1000982</td>\n",
       "      <td>상일로5길</td>\n",
       "      <td>패스트푸드점</td>\n",
       "      <td>154582118.0</td>\n",
       "      <td>4031</td>\n",
       "      <td>78</td>\n",
       "      <td>22</td>\n",
       "      <td>14</td>\n",
       "      <td>...</td>\n",
       "      <td>5</td>\n",
       "      <td>1185</td>\n",
       "      <td>960</td>\n",
       "      <td>864</td>\n",
       "      <td>749</td>\n",
       "      <td>147</td>\n",
       "      <td>3</td>\n",
       "      <td>강동구</td>\n",
       "      <td>37.549154</td>\n",
       "      <td>127.172091</td>\n",
       "    </tr>\n",
       "  </tbody>\n",
       "</table>\n",
       "<p>1 rows × 80 columns</p>\n",
       "</div>"
      ],
      "text/plain": [
       "       Unnamed: 0 상권_구분코드     상권코드  상권코드명 서비스업종코드명     분기당매출_금액  분기당_매출_건수  \\\n",
       "65830       78383    골목상권  1000982  상일로5길   패스트푸드점  154582118.0       4031   \n",
       "\n",
       "       주중_매출비율  주말_매출_비율  월요일_매출_비율  ...  연령대_10_매출_건수  연령대_20_매출_건수  \\\n",
       "65830       78        22         14  ...             5          1185   \n",
       "\n",
       "       연령대_30_매출_건수  연령대_40_매출_건수  연령대_50_매출_건수  연령대_60_이상_매출_건수  점포수    구  \\\n",
       "65830           960           864           749              147    3  강동구   \n",
       "\n",
       "              위도          경도  \n",
       "65830  37.549154  127.172091  \n",
       "\n",
       "[1 rows x 80 columns]"
      ]
     },
     "execution_count": 112,
     "metadata": {},
     "output_type": "execute_result"
    }
   ],
   "source": [
    "df.sample()"
   ]
  },
  {
   "cell_type": "markdown",
   "id": "9177a561",
   "metadata": {},
   "source": [
    "# 필요없는 칼럼 지우기"
   ]
  },
  {
   "cell_type": "code",
   "execution_count": 115,
   "id": "cd169be8",
   "metadata": {},
   "outputs": [],
   "source": [
    "df = df.drop('Unnamed: 0', axis = 1)"
   ]
  },
  {
   "cell_type": "markdown",
   "id": "ce9a7d65",
   "metadata": {},
   "source": [
    "# 데이터 프레임 간략 정보 확인(널값, 타입)"
   ]
  },
  {
   "cell_type": "code",
   "execution_count": 116,
   "id": "5f83c30b",
   "metadata": {
    "scrolled": true
   },
   "outputs": [
    {
     "name": "stdout",
     "output_type": "stream",
     "text": [
      "<class 'pandas.core.frame.DataFrame'>\n",
      "RangeIndex: 115480 entries, 0 to 115479\n",
      "Data columns (total 79 columns):\n",
      " #   Column           Non-Null Count   Dtype  \n",
      "---  ------           --------------   -----  \n",
      " 0   상권_구분코드          115480 non-null  object \n",
      " 1   상권코드             115480 non-null  int64  \n",
      " 2   상권코드명            115480 non-null  object \n",
      " 3   서비스업종코드명         115480 non-null  object \n",
      " 4   분기당매출_금액         115480 non-null  float64\n",
      " 5   분기당_매출_건수        115480 non-null  int64  \n",
      " 6   주중_매출비율          115480 non-null  int64  \n",
      " 7   주말_매출_비율         115480 non-null  int64  \n",
      " 8   월요일_매출_비율        115480 non-null  int64  \n",
      " 9   화요일_매출_비율        115480 non-null  int64  \n",
      " 10  수요일_매출_비율        115480 non-null  int64  \n",
      " 11  목요일_매출_비율        115480 non-null  int64  \n",
      " 12  금요일_매출_비율        115480 non-null  int64  \n",
      " 13  토요일_매출_비율        115480 non-null  int64  \n",
      " 14  일요일_매출_비율        115480 non-null  int64  \n",
      " 15  시간대_00~06_매출_비율  115480 non-null  int64  \n",
      " 16  시간대_06~11_매출_비율  115480 non-null  int64  \n",
      " 17  시간대_11~14_매출_비율  115480 non-null  int64  \n",
      " 18  시간대_14~17_매출_비율  115480 non-null  int64  \n",
      " 19  시간대_17~21_매출_비율  115480 non-null  int64  \n",
      " 20  시간대_21~24_매출_비율  115480 non-null  int64  \n",
      " 21  남성_매출_비율         115480 non-null  int64  \n",
      " 22  여성_매출_비율         115480 non-null  int64  \n",
      " 23  연령대_10_매출_비율     115480 non-null  int64  \n",
      " 24  연령대_20_매출_비율     115480 non-null  int64  \n",
      " 25  연령대_30_매출_비율     115480 non-null  int64  \n",
      " 26  연령대_40_매출_비율     115480 non-null  int64  \n",
      " 27  연령대_50_매출_비율     115480 non-null  int64  \n",
      " 28  연령대_60_이상_매출_비율  115480 non-null  int64  \n",
      " 29  주중_매출_금액         115480 non-null  float64\n",
      " 30  주말_매출_금액         115480 non-null  float64\n",
      " 31  월요일_매출_금액        115480 non-null  int64  \n",
      " 32  화요일_매출_금액        115480 non-null  float64\n",
      " 33  수요일_매출_금액        115480 non-null  int64  \n",
      " 34  목요일_매출_금액        115480 non-null  int64  \n",
      " 35  금요일_매출_금액        115480 non-null  int64  \n",
      " 36  토요일_매출_금액        115480 non-null  int64  \n",
      " 37  일요일_매출_금액        115480 non-null  int64  \n",
      " 38  시간대_00~06_매출_금액  115480 non-null  int64  \n",
      " 39  시간대_06~11_매출_금액  115480 non-null  int64  \n",
      " 40  시간대_11~14_매출_금액  115480 non-null  float64\n",
      " 41  시간대_14~17_매출_금액  115480 non-null  float64\n",
      " 42  시간대_17~21_매출_금액  115480 non-null  float64\n",
      " 43  시간대_21~24_매출_금액  115480 non-null  int64  \n",
      " 44  남성_매출_금액         115480 non-null  float64\n",
      " 45  여성_매출_금액         115480 non-null  float64\n",
      " 46  연령대_10_매출_금액     115480 non-null  int64  \n",
      " 47  연령대_20_매출_금액     115480 non-null  int64  \n",
      " 48  연령대_30_매출_금액     115480 non-null  int64  \n",
      " 49  연령대_40_매출_금액     115480 non-null  float64\n",
      " 50  연령대_50_매출_금액     115480 non-null  int64  \n",
      " 51  연령대_60_이상_매출_금액  115480 non-null  int64  \n",
      " 52  주중_매출_건수         115480 non-null  int64  \n",
      " 53  주말_매출_건수         115480 non-null  int64  \n",
      " 54  월요일_매출_건수        115480 non-null  int64  \n",
      " 55  화요일_매출_건수        115480 non-null  int64  \n",
      " 56  수요일_매출_건수        115480 non-null  int64  \n",
      " 57  목요일_매출_건수        115480 non-null  int64  \n",
      " 58  금요일_매출_건수        115480 non-null  int64  \n",
      " 59  토요일_매출_건수        115480 non-null  int64  \n",
      " 60  일요일_매출_건수        115480 non-null  int64  \n",
      " 61  시간대_건수~06_매출_건수  115480 non-null  int64  \n",
      " 62  시간대_건수~11_매출_건수  115480 non-null  int64  \n",
      " 63  시간대_건수~14_매출_건수  115480 non-null  int64  \n",
      " 64  시간대_건수~17_매출_건수  115480 non-null  int64  \n",
      " 65  시간대_건수~21_매출_건수  115480 non-null  int64  \n",
      " 66  시간대_건수~24_매출_건수  115480 non-null  int64  \n",
      " 67  남성_매출_건수         115480 non-null  int64  \n",
      " 68  여성_매출_건수         115480 non-null  int64  \n",
      " 69  연령대_10_매출_건수     115480 non-null  int64  \n",
      " 70  연령대_20_매출_건수     115480 non-null  int64  \n",
      " 71  연령대_30_매출_건수     115480 non-null  int64  \n",
      " 72  연령대_40_매출_건수     115480 non-null  int64  \n",
      " 73  연령대_50_매출_건수     115480 non-null  int64  \n",
      " 74  연령대_60_이상_매출_건수  115480 non-null  int64  \n",
      " 75  점포수              115480 non-null  int64  \n",
      " 76  구                115480 non-null  object \n",
      " 77  위도               115480 non-null  float64\n",
      " 78  경도               115480 non-null  float64\n",
      "dtypes: float64(12), int64(63), object(4)\n",
      "memory usage: 69.6+ MB\n"
     ]
    }
   ],
   "source": [
    "df.info()"
   ]
  },
  {
   "cell_type": "markdown",
   "id": "78cc8e7e",
   "metadata": {},
   "source": [
    "# 범주데이터 칼럼 탐색"
   ]
  },
  {
   "cell_type": "markdown",
   "id": "5a445b11",
   "metadata": {},
   "source": [
    "상권_구분코드 , 상권코드명 , 서비스업종코드명, 구 => 4개 범주데이터 탐색"
   ]
  },
  {
   "cell_type": "markdown",
   "id": "84a3b334",
   "metadata": {},
   "source": [
    "상권_구분코드"
   ]
  },
  {
   "cell_type": "code",
   "execution_count": 120,
   "id": "3b904b98",
   "metadata": {},
   "outputs": [
    {
     "data": {
      "text/plain": [
       "골목상권    84657\n",
       "발달상권    16808\n",
       "전통시장    13027\n",
       "관광특구      988\n",
       "Name: 상권_구분코드, dtype: int64"
      ]
     },
     "execution_count": 120,
     "metadata": {},
     "output_type": "execute_result"
    }
   ],
   "source": [
    "df['상권_구분코드'].value_counts()"
   ]
  },
  {
   "cell_type": "code",
   "execution_count": 123,
   "id": "706c7aa7",
   "metadata": {},
   "outputs": [
    {
     "data": {
      "text/plain": [
       "<AxesSubplot:>"
      ]
     },
     "execution_count": 123,
     "metadata": {},
     "output_type": "execute_result"
    },
    {
     "data": {
      "image/png": "[encoded data removed]",
      "text/plain": [
       "<Figure size 432x288 with 1 Axes>"
      ]
     },
     "metadata": {
      "needs_background": "light"
     },
     "output_type": "display_data"
    }
   ],
   "source": [
    "a = df['상권_구분코드'].value_counts()\n",
    "a.plot(kind = 'bar')"
   ]
  },
  {
   "cell_type": "markdown",
   "id": "92af6859",
   "metadata": {},
   "source": [
    "상권코드명"
   ]
  },
  {
   "cell_type": "code",
   "execution_count": 117,
   "id": "ae7aafc5",
   "metadata": {},
   "outputs": [
    {
     "data": {
      "text/plain": [
       "종로?청계 관광특구                225\n",
       "명동 남대문 북창동 다동 무교동 관광특구    223\n",
       "강남구 논현역_2                 207\n",
       "홍익대학교 주변                  206\n",
       "서울 서초구 강남역                197\n",
       "                         ... \n",
       "동서시장                        8\n",
       "논현종합시장                      8\n",
       "등마루시장                       7\n",
       "유영시장                        4\n",
       "남평화시장                       2\n",
       "Name: 상권코드명, Length: 1322, dtype: int64"
      ]
     },
     "execution_count": 117,
     "metadata": {},
     "output_type": "execute_result"
    }
   ],
   "source": [
    "df['상권코드명'].value_counts()"
   ]
  },
  {
   "cell_type": "markdown",
   "id": "6fa1f7ce",
   "metadata": {},
   "source": [
    "서비스업종코드명"
   ]
  },
  {
   "cell_type": "code",
   "execution_count": 164,
   "id": "581d555d",
   "metadata": {
    "scrolled": true
   },
   "outputs": [
    {
     "data": {
      "text/plain": [
       "array(['인테리어', '가전제품', '가구', '화초', '완구', '운동/경기용품', '화장품', '문구', '의료기기',\n",
       "       '의약품', '시계및귀금속', '안경', '가방', '일반의류', '육류판매', '컴퓨터및주변장치판매', '편의점',\n",
       "       '슈퍼마켓', '노래방', '고시원', '여관', '세탁소', '피부관리실', '미용실', '자동차수리',\n",
       "       '스포츠클럽', 'PC방', '골프연습장', '당구장', '한의원', '치과의원', '일반의원', '스포츠 강습',\n",
       "       '커피-음료', '호프-간이주점', '분식전문점', '치킨전문점', '패스트푸드점', '제과점', '양식음식점',\n",
       "       '일식음식점', '중식음식점', '한식음식점', '전자상거래업', '조명용품', '철물점', '애완동물', '섬유제품',\n",
       "       '서적', '신발', '반찬가게', '청과상', '수산물판매', '미곡판매', '핸드폰', '가전제품수리', '네일숍',\n",
       "       '예술학원', '외국어학원', '일반교습학원', '자동차미용', '자전거 및 기타운송장비', '부동산중개업'],\n",
       "      dtype=object)"
      ]
     },
     "execution_count": 164,
     "metadata": {},
     "output_type": "execute_result"
    }
   ],
   "source": [
    "df['서비스업종코드명'].unique()"
   ]
  },
  {
   "cell_type": "markdown",
   "id": "62e2d4e2",
   "metadata": {},
   "source": [
    "식당,술집(음식)=> 호프-간이주점, 분식전문점, 치킨전문점, 패스트푸드점, 제과점, 양식음식점, 일식음식점, 중식음식점, 한식음식점\n",
    "\n",
    "음식점 종류별 개수 세기"
   ]
  },
  {
   "cell_type": "code",
   "execution_count": 220,
   "id": "cdc977a9",
   "metadata": {},
   "outputs": [
    {
     "name": "stdout",
     "output_type": "stream",
     "text": [
      "분식집 개수 :  3952\n",
      "치킨집 개수 :  3136\n",
      "패스트푸드점 개수 :  2099\n",
      "제과점 개수 :  2368\n",
      "양식집 개수 :  1560\n",
      "일식집 개수 :  1946\n",
      "중식집 개수 :  2897\n",
      "한식집 개수 :  5130\n"
     ]
    },
    {
     "data": {
      "text/plain": [
       "<AxesSubplot:ylabel='None'>"
      ]
     },
     "execution_count": 220,
     "metadata": {},
     "output_type": "execute_result"
    },
    {
     "data": {
      "text/plain": [
       "<Figure size 720x360 with 0 Axes>"
      ]
     },
     "metadata": {},
     "output_type": "display_data"
    },
    {
     "data": {
      "image/png": "[encoded data removed]",
      "text/plain": [
       "<Figure size 432x288 with 2 Axes>"
      ]
     },
     "metadata": {
      "needs_background": "light"
     },
     "output_type": "display_data"
    }
   ],
   "source": [
    "\n",
    "print('분식집 개수 : ', df['서비스업종코드명'].value_counts()['분식전문점'])\n",
    "tteokbokki_store_cnt = df['서비스업종코드명'].value_counts()['분식전문점']\n",
    "\n",
    "print('치킨집 개수 : ',df['서비스업종코드명'].value_counts()['치킨전문점'])\n",
    "chicken_store_cnt = df['서비스업종코드명'].value_counts()['치킨전문점'] \n",
    "\n",
    "print('패스트푸드점 개수 : ',df['서비스업종코드명'].value_counts()['패스트푸드점'])\n",
    "fast_store_cnt = df['서비스업종코드명'].value_counts()['패스트푸드점']\n",
    "\n",
    "print('제과점 개수 : ',df['서비스업종코드명'].value_counts()['제과점'])\n",
    "bakery_store_cnt = df['서비스업종코드명'].value_counts()['제과점']\n",
    "\n",
    "print('양식집 개수 : ',df['서비스업종코드명'].value_counts()['양식음식점'])\n",
    "western_store_cnt = df['서비스업종코드명'].value_counts()['양식음식점']\n",
    "\n",
    "print('일식집 개수 : ',df['서비스업종코드명'].value_counts()['일식음식점'])\n",
    "japan_store_cnt = df['서비스업종코드명'].value_counts()['일식음식점']\n",
    "\n",
    "print('중식집 개수 : ',df['서비스업종코드명'].value_counts()['중식음식점'])\n",
    "china_store_cnt = df['서비스업종코드명'].value_counts()['중식음식점']\n",
    "\n",
    "print('한식집 개수 : ',df['서비스업종코드명'].value_counts()['한식음식점'])\n",
    "korea_store_cnt = df['서비스업종코드명'].value_counts()['한식음식점']\n",
    "\n",
    "food_store_cnt_list = pd.Series({'치킨집_개수' : chicken_store_cnt, '패스트푸드점_개수' : fast_store_cnt, '제과점_개수' : bakery_store_cnt,\n",
    "          '양식집_개수' : western_store_cnt, '일식집_개수' : japan_store_cnt, '중식집_개수' : china_store_cnt,\n",
    "          '한식집_개수' : korea_store_cnt})\n",
    "\n",
    "plt.figure(figsize=(10,5))\n",
    "fig, ax = plt.subplots(1,2)\n",
    "\n",
    "food_store_cnt_list.plot(kind = 'bar',ax = ax[0])\n",
    "food_store_cnt_list.plot(kind = 'pie', ax = ax[1])\n"
   ]
  },
  {
   "cell_type": "code",
   "execution_count": 224,
   "id": "c4efe325",
   "metadata": {},
   "outputs": [
    {
     "data": {
      "text/plain": [
       "array(['인테리어', '가전제품', '가구', '화초', '완구', '운동/경기용품', '화장품', '문구', '의료기기',\n",
       "       '의약품', '시계및귀금속', '안경', '가방', '일반의류', '육류판매', '컴퓨터및주변장치판매', '편의점',\n",
       "       '슈퍼마켓', '노래방', '고시원', '여관', '세탁소', '피부관리실', '미용실', '자동차수리',\n",
       "       '스포츠클럽', 'PC방', '골프연습장', '당구장', '한의원', '치과의원', '일반의원', '스포츠 강습',\n",
       "       '커피-음료', '호프-간이주점', '분식전문점', '치킨전문점', '패스트푸드점', '제과점', '양식음식점',\n",
       "       '일식음식점', '중식음식점', '한식음식점', '전자상거래업', '조명용품', '철물점', '애완동물', '섬유제품',\n",
       "       '서적', '신발', '반찬가게', '청과상', '수산물판매', '미곡판매', '핸드폰', '가전제품수리', '네일숍',\n",
       "       '예술학원', '외국어학원', '일반교습학원', '자동차미용', '자전거 및 기타운송장비', '부동산중개업'],\n",
       "      dtype=object)"
      ]
     },
     "execution_count": 224,
     "metadata": {},
     "output_type": "execute_result"
    }
   ],
   "source": [
    "df['서비스업종코드명'].unique()"
   ]
  },
  {
   "cell_type": "markdown",
   "id": "987d042c",
   "metadata": {},
   "source": [
    "서비스업종 더 세분화 해서 주성분 만들기"
   ]
  },
  {
   "cell_type": "markdown",
   "id": "836014c1",
   "metadata": {},
   "source": [
    "- 식당,술집(음식)=> 호프-간이주점, 분식전문점, 치킨전문점, 패스트푸드점, 제과점, 양식음식점, 일식음식점, 중식음식점, 한식음식점  \n",
    "- 병원과 약국 => 의약품, 한의원, 치과의원, 일반의원  \n",
    "- 가구관련 => 인테리어, 가전제품, 가구, 조명용품, 가전제품수리  \n",
    "- 패션뷰티 => 화장품, 시계및귀금속,안경,가방,일반의류,피부관리실,미용실,섬유제품, 신발, 네일숍  \n",
    "- 교육 => 스포츠 강습, 예술학원, 외국어학원, 일반교습학원  \n",
    "- 식재료마트 => 육류판매, 편의점, 슈퍼마켓, 반찬가게, 청과상, 수산물판매, 미곡판매  \n",
    "- 여가 => 노래방, 스포츠클럽, PC방, 골프연습장, 당구장  \n",
    "- 카페 => 커피-음료  \n",
    "- 운송장비관련 => 자동차수리, 자동차미용, 자전거 및 기타운송장비  \n",
    "\n"
   ]
  },
  {
   "cell_type": "code",
   "execution_count": 229,
   "id": "172e6a1a",
   "metadata": {},
   "outputs": [],
   "source": [
    "#업종 분류\n",
    "\n",
    "food_alchol = ['호프-간이주점', '분식전문점', '치킨전문점', '패스트푸드점', '제과점', '양식음식점', '일식음식점',\n",
    "               '중식음식점', '한식음식점']\n",
    "hospital_pharm = ['의약품', '한의원', '치과의원', '일반의원']\n",
    "furniture = ['인테리어', '가전제품', '가구', '조명용품', '가전제품수리']\n",
    "fashion_beauty = ['화장품', '시계및귀금속','안경','가방','일반의류','피부관리실','미용실','섬유제품', '신발', '네일숍']\n",
    "education = ['스포츠 강습', '예술학원', '외국어학원', '일반교습학원']\n",
    "ingredient_mart = ['육류판매', '편의점', '슈퍼마켓', '반찬가게', '청과상', '수산물판매', '미곡판매']\n",
    "play = ['노래방', '스포츠클럽', 'PC방', '골프연습장', '당구장']\n",
    "cafe = ['커피-음료']\n",
    "vehicle = ['자동차수리', '자동차미용', '자전거 및 기타운송장비']"
   ]
  },
  {
   "cell_type": "code",
   "execution_count": 253,
   "id": "3a99bc3e",
   "metadata": {},
   "outputs": [
    {
     "name": "stderr",
     "output_type": "stream",
     "text": [
      "<ipython-input-253-382a79ef32bd>:22: SettingWithCopyWarning: \n",
      "A value is trying to be set on a copy of a slice from a DataFrame\n",
      "\n",
      "See the caveats in the documentation: https://pandas.pydata.org/pandas-docs/stable/user_guide/indexing.html#returning-a-view-versus-a-copy\n",
      "  df['업종'][i] = '가구관련'\n",
      "<ipython-input-253-382a79ef32bd>:42: SettingWithCopyWarning: \n",
      "A value is trying to be set on a copy of a slice from a DataFrame\n",
      "\n",
      "See the caveats in the documentation: https://pandas.pydata.org/pandas-docs/stable/user_guide/indexing.html#returning-a-view-versus-a-copy\n",
      "  df['업종'][i] = '그 외'\n",
      "<ipython-input-253-382a79ef32bd>:25: SettingWithCopyWarning: \n",
      "A value is trying to be set on a copy of a slice from a DataFrame\n",
      "\n",
      "See the caveats in the documentation: https://pandas.pydata.org/pandas-docs/stable/user_guide/indexing.html#returning-a-view-versus-a-copy\n",
      "  df['업종'][i] = '패션뷰티'\n",
      "<ipython-input-253-382a79ef32bd>:19: SettingWithCopyWarning: \n",
      "A value is trying to be set on a copy of a slice from a DataFrame\n",
      "\n",
      "See the caveats in the documentation: https://pandas.pydata.org/pandas-docs/stable/user_guide/indexing.html#returning-a-view-versus-a-copy\n",
      "  df['업종'][i] = '병원및약국'\n",
      "<ipython-input-253-382a79ef32bd>:34: SettingWithCopyWarning: \n",
      "A value is trying to be set on a copy of a slice from a DataFrame\n",
      "\n",
      "See the caveats in the documentation: https://pandas.pydata.org/pandas-docs/stable/user_guide/indexing.html#returning-a-view-versus-a-copy\n",
      "  df['업종'][i] = '여가'\n",
      "<ipython-input-253-382a79ef32bd>:40: SettingWithCopyWarning: \n",
      "A value is trying to be set on a copy of a slice from a DataFrame\n",
      "\n",
      "See the caveats in the documentation: https://pandas.pydata.org/pandas-docs/stable/user_guide/indexing.html#returning-a-view-versus-a-copy\n",
      "  df['업종'][i] = '탈것관련'\n",
      "<ipython-input-253-382a79ef32bd>:28: SettingWithCopyWarning: \n",
      "A value is trying to be set on a copy of a slice from a DataFrame\n",
      "\n",
      "See the caveats in the documentation: https://pandas.pydata.org/pandas-docs/stable/user_guide/indexing.html#returning-a-view-versus-a-copy\n",
      "  df['업종'][i] = '교육'\n",
      "<ipython-input-253-382a79ef32bd>:37: SettingWithCopyWarning: \n",
      "A value is trying to be set on a copy of a slice from a DataFrame\n",
      "\n",
      "See the caveats in the documentation: https://pandas.pydata.org/pandas-docs/stable/user_guide/indexing.html#returning-a-view-versus-a-copy\n",
      "  df['업종'][i] = '카페'\n",
      "<ipython-input-253-382a79ef32bd>:16: SettingWithCopyWarning: \n",
      "A value is trying to be set on a copy of a slice from a DataFrame\n",
      "\n",
      "See the caveats in the documentation: https://pandas.pydata.org/pandas-docs/stable/user_guide/indexing.html#returning-a-view-versus-a-copy\n",
      "  df['업종'][i] = '음식집'\n"
     ]
    }
   ],
   "source": [
    "df['업종'] = 0                                    #업종 칼럼 생성\n",
    "service_name = df['서비스업종코드명']\n",
    "\n",
    "\n",
    "for i in range(len(df['서비스업종코드명'])):          #서비스업종코드명별 업종 구분하여 칼럼값 채우기\n",
    "    if service_name[i]  in food_alchol:\n",
    "        df['업종'][i] = '음식집'\n",
    "        \n",
    "    elif service_name[i] in hospital_pharm:\n",
    "        df['업종'][i] = '병원및약국'\n",
    "        \n",
    "    elif service_name[i] in furniture:\n",
    "        df['업종'][i] = '가구관련'\n",
    "        \n",
    "    elif service_name[i] in fashion_beauty:\n",
    "        df['업종'][i] = '패션뷰티'\n",
    "    \n",
    "    elif service_name[i] in education:\n",
    "        df['업종'][i] = '교육'\n",
    "    \n",
    "    elif service_name[i] in ingredient_mart:\n",
    "        df['업종'][i] = '식재료마트'\n",
    "        \n",
    "    elif service_name[i] in play:\n",
    "        df['업종'][i] = '여가'\n",
    "        \n",
    "    elif service_name[i] in cafe:\n",
    "        df['업종'][i] = '카페'\n",
    "        \n",
    "    elif service_name[i] in vehicle:\n",
    "        df['업종'][i] = '탈것관련'\n",
    "    else:\n",
    "        df['업종'][i] = '그 외'\n",
    "        \n",
    "    \n",
    "        \n",
    "    "
   ]
  },
  {
   "cell_type": "code",
   "execution_count": 272,
   "id": "1f28a255",
   "metadata": {},
   "outputs": [
    {
     "data": {
      "text/plain": [
       "<AxesSubplot:>"
      ]
     },
     "execution_count": 272,
     "metadata": {},
     "output_type": "execute_result"
    },
    {
     "data": {
      "image/png": "[encoded data removed]",
      "text/plain": [
       "<Figure size 432x288 with 1 Axes>"
      ]
     },
     "metadata": {
      "needs_background": "light"
     },
     "output_type": "display_data"
    }
   ],
   "source": [
    "df['업종'].value_counts().plot(kind  = 'bar')"
   ]
  },
  {
   "cell_type": "code",
   "execution_count": 274,
   "id": "97123c19",
   "metadata": {},
   "outputs": [
    {
     "data": {
      "text/plain": [
       "그 외      30211\n",
       "음식집      27159\n",
       "패션뷰티     19584\n",
       "병원및약국    10929\n",
       "여가        9015\n",
       "교육        8056\n",
       "카페        4140\n",
       "가구관련      3686\n",
       "탈것관련      2700\n",
       "Name: 업종, dtype: int64"
      ]
     },
     "execution_count": 274,
     "metadata": {},
     "output_type": "execute_result"
    }
   ],
   "source": [
    "df['업종'].value_counts()"
   ]
  },
  {
   "cell_type": "markdown",
   "id": "5e6bdd4d",
   "metadata": {},
   "source": [
    "구"
   ]
  },
  {
   "cell_type": "code",
   "execution_count": 223,
   "id": "3c5e4b20",
   "metadata": {},
   "outputs": [
    {
     "data": {
      "text/plain": [
       "<AxesSubplot:>"
      ]
     },
     "execution_count": 223,
     "metadata": {},
     "output_type": "execute_result"
    },
    {
     "data": {
      "image/png": "[encoded data removed]",
      "text/plain": [
       "<Figure size 432x288 with 1 Axes>"
      ]
     },
     "metadata": {
      "needs_background": "light"
     },
     "output_type": "display_data"
    }
   ],
   "source": [
    "df['구'].value_counts().plot(kind='bar')"
   ]
  },
  {
   "cell_type": "markdown",
   "id": "48736aa8",
   "metadata": {},
   "source": [
    "# 범주 데이터간 비교"
   ]
  },
  {
   "cell_type": "markdown",
   "id": "dde3b26a",
   "metadata": {},
   "source": [
    "상권_구분코드별 업종 개수"
   ]
  },
  {
   "cell_type": "code",
   "execution_count": 320,
   "id": "411f2645",
   "metadata": {},
   "outputs": [
    {
     "data": {
      "text/plain": [
       "<AxesSubplot:ylabel='업종'>"
      ]
     },
     "execution_count": 320,
     "metadata": {},
     "output_type": "execute_result"
    },
    {
     "data": {
      "text/plain": [
       "<Figure size 720x360 with 0 Axes>"
      ]
     },
     "metadata": {},
     "output_type": "display_data"
    },
    {
     "data": {
      "image/png": "[encoded data removed]",
      "text/plain": [
       "<Figure size 432x288 with 2 Axes>"
      ]
     },
     "metadata": {
      "needs_background": "light"
     },
     "output_type": "display_data"
    }
   ],
   "source": [
    "plt.figure(figsize = (10,5))\n",
    "fig, ax = plt.subplots(1,2)\n",
    "df_golmok = df[df['상권_구분코드'] == '골목상권']\n",
    "df_golmok['업종'].value_counts().plot(kind='bar', ax = ax[0])\n",
    "df_golmok['업종'].value_counts().plot(kind='pie', ax = ax[1])"
   ]
  },
  {
   "cell_type": "code",
   "execution_count": 330,
   "id": "d5327c31",
   "metadata": {},
   "outputs": [
    {
     "data": {
      "text/plain": [
       "<AxesSubplot:ylabel='업종'>"
      ]
     },
     "execution_count": 330,
     "metadata": {},
     "output_type": "execute_result"
    },
    {
     "data": {
      "text/plain": [
       "<Figure size 720x360 with 0 Axes>"
      ]
     },
     "metadata": {},
     "output_type": "display_data"
    },
    {
     "data": {
      "image/png": "[encoded data removed]",
      "text/plain": [
       "<Figure size 432x288 with 2 Axes>"
      ]
     },
     "metadata": {
      "needs_background": "light"
     },
     "output_type": "display_data"
    }
   ],
   "source": [
    "plt.figure(figsize = (10,5))\n",
    "fig, ax = plt.subplots(1,2)\n",
    "df_develop = df[df['상권_구분코드'] == '발달상권']\n",
    "df_develop['업종'].value_counts().plot(kind='bar', ax = ax[0])\n",
    "df_develop['업종'].value_counts().plot(kind='pie', ax = ax[1])"
   ]
  },
  {
   "cell_type": "code",
   "execution_count": 329,
   "id": "2f7f274c",
   "metadata": {},
   "outputs": [
    {
     "data": {
      "text/plain": [
       "<AxesSubplot:ylabel='업종'>"
      ]
     },
     "execution_count": 329,
     "metadata": {},
     "output_type": "execute_result"
    },
    {
     "data": {
      "text/plain": [
       "<Figure size 720x360 with 0 Axes>"
      ]
     },
     "metadata": {},
     "output_type": "display_data"
    },
    {
     "data": {
      "image/png": "[encoded data removed]",
      "text/plain": [
       "<Figure size 432x288 with 2 Axes>"
      ]
     },
     "metadata": {
      "needs_background": "light"
     },
     "output_type": "display_data"
    }
   ],
   "source": [
    "plt.figure(figsize = (10,5))\n",
    "fig, ax = plt.subplots(1,2)\n",
    "df_tradition = df[df['상권_구분코드'] == '전통시장']\n",
    "df_tradition['업종'].value_counts().plot(kind='bar')\n",
    "df_tradition['업종'].value_counts().plot(kind='bar', ax = ax[0])\n",
    "df_tradition['업종'].value_counts().plot(kind='pie', ax = ax[1])"
   ]
  },
  {
   "cell_type": "code",
   "execution_count": 328,
   "id": "66b3d32b",
   "metadata": {},
   "outputs": [
    {
     "data": {
      "text/plain": [
       "<AxesSubplot:ylabel='업종'>"
      ]
     },
     "execution_count": 328,
     "metadata": {},
     "output_type": "execute_result"
    },
    {
     "data": {
      "text/plain": [
       "<Figure size 720x360 with 0 Axes>"
      ]
     },
     "metadata": {},
     "output_type": "display_data"
    },
    {
     "data": {
      "image/png": "[encoded data removed]",
      "text/plain": [
       "<Figure size 432x288 with 2 Axes>"
      ]
     },
     "metadata": {
      "needs_background": "light"
     },
     "output_type": "display_data"
    }
   ],
   "source": [
    "plt.figure(figsize = (10,5))\n",
    "fig, ax = plt.subplots(1,2)\n",
    "df_travel = df[df['상권_구분코드'] == '관광특구']\n",
    "df_travel['업종'].value_counts().plot(kind='bar')\n",
    "df_travel['업종'].value_counts().plot(kind='bar', ax = ax[0])\n",
    "df_travel['업종'].value_counts().plot(kind='pie', ax = ax[1])"
   ]
  },
  {
   "cell_type": "markdown",
   "id": "0301e193",
   "metadata": {},
   "source": [
    "상권 구분코드"
   ]
  },
  {
   "cell_type": "markdown",
   "id": "465a5f25",
   "metadata": {},
   "source": [
    "# 상권 구분코드 별 점포수 걍해보기"
   ]
  },
  {
   "cell_type": "code",
   "execution_count": 104,
   "id": "839d46fc",
   "metadata": {},
   "outputs": [],
   "source": [
    "store_count = {}\n",
    "store_count['관광특구_상점개수'] = 0\n",
    "store_count['전통시장_상점개수'] = 0\n",
    "store_count['발달상권_상점개수'] = 0\n",
    "store_count['골목상권_상점개수'] = 0\n",
    "\n",
    "\n",
    "for i in range(len(df['상권_구분코드'])):\n",
    "    if df['상권_구분코드'][i] == '관광특구':\n",
    "        store_count['관광특구_상점개수'] = store_count['관광특구_상점개수'] + df['점포수'][i]\n",
    "    elif df['상권_구분코드'][i] == '전통시장':\n",
    "        store_count['전통시장_상점개수'] = store_count['전통시장_상점개수'] + df['점포수'][i]\n",
    "    elif df['상권_구분코드'][i] == '발달상권':\n",
    "        store_count['발달상권_상점개수'] = store_count['발달상권_상점개수'] + df['점포수'][i]\n",
    "    elif df['상권_구분코드'][i] == '골목상권':\n",
    "        store_count['골목상권_상점개수'] = store_count['골목상권_상점개수'] + df['점포수'][i]\n",
    "        \n",
    "        \n",
    "store_count_2 = pd.Series({'관광특구_상점개수' : store_count['관광특구_상점개수'], '전통시장_상점개수' : store_count['전통시장_상점개수'],\n",
    "          '발달상권_상점개수' : store_count['발달상권_상점개수'], '골목상권_상점개수' : store_count['골목상권_상점개수']})\n",
    "\n"
   ]
  },
  {
   "cell_type": "code",
   "execution_count": 107,
   "id": "46d54d60",
   "metadata": {},
   "outputs": [
    {
     "data": {
      "image/png": "[encoded data removed]",
      "text/plain": [
       "<Figure size 432x288 with 1 Axes>"
      ]
     },
     "metadata": {
      "needs_background": "light"
     },
     "output_type": "display_data"
    }
   ],
   "source": [
    "store_count_2.plot(kind = 'bar')\n",
    "plt.savefig('그냥한거2')"
   ]
  }
 ],
 "metadata": {
  "kernelspec": {
   "display_name": "Python 3",
   "language": "python",
   "name": "python3"
  },
  "language_info": {
   "codemirror_mode": {
    "name": "ipython",
    "version": 3
   },
   "file_extension": ".py",
   "mimetype": "text/x-python",
   "name": "python",
   "nbconvert_exporter": "python",
   "pygments_lexer": "ipython3",
   "version": "3.8.8"
  }
 },
 "nbformat": 4,
 "nbformat_minor": 5
}
